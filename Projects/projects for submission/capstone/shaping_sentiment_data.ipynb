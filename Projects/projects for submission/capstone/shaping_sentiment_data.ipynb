{
 "cells": [
  {
   "cell_type": "markdown",
   "metadata": {},
   "source": [
    "# Spark Setup"
   ]
  },
  {
   "cell_type": "code",
   "execution_count": 1,
   "metadata": {
    "ExecuteTime": {
     "end_time": "2018-09-15T20:34:07.168898Z",
     "start_time": "2018-09-15T20:34:07.056386Z"
    }
   },
   "outputs": [],
   "source": [
    "from pyspark.sql import SparkSession\n",
    "from pyspark.sql.functions import udf, desc\n",
    "from pyspark.sql.types import ArrayType, StringType, MapType, FloatType"
   ]
  },
  {
   "cell_type": "code",
   "execution_count": 2,
   "metadata": {
    "ExecuteTime": {
     "end_time": "2018-09-15T20:34:10.585754Z",
     "start_time": "2018-09-15T20:34:07.208205Z"
    },
    "scrolled": true
   },
   "outputs": [
    {
     "data": {
      "text/html": [
       "\n",
       "            <div>\n",
       "                <p><b>SparkSession - in-memory</b></p>\n",
       "                \n",
       "        <div>\n",
       "            <p><b>SparkContext</b></p>\n",
       "\n",
       "            <p><a href=\"http://192.168.0.100:4040\">Spark UI</a></p>\n",
       "\n",
       "            <dl>\n",
       "              <dt>Version</dt>\n",
       "                <dd><code>v2.3.1</code></dd>\n",
       "              <dt>Master</dt>\n",
       "                <dd><code>local[*]</code></dd>\n",
       "              <dt>AppName</dt>\n",
       "                <dd><code>Sentiment Analysis</code></dd>\n",
       "            </dl>\n",
       "        </div>\n",
       "        \n",
       "            </div>\n",
       "        "
      ],
      "text/plain": [
       "<pyspark.sql.session.SparkSession at 0x7f4c253d92e8>"
      ]
     },
     "execution_count": 2,
     "metadata": {},
     "output_type": "execute_result"
    }
   ],
   "source": [
    "spark = SparkSession.builder\\\n",
    "                        .master(\"local[*]\")\\\n",
    "                        .config('spark.executor.memory', '5g')\\\n",
    "                        .config('spark.driver.memory', '5g')\\\n",
    "                        .config(\"spark.sql.session.timeZone\", \"UTC\")\\\n",
    "                        .config(\"spark.sql.execution.arrow.enabled\",\"true\")\\\n",
    "                    .appName(\"Sentiment Analysis\")\\\n",
    "                    .getOrCreate()\n",
    "spark"
   ]
  },
  {
   "cell_type": "code",
   "execution_count": 3,
   "metadata": {
    "ExecuteTime": {
     "end_time": "2018-09-15T20:34:10.593873Z",
     "start_time": "2018-09-15T20:34:10.588167Z"
    }
   },
   "outputs": [
    {
     "data": {
      "text/html": [
       "\n",
       "            <div>\n",
       "                <p><b>SparkSession - in-memory</b></p>\n",
       "                \n",
       "        <div>\n",
       "            <p><b>SparkContext</b></p>\n",
       "\n",
       "            <p><a href=\"http://192.168.0.100:4040\">Spark UI</a></p>\n",
       "\n",
       "            <dl>\n",
       "              <dt>Version</dt>\n",
       "                <dd><code>v2.3.1</code></dd>\n",
       "              <dt>Master</dt>\n",
       "                <dd><code>local[*]</code></dd>\n",
       "              <dt>AppName</dt>\n",
       "                <dd><code>Sentiment Analysis</code></dd>\n",
       "            </dl>\n",
       "        </div>\n",
       "        \n",
       "            </div>\n",
       "        "
      ],
      "text/plain": [
       "<pyspark.sql.session.SparkSession at 0x7f4c253d92e8>"
      ]
     },
     "execution_count": 3,
     "metadata": {},
     "output_type": "execute_result"
    }
   ],
   "source": [
    "spark"
   ]
  },
  {
   "cell_type": "markdown",
   "metadata": {},
   "source": [
    "# Rolling Average eth_ss"
   ]
  },
  {
   "cell_type": "code",
   "execution_count": 9,
   "metadata": {
    "ExecuteTime": {
     "end_time": "2018-09-15T11:32:00.582361Z",
     "start_time": "2018-09-15T11:31:59.323148Z"
    }
   },
   "outputs": [
    {
     "data": {
      "text/plain": [
       "2163314"
      ]
     },
     "execution_count": 9,
     "metadata": {},
     "output_type": "execute_result"
    }
   ],
   "source": [
    "eth_ss.count()"
   ]
  },
  {
   "cell_type": "code",
   "execution_count": 30,
   "metadata": {
    "ExecuteTime": {
     "end_time": "2018-09-15T11:41:03.013337Z",
     "start_time": "2018-09-15T11:41:01.066617Z"
    }
   },
   "outputs": [],
   "source": [
    "x = eth_ss.select(\"datetime\",\"pos_vader\").withColumn(\"datetime\",col(\"datetime\").cast(\"int\")).sort(\"datetime\").toPandas()"
   ]
  },
  {
   "cell_type": "code",
   "execution_count": 31,
   "metadata": {
    "ExecuteTime": {
     "end_time": "2018-09-15T11:41:03.030144Z",
     "start_time": "2018-09-15T11:41:03.015773Z"
    }
   },
   "outputs": [
    {
     "data": {
      "text/html": [
       "<div>\n",
       "<style scoped>\n",
       "    .dataframe tbody tr th:only-of-type {\n",
       "        vertical-align: middle;\n",
       "    }\n",
       "\n",
       "    .dataframe tbody tr th {\n",
       "        vertical-align: top;\n",
       "    }\n",
       "\n",
       "    .dataframe thead th {\n",
       "        text-align: right;\n",
       "    }\n",
       "</style>\n",
       "<table border=\"1\" class=\"dataframe\">\n",
       "  <thead>\n",
       "    <tr style=\"text-align: right;\">\n",
       "      <th></th>\n",
       "      <th>datetime</th>\n",
       "      <th>pos_vader</th>\n",
       "    </tr>\n",
       "  </thead>\n",
       "  <tbody>\n",
       "    <tr>\n",
       "      <th>0</th>\n",
       "      <td>1451599200</td>\n",
       "      <td>0.000</td>\n",
       "    </tr>\n",
       "    <tr>\n",
       "      <th>1</th>\n",
       "      <td>1451600160</td>\n",
       "      <td>0.000</td>\n",
       "    </tr>\n",
       "    <tr>\n",
       "      <th>2</th>\n",
       "      <td>1451601060</td>\n",
       "      <td>0.000</td>\n",
       "    </tr>\n",
       "    <tr>\n",
       "      <th>3</th>\n",
       "      <td>1451601900</td>\n",
       "      <td>0.000</td>\n",
       "    </tr>\n",
       "    <tr>\n",
       "      <th>4</th>\n",
       "      <td>1451603520</td>\n",
       "      <td>0.167</td>\n",
       "    </tr>\n",
       "  </tbody>\n",
       "</table>\n",
       "</div>"
      ],
      "text/plain": [
       "     datetime  pos_vader\n",
       "0  1451599200      0.000\n",
       "1  1451600160      0.000\n",
       "2  1451601060      0.000\n",
       "3  1451601900      0.000\n",
       "4  1451603520      0.167"
      ]
     },
     "execution_count": 31,
     "metadata": {},
     "output_type": "execute_result"
    }
   ],
   "source": [
    "x.head()"
   ]
  },
  {
   "cell_type": "code",
   "execution_count": 32,
   "metadata": {
    "ExecuteTime": {
     "end_time": "2018-09-15T11:41:03.036291Z",
     "start_time": "2018-09-15T11:41:03.032947Z"
    }
   },
   "outputs": [],
   "source": [
    "import pandas as pd\n"
   ]
  },
  {
   "cell_type": "code",
   "execution_count": 33,
   "metadata": {
    "ExecuteTime": {
     "end_time": "2018-09-15T11:41:03.109539Z",
     "start_time": "2018-09-15T11:41:03.039143Z"
    }
   },
   "outputs": [
    {
     "data": {
      "text/html": [
       "<div>\n",
       "<style scoped>\n",
       "    .dataframe tbody tr th:only-of-type {\n",
       "        vertical-align: middle;\n",
       "    }\n",
       "\n",
       "    .dataframe tbody tr th {\n",
       "        vertical-align: top;\n",
       "    }\n",
       "\n",
       "    .dataframe thead th {\n",
       "        text-align: right;\n",
       "    }\n",
       "</style>\n",
       "<table border=\"1\" class=\"dataframe\">\n",
       "  <thead>\n",
       "    <tr style=\"text-align: right;\">\n",
       "      <th></th>\n",
       "      <th>datetime</th>\n",
       "      <th>pos_vader</th>\n",
       "    </tr>\n",
       "  </thead>\n",
       "  <tbody>\n",
       "    <tr>\n",
       "      <th>0</th>\n",
       "      <td>2015-12-31 22:00:00</td>\n",
       "      <td>0.000</td>\n",
       "    </tr>\n",
       "    <tr>\n",
       "      <th>1</th>\n",
       "      <td>2015-12-31 22:16:00</td>\n",
       "      <td>0.000</td>\n",
       "    </tr>\n",
       "    <tr>\n",
       "      <th>2</th>\n",
       "      <td>2015-12-31 22:31:00</td>\n",
       "      <td>0.000</td>\n",
       "    </tr>\n",
       "    <tr>\n",
       "      <th>3</th>\n",
       "      <td>2015-12-31 22:45:00</td>\n",
       "      <td>0.000</td>\n",
       "    </tr>\n",
       "    <tr>\n",
       "      <th>4</th>\n",
       "      <td>2015-12-31 23:12:00</td>\n",
       "      <td>0.167</td>\n",
       "    </tr>\n",
       "  </tbody>\n",
       "</table>\n",
       "</div>"
      ],
      "text/plain": [
       "             datetime  pos_vader\n",
       "0 2015-12-31 22:00:00      0.000\n",
       "1 2015-12-31 22:16:00      0.000\n",
       "2 2015-12-31 22:31:00      0.000\n",
       "3 2015-12-31 22:45:00      0.000\n",
       "4 2015-12-31 23:12:00      0.167"
      ]
     },
     "execution_count": 33,
     "metadata": {},
     "output_type": "execute_result"
    }
   ],
   "source": [
    "x[\"datetime\"] = pd.to_datetime(x.datetime,unit='s')\n",
    "x.head()\n",
    "#x.set_index(\"datetime\").head(20).rolling('5m').sum()"
   ]
  },
  {
   "cell_type": "code",
   "execution_count": 38,
   "metadata": {
    "ExecuteTime": {
     "end_time": "2018-09-15T11:43:18.236196Z",
     "start_time": "2018-09-15T11:43:18.218380Z"
    }
   },
   "outputs": [
    {
     "data": {
      "text/html": [
       "<div>\n",
       "<style scoped>\n",
       "    .dataframe tbody tr th:only-of-type {\n",
       "        vertical-align: middle;\n",
       "    }\n",
       "\n",
       "    .dataframe tbody tr th {\n",
       "        vertical-align: top;\n",
       "    }\n",
       "\n",
       "    .dataframe thead th {\n",
       "        text-align: right;\n",
       "    }\n",
       "</style>\n",
       "<table border=\"1\" class=\"dataframe\">\n",
       "  <thead>\n",
       "    <tr style=\"text-align: right;\">\n",
       "      <th></th>\n",
       "      <th>pos_vader</th>\n",
       "    </tr>\n",
       "    <tr>\n",
       "      <th>datetime</th>\n",
       "      <th></th>\n",
       "    </tr>\n",
       "  </thead>\n",
       "  <tbody>\n",
       "    <tr>\n",
       "      <th>2015-12-31 22:00:00</th>\n",
       "      <td>0.000</td>\n",
       "    </tr>\n",
       "    <tr>\n",
       "      <th>2015-12-31 22:16:00</th>\n",
       "      <td>0.000</td>\n",
       "    </tr>\n",
       "    <tr>\n",
       "      <th>2015-12-31 22:31:00</th>\n",
       "      <td>0.000</td>\n",
       "    </tr>\n",
       "    <tr>\n",
       "      <th>2015-12-31 22:45:00</th>\n",
       "      <td>0.000</td>\n",
       "    </tr>\n",
       "    <tr>\n",
       "      <th>2015-12-31 23:12:00</th>\n",
       "      <td>0.167</td>\n",
       "    </tr>\n",
       "    <tr>\n",
       "      <th>2016-01-01 00:02:00</th>\n",
       "      <td>0.258</td>\n",
       "    </tr>\n",
       "    <tr>\n",
       "      <th>2016-01-01 02:14:00</th>\n",
       "      <td>0.000</td>\n",
       "    </tr>\n",
       "    <tr>\n",
       "      <th>2016-01-01 04:05:00</th>\n",
       "      <td>0.000</td>\n",
       "    </tr>\n",
       "    <tr>\n",
       "      <th>2016-01-01 08:05:00</th>\n",
       "      <td>0.178</td>\n",
       "    </tr>\n",
       "    <tr>\n",
       "      <th>2016-01-01 08:21:00</th>\n",
       "      <td>0.162</td>\n",
       "    </tr>\n",
       "    <tr>\n",
       "      <th>2016-01-01 08:24:00</th>\n",
       "      <td>0.162</td>\n",
       "    </tr>\n",
       "    <tr>\n",
       "      <th>2016-01-01 08:28:00</th>\n",
       "      <td>0.000</td>\n",
       "    </tr>\n",
       "    <tr>\n",
       "      <th>2016-01-01 08:58:00</th>\n",
       "      <td>0.159</td>\n",
       "    </tr>\n",
       "    <tr>\n",
       "      <th>2016-01-01 10:06:00</th>\n",
       "      <td>0.085</td>\n",
       "    </tr>\n",
       "    <tr>\n",
       "      <th>2016-01-01 11:09:00</th>\n",
       "      <td>0.000</td>\n",
       "    </tr>\n",
       "    <tr>\n",
       "      <th>2016-01-01 11:42:00</th>\n",
       "      <td>0.282</td>\n",
       "    </tr>\n",
       "    <tr>\n",
       "      <th>2016-01-01 12:03:00</th>\n",
       "      <td>0.000</td>\n",
       "    </tr>\n",
       "    <tr>\n",
       "      <th>2016-01-01 12:05:00</th>\n",
       "      <td>0.282</td>\n",
       "    </tr>\n",
       "    <tr>\n",
       "      <th>2016-01-01 13:27:00</th>\n",
       "      <td>0.098</td>\n",
       "    </tr>\n",
       "    <tr>\n",
       "      <th>2016-01-01 13:29:00</th>\n",
       "      <td>0.098</td>\n",
       "    </tr>\n",
       "  </tbody>\n",
       "</table>\n",
       "</div>"
      ],
      "text/plain": [
       "                     pos_vader\n",
       "datetime                      \n",
       "2015-12-31 22:00:00      0.000\n",
       "2015-12-31 22:16:00      0.000\n",
       "2015-12-31 22:31:00      0.000\n",
       "2015-12-31 22:45:00      0.000\n",
       "2015-12-31 23:12:00      0.167\n",
       "2016-01-01 00:02:00      0.258\n",
       "2016-01-01 02:14:00      0.000\n",
       "2016-01-01 04:05:00      0.000\n",
       "2016-01-01 08:05:00      0.178\n",
       "2016-01-01 08:21:00      0.162\n",
       "2016-01-01 08:24:00      0.162\n",
       "2016-01-01 08:28:00      0.000\n",
       "2016-01-01 08:58:00      0.159\n",
       "2016-01-01 10:06:00      0.085\n",
       "2016-01-01 11:09:00      0.000\n",
       "2016-01-01 11:42:00      0.282\n",
       "2016-01-01 12:03:00      0.000\n",
       "2016-01-01 12:05:00      0.282\n",
       "2016-01-01 13:27:00      0.098\n",
       "2016-01-01 13:29:00      0.098"
      ]
     },
     "execution_count": 38,
     "metadata": {},
     "output_type": "execute_result"
    }
   ],
   "source": [
    "x.set_index(\"datetime\").head(20).rolling('300s').sum()"
   ]
  },
  {
   "cell_type": "markdown",
   "metadata": {},
   "source": [
    "# Twitter Sentiments"
   ]
  },
  {
   "cell_type": "code",
   "execution_count": 9,
   "metadata": {
    "ExecuteTime": {
     "end_time": "2018-09-15T20:22:17.566710Z",
     "start_time": "2018-09-15T20:22:17.391558Z"
    }
   },
   "outputs": [],
   "source": [
    "from pyspark.sql.functions import col, concat, lit, date_format, desc, asc\n",
    "\n",
    "\n",
    "parquet_eth_path = \"data/tweets/ethereum/parquet/sentiment/\"\n",
    "eth = spark.read.parquet(parquet_eth_path)"
   ]
  },
  {
   "cell_type": "code",
   "execution_count": 10,
   "metadata": {
    "ExecuteTime": {
     "end_time": "2018-09-15T20:22:17.633769Z",
     "start_time": "2018-09-15T20:22:17.630200Z"
    }
   },
   "outputs": [],
   "source": [
    "from pyspark.sql.functions import col, concat, lit, date_format, desc, asc, min, max\n"
   ]
  },
  {
   "cell_type": "code",
   "execution_count": 11,
   "metadata": {
    "ExecuteTime": {
     "end_time": "2018-09-15T20:22:17.961006Z",
     "start_time": "2018-09-15T20:22:17.801667Z"
    }
   },
   "outputs": [],
   "source": [
    "parquet_eth_path = \"data/tweets/bitcoin/parquet/sentiment/\"\n",
    "btc = spark.read.parquet(parquet_eth_path)"
   ]
  },
  {
   "cell_type": "code",
   "execution_count": 12,
   "metadata": {
    "ExecuteTime": {
     "end_time": "2018-09-15T20:22:18.386721Z",
     "start_time": "2018-09-15T20:22:17.963482Z"
    }
   },
   "outputs": [],
   "source": [
    "eth_ss = eth\\\n",
    "            .select(\"pos_vader\",\"neg_vader\",\"neu_vader\",\"compound_vader\",\"polarity_textblob\",\"subjectivity_textblob\",\"datetime\")\\\n",
    "            .withColumn(\"Cryptocurrency\",lit(\"Ethereum\"))\\"
   ]
  },
  {
   "cell_type": "code",
   "execution_count": 13,
   "metadata": {
    "ExecuteTime": {
     "end_time": "2018-09-15T20:22:18.426614Z",
     "start_time": "2018-09-15T20:22:18.389479Z"
    }
   },
   "outputs": [],
   "source": [
    "btc_ss = btc\\\n",
    "            .select(\"pos_vader\",\"neg_vader\",\"neu_vader\",\"compound_vader\",\"polarity_textblob\",\"subjectivity_textblob\",\"datetime\")\\\n",
    "            .withColumn(\"Cryptocurrency\",lit(\"Bitcoin\"))\\"
   ]
  },
  {
   "cell_type": "code",
   "execution_count": 14,
   "metadata": {
    "ExecuteTime": {
     "end_time": "2018-09-15T20:22:18.483836Z",
     "start_time": "2018-09-15T20:22:18.429663Z"
    }
   },
   "outputs": [],
   "source": [
    "both_ss = eth_ss.union(btc_ss).na.drop()"
   ]
  },
  {
   "cell_type": "code",
   "execution_count": 15,
   "metadata": {
    "ExecuteTime": {
     "end_time": "2018-09-15T20:22:18.492542Z",
     "start_time": "2018-09-15T20:22:18.487197Z"
    }
   },
   "outputs": [
    {
     "name": "stdout",
     "output_type": "stream",
     "text": [
      "root\n",
      " |-- pos_vader: float (nullable = true)\n",
      " |-- neg_vader: float (nullable = true)\n",
      " |-- neu_vader: float (nullable = true)\n",
      " |-- compound_vader: float (nullable = true)\n",
      " |-- polarity_textblob: float (nullable = true)\n",
      " |-- subjectivity_textblob: float (nullable = true)\n",
      " |-- datetime: timestamp (nullable = true)\n",
      " |-- Cryptocurrency: string (nullable = false)\n",
      "\n"
     ]
    }
   ],
   "source": [
    "eth_ss.printSchema()"
   ]
  },
  {
   "cell_type": "code",
   "execution_count": 16,
   "metadata": {
    "ExecuteTime": {
     "end_time": "2018-09-15T20:22:18.582597Z",
     "start_time": "2018-09-15T20:22:18.579891Z"
    }
   },
   "outputs": [],
   "source": [
    "from pyspark.sql.functions import when, lit, avg, month, year, dayofmonth, minute, hour\n",
    "from pyspark.sql.functions import col as c"
   ]
  },
  {
   "cell_type": "code",
   "execution_count": 17,
   "metadata": {
    "ExecuteTime": {
     "end_time": "2018-09-15T20:22:19.174516Z",
     "start_time": "2018-09-15T20:22:18.738991Z"
    }
   },
   "outputs": [],
   "source": [
    "l5 = c(\"minute\") <= 5\n",
    "l10 = (c(\"minute\") > 5) & (c(\"minute\") <= 10)\n",
    "l15 = (c(\"minute\") > 10) & (c(\"minute\") <= 15)\n",
    "l20 = (c(\"minute\") > 15) & (c(\"minute\") <= 20)\n",
    "l25 = (c(\"minute\") > 20) & (c(\"minute\") <= 25)\n",
    "l30 = (c(\"minute\") > 25) & (c(\"minute\") <= 30)\n",
    "l35 = (c(\"minute\") > 30) & (c(\"minute\") <= 35)\n",
    "l40 = (c(\"minute\") > 35) & (c(\"minute\") <= 40)\n",
    "l45 = (c(\"minute\") > 40) & (c(\"minute\") <= 45)\n",
    "l50 = (c(\"minute\") > 45) & (c(\"minute\") <= 50)\n",
    "l55 = (c(\"minute\") > 50) & (c(\"minute\") <= 55)\n",
    "l60 = (c(\"minute\") > 55) & (c(\"minute\") <= 60)\n",
    "\n",
    "w_t = when(l5,5)\\\n",
    "        .when(l10,10)\\\n",
    "        .when(l15,15)\\\n",
    "        .when(l20,10)\\\n",
    "        .when(l25,25)\\\n",
    "        .when(l30,30)\\\n",
    "        .when(l35,35)\\\n",
    "        .when(l40,40)\\\n",
    "        .when(l45,45)\\\n",
    "        .when(l50,50)\\\n",
    "        .when(l55,55)\\\n",
    "        .when(l60,60)\n",
    "\n",
    "\n",
    "eth_ssm = eth_ss.withColumn(\"year\",year(\"datetime\"))\\\n",
    "                .withColumn(\"month\",month(\"datetime\"))\\\n",
    "                .withColumn(\"day\",dayofmonth(\"datetime\"))\\\n",
    "                .withColumn(\"hour\",hour(\"datetime\"))\\\n",
    "                .withColumn(\"minute\",minute(\"datetime\"))\\\n",
    "                .withColumn(\"bucket\",w_t)\n",
    "\n",
    "btc_ssm = btc_ss.withColumn(\"year\",year(\"datetime\"))\\\n",
    "                .withColumn(\"month\",month(\"datetime\"))\\\n",
    "                .withColumn(\"day\",dayofmonth(\"datetime\"))\\\n",
    "                .withColumn(\"hour\",hour(\"datetime\"))\\\n",
    "                .withColumn(\"minute\",minute(\"datetime\"))\\\n",
    "                .withColumn(\"bucket\",w_t)\n",
    "            \n",
    "both_ssm = both_ss.withColumn(\"year\",year(\"datetime\"))\\\n",
    "                .withColumn(\"month\",month(\"datetime\"))\\\n",
    "                .withColumn(\"day\",dayofmonth(\"datetime\"))\\\n",
    "                .withColumn(\"hour\",hour(\"datetime\"))\\\n",
    "                .withColumn(\"minute\",minute(\"datetime\"))\\\n",
    "                .withColumn(\"bucket\",w_t)"
   ]
  },
  {
   "cell_type": "code",
   "execution_count": 18,
   "metadata": {
    "ExecuteTime": {
     "end_time": "2018-09-15T20:22:19.721095Z",
     "start_time": "2018-09-15T20:22:19.176651Z"
    }
   },
   "outputs": [],
   "source": [
    "cv = eth_ssm.filter(\"compound_vader != 0\")\\\n",
    ".groupBy(\"year\",\"month\",\"day\",\"hour\",\"bucket\").agg(\n",
    "avg(\"compound_vader\").alias(\"avg_eth_compound_vader\"),\n",
    ")\n",
    "\n",
    "pv = eth_ssm.filter(\"pos_vader != 0\")\\\n",
    ".groupBy(\"year\",\"month\",\"day\",\"hour\",\"bucket\").agg(\n",
    "avg(\"pos_vader\").alias(\"avg_eth_pos_vader\")\n",
    ")\n",
    "\n",
    "nv = eth_ssm.filter(\"neg_vader != 0\")\\\n",
    ".groupBy(\"year\",\"month\",\"day\",\"hour\",\"bucket\").agg(\n",
    "avg(\"neg_vader\").alias(\"avg_eth_neg_vader\")\n",
    ")\n",
    "\n",
    "pt = eth_ssm.filter(\"polarity_textblob != 0\")\\\n",
    ".groupBy(\"year\",\"month\",\"day\",\"hour\",\"bucket\").agg(\n",
    "avg(\"polarity_textblob\").alias(\"avg_eth_polarity_textblob\"),   \n",
    ")\n",
    "\n",
    "st = eth_ssm.filter(\"subjectivity_textblob != 0\")\\\n",
    ".groupBy(\"year\",\"month\",\"day\",\"hour\",\"bucket\").agg(\n",
    "avg(\"subjectivity_textblob\").alias(\"avg_eth_subjectivity_textblob\")    \n",
    ")\n",
    "\n",
    "eth_agg = cv.join(pv,on=[\"year\",\"month\",\"day\",\"hour\",\"bucket\"])\\\n",
    "    .join(nv,on=[\"year\",\"month\",\"day\",\"hour\",\"bucket\"],how=\"full\")\\\n",
    "    .join(pt,on=[\"year\",\"month\",\"day\",\"hour\",\"bucket\"],how=\"full\")\\\n",
    "    .join(st,on=[\"year\",\"month\",\"day\",\"hour\",\"bucket\"],how=\"full\")\n",
    "\n"
   ]
  },
  {
   "cell_type": "code",
   "execution_count": 19,
   "metadata": {
    "ExecuteTime": {
     "end_time": "2018-09-15T20:22:35.421645Z",
     "start_time": "2018-09-15T20:22:19.723577Z"
    }
   },
   "outputs": [
    {
     "data": {
      "text/plain": [
       "193178"
      ]
     },
     "execution_count": 19,
     "metadata": {},
     "output_type": "execute_result"
    }
   ],
   "source": [
    "eth_agg.count()"
   ]
  },
  {
   "cell_type": "code",
   "execution_count": 20,
   "metadata": {
    "ExecuteTime": {
     "end_time": "2018-09-15T20:22:35.852440Z",
     "start_time": "2018-09-15T20:22:35.424704Z"
    }
   },
   "outputs": [],
   "source": [
    "cv = btc_ssm.filter(\"compound_vader != 0\")\\\n",
    ".groupBy(\"year\",\"month\",\"day\",\"hour\",\"bucket\").agg(\n",
    "avg(\"compound_vader\").alias(\"avg_twitter_btc_compound_vader\"),\n",
    ")\n",
    "\n",
    "pv = btc_ssm.filter(\"pos_vader != 0\")\\\n",
    ".groupBy(\"year\",\"month\",\"day\",\"hour\",\"bucket\").agg(\n",
    "avg(\"pos_vader\").alias(\"avg_twitter_btc_pos_vader\")\n",
    ")\n",
    "\n",
    "nv = btc_ssm.filter(\"neg_vader != 0\")\\\n",
    ".groupBy(\"year\",\"month\",\"day\",\"hour\",\"bucket\").agg(\n",
    "avg(\"neg_vader\").alias(\"avg_twitter_btc_neg_vader\")\n",
    ")\n",
    "\n",
    "pt = btc_ssm.filter(\"polarity_textblob != 0\")\\\n",
    ".groupBy(\"year\",\"month\",\"day\",\"hour\",\"bucket\").agg(\n",
    "avg(\"polarity_textblob\").alias(\"avg_twitter_btc_polarity_textblob\"),   \n",
    ")\n",
    "\n",
    "st = btc_ssm.filter(\"subjectivity_textblob != 0\")\\\n",
    ".groupBy(\"year\",\"month\",\"day\",\"hour\",\"bucket\").agg(\n",
    "avg(\"subjectivity_textblob\").alias(\"avg_twitter_btc_subjectivity_textblob\")    \n",
    ")\n",
    "\n",
    "btc_agg = cv.join(pv,on=[\"year\",\"month\",\"day\",\"hour\",\"bucket\"],how=\"full\")\\\n",
    "    .join(nv,on=[\"year\",\"month\",\"day\",\"hour\",\"bucket\"],how=\"full\")\\\n",
    "    .join(pt,on=[\"year\",\"month\",\"day\",\"hour\",\"bucket\"],how=\"full\")\\\n",
    "    .join(st,on=[\"year\",\"month\",\"day\",\"hour\",\"bucket\"],how=\"full\")\n",
    "\n"
   ]
  },
  {
   "cell_type": "code",
   "execution_count": 21,
   "metadata": {
    "ExecuteTime": {
     "end_time": "2018-09-15T20:22:56.822820Z",
     "start_time": "2018-09-15T20:22:35.854645Z"
    }
   },
   "outputs": [
    {
     "data": {
      "text/plain": [
       "205438"
      ]
     },
     "execution_count": 21,
     "metadata": {},
     "output_type": "execute_result"
    }
   ],
   "source": [
    "btc_agg.count()"
   ]
  },
  {
   "cell_type": "code",
   "execution_count": 22,
   "metadata": {
    "ExecuteTime": {
     "end_time": "2018-09-15T20:22:57.238293Z",
     "start_time": "2018-09-15T20:22:56.825939Z"
    }
   },
   "outputs": [],
   "source": [
    "cv = both_ssm.filter(\"compound_vader != 0\")\\\n",
    ".groupBy(\"year\",\"month\",\"day\",\"hour\",\"bucket\").agg(\n",
    "avg(\"compound_vader\").alias(\"avg_twitter_compound_vader\"),\n",
    ")\n",
    "\n",
    "pv = both_ssm.filter(\"pos_vader != 0\")\\\n",
    ".groupBy(\"year\",\"month\",\"day\",\"hour\",\"bucket\").agg(\n",
    "avg(\"pos_vader\").alias(\"avg_twitter_pos_vader\")\n",
    ")\n",
    "\n",
    "nv = both_ssm.filter(\"neg_vader != 0\")\\\n",
    ".groupBy(\"year\",\"month\",\"day\",\"hour\",\"bucket\").agg(\n",
    "avg(\"neg_vader\").alias(\"avg_twitter_neg_vader\")\n",
    ")\n",
    "\n",
    "pt = both_ssm.filter(\"polarity_textblob != 0\")\\\n",
    ".groupBy(\"year\",\"month\",\"day\",\"hour\",\"bucket\").agg(\n",
    "avg(\"polarity_textblob\").alias(\"avg_twitter_polarity_textblob\"),   \n",
    ")\n",
    "\n",
    "st = both_ssm.filter(\"subjectivity_textblob != 0\")\\\n",
    ".groupBy(\"year\",\"month\",\"day\",\"hour\",\"bucket\").agg(\n",
    "avg(\"subjectivity_textblob\").alias(\"avg_twitter_subjectivity_textblob\")    \n",
    ")\n",
    "\n",
    "both_agg = cv.join(pv,on=[\"year\",\"month\",\"day\",\"hour\",\"bucket\"],how=\"full\")\\\n",
    "    .join(nv,on=[\"year\",\"month\",\"day\",\"hour\",\"bucket\"],how=\"full\")\\\n",
    "    .join(pt,on=[\"year\",\"month\",\"day\",\"hour\",\"bucket\"],how=\"full\")\\\n",
    "    .join(st,on=[\"year\",\"month\",\"day\",\"hour\",\"bucket\"],how=\"full\")\n",
    "\n"
   ]
  },
  {
   "cell_type": "code",
   "execution_count": 23,
   "metadata": {
    "ExecuteTime": {
     "end_time": "2018-09-15T20:22:57.601297Z",
     "start_time": "2018-09-15T20:22:57.240604Z"
    }
   },
   "outputs": [],
   "source": [
    "everything_t = eth_agg.join(btc_agg,on=[\"year\",\"month\",\"day\",\"hour\",\"bucket\"])\\\n",
    "                    .join(both_agg,on=[\"year\",\"month\",\"day\",\"hour\",\"bucket\"],how=\"full\")\n",
    "                    "
   ]
  },
  {
   "cell_type": "code",
   "execution_count": 24,
   "metadata": {
    "ExecuteTime": {
     "end_time": "2018-09-15T20:23:55.915464Z",
     "start_time": "2018-09-15T20:22:57.603819Z"
    }
   },
   "outputs": [
    {
     "data": {
      "text/plain": [
       "227319"
      ]
     },
     "execution_count": 24,
     "metadata": {},
     "output_type": "execute_result"
    }
   ],
   "source": [
    "everything_t.count()"
   ]
  },
  {
   "cell_type": "code",
   "execution_count": 25,
   "metadata": {
    "ExecuteTime": {
     "end_time": "2018-09-15T20:25:05.939575Z",
     "start_time": "2018-09-15T20:23:55.917526Z"
    }
   },
   "outputs": [],
   "source": [
    "everything_t.write.mode(\"overwrite\").parquet(\"data/temp/sentiment/twitter\")"
   ]
  },
  {
   "cell_type": "code",
   "execution_count": 19,
   "metadata": {
    "ExecuteTime": {
     "end_time": "2018-09-15T19:20:44.830965Z",
     "start_time": "2018-09-15T19:20:44.828673Z"
    }
   },
   "outputs": [],
   "source": [
    "#everything_t.limit(5).toPandas()"
   ]
  },
  {
   "cell_type": "markdown",
   "metadata": {},
   "source": [
    "# Reddit Sentiments"
   ]
  },
  {
   "cell_type": "code",
   "execution_count": 29,
   "metadata": {
    "ExecuteTime": {
     "end_time": "2018-09-15T20:26:18.380492Z",
     "start_time": "2018-09-15T20:26:18.302009Z"
    }
   },
   "outputs": [],
   "source": [
    "from pyspark.sql.functions import when, col\n",
    "from pyspark.sql.functions import col as c\n",
    "\n",
    "when_statment = when(col(\"subreddit\") == \"ethtrader\",\"Ethereum\")\\\n",
    "                .when(col(\"subreddit\") == \"ethereum\",\"Ethereum\")\\\n",
    "                .when(col(\"subreddit\") == \"Bitcoin\",\"Bitcoin\")\\\n",
    "                .when(col(\"subreddit\") == \"btc\",\"Bitcoin\")"
   ]
  },
  {
   "cell_type": "code",
   "execution_count": 30,
   "metadata": {
    "ExecuteTime": {
     "end_time": "2018-09-15T20:26:18.550666Z",
     "start_time": "2018-09-15T20:26:18.457541Z"
    }
   },
   "outputs": [],
   "source": [
    "parquet_reddit_path = \"data/reddit-crypto/parquet/complete_sentiment/\"\n",
    "redd = spark.read.parquet(parquet_reddit_path)\\\n",
    "                    .withColumn(\"Cryptocurrency\",when_statment)\\\n",
    "                    .withColumnRenamed(\"created_utc\",\"datetime\")"
   ]
  },
  {
   "cell_type": "code",
   "execution_count": 31,
   "metadata": {
    "ExecuteTime": {
     "end_time": "2018-09-15T20:26:18.692753Z",
     "start_time": "2018-09-15T20:26:18.604452Z"
    }
   },
   "outputs": [],
   "source": [
    "eth_r_ss  = redd.select(\"subreddit\",\"pos_vader\",\"neg_vader\",\"neu_vader\",\"compound_vader\",\"polarity_textblob\",\"subjectivity_textblob\",\"datetime\")\\\n",
    "                .filter(\"Cryptocurrency = 'Ethereum'\")\\\n",
    "                .drop(\"Cryptocurrency\")\n",
    "\n",
    "\n",
    "btc_r_ss  = redd.select(\"subreddit\",\"pos_vader\",\"neg_vader\",\"neu_vader\",\"compound_vader\",\"polarity_textblob\",\"subjectivity_textblob\",\"datetime\")\\\n",
    "                .filter(\"Cryptocurrency = 'Bitcoin'\")\\\n",
    "                .drop(\"Cryptocurrency\")\n",
    "\n",
    "\n",
    "both_r_ss = redd.select(\"subreddit\",\"pos_vader\",\"neg_vader\",\"neu_vader\",\"compound_vader\",\"polarity_textblob\",\"subjectivity_textblob\",\"datetime\")\\\n",
    "                .drop(\"Cryptocurrency\")\n",
    "\n",
    "\n",
    "\n",
    "\n",
    "\n"
   ]
  },
  {
   "cell_type": "code",
   "execution_count": 32,
   "metadata": {
    "ExecuteTime": {
     "end_time": "2018-09-15T20:26:19.106294Z",
     "start_time": "2018-09-15T20:26:18.760272Z"
    }
   },
   "outputs": [],
   "source": [
    "l5 = c(\"minute\") <= 5\n",
    "l10 = (c(\"minute\") > 5) & (c(\"minute\") <= 10)\n",
    "l15 = (c(\"minute\") > 10) & (c(\"minute\") <= 15)\n",
    "l20 = (c(\"minute\") > 15) & (c(\"minute\") <= 20)\n",
    "l25 = (c(\"minute\") > 20) & (c(\"minute\") <= 25)\n",
    "l30 = (c(\"minute\") > 25) & (c(\"minute\") <= 30)\n",
    "l35 = (c(\"minute\") > 30) & (c(\"minute\") <= 35)\n",
    "l40 = (c(\"minute\") > 35) & (c(\"minute\") <= 40)\n",
    "l45 = (c(\"minute\") > 40) & (c(\"minute\") <= 45)\n",
    "l50 = (c(\"minute\") > 45) & (c(\"minute\") <= 50)\n",
    "l55 = (c(\"minute\") > 50) & (c(\"minute\") <= 55)\n",
    "l60 = (c(\"minute\") > 55) & (c(\"minute\") <= 60)\n",
    "\n",
    "w_t = when(l5,5)\\\n",
    "        .when(l10,10)\\\n",
    "        .when(l15,15)\\\n",
    "        .when(l20,10)\\\n",
    "        .when(l25,25)\\\n",
    "        .when(l30,30)\\\n",
    "        .when(l35,35)\\\n",
    "        .when(l40,40)\\\n",
    "        .when(l45,45)\\\n",
    "        .when(l50,50)\\\n",
    "        .when(l55,55)\\\n",
    "        .when(l60,60)\n",
    "\n",
    "\n",
    "eth_r_ssm = eth_r_ss.withColumn(\"year\",year(\"datetime\"))\\\n",
    "                .withColumn(\"month\",month(\"datetime\"))\\\n",
    "                .withColumn(\"day\",dayofmonth(\"datetime\"))\\\n",
    "                .withColumn(\"hour\",hour(\"datetime\"))\\\n",
    "                .withColumn(\"minute\",minute(\"datetime\"))\\\n",
    "                .withColumn(\"bucket\",w_t)\n",
    "\n",
    "btc_r_ssm = btc_r_ss.withColumn(\"year\",year(\"datetime\"))\\\n",
    "                .withColumn(\"month\",month(\"datetime\"))\\\n",
    "                .withColumn(\"day\",dayofmonth(\"datetime\"))\\\n",
    "                .withColumn(\"hour\",hour(\"datetime\"))\\\n",
    "                .withColumn(\"minute\",minute(\"datetime\"))\\\n",
    "                .withColumn(\"bucket\",w_t)\n",
    "            \n",
    "both_r_ssm = both_r_ss.withColumn(\"year\",year(\"datetime\"))\\\n",
    "                .withColumn(\"month\",month(\"datetime\"))\\\n",
    "                .withColumn(\"day\",dayofmonth(\"datetime\"))\\\n",
    "                .withColumn(\"hour\",hour(\"datetime\"))\\\n",
    "                .withColumn(\"minute\",minute(\"datetime\"))\\\n",
    "                .withColumn(\"bucket\",w_t)"
   ]
  },
  {
   "cell_type": "code",
   "execution_count": 33,
   "metadata": {
    "ExecuteTime": {
     "end_time": "2018-09-15T20:26:19.461829Z",
     "start_time": "2018-09-15T20:26:19.108817Z"
    }
   },
   "outputs": [],
   "source": [
    "cv = eth_r_ssm.filter(\"compound_vader != 0\")\\\n",
    ".groupBy(\"year\",\"month\",\"day\",\"hour\",\"bucket\").agg(\n",
    "avg(\"compound_vader\").alias(\"avg_reddit_eth_compound_vader\"),\n",
    ")\n",
    "\n",
    "pv = eth_r_ssm.filter(\"pos_vader != 0\")\\\n",
    ".groupBy(\"year\",\"month\",\"day\",\"hour\",\"bucket\").agg(\n",
    "avg(\"pos_vader\").alias(\"avg_reddit_eth_pos_vader\")\n",
    ")\n",
    "\n",
    "nv = eth_r_ssm.filter(\"neg_vader != 0\")\\\n",
    ".groupBy(\"year\",\"month\",\"day\",\"hour\",\"bucket\").agg(\n",
    "avg(\"neg_vader\").alias(\"avg_reddit_eth_neg_vader\")\n",
    ")\n",
    "\n",
    "pt = eth_r_ssm.filter(\"polarity_textblob != 0\")\\\n",
    ".groupBy(\"year\",\"month\",\"day\",\"hour\",\"bucket\").agg(\n",
    "avg(\"polarity_textblob\").alias(\"avg_reddit_eth_polarity_textblob\"),   \n",
    ")\n",
    "\n",
    "st = eth_r_ssm.filter(\"subjectivity_textblob != 0\")\\\n",
    ".groupBy(\"year\",\"month\",\"day\",\"hour\",\"bucket\").agg(\n",
    "avg(\"subjectivity_textblob\").alias(\"avg_reddit_eth_subjectivity_textblob\")    \n",
    ")\n",
    "\n",
    "eth_r_agg = cv.join(pv,on=[\"year\",\"month\",\"day\",\"hour\",\"bucket\"],how=\"full\")\\\n",
    "    .join(nv,on=[\"year\",\"month\",\"day\",\"hour\",\"bucket\"],how=\"full\")\\\n",
    "    .join(pt,on=[\"year\",\"month\",\"day\",\"hour\",\"bucket\"],how=\"full\")\\\n",
    "    .join(st,on=[\"year\",\"month\",\"day\",\"hour\",\"bucket\"],how=\"full\")\n",
    "\n"
   ]
  },
  {
   "cell_type": "code",
   "execution_count": 34,
   "metadata": {
    "ExecuteTime": {
     "end_time": "2018-09-15T20:26:19.811123Z",
     "start_time": "2018-09-15T20:26:19.463793Z"
    }
   },
   "outputs": [],
   "source": [
    "cv = btc_r_ssm.filter(\"compound_vader != 0\")\\\n",
    ".groupBy(\"year\",\"month\",\"day\",\"hour\",\"bucket\").agg(\n",
    "avg(\"compound_vader\").alias(\"avg_reddit_btc_compound_vader\"),\n",
    ")\n",
    "\n",
    "pv = btc_r_ssm.filter(\"pos_vader != 0\")\\\n",
    ".groupBy(\"year\",\"month\",\"day\",\"hour\",\"bucket\").agg(\n",
    "avg(\"pos_vader\").alias(\"avg_reddit_btc_pos_vader\")\n",
    ")\n",
    "\n",
    "nv = btc_r_ssm.filter(\"neg_vader != 0\")\\\n",
    ".groupBy(\"year\",\"month\",\"day\",\"hour\",\"bucket\").agg(\n",
    "avg(\"neg_vader\").alias(\"avg_reddit_btc_neg_vader\")\n",
    ")\n",
    "\n",
    "pt = btc_r_ssm.filter(\"polarity_textblob != 0\")\\\n",
    ".groupBy(\"year\",\"month\",\"day\",\"hour\",\"bucket\").agg(\n",
    "avg(\"polarity_textblob\").alias(\"avg_reddit_btc_polarity_textblob\"),   \n",
    ")\n",
    "\n",
    "st = btc_r_ssm.filter(\"subjectivity_textblob != 0\")\\\n",
    ".groupBy(\"year\",\"month\",\"day\",\"hour\",\"bucket\").agg(\n",
    "avg(\"subjectivity_textblob\").alias(\"avg_reddit_btc_subjectivity_textblob\")    \n",
    ")\n",
    "\n",
    "btc_r_agg = cv.join(pv,on=[\"year\",\"month\",\"day\",\"hour\",\"bucket\"],how=\"full\")\\\n",
    "    .join(nv,on=[\"year\",\"month\",\"day\",\"hour\",\"bucket\"],how=\"full\")\\\n",
    "    .join(pt,on=[\"year\",\"month\",\"day\",\"hour\",\"bucket\"],how=\"full\")\\\n",
    "    .join(st,on=[\"year\",\"month\",\"day\",\"hour\",\"bucket\"],how=\"full\")\n",
    "\n"
   ]
  },
  {
   "cell_type": "code",
   "execution_count": 35,
   "metadata": {
    "ExecuteTime": {
     "end_time": "2018-09-15T20:26:20.204887Z",
     "start_time": "2018-09-15T20:26:19.812917Z"
    }
   },
   "outputs": [],
   "source": [
    "cv = both_r_ssm.filter(\"compound_vader != 0\")\\\n",
    ".groupBy(\"year\",\"month\",\"day\",\"hour\",\"bucket\").agg(\n",
    "avg(\"compound_vader\").alias(\"avg_reddit_compound_vader\"),\n",
    ")\n",
    "\n",
    "pv = both_r_ssm.filter(\"pos_vader != 0\")\\\n",
    ".groupBy(\"year\",\"month\",\"day\",\"hour\",\"bucket\").agg(\n",
    "avg(\"pos_vader\").alias(\"avg_reddit_pos_vader\")\n",
    ")\n",
    "\n",
    "nv = both_r_ssm.filter(\"neg_vader != 0\")\\\n",
    ".groupBy(\"year\",\"month\",\"day\",\"hour\",\"bucket\").agg(\n",
    "avg(\"neg_vader\").alias(\"avg_reddit_neg_vader\")\n",
    ")\n",
    "\n",
    "pt = both_r_ssm.filter(\"polarity_textblob != 0\")\\\n",
    ".groupBy(\"year\",\"month\",\"day\",\"hour\",\"bucket\").agg(\n",
    "avg(\"polarity_textblob\").alias(\"avg_reddit_polarity_textblob\"),   \n",
    ")\n",
    "\n",
    "st = both_r_ssm.filter(\"subjectivity_textblob != 0\")\\\n",
    ".groupBy(\"year\",\"month\",\"day\",\"hour\",\"bucket\").agg(\n",
    "avg(\"subjectivity_textblob\").alias(\"avg_reddit_subjectivity_textblob\")    \n",
    ")\n",
    "\n",
    "both_r_agg = cv.join(pv,on=[\"year\",\"month\",\"day\",\"hour\",\"bucket\"])\\\n",
    "    .join(nv,on=[\"year\",\"month\",\"day\",\"hour\",\"bucket\"],how=\"full\")\\\n",
    "    .join(pt,on=[\"year\",\"month\",\"day\",\"hour\",\"bucket\"],how=\"full\")\\\n",
    "    .join(st,on=[\"year\",\"month\",\"day\",\"hour\",\"bucket\"],how=\"full\")\n",
    "\n"
   ]
  },
  {
   "cell_type": "code",
   "execution_count": 36,
   "metadata": {
    "ExecuteTime": {
     "end_time": "2018-09-15T20:26:20.606286Z",
     "start_time": "2018-09-15T20:26:20.212040Z"
    }
   },
   "outputs": [],
   "source": [
    "everything_r = eth_r_agg.join(btc_r_agg,on=[\"year\",\"month\",\"day\",\"hour\",\"bucket\"])\\\n",
    "                    .join(both_r_agg,on=[\"year\",\"month\",\"day\",\"hour\",\"bucket\"],how=\"full\")\n",
    "                    "
   ]
  },
  {
   "cell_type": "code",
   "execution_count": 37,
   "metadata": {
    "ExecuteTime": {
     "end_time": "2018-09-15T20:27:08.374893Z",
     "start_time": "2018-09-15T20:26:20.721901Z"
    }
   },
   "outputs": [
    {
     "data": {
      "text/plain": [
       "240466"
      ]
     },
     "execution_count": 37,
     "metadata": {},
     "output_type": "execute_result"
    }
   ],
   "source": [
    "everything_r.filter(\"year > 2015\").count()"
   ]
  },
  {
   "cell_type": "code",
   "execution_count": 38,
   "metadata": {
    "ExecuteTime": {
     "end_time": "2018-09-15T20:27:08.381895Z",
     "start_time": "2018-09-15T20:27:08.377515Z"
    }
   },
   "outputs": [
    {
     "data": {
      "text/plain": [
       "227319"
      ]
     },
     "execution_count": 38,
     "metadata": {},
     "output_type": "execute_result"
    }
   ],
   "source": [
    "227319"
   ]
  },
  {
   "cell_type": "code",
   "execution_count": 95,
   "metadata": {
    "ExecuteTime": {
     "end_time": "2018-09-15T20:17:46.309065Z",
     "start_time": "2018-09-15T20:17:46.304308Z"
    }
   },
   "outputs": [
    {
     "data": {
      "text/plain": [
       "2.2875380517503805"
      ]
     },
     "execution_count": 95,
     "metadata": {},
     "output_type": "execute_result"
    }
   ],
   "source": [
    "240466*5/60/24/365"
   ]
  },
  {
   "cell_type": "code",
   "execution_count": 39,
   "metadata": {
    "ExecuteTime": {
     "end_time": "2018-09-15T20:28:04.476010Z",
     "start_time": "2018-09-15T20:27:08.384709Z"
    }
   },
   "outputs": [],
   "source": [
    "everything_r.write.mode(\"overwrite\").parquet(\"data/temp/sentiment/reddit\")"
   ]
  },
  {
   "cell_type": "code",
   "execution_count": 40,
   "metadata": {
    "ExecuteTime": {
     "end_time": "2018-09-15T20:28:04.480693Z",
     "start_time": "2018-09-15T20:28:04.478374Z"
    }
   },
   "outputs": [],
   "source": [
    "#everything_r.limit(5).toPandas()"
   ]
  },
  {
   "cell_type": "code",
   "execution_count": 41,
   "metadata": {
    "ExecuteTime": {
     "end_time": "2018-09-15T20:28:04.491502Z",
     "start_time": "2018-09-15T20:28:04.483162Z"
    }
   },
   "outputs": [
    {
     "name": "stdout",
     "output_type": "stream",
     "text": [
      "root\n",
      " |-- year: integer (nullable = true)\n",
      " |-- month: integer (nullable = true)\n",
      " |-- day: integer (nullable = true)\n",
      " |-- hour: integer (nullable = true)\n",
      " |-- bucket: integer (nullable = true)\n",
      " |-- avg_reddit_eth_compound_vader: double (nullable = true)\n",
      " |-- avg_reddit_eth_pos_vader: double (nullable = true)\n",
      " |-- avg_reddit_eth_neg_vader: double (nullable = true)\n",
      " |-- avg_reddit_eth_polarity_textblob: double (nullable = true)\n",
      " |-- avg_reddit_eth_subjectivity_textblob: double (nullable = true)\n",
      " |-- avg_reddit_btc_compound_vader: double (nullable = true)\n",
      " |-- avg_reddit_btc_pos_vader: double (nullable = true)\n",
      " |-- avg_reddit_btc_neg_vader: double (nullable = true)\n",
      " |-- avg_reddit_btc_polarity_textblob: double (nullable = true)\n",
      " |-- avg_reddit_btc_subjectivity_textblob: double (nullable = true)\n",
      " |-- avg_reddit_compound_vader: double (nullable = true)\n",
      " |-- avg_reddit_pos_vader: double (nullable = true)\n",
      " |-- avg_reddit_neg_vader: double (nullable = true)\n",
      " |-- avg_reddit_polarity_textblob: double (nullable = true)\n",
      " |-- avg_reddit_subjectivity_textblob: double (nullable = true)\n",
      "\n"
     ]
    }
   ],
   "source": [
    "everything_r.printSchema()"
   ]
  },
  {
   "cell_type": "markdown",
   "metadata": {},
   "source": [
    "# Join all social media information"
   ]
  },
  {
   "cell_type": "code",
   "execution_count": 51,
   "metadata": {
    "ExecuteTime": {
     "end_time": "2018-09-15T20:32:07.440574Z",
     "start_time": "2018-09-15T20:32:07.247897Z"
    }
   },
   "outputs": [],
   "source": [
    "r = spark.read.parquet(\"data/temp/sentiment/reddit\").filter(\"year > 2015\")\n",
    "t = spark.read.parquet(\"data/temp/sentiment/twitter\").filter(\"year > 2015\")"
   ]
  },
  {
   "cell_type": "code",
   "execution_count": 52,
   "metadata": {
    "ExecuteTime": {
     "end_time": "2018-09-15T20:32:07.647439Z",
     "start_time": "2018-09-15T20:32:07.642701Z"
    }
   },
   "outputs": [
    {
     "name": "stdout",
     "output_type": "stream",
     "text": [
      "root\n",
      " |-- year: integer (nullable = true)\n",
      " |-- month: integer (nullable = true)\n",
      " |-- day: integer (nullable = true)\n",
      " |-- hour: integer (nullable = true)\n",
      " |-- bucket: integer (nullable = true)\n",
      " |-- avg_eth_compound_vader: double (nullable = true)\n",
      " |-- avg_eth_pos_vader: double (nullable = true)\n",
      " |-- avg_eth_neg_vader: double (nullable = true)\n",
      " |-- avg_eth_polarity_textblob: double (nullable = true)\n",
      " |-- avg_eth_subjectivity_textblob: double (nullable = true)\n",
      " |-- avg_twitter_btc_compound_vader: double (nullable = true)\n",
      " |-- avg_twitter_btc_pos_vader: double (nullable = true)\n",
      " |-- avg_twitter_btc_neg_vader: double (nullable = true)\n",
      " |-- avg_twitter_btc_polarity_textblob: double (nullable = true)\n",
      " |-- avg_twitter_btc_subjectivity_textblob: double (nullable = true)\n",
      " |-- avg_twitter_compound_vader: double (nullable = true)\n",
      " |-- avg_twitter_pos_vader: double (nullable = true)\n",
      " |-- avg_twitter_neg_vader: double (nullable = true)\n",
      " |-- avg_twitter_polarity_textblob: double (nullable = true)\n",
      " |-- avg_twitter_subjectivity_textblob: double (nullable = true)\n",
      "\n"
     ]
    }
   ],
   "source": [
    "t.printSchema()"
   ]
  },
  {
   "cell_type": "code",
   "execution_count": 53,
   "metadata": {
    "ExecuteTime": {
     "end_time": "2018-09-15T20:32:07.844256Z",
     "start_time": "2018-09-15T20:32:07.840574Z"
    }
   },
   "outputs": [
    {
     "name": "stdout",
     "output_type": "stream",
     "text": [
      "root\n",
      " |-- year: integer (nullable = true)\n",
      " |-- month: integer (nullable = true)\n",
      " |-- day: integer (nullable = true)\n",
      " |-- hour: integer (nullable = true)\n",
      " |-- bucket: integer (nullable = true)\n",
      " |-- avg_reddit_eth_compound_vader: double (nullable = true)\n",
      " |-- avg_reddit_eth_pos_vader: double (nullable = true)\n",
      " |-- avg_reddit_eth_neg_vader: double (nullable = true)\n",
      " |-- avg_reddit_eth_polarity_textblob: double (nullable = true)\n",
      " |-- avg_reddit_eth_subjectivity_textblob: double (nullable = true)\n",
      " |-- avg_reddit_btc_compound_vader: double (nullable = true)\n",
      " |-- avg_reddit_btc_pos_vader: double (nullable = true)\n",
      " |-- avg_reddit_btc_neg_vader: double (nullable = true)\n",
      " |-- avg_reddit_btc_polarity_textblob: double (nullable = true)\n",
      " |-- avg_reddit_btc_subjectivity_textblob: double (nullable = true)\n",
      " |-- avg_reddit_compound_vader: double (nullable = true)\n",
      " |-- avg_reddit_pos_vader: double (nullable = true)\n",
      " |-- avg_reddit_neg_vader: double (nullable = true)\n",
      " |-- avg_reddit_polarity_textblob: double (nullable = true)\n",
      " |-- avg_reddit_subjectivity_textblob: double (nullable = true)\n",
      "\n"
     ]
    }
   ],
   "source": [
    "r.printSchema()"
   ]
  },
  {
   "cell_type": "code",
   "execution_count": 54,
   "metadata": {
    "ExecuteTime": {
     "end_time": "2018-09-15T20:32:08.009588Z",
     "start_time": "2018-09-15T20:32:07.997277Z"
    }
   },
   "outputs": [],
   "source": [
    "everything = r.join(t,on=[\"year\",\"month\",\"day\",\"hour\",\"bucket\"],how=\"full\")"
   ]
  },
  {
   "cell_type": "code",
   "execution_count": 55,
   "metadata": {
    "ExecuteTime": {
     "end_time": "2018-09-15T20:32:11.572162Z",
     "start_time": "2018-09-15T20:32:08.222880Z"
    }
   },
   "outputs": [],
   "source": [
    "everything.write.mode(\"overwrite\").parquet(\"data/temp/sentiment/everything\")"
   ]
  },
  {
   "cell_type": "code",
   "execution_count": 7,
   "metadata": {
    "ExecuteTime": {
     "end_time": "2018-09-15T20:35:15.434430Z",
     "start_time": "2018-09-15T20:35:15.214831Z"
    }
   },
   "outputs": [
    {
     "name": "stdout",
     "output_type": "stream",
     "text": [
      "root\n",
      " |-- year: integer (nullable = true)\n",
      " |-- month: integer (nullable = true)\n",
      " |-- day: integer (nullable = true)\n",
      " |-- hour: integer (nullable = true)\n",
      " |-- bucket: integer (nullable = true)\n",
      " |-- avg_reddit_eth_compound_vader: double (nullable = true)\n",
      " |-- avg_reddit_eth_pos_vader: double (nullable = true)\n",
      " |-- avg_reddit_eth_neg_vader: double (nullable = true)\n",
      " |-- avg_reddit_eth_polarity_textblob: double (nullable = true)\n",
      " |-- avg_reddit_eth_subjectivity_textblob: double (nullable = true)\n",
      " |-- avg_reddit_btc_compound_vader: double (nullable = true)\n",
      " |-- avg_reddit_btc_pos_vader: double (nullable = true)\n",
      " |-- avg_reddit_btc_neg_vader: double (nullable = true)\n",
      " |-- avg_reddit_btc_polarity_textblob: double (nullable = true)\n",
      " |-- avg_reddit_btc_subjectivity_textblob: double (nullable = true)\n",
      " |-- avg_reddit_compound_vader: double (nullable = true)\n",
      " |-- avg_reddit_pos_vader: double (nullable = true)\n",
      " |-- avg_reddit_neg_vader: double (nullable = true)\n",
      " |-- avg_reddit_polarity_textblob: double (nullable = true)\n",
      " |-- avg_reddit_subjectivity_textblob: double (nullable = true)\n",
      " |-- avg_eth_compound_vader: double (nullable = true)\n",
      " |-- avg_eth_pos_vader: double (nullable = true)\n",
      " |-- avg_eth_neg_vader: double (nullable = true)\n",
      " |-- avg_eth_polarity_textblob: double (nullable = true)\n",
      " |-- avg_eth_subjectivity_textblob: double (nullable = true)\n",
      " |-- avg_twitter_btc_compound_vader: double (nullable = true)\n",
      " |-- avg_twitter_btc_pos_vader: double (nullable = true)\n",
      " |-- avg_twitter_btc_neg_vader: double (nullable = true)\n",
      " |-- avg_twitter_btc_polarity_textblob: double (nullable = true)\n",
      " |-- avg_twitter_btc_subjectivity_textblob: double (nullable = true)\n",
      " |-- avg_twitter_compound_vader: double (nullable = true)\n",
      " |-- avg_twitter_pos_vader: double (nullable = true)\n",
      " |-- avg_twitter_neg_vader: double (nullable = true)\n",
      " |-- avg_twitter_polarity_textblob: double (nullable = true)\n",
      " |-- avg_twitter_subjectivity_textblob: double (nullable = true)\n",
      "\n"
     ]
    }
   ],
   "source": [
    "spark.read.parquet(\"data/temp/sentiment/everything\").sort(\"year\",\"month\",\"day\",\"hour\",\"bucket\").printSchema()"
   ]
  },
  {
   "cell_type": "code",
   "execution_count": 5,
   "metadata": {
    "ExecuteTime": {
     "end_time": "2018-09-15T20:34:29.572282Z",
     "start_time": "2018-09-15T20:34:25.893227Z"
    }
   },
   "outputs": [],
   "source": [
    "e = spark.read.parquet(\"data/temp/sentiment/everything\").sort(\"year\",\"month\",\"day\",\"hour\",\"bucket\").toPandas()"
   ]
  },
  {
   "cell_type": "code",
   "execution_count": 6,
   "metadata": {
    "ExecuteTime": {
     "end_time": "2018-09-15T20:34:29.618230Z",
     "start_time": "2018-09-15T20:34:29.574359Z"
    }
   },
   "outputs": [
    {
     "data": {
      "text/html": [
       "<div>\n",
       "<style scoped>\n",
       "    .dataframe tbody tr th:only-of-type {\n",
       "        vertical-align: middle;\n",
       "    }\n",
       "\n",
       "    .dataframe tbody tr th {\n",
       "        vertical-align: top;\n",
       "    }\n",
       "\n",
       "    .dataframe thead th {\n",
       "        text-align: right;\n",
       "    }\n",
       "</style>\n",
       "<table border=\"1\" class=\"dataframe\">\n",
       "  <thead>\n",
       "    <tr style=\"text-align: right;\">\n",
       "      <th></th>\n",
       "      <th>year</th>\n",
       "      <th>month</th>\n",
       "      <th>day</th>\n",
       "      <th>hour</th>\n",
       "      <th>bucket</th>\n",
       "      <th>avg_reddit_eth_compound_vader</th>\n",
       "      <th>avg_reddit_eth_pos_vader</th>\n",
       "      <th>avg_reddit_eth_neg_vader</th>\n",
       "      <th>avg_reddit_eth_polarity_textblob</th>\n",
       "      <th>avg_reddit_eth_subjectivity_textblob</th>\n",
       "      <th>...</th>\n",
       "      <th>avg_twitter_btc_compound_vader</th>\n",
       "      <th>avg_twitter_btc_pos_vader</th>\n",
       "      <th>avg_twitter_btc_neg_vader</th>\n",
       "      <th>avg_twitter_btc_polarity_textblob</th>\n",
       "      <th>avg_twitter_btc_subjectivity_textblob</th>\n",
       "      <th>avg_twitter_compound_vader</th>\n",
       "      <th>avg_twitter_pos_vader</th>\n",
       "      <th>avg_twitter_neg_vader</th>\n",
       "      <th>avg_twitter_polarity_textblob</th>\n",
       "      <th>avg_twitter_subjectivity_textblob</th>\n",
       "    </tr>\n",
       "  </thead>\n",
       "  <tbody>\n",
       "    <tr>\n",
       "      <th>0</th>\n",
       "      <td>2016</td>\n",
       "      <td>1</td>\n",
       "      <td>1</td>\n",
       "      <td>0</td>\n",
       "      <td>5</td>\n",
       "      <td>0.2732</td>\n",
       "      <td>0.149</td>\n",
       "      <td>NaN</td>\n",
       "      <td>NaN</td>\n",
       "      <td>NaN</td>\n",
       "      <td>...</td>\n",
       "      <td>0.660516</td>\n",
       "      <td>0.309296</td>\n",
       "      <td>0.160778</td>\n",
       "      <td>0.133164</td>\n",
       "      <td>0.21739</td>\n",
       "      <td>0.659378</td>\n",
       "      <td>0.308778</td>\n",
       "      <td>0.160778</td>\n",
       "      <td>0.157931</td>\n",
       "      <td>0.220476</td>\n",
       "    </tr>\n",
       "    <tr>\n",
       "      <th>1</th>\n",
       "      <td>2016</td>\n",
       "      <td>1</td>\n",
       "      <td>1</td>\n",
       "      <td>0</td>\n",
       "      <td>10</td>\n",
       "      <td>0.7658</td>\n",
       "      <td>0.099</td>\n",
       "      <td>0.044</td>\n",
       "      <td>0.269481</td>\n",
       "      <td>0.561364</td>\n",
       "      <td>...</td>\n",
       "      <td>NaN</td>\n",
       "      <td>NaN</td>\n",
       "      <td>NaN</td>\n",
       "      <td>NaN</td>\n",
       "      <td>NaN</td>\n",
       "      <td>-0.002928</td>\n",
       "      <td>0.237611</td>\n",
       "      <td>0.146000</td>\n",
       "      <td>0.255884</td>\n",
       "      <td>0.458497</td>\n",
       "    </tr>\n",
       "    <tr>\n",
       "      <th>2</th>\n",
       "      <td>2016</td>\n",
       "      <td>1</td>\n",
       "      <td>1</td>\n",
       "      <td>0</td>\n",
       "      <td>15</td>\n",
       "      <td>-0.1449</td>\n",
       "      <td>0.085</td>\n",
       "      <td>0.134</td>\n",
       "      <td>0.205556</td>\n",
       "      <td>0.700000</td>\n",
       "      <td>...</td>\n",
       "      <td>NaN</td>\n",
       "      <td>NaN</td>\n",
       "      <td>NaN</td>\n",
       "      <td>NaN</td>\n",
       "      <td>NaN</td>\n",
       "      <td>0.244489</td>\n",
       "      <td>0.311000</td>\n",
       "      <td>0.172714</td>\n",
       "      <td>0.229230</td>\n",
       "      <td>0.558709</td>\n",
       "    </tr>\n",
       "    <tr>\n",
       "      <th>3</th>\n",
       "      <td>2016</td>\n",
       "      <td>1</td>\n",
       "      <td>1</td>\n",
       "      <td>0</td>\n",
       "      <td>25</td>\n",
       "      <td>NaN</td>\n",
       "      <td>NaN</td>\n",
       "      <td>NaN</td>\n",
       "      <td>NaN</td>\n",
       "      <td>NaN</td>\n",
       "      <td>...</td>\n",
       "      <td>NaN</td>\n",
       "      <td>NaN</td>\n",
       "      <td>NaN</td>\n",
       "      <td>NaN</td>\n",
       "      <td>NaN</td>\n",
       "      <td>-0.181192</td>\n",
       "      <td>0.226417</td>\n",
       "      <td>0.151000</td>\n",
       "      <td>0.142119</td>\n",
       "      <td>0.665341</td>\n",
       "    </tr>\n",
       "    <tr>\n",
       "      <th>4</th>\n",
       "      <td>2016</td>\n",
       "      <td>1</td>\n",
       "      <td>1</td>\n",
       "      <td>0</td>\n",
       "      <td>30</td>\n",
       "      <td>0.4926</td>\n",
       "      <td>1.000</td>\n",
       "      <td>NaN</td>\n",
       "      <td>0.250000</td>\n",
       "      <td>0.200000</td>\n",
       "      <td>...</td>\n",
       "      <td>NaN</td>\n",
       "      <td>NaN</td>\n",
       "      <td>NaN</td>\n",
       "      <td>NaN</td>\n",
       "      <td>NaN</td>\n",
       "      <td>0.478296</td>\n",
       "      <td>0.230391</td>\n",
       "      <td>0.184333</td>\n",
       "      <td>0.402529</td>\n",
       "      <td>0.422893</td>\n",
       "    </tr>\n",
       "  </tbody>\n",
       "</table>\n",
       "<p>5 rows × 35 columns</p>\n",
       "</div>"
      ],
      "text/plain": [
       "   year  month  day  hour  bucket  avg_reddit_eth_compound_vader  \\\n",
       "0  2016      1    1     0       5                         0.2732   \n",
       "1  2016      1    1     0      10                         0.7658   \n",
       "2  2016      1    1     0      15                        -0.1449   \n",
       "3  2016      1    1     0      25                            NaN   \n",
       "4  2016      1    1     0      30                         0.4926   \n",
       "\n",
       "   avg_reddit_eth_pos_vader  avg_reddit_eth_neg_vader  \\\n",
       "0                     0.149                       NaN   \n",
       "1                     0.099                     0.044   \n",
       "2                     0.085                     0.134   \n",
       "3                       NaN                       NaN   \n",
       "4                     1.000                       NaN   \n",
       "\n",
       "   avg_reddit_eth_polarity_textblob  avg_reddit_eth_subjectivity_textblob  \\\n",
       "0                               NaN                                   NaN   \n",
       "1                          0.269481                              0.561364   \n",
       "2                          0.205556                              0.700000   \n",
       "3                               NaN                                   NaN   \n",
       "4                          0.250000                              0.200000   \n",
       "\n",
       "                 ...                  avg_twitter_btc_compound_vader  \\\n",
       "0                ...                                        0.660516   \n",
       "1                ...                                             NaN   \n",
       "2                ...                                             NaN   \n",
       "3                ...                                             NaN   \n",
       "4                ...                                             NaN   \n",
       "\n",
       "   avg_twitter_btc_pos_vader  avg_twitter_btc_neg_vader  \\\n",
       "0                   0.309296                   0.160778   \n",
       "1                        NaN                        NaN   \n",
       "2                        NaN                        NaN   \n",
       "3                        NaN                        NaN   \n",
       "4                        NaN                        NaN   \n",
       "\n",
       "   avg_twitter_btc_polarity_textblob  avg_twitter_btc_subjectivity_textblob  \\\n",
       "0                           0.133164                                0.21739   \n",
       "1                                NaN                                    NaN   \n",
       "2                                NaN                                    NaN   \n",
       "3                                NaN                                    NaN   \n",
       "4                                NaN                                    NaN   \n",
       "\n",
       "   avg_twitter_compound_vader  avg_twitter_pos_vader  avg_twitter_neg_vader  \\\n",
       "0                    0.659378               0.308778               0.160778   \n",
       "1                   -0.002928               0.237611               0.146000   \n",
       "2                    0.244489               0.311000               0.172714   \n",
       "3                   -0.181192               0.226417               0.151000   \n",
       "4                    0.478296               0.230391               0.184333   \n",
       "\n",
       "   avg_twitter_polarity_textblob  avg_twitter_subjectivity_textblob  \n",
       "0                       0.157931                           0.220476  \n",
       "1                       0.255884                           0.458497  \n",
       "2                       0.229230                           0.558709  \n",
       "3                       0.142119                           0.665341  \n",
       "4                       0.402529                           0.422893  \n",
       "\n",
       "[5 rows x 35 columns]"
      ]
     },
     "execution_count": 6,
     "metadata": {},
     "output_type": "execute_result"
    }
   ],
   "source": [
    "e.head()"
   ]
  },
  {
   "cell_type": "code",
   "execution_count": null,
   "metadata": {},
   "outputs": [],
   "source": []
  }
 ],
 "metadata": {
  "kernelspec": {
   "display_name": "udacity",
   "language": "python",
   "name": "udacity"
  },
  "language_info": {
   "codemirror_mode": {
    "name": "ipython",
    "version": 3
   },
   "file_extension": ".py",
   "mimetype": "text/x-python",
   "name": "python",
   "nbconvert_exporter": "python",
   "pygments_lexer": "ipython3",
   "version": "3.6.6"
  },
  "toc": {
   "base_numbering": 1,
   "nav_menu": {},
   "number_sections": true,
   "sideBar": true,
   "skip_h1_title": false,
   "title_cell": "Table of Contents",
   "title_sidebar": "Contents",
   "toc_cell": false,
   "toc_position": {
    "height": "calc(100% - 180px)",
    "left": "10px",
    "top": "150px",
    "width": "512px"
   },
   "toc_section_display": true,
   "toc_window_display": true
  }
 },
 "nbformat": 4,
 "nbformat_minor": 2
}
