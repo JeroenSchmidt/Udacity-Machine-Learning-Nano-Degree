{
 "cells": [
  {
   "cell_type": "code",
   "execution_count": 4,
   "metadata": {},
   "outputs": [],
   "source": [
    "def get_ticker_data(pair=\"USDT_BTC\"):\n",
    "    import json\n",
    "    import numpy as np\n",
    "    import os\n",
    "    import pandas as pd\n",
    "    import urllib\n",
    "    \n",
    "    # connect to poloniex's API\n",
    "    url = 'https://poloniex.com/public?command=returnChartData&currencyPair={}&start=1356998100&end=9999999999&period=300'\n",
    "    \n",
    "    url_pair = url.format(pair)\n",
    "    \n",
    "    # parse json returned from the API to Pandas DF\n",
    "    openUrl = urllib.request.urlopen(url_pair)\n",
    "    r = openUrl.read()\n",
    "    openUrl.close()\n",
    "    d = json.loads(r.decode())\n",
    "    df = pd.DataFrame(d)\n",
    "    \n",
    "    original_columns=[u'close', u'date', u'high', u'low', u'open']\n",
    "    new_columns = ['Close','Timestamp','High','Low','Open']\n",
    "    df = df.loc[:,original_columns]\n",
    "    df.columns = new_columns\n",
    "    return df"
   ]
  },
  {
   "cell_type": "code",
   "execution_count": 7,
   "metadata": {},
   "outputs": [],
   "source": [
    "USDT_BTC = get_ticker_data(\"USDT_BTC\")\n",
    "USDT_ETH = get_ticker_data(\"USDT_ETH\")"
   ]
  },
  {
   "cell_type": "code",
   "execution_count": 8,
   "metadata": {},
   "outputs": [
    {
     "name": "stdout",
     "output_type": "stream",
     "text": [
      "USDT-BTC size(349235, 5)\n",
      "USDT-ETH size(300430, 5)\n"
     ]
    }
   ],
   "source": [
    "print(\"USDT-BTC size\" + str(USDT_BTC.shape))\n",
    "print(\"USDT-ETH size\" + str(USDT_ETH.shape))"
   ]
  },
  {
   "cell_type": "code",
   "execution_count": 11,
   "metadata": {},
   "outputs": [],
   "source": [
    "USDT_ETH.to_csv(\"../data/USDT_ETH.csv\")"
   ]
  },
  {
   "cell_type": "code",
   "execution_count": 12,
   "metadata": {},
   "outputs": [],
   "source": [
    "USDT_BTC.to_csv(\"../data/USDT_BTC.csv\")"
   ]
  }
 ],
 "metadata": {
  "kernelspec": {
   "display_name": "Python 3",
   "language": "python",
   "name": "python3"
  },
  "language_info": {
   "codemirror_mode": {
    "name": "ipython",
    "version": 3
   },
   "file_extension": ".py",
   "mimetype": "text/x-python",
   "name": "python",
   "nbconvert_exporter": "python",
   "pygments_lexer": "ipython3",
   "version": "3.6.5"
  }
 },
 "nbformat": 4,
 "nbformat_minor": 2
}
