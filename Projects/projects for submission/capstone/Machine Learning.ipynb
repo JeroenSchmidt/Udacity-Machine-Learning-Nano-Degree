{
 "cells": [
  {
   "cell_type": "markdown",
   "metadata": {},
   "source": [
    "# Some ideas to explore\n"
   ]
  },
  {
   "cell_type": "markdown",
   "metadata": {},
   "source": [
    "* check performance with sliding window on/off\n",
    "* check performance with binary vs float labels\n",
    "* check performance with different ticker price windows and corresponding feature windows"
   ]
  },
  {
   "cell_type": "markdown",
   "metadata": {},
   "source": [
    "# Check that GPU is listed for tensorflow"
   ]
  },
  {
   "cell_type": "code",
   "execution_count": 51,
   "metadata": {
    "ExecuteTime": {
     "end_time": "2018-07-10T17:22:03.273481Z",
     "start_time": "2018-07-10T17:22:03.155039Z"
    }
   },
   "outputs": [
    {
     "name": "stderr",
     "output_type": "stream",
     "text": [
      "Using TensorFlow backend.\n"
     ]
    }
   ],
   "source": [
    "import keras"
   ]
  },
  {
   "cell_type": "code",
   "execution_count": 50,
   "metadata": {
    "ExecuteTime": {
     "end_time": "2018-07-10T17:22:03.035705Z",
     "start_time": "2018-07-10T17:21:57.757313Z"
    }
   },
   "outputs": [
    {
     "name": "stdout",
     "output_type": "stream",
     "text": [
      "[name: \"/device:CPU:0\"\n",
      "device_type: \"CPU\"\n",
      "memory_limit: 268435456\n",
      "locality {\n",
      "}\n",
      "incarnation: 9522870279201687960\n",
      ", name: \"/device:GPU:0\"\n",
      "device_type: \"GPU\"\n",
      "memory_limit: 3831431168\n",
      "locality {\n",
      "  bus_id: 1\n",
      "  links {\n",
      "  }\n",
      "}\n",
      "incarnation: 631232787631189167\n",
      "physical_device_desc: \"device: 0, name: GeForce GTX 960M, pci bus id: 0000:02:00.0, compute capability: 5.0\"\n",
      "]\n"
     ]
    }
   ],
   "source": [
    "from tensorflow.python.client import device_lib\n",
    "print(device_lib.list_local_devices())"
   ]
  },
  {
   "cell_type": "markdown",
   "metadata": {},
   "source": [
    "# Load Ticker Data"
   ]
  },
  {
   "cell_type": "code",
   "execution_count": 1,
   "metadata": {
    "ExecuteTime": {
     "end_time": "2018-07-10T16:35:35.002567Z",
     "start_time": "2018-07-10T16:35:34.154442Z"
    }
   },
   "outputs": [],
   "source": [
    "import pandas as pd"
   ]
  },
  {
   "cell_type": "code",
   "execution_count": 2,
   "metadata": {
    "ExecuteTime": {
     "end_time": "2018-07-10T16:35:35.572255Z",
     "start_time": "2018-07-10T16:35:35.004673Z"
    }
   },
   "outputs": [],
   "source": [
    "eth_ticker_raw = pd.read_csv(\"data/ticker_data/USDT_ETH.csv\",index_col=0)\n",
    "btc_ticker_raw = pd.read_csv(\"data/ticker_data/USDT_BTC.csv\",index_col=0)          "
   ]
  },
  {
   "cell_type": "code",
   "execution_count": 3,
   "metadata": {
    "ExecuteTime": {
     "end_time": "2018-07-10T16:35:35.592529Z",
     "start_time": "2018-07-10T16:35:35.573637Z"
    }
   },
   "outputs": [
    {
     "data": {
      "text/html": [
       "<div>\n",
       "<style scoped>\n",
       "    .dataframe tbody tr th:only-of-type {\n",
       "        vertical-align: middle;\n",
       "    }\n",
       "\n",
       "    .dataframe tbody tr th {\n",
       "        vertical-align: top;\n",
       "    }\n",
       "\n",
       "    .dataframe thead th {\n",
       "        text-align: right;\n",
       "    }\n",
       "</style>\n",
       "<table border=\"1\" class=\"dataframe\">\n",
       "  <thead>\n",
       "    <tr style=\"text-align: right;\">\n",
       "      <th></th>\n",
       "      <th>Close</th>\n",
       "      <th>Timestamp</th>\n",
       "      <th>High</th>\n",
       "      <th>Low</th>\n",
       "      <th>Open</th>\n",
       "    </tr>\n",
       "  </thead>\n",
       "  <tbody>\n",
       "    <tr>\n",
       "      <th>0</th>\n",
       "      <td>1.75</td>\n",
       "      <td>1439014500</td>\n",
       "      <td>0.33</td>\n",
       "      <td>1.61</td>\n",
       "      <td>0.33</td>\n",
       "    </tr>\n",
       "  </tbody>\n",
       "</table>\n",
       "</div>"
      ],
      "text/plain": [
       "   Close   Timestamp  High   Low  Open\n",
       "0   1.75  1439014500  0.33  1.61  0.33"
      ]
     },
     "execution_count": 3,
     "metadata": {},
     "output_type": "execute_result"
    }
   ],
   "source": [
    "eth_ticker_raw[eth_ticker_raw.Timestamp == 1439014500]"
   ]
  },
  {
   "cell_type": "code",
   "execution_count": 4,
   "metadata": {
    "ExecuteTime": {
     "end_time": "2018-07-10T16:35:35.606602Z",
     "start_time": "2018-07-10T16:35:35.594335Z"
    }
   },
   "outputs": [
    {
     "data": {
      "text/html": [
       "<div>\n",
       "<style scoped>\n",
       "    .dataframe tbody tr th:only-of-type {\n",
       "        vertical-align: middle;\n",
       "    }\n",
       "\n",
       "    .dataframe tbody tr th {\n",
       "        vertical-align: top;\n",
       "    }\n",
       "\n",
       "    .dataframe thead th {\n",
       "        text-align: right;\n",
       "    }\n",
       "</style>\n",
       "<table border=\"1\" class=\"dataframe\">\n",
       "  <thead>\n",
       "    <tr style=\"text-align: right;\">\n",
       "      <th></th>\n",
       "      <th>Close</th>\n",
       "      <th>Timestamp</th>\n",
       "      <th>High</th>\n",
       "      <th>Low</th>\n",
       "      <th>Open</th>\n",
       "    </tr>\n",
       "  </thead>\n",
       "  <tbody>\n",
       "    <tr>\n",
       "      <th>48805</th>\n",
       "      <td>273.947811</td>\n",
       "      <td>1439014500</td>\n",
       "      <td>275.603572</td>\n",
       "      <td>273.947811</td>\n",
       "      <td>275.603572</td>\n",
       "    </tr>\n",
       "  </tbody>\n",
       "</table>\n",
       "</div>"
      ],
      "text/plain": [
       "            Close   Timestamp        High         Low        Open\n",
       "48805  273.947811  1439014500  275.603572  273.947811  275.603572"
      ]
     },
     "execution_count": 4,
     "metadata": {},
     "output_type": "execute_result"
    }
   ],
   "source": [
    "btc_ticker_raw[btc_ticker_raw.Timestamp == 1439014500]"
   ]
  },
  {
   "cell_type": "code",
   "execution_count": 5,
   "metadata": {
    "ExecuteTime": {
     "end_time": "2018-07-10T16:35:35.618059Z",
     "start_time": "2018-07-10T16:35:35.608229Z"
    }
   },
   "outputs": [
    {
     "data": {
      "text/html": [
       "<div>\n",
       "<style scoped>\n",
       "    .dataframe tbody tr th:only-of-type {\n",
       "        vertical-align: middle;\n",
       "    }\n",
       "\n",
       "    .dataframe tbody tr th {\n",
       "        vertical-align: top;\n",
       "    }\n",
       "\n",
       "    .dataframe thead th {\n",
       "        text-align: right;\n",
       "    }\n",
       "</style>\n",
       "<table border=\"1\" class=\"dataframe\">\n",
       "  <thead>\n",
       "    <tr style=\"text-align: right;\">\n",
       "      <th></th>\n",
       "      <th>Close</th>\n",
       "      <th>Timestamp</th>\n",
       "      <th>High</th>\n",
       "      <th>Low</th>\n",
       "      <th>Open</th>\n",
       "    </tr>\n",
       "  </thead>\n",
       "  <tbody>\n",
       "    <tr>\n",
       "      <th>0</th>\n",
       "      <td>225.0</td>\n",
       "      <td>1424373000</td>\n",
       "      <td>0.33</td>\n",
       "      <td>225.0</td>\n",
       "      <td>0.33</td>\n",
       "    </tr>\n",
       "    <tr>\n",
       "      <th>1</th>\n",
       "      <td>225.0</td>\n",
       "      <td>1424373300</td>\n",
       "      <td>225.00</td>\n",
       "      <td>225.0</td>\n",
       "      <td>225.00</td>\n",
       "    </tr>\n",
       "    <tr>\n",
       "      <th>2</th>\n",
       "      <td>225.0</td>\n",
       "      <td>1424373600</td>\n",
       "      <td>225.00</td>\n",
       "      <td>225.0</td>\n",
       "      <td>225.00</td>\n",
       "    </tr>\n",
       "    <tr>\n",
       "      <th>3</th>\n",
       "      <td>225.0</td>\n",
       "      <td>1424373900</td>\n",
       "      <td>225.00</td>\n",
       "      <td>225.0</td>\n",
       "      <td>225.00</td>\n",
       "    </tr>\n",
       "    <tr>\n",
       "      <th>4</th>\n",
       "      <td>225.0</td>\n",
       "      <td>1424374200</td>\n",
       "      <td>225.00</td>\n",
       "      <td>225.0</td>\n",
       "      <td>225.00</td>\n",
       "    </tr>\n",
       "  </tbody>\n",
       "</table>\n",
       "</div>"
      ],
      "text/plain": [
       "   Close   Timestamp    High    Low    Open\n",
       "0  225.0  1424373000    0.33  225.0    0.33\n",
       "1  225.0  1424373300  225.00  225.0  225.00\n",
       "2  225.0  1424373600  225.00  225.0  225.00\n",
       "3  225.0  1424373900  225.00  225.0  225.00\n",
       "4  225.0  1424374200  225.00  225.0  225.00"
      ]
     },
     "execution_count": 5,
     "metadata": {},
     "output_type": "execute_result"
    }
   ],
   "source": [
    "btc_ticker_raw.head()"
   ]
  },
  {
   "cell_type": "code",
   "execution_count": 6,
   "metadata": {
    "ExecuteTime": {
     "end_time": "2018-07-10T16:35:35.622212Z",
     "start_time": "2018-07-10T16:35:35.619710Z"
    }
   },
   "outputs": [],
   "source": [
    "# sync the times of the two dataframes"
   ]
  },
  {
   "cell_type": "markdown",
   "metadata": {},
   "source": [
    "# Data Preparation"
   ]
  },
  {
   "cell_type": "markdown",
   "metadata": {},
   "source": [
    "* align the btc and eth data\n",
    "* write function that can create data point windows - 5 minutes, 20 minutes, 6 hours\n",
    "* create features and outputs"
   ]
  },
  {
   "cell_type": "markdown",
   "metadata": {
    "ExecuteTime": {
     "end_time": "2018-07-08T17:59:34.878003Z",
     "start_time": "2018-07-08T17:59:34.871726Z"
    }
   },
   "source": [
    "## Align Data"
   ]
  },
  {
   "cell_type": "code",
   "execution_count": null,
   "metadata": {
    "ExecuteTime": {
     "end_time": "2018-07-08T19:34:57.485629Z",
     "start_time": "2018-07-08T19:34:53.859Z"
    }
   },
   "outputs": [],
   "source": [
    "eth_ticker.dtypes"
   ]
  },
  {
   "cell_type": "code",
   "execution_count": null,
   "metadata": {
    "ExecuteTime": {
     "end_time": "2018-07-08T19:34:57.488549Z",
     "start_time": "2018-07-08T19:34:53.867Z"
    }
   },
   "outputs": [],
   "source": [
    "btc_ticker.dtypes"
   ]
  },
  {
   "cell_type": "code",
   "execution_count": 11,
   "metadata": {
    "ExecuteTime": {
     "end_time": "2018-07-10T16:35:59.506628Z",
     "start_time": "2018-07-10T16:35:59.410279Z"
    }
   },
   "outputs": [],
   "source": [
    "ticker_data_merged = eth_ticker_raw.set_index(\"Timestamp\")\\\n",
    "                .join(\n",
    "                        btc_ticker_raw.set_index(\"Timestamp\"),\n",
    "                        on=\"Timestamp\",\n",
    "                        how=\"inner\",\n",
    "                        lsuffix=\"_eth\",\n",
    "                        rsuffix=\"_btc\")"
   ]
  },
  {
   "cell_type": "code",
   "execution_count": 12,
   "metadata": {
    "ExecuteTime": {
     "end_time": "2018-07-10T16:35:59.998139Z",
     "start_time": "2018-07-10T16:35:59.968337Z"
    }
   },
   "outputs": [
    {
     "data": {
      "text/html": [
       "<div>\n",
       "<style scoped>\n",
       "    .dataframe tbody tr th:only-of-type {\n",
       "        vertical-align: middle;\n",
       "    }\n",
       "\n",
       "    .dataframe tbody tr th {\n",
       "        vertical-align: top;\n",
       "    }\n",
       "\n",
       "    .dataframe thead th {\n",
       "        text-align: right;\n",
       "    }\n",
       "</style>\n",
       "<table border=\"1\" class=\"dataframe\">\n",
       "  <thead>\n",
       "    <tr style=\"text-align: right;\">\n",
       "      <th></th>\n",
       "      <th>Close_eth</th>\n",
       "      <th>High_eth</th>\n",
       "      <th>Low_eth</th>\n",
       "      <th>Open_eth</th>\n",
       "      <th>Close_btc</th>\n",
       "      <th>High_btc</th>\n",
       "      <th>Low_btc</th>\n",
       "      <th>Open_btc</th>\n",
       "    </tr>\n",
       "    <tr>\n",
       "      <th>Timestamp</th>\n",
       "      <th></th>\n",
       "      <th></th>\n",
       "      <th></th>\n",
       "      <th></th>\n",
       "      <th></th>\n",
       "      <th></th>\n",
       "      <th></th>\n",
       "      <th></th>\n",
       "    </tr>\n",
       "  </thead>\n",
       "  <tbody>\n",
       "    <tr>\n",
       "      <th>1439014500</th>\n",
       "      <td>1.75</td>\n",
       "      <td>0.33</td>\n",
       "      <td>1.61</td>\n",
       "      <td>0.33</td>\n",
       "      <td>273.947811</td>\n",
       "      <td>275.603572</td>\n",
       "      <td>273.947811</td>\n",
       "      <td>275.603572</td>\n",
       "    </tr>\n",
       "    <tr>\n",
       "      <th>1439014800</th>\n",
       "      <td>1.85</td>\n",
       "      <td>1.85</td>\n",
       "      <td>1.85</td>\n",
       "      <td>1.85</td>\n",
       "      <td>273.905543</td>\n",
       "      <td>273.905543</td>\n",
       "      <td>273.626238</td>\n",
       "      <td>273.901814</td>\n",
       "    </tr>\n",
       "    <tr>\n",
       "      <th>1439015100</th>\n",
       "      <td>1.85</td>\n",
       "      <td>1.85</td>\n",
       "      <td>1.85</td>\n",
       "      <td>1.85</td>\n",
       "      <td>273.905543</td>\n",
       "      <td>273.905543</td>\n",
       "      <td>273.905543</td>\n",
       "      <td>273.905543</td>\n",
       "    </tr>\n",
       "    <tr>\n",
       "      <th>1439015400</th>\n",
       "      <td>1.85</td>\n",
       "      <td>1.85</td>\n",
       "      <td>1.85</td>\n",
       "      <td>1.85</td>\n",
       "      <td>273.917572</td>\n",
       "      <td>273.917572</td>\n",
       "      <td>273.917572</td>\n",
       "      <td>273.917572</td>\n",
       "    </tr>\n",
       "    <tr>\n",
       "      <th>1439015700</th>\n",
       "      <td>1.85</td>\n",
       "      <td>1.85</td>\n",
       "      <td>1.85</td>\n",
       "      <td>1.85</td>\n",
       "      <td>273.917572</td>\n",
       "      <td>273.917572</td>\n",
       "      <td>273.917572</td>\n",
       "      <td>273.917572</td>\n",
       "    </tr>\n",
       "  </tbody>\n",
       "</table>\n",
       "</div>"
      ],
      "text/plain": [
       "            Close_eth  High_eth  Low_eth  Open_eth   Close_btc    High_btc  \\\n",
       "Timestamp                                                                    \n",
       "1439014500       1.75      0.33     1.61      0.33  273.947811  275.603572   \n",
       "1439014800       1.85      1.85     1.85      1.85  273.905543  273.905543   \n",
       "1439015100       1.85      1.85     1.85      1.85  273.905543  273.905543   \n",
       "1439015400       1.85      1.85     1.85      1.85  273.917572  273.917572   \n",
       "1439015700       1.85      1.85     1.85      1.85  273.917572  273.917572   \n",
       "\n",
       "               Low_btc    Open_btc  \n",
       "Timestamp                           \n",
       "1439014500  273.947811  275.603572  \n",
       "1439014800  273.626238  273.901814  \n",
       "1439015100  273.905543  273.905543  \n",
       "1439015400  273.917572  273.917572  \n",
       "1439015700  273.917572  273.917572  "
      ]
     },
     "execution_count": 12,
     "metadata": {},
     "output_type": "execute_result"
    }
   ],
   "source": [
    "ticker_data_merged.head()"
   ]
  },
  {
   "cell_type": "markdown",
   "metadata": {},
   "source": [
    "## Modify Time Spans"
   ]
  },
  {
   "cell_type": "code",
   "execution_count": 13,
   "metadata": {
    "ExecuteTime": {
     "end_time": "2018-07-10T16:36:04.646822Z",
     "start_time": "2018-07-10T16:36:04.642199Z"
    }
   },
   "outputs": [
    {
     "data": {
      "text/plain": [
       "Close_eth    float64\n",
       "High_eth     float64\n",
       "Low_eth      float64\n",
       "Open_eth     float64\n",
       "Close_btc    float64\n",
       "High_btc     float64\n",
       "Low_btc      float64\n",
       "Open_btc     float64\n",
       "dtype: object"
      ]
     },
     "execution_count": 13,
     "metadata": {},
     "output_type": "execute_result"
    }
   ],
   "source": [
    "ticker_data_merged.dtypes"
   ]
  },
  {
   "cell_type": "code",
   "execution_count": 14,
   "metadata": {
    "ExecuteTime": {
     "end_time": "2018-07-10T16:36:04.991696Z",
     "start_time": "2018-07-10T16:36:04.894218Z"
    }
   },
   "outputs": [
    {
     "name": "stdout",
     "output_type": "stream",
     "text": [
      "Shape of reshaped data: (150216, 8)\n",
      "Shape of original data: (300430, 8)\n"
     ]
    }
   ],
   "source": [
    "import numpy as np\n",
    "\n",
    "# in minutes \n",
    "minutes = 10\n",
    "data_point_bucket_size = str(minutes) + \"T\"\n",
    "\n",
    "datetime = pd.to_datetime(ticker_data_merged.index,unit='s') \n",
    "\n",
    "\n",
    "agg_method = {'Close_eth': \"last\",\n",
    "                \"High_eth\": np.max, \n",
    "                \"Low_eth\": np.min,\n",
    "                \"Open_eth\": \"first\",\n",
    "                \"Close_btc\": \"last\",\n",
    "                \"High_btc\": np.max, \n",
    "                \"Low_btc\": np.min,\n",
    "                \"Open_btc\": \"first\", \n",
    "                 }\n",
    "\n",
    "ticker_data = ticker_data_merged.set_index(datetime)\\\n",
    "                                    .resample(data_point_bucket_size)\\\n",
    "                                    .agg(agg_method)\n",
    "\n",
    "print(\"Shape of reshaped data: \" + str(ticker_data.shape))\n",
    "print(\"Shape of original data: \" + str(ticker_data_merged.shape))"
   ]
  },
  {
   "cell_type": "code",
   "execution_count": 15,
   "metadata": {
    "ExecuteTime": {
     "end_time": "2018-07-10T16:36:05.863107Z",
     "start_time": "2018-07-10T16:36:05.850781Z"
    }
   },
   "outputs": [
    {
     "data": {
      "text/html": [
       "<div>\n",
       "<style scoped>\n",
       "    .dataframe tbody tr th:only-of-type {\n",
       "        vertical-align: middle;\n",
       "    }\n",
       "\n",
       "    .dataframe tbody tr th {\n",
       "        vertical-align: top;\n",
       "    }\n",
       "\n",
       "    .dataframe thead th {\n",
       "        text-align: right;\n",
       "    }\n",
       "</style>\n",
       "<table border=\"1\" class=\"dataframe\">\n",
       "  <thead>\n",
       "    <tr style=\"text-align: right;\">\n",
       "      <th></th>\n",
       "      <th>Close_eth</th>\n",
       "      <th>High_eth</th>\n",
       "      <th>Low_eth</th>\n",
       "      <th>Open_eth</th>\n",
       "      <th>Close_btc</th>\n",
       "      <th>High_btc</th>\n",
       "      <th>Low_btc</th>\n",
       "      <th>Open_btc</th>\n",
       "    </tr>\n",
       "    <tr>\n",
       "      <th>Timestamp</th>\n",
       "      <th></th>\n",
       "      <th></th>\n",
       "      <th></th>\n",
       "      <th></th>\n",
       "      <th></th>\n",
       "      <th></th>\n",
       "      <th></th>\n",
       "      <th></th>\n",
       "    </tr>\n",
       "  </thead>\n",
       "  <tbody>\n",
       "    <tr>\n",
       "      <th>2015-08-08 06:10:00</th>\n",
       "      <td>1.75</td>\n",
       "      <td>0.33</td>\n",
       "      <td>1.61</td>\n",
       "      <td>0.33</td>\n",
       "      <td>273.947811</td>\n",
       "      <td>275.603572</td>\n",
       "      <td>273.947811</td>\n",
       "      <td>275.603572</td>\n",
       "    </tr>\n",
       "    <tr>\n",
       "      <th>2015-08-08 06:20:00</th>\n",
       "      <td>1.85</td>\n",
       "      <td>1.85</td>\n",
       "      <td>1.85</td>\n",
       "      <td>1.85</td>\n",
       "      <td>273.905543</td>\n",
       "      <td>273.905543</td>\n",
       "      <td>273.626238</td>\n",
       "      <td>273.901814</td>\n",
       "    </tr>\n",
       "    <tr>\n",
       "      <th>2015-08-08 06:30:00</th>\n",
       "      <td>1.85</td>\n",
       "      <td>1.85</td>\n",
       "      <td>1.85</td>\n",
       "      <td>1.85</td>\n",
       "      <td>273.917572</td>\n",
       "      <td>273.917572</td>\n",
       "      <td>273.917572</td>\n",
       "      <td>273.917572</td>\n",
       "    </tr>\n",
       "    <tr>\n",
       "      <th>2015-08-08 06:40:00</th>\n",
       "      <td>1.85</td>\n",
       "      <td>1.85</td>\n",
       "      <td>1.85</td>\n",
       "      <td>1.85</td>\n",
       "      <td>273.917572</td>\n",
       "      <td>273.917572</td>\n",
       "      <td>273.917572</td>\n",
       "      <td>273.917572</td>\n",
       "    </tr>\n",
       "    <tr>\n",
       "      <th>2015-08-08 06:50:00</th>\n",
       "      <td>1.71</td>\n",
       "      <td>1.71</td>\n",
       "      <td>1.71</td>\n",
       "      <td>1.71</td>\n",
       "      <td>274.155050</td>\n",
       "      <td>274.155050</td>\n",
       "      <td>274.155050</td>\n",
       "      <td>274.155050</td>\n",
       "    </tr>\n",
       "  </tbody>\n",
       "</table>\n",
       "</div>"
      ],
      "text/plain": [
       "                     Close_eth  High_eth  Low_eth  Open_eth   Close_btc  \\\n",
       "Timestamp                                                                 \n",
       "2015-08-08 06:10:00       1.75      0.33     1.61      0.33  273.947811   \n",
       "2015-08-08 06:20:00       1.85      1.85     1.85      1.85  273.905543   \n",
       "2015-08-08 06:30:00       1.85      1.85     1.85      1.85  273.917572   \n",
       "2015-08-08 06:40:00       1.85      1.85     1.85      1.85  273.917572   \n",
       "2015-08-08 06:50:00       1.71      1.71     1.71      1.71  274.155050   \n",
       "\n",
       "                       High_btc     Low_btc    Open_btc  \n",
       "Timestamp                                                \n",
       "2015-08-08 06:10:00  275.603572  273.947811  275.603572  \n",
       "2015-08-08 06:20:00  273.905543  273.626238  273.901814  \n",
       "2015-08-08 06:30:00  273.917572  273.917572  273.917572  \n",
       "2015-08-08 06:40:00  273.917572  273.917572  273.917572  \n",
       "2015-08-08 06:50:00  274.155050  274.155050  274.155050  "
      ]
     },
     "execution_count": 15,
     "metadata": {},
     "output_type": "execute_result"
    }
   ],
   "source": [
    "ticker_data.head()"
   ]
  },
  {
   "cell_type": "markdown",
   "metadata": {},
   "source": [
    "## Adding Sentiment information"
   ]
  },
  {
   "cell_type": "markdown",
   "metadata": {},
   "source": [
    "From the research it looked like sentiments from 4-2 days ago yielded the best results.\n",
    "* I need to consider different time intervals and how i will slide the data?"
   ]
  },
  {
   "cell_type": "code",
   "execution_count": null,
   "metadata": {},
   "outputs": [],
   "source": []
  },
  {
   "cell_type": "code",
   "execution_count": null,
   "metadata": {},
   "outputs": [],
   "source": []
  },
  {
   "cell_type": "code",
   "execution_count": null,
   "metadata": {},
   "outputs": [],
   "source": []
  },
  {
   "cell_type": "code",
   "execution_count": null,
   "metadata": {},
   "outputs": [],
   "source": []
  },
  {
   "cell_type": "markdown",
   "metadata": {},
   "source": [
    "## Construct Binary label to capture up or down movement beween days"
   ]
  },
  {
   "cell_type": "code",
   "execution_count": null,
   "metadata": {},
   "outputs": [],
   "source": []
  },
  {
   "cell_type": "code",
   "execution_count": null,
   "metadata": {},
   "outputs": [],
   "source": []
  },
  {
   "cell_type": "code",
   "execution_count": null,
   "metadata": {},
   "outputs": [],
   "source": []
  },
  {
   "cell_type": "code",
   "execution_count": null,
   "metadata": {},
   "outputs": [],
   "source": []
  },
  {
   "cell_type": "code",
   "execution_count": null,
   "metadata": {},
   "outputs": [],
   "source": []
  },
  {
   "cell_type": "code",
   "execution_count": null,
   "metadata": {},
   "outputs": [],
   "source": []
  },
  {
   "cell_type": "code",
   "execution_count": null,
   "metadata": {},
   "outputs": [],
   "source": []
  },
  {
   "cell_type": "code",
   "execution_count": null,
   "metadata": {},
   "outputs": [],
   "source": []
  },
  {
   "cell_type": "code",
   "execution_count": null,
   "metadata": {},
   "outputs": [],
   "source": []
  },
  {
   "cell_type": "code",
   "execution_count": null,
   "metadata": {},
   "outputs": [],
   "source": []
  },
  {
   "cell_type": "code",
   "execution_count": null,
   "metadata": {},
   "outputs": [],
   "source": []
  },
  {
   "cell_type": "markdown",
   "metadata": {},
   "source": [
    "# Construction of Features & Labels"
   ]
  },
  {
   "cell_type": "markdown",
   "metadata": {},
   "source": [
    "The ratio of features to labels will be 16. And 6 days worth of data needs to be read at a time. This is in line with the research on sentiment analysis. \n",
    "\n",
    "For example:\n",
    "* If the 5 minute intervals are used then the number of features need to be +- 1728 (8640 minutes) and the vector size of the label will be 108 (540 minutes or 9 hours)"
   ]
  },
  {
   "cell_type": "markdown",
   "metadata": {},
   "source": [
    "**Temporal Golden Rule 1:**\n",
    "* Temporal order must be preserved. Your features can not be further in time then your labels. "
   ]
  },
  {
   "cell_type": "markdown",
   "metadata": {},
   "source": [
    "**NOTE** the above should be doubled as the btc and eth values will be in the input layer"
   ]
  },
  {
   "cell_type": "code",
   "execution_count": 16,
   "metadata": {
    "ExecuteTime": {
     "end_time": "2018-07-10T16:36:30.151459Z",
     "start_time": "2018-07-10T16:36:30.144139Z"
    }
   },
   "outputs": [
    {
     "name": "stdout",
     "output_type": "stream",
     "text": [
      "Number of days feature vector will cover: 6\n",
      "Data Point Window Size: 5 minutes\n",
      "Size of feature vector: 1728.0\n",
      "\n",
      "Number of minutes output vector will cover: 540.0\n",
      "Number of hours output vector will cover: 9.0\n",
      "Size of output vector: 108.0\n"
     ]
    }
   ],
   "source": [
    "data_point_window = 5\n",
    "days = 6\n",
    "feature_vector_size = 6*24*60/data_point_window\n",
    "output_vector_size = feature_vector_size/16\n",
    "\n",
    "output_vector_minutes_span = output_vector_size*5\n",
    "output_vector_hour_span = output_vector_minutes_span/60\n",
    "\n",
    "print(\"Number of days feature vector will cover: \" + str(days))\n",
    "print(\"Data Point Window Size: \" + str(data_point_window) + \" minutes\")\n",
    "print(\"Size of feature vector: \" + str(feature_vector_size))\n",
    "print()\n",
    "print(\"Number of minutes output vector will cover: \" + str(output_vector_minutes_span))\n",
    "print(\"Number of hours output vector will cover: \" + str(output_vector_hour_span))\n",
    "print(\"Size of output vector: \" + str(output_vector_size))\n"
   ]
  },
  {
   "cell_type": "markdown",
   "metadata": {},
   "source": [
    "The following class was obtained from [the following blog](https://nicholastsmith.wordpress.com/2017/11/13/cryptocurrency-price-prediction-using-deep-learning-in-tensorflow/)"
   ]
  },
  {
   "cell_type": "code",
   "execution_count": 17,
   "metadata": {
    "ExecuteTime": {
     "end_time": "2018-07-10T16:36:32.380029Z",
     "start_time": "2018-07-10T16:36:32.374622Z"
    }
   },
   "outputs": [],
   "source": [
    "##QUESTION!!!!???? bias introduced in the label if there is overlap with the next training row?\n",
    "\n",
    "import numpy as np\n",
    "import pandas as pd\n",
    " \n",
    "class PastSampler:\n",
    "    '''\n",
    "    Forms training samples for predicting future values from past value\n",
    "    '''\n",
    "     \n",
    "    def __init__(self, N, K, sliding_window = True):\n",
    "        '''\n",
    "        Predict K future sample using N previous samples\n",
    "        '''\n",
    "        self.K = K\n",
    "        self.N = N\n",
    "        self.sliding_window = sliding_window\n",
    " \n",
    "    def transform(self, A):\n",
    "        M = self.N + self.K     #Number of samples per row (sample + target)\n",
    "        #indexes\n",
    "        if self.sliding_window:\n",
    "            I = np.arange(M) + np.arange(A.shape[0] - M + 1).reshape(-1, 1)\n",
    "        else:\n",
    "            if A.shape[0]%M == 0:\n",
    "                I = np.arange(M)+np.arange(0,A.shape[0],M).reshape(-1,1)\n",
    "                \n",
    "            else:\n",
    "                I = np.arange(M)+np.arange(0,A.shape[0] -M,M).reshape(-1,1)\n",
    "            \n",
    "        B = A[I].reshape(-1, M * A.shape[1], A.shape[2])\n",
    "        ci = self.N * A.shape[1]    #Number of features per sample\n",
    "        return B[:, :ci], B[:, ci:] #Sample matrix, Target matrix\n",
    "\n"
   ]
  },
  {
   "cell_type": "code",
   "execution_count": 47,
   "metadata": {
    "ExecuteTime": {
     "end_time": "2018-07-10T17:06:40.737707Z",
     "start_time": "2018-07-10T17:06:40.728672Z"
    }
   },
   "outputs": [],
   "source": [
    "from sklearn.preprocessing import MinMaxScaler\n",
    "scaler = MinMaxScaler()\n",
    "# normalization\n",
    "\n",
    "df = ticker_data.copy()\n",
    "time_stamps = df.index\n",
    "\n",
    "original_df = ticker_data.copy()\n",
    "\n",
    "columns = [\"Close_eth\",\"Close_btc\"]\n",
    "\n",
    "for c in columns:\n",
    "    df[c] = scaler.fit_transform(df[c].values.reshape(-1,1))\n",
    "\n",
    " \n"
   ]
  },
  {
   "cell_type": "code",
   "execution_count": 48,
   "metadata": {
    "ExecuteTime": {
     "end_time": "2018-07-10T17:06:47.070873Z",
     "start_time": "2018-07-10T17:06:43.999865Z"
    }
   },
   "outputs": [],
   "source": [
    "#Features are input sample dimensions(channels)\n",
    "A = np.array(df)[:,None,:]\n",
    "original_A = np.array(original_df)[:,None,:]\n",
    "time_stamps = np.array(time_stamps)[:,None,None]\n",
    "\n",
    "##Make samples of temporal sequences of pricing data (channel)\n",
    "#Number of past and future samples\n",
    "NPS, NFS = 256, 16         \n",
    "ps = PastSampler(NPS, NFS, sliding_window=True)\n",
    "\n",
    "X, Y = ps.transform(A)\n",
    "original_X, original_Y = ps.transform(original_A)\n",
    "\n",
    "input_times, output_times = ps.transform(time_stamps)"
   ]
  },
  {
   "cell_type": "code",
   "execution_count": 49,
   "metadata": {
    "ExecuteTime": {
     "end_time": "2018-07-10T17:06:48.658436Z",
     "start_time": "2018-07-10T17:06:48.654589Z"
    }
   },
   "outputs": [
    {
     "name": "stdout",
     "output_type": "stream",
     "text": [
      "Shape of original_A(150216, 1, 8)\n",
      "Shape of time_stamps(150216, 1, 1)\n",
      "Shape of original_X(149945, 256, 8)\n",
      "Shape of original_Y(149945, 16, 8)\n",
      "Shape of X(149945, 256, 8)\n",
      "Shape of Y(149945, 16, 8)\n"
     ]
    }
   ],
   "source": [
    "print(\"Shape of original_A\" + str(original_A.shape))\n",
    "print(\"Shape of time_stamps\" + str(time_stamps.shape))\n",
    "print(\"Shape of original_X\" + str(original_X.shape))\n",
    "print(\"Shape of original_Y\" + str(original_Y.shape))\n",
    "print(\"Shape of X\" + str(X.shape))\n",
    "print(\"Shape of Y\" + str(Y.shape))"
   ]
  },
  {
   "cell_type": "markdown",
   "metadata": {},
   "source": [
    "# Build CNN"
   ]
  },
  {
   "cell_type": "code",
   "execution_count": 59,
   "metadata": {
    "ExecuteTime": {
     "end_time": "2018-07-10T17:25:24.045812Z",
     "start_time": "2018-07-10T17:25:23.952232Z"
    }
   },
   "outputs": [],
   "source": [
    "# set sizes\n",
    "training_size = int(0.7* X.shape[0])\n",
    "remaining_size = X.shape[0] - training_size\n",
    "test_size = int(remaining_size/2)\n",
    "validation_size = int(remaining_size/2) \n",
    "\n",
    "\n",
    "#split training validation\n",
    "training_features = X[:training_size,:]\n",
    "training_labels = Y[:training_size,:]\n",
    "\n",
    "# test set\n",
    "#test_features = X[training_size:,:]\n",
    "#test_labels = Y[training_size:,:]\n",
    "\n",
    "# validation set\n",
    "#validation_features = X[training_size:,:]\n",
    "#validation_labels = Y[training_size:,:]\n"
   ]
  },
  {
   "cell_type": "code",
   "execution_count": null,
   "metadata": {},
   "outputs": [],
   "source": [
    "#build model\n",
    "from keras import Sequential\n",
    "from keras.layers import Conv1D, Dropout\n",
    "\n",
    "epochs = 100\n",
    "step_size = X.shape[1]\n",
    "batch_size= 8\n",
    "nb_features = X.shape[2]\n",
    "\n",
    "# 2 layers\n",
    "model = Sequential()\n",
    "\n",
    "model.add(Conv1D(activation='relu', input_shape=(step_size, nb_features), strides=3, filters=8, kernel_size=20))\n",
    "model.add(Dropout(0.5))\n",
    "model.add(Conv1D( strides=4, filters=nb_features, kernel_size=16))\n",
    "\n",
    "'''\n",
    "# 3 Layers\n",
    "model.add(Conv1D(activation='relu', input_shape=(step_size, nb_features), strides=3, filters=8, kernel_size=8))\n",
    "#model.add(LeakyReLU())\n",
    "model.add(Dropout(0.5))\n",
    "model.add(Conv1D(activation='relu', strides=2, filters=8, kernel_size=8))\n",
    "#model.add(LeakyReLU())\n",
    "model.add(Dropout(0.5))\n",
    "model.add(Conv1D( strides=2, filters=nb_features, kernel_size=8))\n",
    "# 4 layers\n",
    "model.add(Conv1D(activation='relu', input_shape=(step_size, nb_features), strides=2, filters=8, kernel_size=2))\n",
    "#model.add(LeakyReLU())\n",
    "model.add(Dropout(0.5))\n",
    "model.add(Conv1D(activation='relu', strides=2, filters=8, kernel_size=2))\n",
    "#model.add(LeakyReLU())\n",
    "model.add(Dropout(0.5))\n",
    "model.add(Conv1D(activation='relu', strides=2, filters=8, kernel_size=2))\n",
    "#model.add(LeakyReLU())\n",
    "model.add(Dropout(0.5))\n",
    "model.add(Conv1D( strides=2, filters=nb_features, kernel_size=2))\n",
    "'''\n",
    "model.compile(loss='mse', optimizer='adam')"
   ]
  },
  {
   "cell_type": "markdown",
   "metadata": {},
   "source": [
    "**Temporal Golden Rule 2:**\n",
    "* Temporal Training Order: It can not train and predict on future data and then train and predict on past data."
   ]
  },
  {
   "cell_type": "code",
   "execution_count": 62,
   "metadata": {
    "ExecuteTime": {
     "end_time": "2018-07-10T17:52:38.960246Z",
     "start_time": "2018-07-10T17:25:40.860680Z"
    }
   },
   "outputs": [
    {
     "name": "stdout",
     "output_type": "stream",
     "text": [
      "Train on 119956 samples, validate on 29989 samples\n",
      "Epoch 1/100\n",
      "119956/119956 [==============================] - 36s 297us/step - loss: 49453.1520 - val_loss: 412016.9226\n",
      "Epoch 2/100\n",
      "119956/119956 [==============================] - 34s 286us/step - loss: 44497.8249 - val_loss: 212639.2876\n",
      "Epoch 3/100\n",
      "119956/119956 [==============================] - 34s 285us/step - loss: 44506.5559 - val_loss: 202318.2441\n",
      "Epoch 4/100\n",
      "119956/119956 [==============================] - 34s 286us/step - loss: 44783.4140 - val_loss: 198101.7952\n",
      "Epoch 5/100\n",
      "119956/119956 [==============================] - 34s 284us/step - loss: 44005.0208 - val_loss: 191267.1722\n",
      "Epoch 6/100\n",
      "119956/119956 [==============================] - 34s 285us/step - loss: 43793.4009 - val_loss: 190396.8518\n",
      "Epoch 7/100\n",
      "119956/119956 [==============================] - 34s 285us/step - loss: 44107.7726 - val_loss: 302211.6299\n",
      "Epoch 8/100\n",
      "119956/119956 [==============================] - 34s 284us/step - loss: 43855.8569 - val_loss: 433719.3293\n",
      "Epoch 9/100\n",
      "119956/119956 [==============================] - 34s 285us/step - loss: 43727.4837 - val_loss: 189698.3127\n",
      "Epoch 10/100\n",
      "119956/119956 [==============================] - 34s 286us/step - loss: 43311.3083 - val_loss: 177332.8362\n",
      "Epoch 11/100\n",
      "119956/119956 [==============================] - 35s 292us/step - loss: 43477.0439 - val_loss: 186564.8645\n",
      "Epoch 12/100\n",
      "119956/119956 [==============================] - 38s 316us/step - loss: 42453.2262 - val_loss: 240725.1725\n",
      "Epoch 13/100\n",
      "119956/119956 [==============================] - 36s 301us/step - loss: 43312.6713 - val_loss: 398976.5223\n",
      "Epoch 14/100\n",
      "119956/119956 [==============================] - 34s 280us/step - loss: 43274.7651 - val_loss: 247352.5012\n",
      "Epoch 15/100\n",
      "119956/119956 [==============================] - 35s 293us/step - loss: 43166.6116 - val_loss: 322987.1917\n",
      "Epoch 16/100\n",
      "119956/119956 [==============================] - 33s 275us/step - loss: 42785.3819 - val_loss: 347000.6450\n",
      "Epoch 17/100\n",
      "119956/119956 [==============================] - 38s 313us/step - loss: 43173.0059 - val_loss: 220380.4418\n",
      "Epoch 18/100\n",
      "119956/119956 [==============================] - 31s 260us/step - loss: 43608.9036 - val_loss: 751305.2509\n",
      "Epoch 19/100\n",
      "119956/119956 [==============================] - 33s 272us/step - loss: 43396.0250 - val_loss: 213205.6189\n",
      "Epoch 20/100\n",
      "119956/119956 [==============================] - 31s 256us/step - loss: 42713.2690 - val_loss: 186033.2026\n",
      "Epoch 21/100\n",
      "119956/119956 [==============================] - 30s 253us/step - loss: 42911.8244 - val_loss: 186890.2716\n",
      "Epoch 22/100\n",
      "119956/119956 [==============================] - 30s 254us/step - loss: 42483.5386 - val_loss: 176436.0406\n",
      "Epoch 23/100\n",
      "119956/119956 [==============================] - 34s 287us/step - loss: 43082.1317 - val_loss: 214905.0332\n",
      "Epoch 24/100\n",
      "119956/119956 [==============================] - 34s 283us/step - loss: 42319.5834 - val_loss: 811466.8674\n",
      "Epoch 25/100\n",
      "119956/119956 [==============================] - 34s 284us/step - loss: 42801.9863 - val_loss: 330576.5276\n",
      "Epoch 26/100\n",
      "119956/119956 [==============================] - 35s 294us/step - loss: 42887.5047 - val_loss: 689750.8864\n",
      "Epoch 27/100\n",
      "119956/119956 [==============================] - 34s 287us/step - loss: 42328.9559 - val_loss: 225025.7072\n",
      "Epoch 28/100\n",
      "119956/119956 [==============================] - 33s 279us/step - loss: 42468.1205 - val_loss: 1406829.1994\n",
      "Epoch 29/100\n",
      "119956/119956 [==============================] - 33s 279us/step - loss: 42568.3636 - val_loss: 239582.4283\n",
      "Epoch 30/100\n",
      "119956/119956 [==============================] - 33s 278us/step - loss: 42524.2239 - val_loss: 795116.6693\n",
      "Epoch 31/100\n",
      "119956/119956 [==============================] - 32s 267us/step - loss: 43077.4799 - val_loss: 404959.9762\n",
      "Epoch 32/100\n",
      "119956/119956 [==============================] - 33s 271us/step - loss: 42039.6942 - val_loss: 212193.0435\n",
      "Epoch 33/100\n",
      "119956/119956 [==============================] - 37s 305us/step - loss: 42279.7545 - val_loss: 306858.0587\n",
      "Epoch 34/100\n",
      "119956/119956 [==============================] - 36s 296us/step - loss: 41974.6221 - val_loss: 297966.6521\n",
      "Epoch 35/100\n",
      "119956/119956 [==============================] - 36s 299us/step - loss: 42464.0105 - val_loss: 200956.2681\n",
      "Epoch 36/100\n",
      "119956/119956 [==============================] - 35s 292us/step - loss: 42799.0789 - val_loss: 235041.5060\n",
      "Epoch 37/100\n",
      "119956/119956 [==============================] - 34s 285us/step - loss: 42427.4647 - val_loss: 783706.6106\n",
      "Epoch 38/100\n",
      "119956/119956 [==============================] - 34s 285us/step - loss: 42486.4735 - val_loss: 466964.3563\n",
      "Epoch 39/100\n",
      "119956/119956 [==============================] - 34s 279us/step - loss: 42316.1665 - val_loss: 179504.3588\n",
      "Epoch 40/100\n",
      "119956/119956 [==============================] - 33s 279us/step - loss: 42375.9404 - val_loss: 225603.2867\n",
      "Epoch 41/100\n",
      "119956/119956 [==============================] - 34s 286us/step - loss: 41581.2529 - val_loss: 214913.3189\n",
      "Epoch 42/100\n",
      "119956/119956 [==============================] - 35s 295us/step - loss: 42166.3417 - val_loss: 187031.4395\n",
      "Epoch 43/100\n",
      "119956/119956 [==============================] - 35s 288us/step - loss: 42077.5535 - val_loss: 939898.0987\n",
      "Epoch 44/100\n",
      "119956/119956 [==============================] - 34s 284us/step - loss: 42213.8078 - val_loss: 743241.8055\n",
      "Epoch 45/100\n",
      "119956/119956 [==============================] - 35s 291us/step - loss: 41765.0303 - val_loss: 175080.4832\n",
      "Epoch 46/100\n",
      "119956/119956 [==============================] - 35s 294us/step - loss: 41247.1910 - val_loss: 221551.1213\n",
      "Epoch 47/100\n",
      "119956/119956 [==============================] - 35s 292us/step - loss: 41838.8407 - val_loss: 367624.7780\n",
      "Epoch 48/100\n",
      " 39632/119956 [========>.....................] - ETA: 23s - loss: 41353.3395"
     ]
    },
    {
     "ename": "KeyboardInterrupt",
     "evalue": "",
     "output_type": "error",
     "traceback": [
      "\u001b[0;31m---------------------------------------------------------------------------\u001b[0m",
      "\u001b[0;31mKeyboardInterrupt\u001b[0m                         Traceback (most recent call last)",
      "\u001b[0;32m<ipython-input-62-fc3cdf59cccf>\u001b[0m in \u001b[0;36m<module>\u001b[0;34m()\u001b[0m\n\u001b[1;32m      5\u001b[0m           validation_data=(validation_datas,\n\u001b[1;32m      6\u001b[0m                            validation_labels), \n\u001b[0;32m----> 7\u001b[0;31m           \u001b[0mepochs\u001b[0m \u001b[0;34m=\u001b[0m \u001b[0mepochs\u001b[0m\u001b[0;34m\u001b[0m\u001b[0m\n\u001b[0m\u001b[1;32m      8\u001b[0m \u001b[0;34m\u001b[0m\u001b[0m\n\u001b[1;32m      9\u001b[0m          )\n",
      "\u001b[0;32m~/miniconda3/envs/keras/lib/python3.6/site-packages/keras/engine/training.py\u001b[0m in \u001b[0;36mfit\u001b[0;34m(self, x, y, batch_size, epochs, verbose, callbacks, validation_split, validation_data, shuffle, class_weight, sample_weight, initial_epoch, steps_per_epoch, validation_steps, **kwargs)\u001b[0m\n\u001b[1;32m   1040\u001b[0m                                         \u001b[0minitial_epoch\u001b[0m\u001b[0;34m=\u001b[0m\u001b[0minitial_epoch\u001b[0m\u001b[0;34m,\u001b[0m\u001b[0;34m\u001b[0m\u001b[0m\n\u001b[1;32m   1041\u001b[0m                                         \u001b[0msteps_per_epoch\u001b[0m\u001b[0;34m=\u001b[0m\u001b[0msteps_per_epoch\u001b[0m\u001b[0;34m,\u001b[0m\u001b[0;34m\u001b[0m\u001b[0m\n\u001b[0;32m-> 1042\u001b[0;31m                                         validation_steps=validation_steps)\n\u001b[0m\u001b[1;32m   1043\u001b[0m \u001b[0;34m\u001b[0m\u001b[0m\n\u001b[1;32m   1044\u001b[0m     def evaluate(self, x=None, y=None,\n",
      "\u001b[0;32m~/miniconda3/envs/keras/lib/python3.6/site-packages/keras/engine/training_arrays.py\u001b[0m in \u001b[0;36mfit_loop\u001b[0;34m(model, f, ins, out_labels, batch_size, epochs, verbose, callbacks, val_f, val_ins, shuffle, callback_metrics, initial_epoch, steps_per_epoch, validation_steps)\u001b[0m\n\u001b[1;32m    197\u001b[0m                     \u001b[0mins_batch\u001b[0m\u001b[0;34m[\u001b[0m\u001b[0mi\u001b[0m\u001b[0;34m]\u001b[0m \u001b[0;34m=\u001b[0m \u001b[0mins_batch\u001b[0m\u001b[0;34m[\u001b[0m\u001b[0mi\u001b[0m\u001b[0;34m]\u001b[0m\u001b[0;34m.\u001b[0m\u001b[0mtoarray\u001b[0m\u001b[0;34m(\u001b[0m\u001b[0;34m)\u001b[0m\u001b[0;34m\u001b[0m\u001b[0m\n\u001b[1;32m    198\u001b[0m \u001b[0;34m\u001b[0m\u001b[0m\n\u001b[0;32m--> 199\u001b[0;31m                 \u001b[0mouts\u001b[0m \u001b[0;34m=\u001b[0m \u001b[0mf\u001b[0m\u001b[0;34m(\u001b[0m\u001b[0mins_batch\u001b[0m\u001b[0;34m)\u001b[0m\u001b[0;34m\u001b[0m\u001b[0m\n\u001b[0m\u001b[1;32m    200\u001b[0m                 \u001b[0;32mif\u001b[0m \u001b[0;32mnot\u001b[0m \u001b[0misinstance\u001b[0m\u001b[0;34m(\u001b[0m\u001b[0mouts\u001b[0m\u001b[0;34m,\u001b[0m \u001b[0mlist\u001b[0m\u001b[0;34m)\u001b[0m\u001b[0;34m:\u001b[0m\u001b[0;34m\u001b[0m\u001b[0m\n\u001b[1;32m    201\u001b[0m                     \u001b[0mouts\u001b[0m \u001b[0;34m=\u001b[0m \u001b[0;34m[\u001b[0m\u001b[0mouts\u001b[0m\u001b[0;34m]\u001b[0m\u001b[0;34m\u001b[0m\u001b[0m\n",
      "\u001b[0;32m~/miniconda3/envs/keras/lib/python3.6/site-packages/keras/backend/tensorflow_backend.py\u001b[0m in \u001b[0;36m__call__\u001b[0;34m(self, inputs)\u001b[0m\n\u001b[1;32m   2659\u001b[0m                 \u001b[0;32mreturn\u001b[0m \u001b[0mself\u001b[0m\u001b[0;34m.\u001b[0m\u001b[0m_legacy_call\u001b[0m\u001b[0;34m(\u001b[0m\u001b[0minputs\u001b[0m\u001b[0;34m)\u001b[0m\u001b[0;34m\u001b[0m\u001b[0m\n\u001b[1;32m   2660\u001b[0m \u001b[0;34m\u001b[0m\u001b[0m\n\u001b[0;32m-> 2661\u001b[0;31m             \u001b[0;32mreturn\u001b[0m \u001b[0mself\u001b[0m\u001b[0;34m.\u001b[0m\u001b[0m_call\u001b[0m\u001b[0;34m(\u001b[0m\u001b[0minputs\u001b[0m\u001b[0;34m)\u001b[0m\u001b[0;34m\u001b[0m\u001b[0m\n\u001b[0m\u001b[1;32m   2662\u001b[0m         \u001b[0;32melse\u001b[0m\u001b[0;34m:\u001b[0m\u001b[0;34m\u001b[0m\u001b[0m\n\u001b[1;32m   2663\u001b[0m             \u001b[0;32mif\u001b[0m \u001b[0mpy_any\u001b[0m\u001b[0;34m(\u001b[0m\u001b[0mis_tensor\u001b[0m\u001b[0;34m(\u001b[0m\u001b[0mx\u001b[0m\u001b[0;34m)\u001b[0m \u001b[0;32mfor\u001b[0m \u001b[0mx\u001b[0m \u001b[0;32min\u001b[0m \u001b[0minputs\u001b[0m\u001b[0;34m)\u001b[0m\u001b[0;34m:\u001b[0m\u001b[0;34m\u001b[0m\u001b[0m\n",
      "\u001b[0;32m~/miniconda3/envs/keras/lib/python3.6/site-packages/keras/backend/tensorflow_backend.py\u001b[0m in \u001b[0;36m_call\u001b[0;34m(self, inputs)\u001b[0m\n\u001b[1;32m   2629\u001b[0m                                 \u001b[0msymbol_vals\u001b[0m\u001b[0;34m,\u001b[0m\u001b[0;34m\u001b[0m\u001b[0m\n\u001b[1;32m   2630\u001b[0m                                 session)\n\u001b[0;32m-> 2631\u001b[0;31m         \u001b[0mfetched\u001b[0m \u001b[0;34m=\u001b[0m \u001b[0mself\u001b[0m\u001b[0;34m.\u001b[0m\u001b[0m_callable_fn\u001b[0m\u001b[0;34m(\u001b[0m\u001b[0;34m*\u001b[0m\u001b[0marray_vals\u001b[0m\u001b[0;34m)\u001b[0m\u001b[0;34m\u001b[0m\u001b[0m\n\u001b[0m\u001b[1;32m   2632\u001b[0m         \u001b[0;32mreturn\u001b[0m \u001b[0mfetched\u001b[0m\u001b[0;34m[\u001b[0m\u001b[0;34m:\u001b[0m\u001b[0mlen\u001b[0m\u001b[0;34m(\u001b[0m\u001b[0mself\u001b[0m\u001b[0;34m.\u001b[0m\u001b[0moutputs\u001b[0m\u001b[0;34m)\u001b[0m\u001b[0;34m]\u001b[0m\u001b[0;34m\u001b[0m\u001b[0m\n\u001b[1;32m   2633\u001b[0m \u001b[0;34m\u001b[0m\u001b[0m\n",
      "\u001b[0;32m~/miniconda3/envs/keras/lib/python3.6/site-packages/tensorflow/python/client/session.py\u001b[0m in \u001b[0;36m__call__\u001b[0;34m(self, *args)\u001b[0m\n\u001b[1;32m   1449\u001b[0m         \u001b[0;32mif\u001b[0m \u001b[0mself\u001b[0m\u001b[0;34m.\u001b[0m\u001b[0m_session\u001b[0m\u001b[0;34m.\u001b[0m\u001b[0m_created_with_new_api\u001b[0m\u001b[0;34m:\u001b[0m\u001b[0;34m\u001b[0m\u001b[0m\n\u001b[1;32m   1450\u001b[0m           return tf_session.TF_SessionRunCallable(\n\u001b[0;32m-> 1451\u001b[0;31m               self._session._session, self._handle, args, status, None)\n\u001b[0m\u001b[1;32m   1452\u001b[0m         \u001b[0;32melse\u001b[0m\u001b[0;34m:\u001b[0m\u001b[0;34m\u001b[0m\u001b[0m\n\u001b[1;32m   1453\u001b[0m           return tf_session.TF_DeprecatedSessionRunCallable(\n",
      "\u001b[0;31mKeyboardInterrupt\u001b[0m: "
     ]
    }
   ],
   "source": [
    "trained_model = model.fit(training_datas, \n",
    "          training_labels,\n",
    "          verbose=1, \n",
    "          batch_size=batch_size,\n",
    "          validation_data=(validation_datas,\n",
    "                           validation_labels), \n",
    "          epochs = epochs\n",
    "                    \n",
    "         )"
   ]
  },
  {
   "cell_type": "code",
   "execution_count": null,
   "metadata": {},
   "outputs": [],
   "source": []
  }
 ],
 "metadata": {
  "kernelspec": {
   "display_name": "keras-gpu",
   "language": "python",
   "name": "keras-gpu"
  },
  "language_info": {
   "codemirror_mode": {
    "name": "ipython",
    "version": 3
   },
   "file_extension": ".py",
   "mimetype": "text/x-python",
   "name": "python",
   "nbconvert_exporter": "python",
   "pygments_lexer": "ipython3",
   "version": "3.6.5"
  },
  "toc": {
   "base_numbering": 1,
   "nav_menu": {},
   "number_sections": true,
   "sideBar": true,
   "skip_h1_title": false,
   "title_cell": "Table of Contents",
   "title_sidebar": "Contents",
   "toc_cell": false,
   "toc_position": {
    "height": "calc(100% - 180px)",
    "left": "10px",
    "top": "150px",
    "width": "348px"
   },
   "toc_section_display": true,
   "toc_window_display": true
  }
 },
 "nbformat": 4,
 "nbformat_minor": 2
}
