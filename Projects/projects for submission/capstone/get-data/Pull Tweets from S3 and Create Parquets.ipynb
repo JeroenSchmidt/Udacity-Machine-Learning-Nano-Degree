{
 "cells": [
  {
   "cell_type": "markdown",
   "metadata": {},
   "source": [
    "# Pull S3"
   ]
  },
  {
   "cell_type": "code",
   "execution_count": null,
   "metadata": {},
   "outputs": [],
   "source": [
    "# mkdir ../data/tweets/ethereum/csv\n",
    "# mkdir ../data/tweets/bitcoin/csv"
   ]
  },
  {
   "cell_type": "code",
   "execution_count": null,
   "metadata": {},
   "outputs": [],
   "source": [
    "# ! aws s3 cp s3://jeroens-bucket/ethereum ../data/tweets/ethereum/csv --recursive --profile personal "
   ]
  },
  {
   "cell_type": "code",
   "execution_count": null,
   "metadata": {},
   "outputs": [],
   "source": [
    "# ! aws s3 cp s3://jeroens-bucket/bitcoin ../data/tweets/bitcoin/csv --recursive --profile personal "
   ]
  },
  {
   "cell_type": "markdown",
   "metadata": {},
   "source": [
    "# Spark it up!"
   ]
  },
  {
   "cell_type": "code",
   "execution_count": 1,
   "metadata": {
    "ExecuteTime": {
     "end_time": "2018-06-22T19:09:33.659359Z",
     "start_time": "2018-06-22T19:09:28.549113Z"
    }
   },
   "outputs": [],
   "source": [
    "from pyspark.sql import SparkSession\n",
    "spark = SparkSession.builder\\\n",
    "                        .master(\"local[8]\")\\\n",
    "                        .config('spark.executor.memory', '5g')\\\n",
    "                        .config('spark.driver.memory', '5g')\\\n",
    "                        .appName(\"Tweet wrangeling\")\\\n",
    "                        .config('spark.local.dir','~/.spark_tmp/')\\\n",
    "                        .getOrCreate()"
   ]
  },
  {
   "cell_type": "code",
   "execution_count": 2,
   "metadata": {
    "ExecuteTime": {
     "end_time": "2018-06-22T19:09:33.673181Z",
     "start_time": "2018-06-22T19:09:33.661019Z"
    }
   },
   "outputs": [
    {
     "data": {
      "text/html": [
       "\n",
       "            <div>\n",
       "                <p><b>SparkSession - in-memory</b></p>\n",
       "                \n",
       "        <div>\n",
       "            <p><b>SparkContext</b></p>\n",
       "\n",
       "            <p><a href=\"http://localhost:4040\">Spark UI</a></p>\n",
       "\n",
       "            <dl>\n",
       "              <dt>Version</dt>\n",
       "                <dd><code>v2.3.1</code></dd>\n",
       "              <dt>Master</dt>\n",
       "                <dd><code>local[8]</code></dd>\n",
       "              <dt>AppName</dt>\n",
       "                <dd><code>Tweet wrangeling</code></dd>\n",
       "            </dl>\n",
       "        </div>\n",
       "        \n",
       "            </div>\n",
       "        "
      ],
      "text/plain": [
       "<pyspark.sql.session.SparkSession at 0x7f907525ad68>"
      ]
     },
     "execution_count": 2,
     "metadata": {},
     "output_type": "execute_result"
    }
   ],
   "source": [
    "spark"
   ]
  },
  {
   "cell_type": "markdown",
   "metadata": {},
   "source": [
    "# CSV to Parquet"
   ]
  },
  {
   "cell_type": "markdown",
   "metadata": {},
   "source": [
    "## Eth Tweets"
   ]
  },
  {
   "cell_type": "code",
   "execution_count": 3,
   "metadata": {
    "ExecuteTime": {
     "end_time": "2018-06-20T05:36:08.403345Z",
     "start_time": "2018-06-20T05:36:08.400071Z"
    }
   },
   "outputs": [],
   "source": [
    "csv_eth_path_1 = \"../data/tweets/ethereum/csv/16-06-2018/\"\n",
    "csv_eth_path_2 = \"../data/tweets/ethereum/csv/17-06-2018/\"\n",
    "csv_eth_path_3 = \"../data/tweets/ethereum/csv/19-06-2018/\"\n",
    "\n",
    "parquet_eth_path = \"../data/tweets/ethereum/parquet/\""
   ]
  },
  {
   "cell_type": "code",
   "execution_count": 4,
   "metadata": {
    "ExecuteTime": {
     "end_time": "2018-06-20T05:36:52.799294Z",
     "start_time": "2018-06-20T05:36:42.310331Z"
    },
    "scrolled": false
   },
   "outputs": [],
   "source": [
    "eth_raw_1 = spark.read.csv(csv_eth_path_1,sep=\";\",header=True)\n",
    "eth_raw_2 = spark.read.csv(csv_eth_path_2,sep=\";\",header=True)\n",
    "eth_raw_3 = spark.read.csv(csv_eth_path_3,sep=\";\",header=True)"
   ]
  },
  {
   "cell_type": "code",
   "execution_count": 6,
   "metadata": {
    "ExecuteTime": {
     "end_time": "2018-06-20T05:36:57.771471Z",
     "start_time": "2018-06-20T05:36:57.737585Z"
    }
   },
   "outputs": [],
   "source": [
    "eth_raw = eth_raw_1.union(eth_raw_2)\\\n",
    "                    .union(eth_raw_3)\\\n",
    "                    .distinct()"
   ]
  },
  {
   "cell_type": "code",
   "execution_count": 7,
   "metadata": {
    "ExecuteTime": {
     "end_time": "2018-06-20T05:36:58.410148Z",
     "start_time": "2018-06-20T05:36:58.392228Z"
    }
   },
   "outputs": [],
   "source": [
    "from pyspark.sql.functions import col, to_timestamp"
   ]
  },
  {
   "cell_type": "code",
   "execution_count": 8,
   "metadata": {
    "ExecuteTime": {
     "end_time": "2018-06-20T05:36:58.785848Z",
     "start_time": "2018-06-20T05:36:58.598987Z"
    }
   },
   "outputs": [],
   "source": [
    "eth = eth_raw.select(\n",
    "    \"username\",\n",
    "    to_timestamp(\"date\").alias(\"datetime\"),\n",
    "    \"text\",\n",
    "    col(\"retweets\").cast(\"INT\"),\n",
    "    col(\"favorites\").cast(\"INT\"),\n",
    "    \"geo\",\n",
    "    \"mentions\",\n",
    "    \"hashtags\",\n",
    "    \"id\",\n",
    "    \"permalink\"\n",
    ")"
   ]
  },
  {
   "cell_type": "code",
   "execution_count": 9,
   "metadata": {
    "ExecuteTime": {
     "end_time": "2018-06-20T05:36:58.917771Z",
     "start_time": "2018-06-20T05:36:58.902460Z"
    }
   },
   "outputs": [
    {
     "name": "stdout",
     "output_type": "stream",
     "text": [
      "root\n",
      " |-- username: string (nullable = true)\n",
      " |-- date: string (nullable = true)\n",
      " |-- retweets: string (nullable = true)\n",
      " |-- favorites: string (nullable = true)\n",
      " |-- text: string (nullable = true)\n",
      " |-- geo: string (nullable = true)\n",
      " |-- mentions: string (nullable = true)\n",
      " |-- hashtags: string (nullable = true)\n",
      " |-- id: string (nullable = true)\n",
      " |-- permalink: string (nullable = true)\n",
      "\n"
     ]
    }
   ],
   "source": [
    "eth_raw.printSchema()"
   ]
  },
  {
   "cell_type": "code",
   "execution_count": 10,
   "metadata": {
    "ExecuteTime": {
     "end_time": "2018-06-20T05:36:59.163249Z",
     "start_time": "2018-06-20T05:36:59.157408Z"
    }
   },
   "outputs": [
    {
     "name": "stdout",
     "output_type": "stream",
     "text": [
      "root\n",
      " |-- username: string (nullable = true)\n",
      " |-- datetime: timestamp (nullable = true)\n",
      " |-- text: string (nullable = true)\n",
      " |-- retweets: integer (nullable = true)\n",
      " |-- favorites: integer (nullable = true)\n",
      " |-- geo: string (nullable = true)\n",
      " |-- mentions: string (nullable = true)\n",
      " |-- hashtags: string (nullable = true)\n",
      " |-- id: string (nullable = true)\n",
      " |-- permalink: string (nullable = true)\n",
      "\n"
     ]
    }
   ],
   "source": [
    "eth.printSchema()"
   ]
  },
  {
   "cell_type": "code",
   "execution_count": 11,
   "metadata": {
    "ExecuteTime": {
     "end_time": "2018-06-20T05:37:43.307023Z",
     "start_time": "2018-06-20T05:36:59.768026Z"
    }
   },
   "outputs": [],
   "source": [
    "eth.write.mode(\"overwrite\").parquet(parquet_eth_path)"
   ]
  },
  {
   "cell_type": "markdown",
   "metadata": {},
   "source": [
    "## BTC Tweets"
   ]
  },
  {
   "cell_type": "code",
   "execution_count": 5,
   "metadata": {
    "ExecuteTime": {
     "end_time": "2018-06-22T19:10:18.345726Z",
     "start_time": "2018-06-22T19:10:18.337074Z"
    }
   },
   "outputs": [],
   "source": [
    "csv_btc_path_1 = \"../data/tweets/bitcoin/csv/16-06-2018/\"\n",
    "csv_btc_path_2 = \"../data/tweets/bitcoin/csv/18-06-2018/\"\n",
    "csv_btc_path_3 = \"../data/tweets/bitcoin/csv/20-06-2018/\"\n",
    "csv_btc_path_4 = \"../data/tweets/bitcoin/csv/22-06-2018/\"\n",
    "\n",
    "\n",
    "parquet_btc_path = \"../data/tweets/bitcoin/parquet/16-06-2018/\"\n"
   ]
  },
  {
   "cell_type": "code",
   "execution_count": 6,
   "metadata": {
    "ExecuteTime": {
     "end_time": "2018-06-22T19:10:24.339062Z",
     "start_time": "2018-06-22T19:10:18.505529Z"
    },
    "scrolled": false
   },
   "outputs": [],
   "source": [
    "btc_raw_1 = spark.read.csv(csv_btc_path_1,sep=\";\",header=True)\n",
    "btc_raw_2 = spark.read.csv(csv_btc_path_2,sep=\";\",header=True)\n",
    "btc_raw_3 = spark.read.csv(csv_btc_path_3,sep=\";\",header=True)\n",
    "btc_raw_4 = spark.read.csv(csv_btc_path_4,sep=\";\",header=True)"
   ]
  },
  {
   "cell_type": "code",
   "execution_count": 7,
   "metadata": {
    "ExecuteTime": {
     "end_time": "2018-06-22T19:10:24.379819Z",
     "start_time": "2018-06-22T19:10:24.340643Z"
    }
   },
   "outputs": [],
   "source": [
    "btc_raw = btc_raw_1\\\n",
    "                .union(btc_raw_2)\\\n",
    "                .union(btc_raw_3)\\\n",
    "                .union(btc_raw_4)\\\n",
    "                .distinct()"
   ]
  },
  {
   "cell_type": "code",
   "execution_count": 8,
   "metadata": {
    "ExecuteTime": {
     "end_time": "2018-06-22T19:10:24.389326Z",
     "start_time": "2018-06-22T19:10:24.382044Z"
    }
   },
   "outputs": [],
   "source": [
    "from pyspark.sql.functions import col, to_timestamp"
   ]
  },
  {
   "cell_type": "code",
   "execution_count": 9,
   "metadata": {
    "ExecuteTime": {
     "end_time": "2018-06-22T19:10:24.558305Z",
     "start_time": "2018-06-22T19:10:24.391071Z"
    }
   },
   "outputs": [],
   "source": [
    "btc = btc_raw.select(\n",
    "    \"username\",\n",
    "    to_timestamp(\"date\").alias(\"datetime\"),\n",
    "    \"text\",\n",
    "    col(\"retweets\").cast(\"INT\"),\n",
    "    col(\"favorites\").cast(\"INT\"),\n",
    "    \"geo\",\n",
    "    \"mentions\",\n",
    "    \"hashtags\",\n",
    "    \"id\",\n",
    "    \"permalink\"\n",
    ")"
   ]
  },
  {
   "cell_type": "code",
   "execution_count": 10,
   "metadata": {
    "ExecuteTime": {
     "end_time": "2018-06-22T19:10:24.568125Z",
     "start_time": "2018-06-22T19:10:24.560560Z"
    }
   },
   "outputs": [
    {
     "name": "stdout",
     "output_type": "stream",
     "text": [
      "root\n",
      " |-- username: string (nullable = true)\n",
      " |-- date: string (nullable = true)\n",
      " |-- retweets: string (nullable = true)\n",
      " |-- favorites: string (nullable = true)\n",
      " |-- text: string (nullable = true)\n",
      " |-- geo: string (nullable = true)\n",
      " |-- mentions: string (nullable = true)\n",
      " |-- hashtags: string (nullable = true)\n",
      " |-- id: string (nullable = true)\n",
      " |-- permalink: string (nullable = true)\n",
      "\n"
     ]
    }
   ],
   "source": [
    "btc_raw.printSchema()"
   ]
  },
  {
   "cell_type": "code",
   "execution_count": 11,
   "metadata": {
    "ExecuteTime": {
     "end_time": "2018-06-22T19:10:24.572701Z",
     "start_time": "2018-06-22T19:10:24.569849Z"
    }
   },
   "outputs": [
    {
     "name": "stdout",
     "output_type": "stream",
     "text": [
      "root\n",
      " |-- username: string (nullable = true)\n",
      " |-- datetime: timestamp (nullable = true)\n",
      " |-- text: string (nullable = true)\n",
      " |-- retweets: integer (nullable = true)\n",
      " |-- favorites: integer (nullable = true)\n",
      " |-- geo: string (nullable = true)\n",
      " |-- mentions: string (nullable = true)\n",
      " |-- hashtags: string (nullable = true)\n",
      " |-- id: string (nullable = true)\n",
      " |-- permalink: string (nullable = true)\n",
      "\n"
     ]
    }
   ],
   "source": [
    "btc.printSchema()"
   ]
  },
  {
   "cell_type": "code",
   "execution_count": 12,
   "metadata": {
    "ExecuteTime": {
     "end_time": "2018-06-22T19:13:03.494582Z",
     "start_time": "2018-06-22T19:10:24.575142Z"
    }
   },
   "outputs": [
    {
     "data": {
      "text/html": [
       "<div>\n",
       "<style scoped>\n",
       "    .dataframe tbody tr th:only-of-type {\n",
       "        vertical-align: middle;\n",
       "    }\n",
       "\n",
       "    .dataframe tbody tr th {\n",
       "        vertical-align: top;\n",
       "    }\n",
       "\n",
       "    .dataframe thead th {\n",
       "        text-align: right;\n",
       "    }\n",
       "</style>\n",
       "<table border=\"1\" class=\"dataframe\">\n",
       "  <thead>\n",
       "    <tr style=\"text-align: right;\">\n",
       "      <th></th>\n",
       "      <th>username</th>\n",
       "      <th>datetime</th>\n",
       "      <th>text</th>\n",
       "      <th>retweets</th>\n",
       "      <th>favorites</th>\n",
       "      <th>geo</th>\n",
       "      <th>mentions</th>\n",
       "      <th>hashtags</th>\n",
       "      <th>id</th>\n",
       "      <th>permalink</th>\n",
       "    </tr>\n",
       "  </thead>\n",
       "  <tbody>\n",
       "    <tr>\n",
       "      <th>0</th>\n",
       "      <td>charminedal</td>\n",
       "      <td>2018-05-26 23:52:00</td>\n",
       "      <td>Analyst Says Bitcoin May Drop to $5500 Before ...</td>\n",
       "      <td>0</td>\n",
       "      <td>0</td>\n",
       "      <td>None</td>\n",
       "      <td>None</td>\n",
       "      <td>None</td>\n",
       "      <td>1000525067426586624</td>\n",
       "      <td>https://twitter.com/charminedal/status/1000525...</td>\n",
       "    </tr>\n",
       "    <tr>\n",
       "      <th>1</th>\n",
       "      <td>GeraldineDuplat</td>\n",
       "      <td>2018-05-26 23:46:00</td>\n",
       "      <td>VIDEO: ¿Cómo funciona BITCOIN ? #Criptomonedas...</td>\n",
       "      <td>0</td>\n",
       "      <td>1</td>\n",
       "      <td>None</td>\n",
       "      <td>None</td>\n",
       "      <td>#Criptomonedas</td>\n",
       "      <td>1000523706312032258</td>\n",
       "      <td>https://twitter.com/GeraldineDuplat/status/100...</td>\n",
       "    </tr>\n",
       "    <tr>\n",
       "      <th>2</th>\n",
       "      <td>EffektivesB</td>\n",
       "      <td>2018-05-26 23:44:00</td>\n",
       "      <td>Woher hat der Bitcoin König seine Bitcoins ? W...</td>\n",
       "      <td>0</td>\n",
       "      <td>0</td>\n",
       "      <td>None</td>\n",
       "      <td>None</td>\n",
       "      <td>None</td>\n",
       "      <td>1000523096091217921</td>\n",
       "      <td>https://twitter.com/EffektivesB/status/1000523...</td>\n",
       "    </tr>\n",
       "    <tr>\n",
       "      <th>3</th>\n",
       "      <td>Crypto_Popo</td>\n",
       "      <td>2018-05-26 23:41:00</td>\n",
       "      <td>The New York Stock Exchange Has its Eyes on Tr...</td>\n",
       "      <td>0</td>\n",
       "      <td>0</td>\n",
       "      <td>None</td>\n",
       "      <td>None</td>\n",
       "      <td>#bitcoin #blockchain #ico #airdrop #crypto #et...</td>\n",
       "      <td>1000522393092321280</td>\n",
       "      <td>https://twitter.com/Crypto_Popo/status/1000522...</td>\n",
       "    </tr>\n",
       "    <tr>\n",
       "      <th>4</th>\n",
       "      <td>MiddleOfMayhem</td>\n",
       "      <td>2018-05-26 23:27:00</td>\n",
       "      <td>How would having Bitcoin immediately benefit me?</td>\n",
       "      <td>0</td>\n",
       "      <td>0</td>\n",
       "      <td>None</td>\n",
       "      <td>None</td>\n",
       "      <td>None</td>\n",
       "      <td>1000518930862133248</td>\n",
       "      <td>https://twitter.com/MiddleOfMayhem/status/1000...</td>\n",
       "    </tr>\n",
       "  </tbody>\n",
       "</table>\n",
       "</div>"
      ],
      "text/plain": [
       "          username            datetime  \\\n",
       "0      charminedal 2018-05-26 23:52:00   \n",
       "1  GeraldineDuplat 2018-05-26 23:46:00   \n",
       "2      EffektivesB 2018-05-26 23:44:00   \n",
       "3      Crypto_Popo 2018-05-26 23:41:00   \n",
       "4   MiddleOfMayhem 2018-05-26 23:27:00   \n",
       "\n",
       "                                                text  retweets  favorites  \\\n",
       "0  Analyst Says Bitcoin May Drop to $5500 Before ...         0          0   \n",
       "1  VIDEO: ¿Cómo funciona BITCOIN ? #Criptomonedas...         0          1   \n",
       "2  Woher hat der Bitcoin König seine Bitcoins ? W...         0          0   \n",
       "3  The New York Stock Exchange Has its Eyes on Tr...         0          0   \n",
       "4   How would having Bitcoin immediately benefit me?         0          0   \n",
       "\n",
       "    geo mentions                                           hashtags  \\\n",
       "0  None     None                                               None   \n",
       "1  None     None                                     #Criptomonedas   \n",
       "2  None     None                                               None   \n",
       "3  None     None  #bitcoin #blockchain #ico #airdrop #crypto #et...   \n",
       "4  None     None                                               None   \n",
       "\n",
       "                    id                                          permalink  \n",
       "0  1000525067426586624  https://twitter.com/charminedal/status/1000525...  \n",
       "1  1000523706312032258  https://twitter.com/GeraldineDuplat/status/100...  \n",
       "2  1000523096091217921  https://twitter.com/EffektivesB/status/1000523...  \n",
       "3  1000522393092321280  https://twitter.com/Crypto_Popo/status/1000522...  \n",
       "4  1000518930862133248  https://twitter.com/MiddleOfMayhem/status/1000...  "
      ]
     },
     "execution_count": 12,
     "metadata": {},
     "output_type": "execute_result"
    }
   ],
   "source": [
    "btc.limit(5).toPandas()"
   ]
  },
  {
   "cell_type": "code",
   "execution_count": 13,
   "metadata": {
    "ExecuteTime": {
     "end_time": "2018-06-22T19:16:14.389256Z",
     "start_time": "2018-06-22T19:13:03.496237Z"
    }
   },
   "outputs": [
    {
     "data": {
      "text/plain": [
       "26208300"
      ]
     },
     "execution_count": 13,
     "metadata": {},
     "output_type": "execute_result"
    }
   ],
   "source": [
    "btc.count()"
   ]
  },
  {
   "cell_type": "code",
   "execution_count": 14,
   "metadata": {
    "ExecuteTime": {
     "end_time": "2018-06-22T19:20:18.838540Z",
     "start_time": "2018-06-22T19:16:14.391543Z"
    }
   },
   "outputs": [],
   "source": [
    "btc.write.mode(\"overwrite\").parquet(parquet_btc_path)"
   ]
  },
  {
   "cell_type": "code",
   "execution_count": null,
   "metadata": {},
   "outputs": [],
   "source": []
  }
 ],
 "metadata": {
  "kernelspec": {
   "display_name": "pyspark2.3.0",
   "language": "python",
   "name": "pyspark2.3.0"
  },
  "language_info": {
   "codemirror_mode": {
    "name": "ipython",
    "version": 3
   },
   "file_extension": ".py",
   "mimetype": "text/x-python",
   "name": "python",
   "nbconvert_exporter": "python",
   "pygments_lexer": "ipython3",
   "version": "3.6.5"
  },
  "toc": {
   "base_numbering": 1,
   "nav_menu": {},
   "number_sections": true,
   "sideBar": true,
   "skip_h1_title": false,
   "title_cell": "Table of Contents",
   "title_sidebar": "Contents",
   "toc_cell": false,
   "toc_position": {
    "height": "calc(100% - 180px)",
    "left": "10px",
    "top": "150px",
    "width": "168px"
   },
   "toc_section_display": true,
   "toc_window_display": true
  }
 },
 "nbformat": 4,
 "nbformat_minor": 2
}
