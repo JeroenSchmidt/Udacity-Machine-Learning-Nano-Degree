{
 "cells": [
  {
   "cell_type": "code",
   "execution_count": 1,
   "metadata": {},
   "outputs": [],
   "source": [
    "import boto"
   ]
  },
  {
   "cell_type": "markdown",
   "metadata": {},
   "source": [
    "# s3"
   ]
  },
  {
   "cell_type": "code",
   "execution_count": 30,
   "metadata": {},
   "outputs": [
    {
     "name": "stdout",
     "output_type": "stream",
     "text": [
      "Uploading /home/jeroens/personal-repos/Udacity-Machine-Learning-Nano-Degree/Projects/projects for submission/capstone/test-folder/test.txt to Amazon S3 bucket jeroens-bucket\n",
      "singlepart upload\n",
      ".."
     ]
    }
   ],
   "source": [
    "\n",
    "import boto\n",
    "import boto.s3\n",
    "\n",
    "import os.path\n",
    "import sys\n",
    "\n",
    "\n",
    "\n",
    "# Fill these in - you get them when you sign up for S3\n",
    "#AWS_ACCESS_KEY_ID = ''\n",
    "#AWS_ACCESS_KEY_SECRET = ''\n",
    "# Fill in info on data to upload\n",
    "# destination bucket name\n",
    "\n",
    "def move_to_s3(path=\"etherium/\"):\n",
    "    bucket_name = 'jeroens-bucket'\n",
    "    \n",
    "    # source directory\n",
    "    sourceDir = path\n",
    "    # destination directory name (on s3)\n",
    "    destDir = ''\n",
    "\n",
    "    #max size in bytes before uploading in parts. between 1 and 5 GB recommended\n",
    "    MAX_SIZE = 20 * 1000 * 1000\n",
    "    #size of parts when uploading in parts\n",
    "    PART_SIZE = 6 * 1000 * 1000\n",
    "\n",
    "    conn = boto.connect_s3()\n",
    "\n",
    "    bucket = conn.get_bucket(bucket_name)\n",
    "\n",
    "    uploadFileNames = []\n",
    "    for (sourceDir, dirname, filename) in os.walk(sourceDir):\n",
    "        uploadFileNames.extend(filename)\n",
    "        break\n",
    "\n",
    "    def percent_cb(complete, total):\n",
    "        sys.stdout.write('.')\n",
    "        sys.stdout.flush()\n",
    "\n",
    "    for filename in uploadFileNames:\n",
    "        sourcepath = os.path.join(sourceDir + filename)\n",
    "        destpath = os.path.join(destDir, filename)\n",
    "        print 'Uploading %s to Amazon S3 bucket %s' % \\\n",
    "               (sourcepath, bucket_name)\n",
    "\n",
    "        filesize = os.path.getsize(sourcepath)\n",
    "        if filesize > MAX_SIZE:\n",
    "            print \"multipart upload\"\n",
    "            mp = bucket.initiate_multipart_upload(destpath)\n",
    "            fp = open(sourcepath,'rb')\n",
    "            fp_num = 0\n",
    "            while (fp.tell() < filesize):\n",
    "                fp_num += 1\n",
    "                print \"uploading part %i\" %fp_num\n",
    "                mp.upload_part_from_file(fp, fp_num, cb=percent_cb, num_cb=10, size=PART_SIZE)\n",
    "\n",
    "            mp.complete_upload()\n",
    "\n",
    "        else:\n",
    "            print \"singlepart upload\"\n",
    "            k = boto.s3.key.Key(bucket)\n",
    "            k.key = destpath\n",
    "            k.set_contents_from_filename(sourcepath,\n",
    "                    cb=percent_cb, num_cb=10)\n"
   ]
  },
  {
   "cell_type": "code",
   "execution_count": null,
   "metadata": {},
   "outputs": [],
   "source": []
  },
  {
   "cell_type": "code",
   "execution_count": null,
   "metadata": {},
   "outputs": [],
   "source": []
  },
  {
   "cell_type": "code",
   "execution_count": 14,
   "metadata": {},
   "outputs": [],
   "source": [
    "my_bucket = boto.connect_s3()\n",
    "#my_bucket = s3.Bucket('jeroens-bucket')"
   ]
  },
  {
   "cell_type": "code",
   "execution_count": 29,
   "metadata": {},
   "outputs": [],
   "source": [
    "path = \"/home/jeroens/personal-repos/Udacity-Machine-Learning-Nano-Degree/Projects/projects for submission/capstone/test-folder/\""
   ]
  },
  {
   "cell_type": "code",
   "execution_count": null,
   "metadata": {},
   "outputs": [],
   "source": [
    "def sync_to_s3(target_dir, aws_region=AWS_REGION, bucket_name=BUCKET_NAME):\n",
    "    if not os.path.isdir(target_dir):\n",
    "        raise ValueError('target_dir %r not found.' % target_dir)\n",
    "\n",
    "    s3 = boto3.resource('s3', region_name=aws_region)\n",
    "    try:\n",
    "        s3.create_bucket(Bucket=bucket_name,\n",
    "                         CreateBucketConfiguration={'LocationConstraint': aws_region})\n",
    "    except ClientError:\n",
    "        pass\n",
    "\n",
    "    for filename in os.listdir(target_dir):\n",
    "        logger.warn('Uploading %s to Amazon S3 bucket %s' % (filename, bucket_name))\n",
    "        s3.Object(bucket_name, filename).put(Body=open(os.path.join(target_dir, filename), 'rb'))\n",
    "\n",
    "        logger.info('File uploaded to https://s3.%s.amazonaws.com/%s/%s' % (\n",
    "            aws_region, bucket_name, filename))"
   ]
  },
  {
   "cell_type": "code",
   "execution_count": 27,
   "metadata": {},
   "outputs": [
    {
     "ename": "IOError",
     "evalue": "[Errno 21] Is a directory: '/home/jeroens/personal-repos/Udacity-Machine-Learning-Nano-Degree/Projects/projects for submission/capstone/test-folder'",
     "output_type": "error",
     "traceback": [
      "\u001b[0;31m---------------------------------------------------------------------------\u001b[0m",
      "\u001b[0;31mIOError\u001b[0m                                   Traceback (most recent call last)",
      "\u001b[0;32m<ipython-input-27-97e980cd45ac>\u001b[0m in \u001b[0;36m<module>\u001b[0;34m()\u001b[0m\n\u001b[1;32m      9\u001b[0m \u001b[0mkey\u001b[0m \u001b[0;34m=\u001b[0m \u001b[0mKey\u001b[0m\u001b[0;34m(\u001b[0m\u001b[0mbucket\u001b[0m\u001b[0;34m)\u001b[0m\u001b[0;34m\u001b[0m\u001b[0m\n\u001b[1;32m     10\u001b[0m \u001b[0mkey\u001b[0m\u001b[0;34m.\u001b[0m\u001b[0mname\u001b[0m \u001b[0;34m=\u001b[0m \u001b[0;34m'test2.txt'\u001b[0m\u001b[0;34m\u001b[0m\u001b[0m\n\u001b[0;32m---> 11\u001b[0;31m \u001b[0mkey\u001b[0m\u001b[0;34m.\u001b[0m\u001b[0mset_contents_from_filename\u001b[0m\u001b[0;34m(\u001b[0m\u001b[0mfilepath\u001b[0m\u001b[0;34m)\u001b[0m\u001b[0;34m\u001b[0m\u001b[0m\n\u001b[0m",
      "\u001b[0;32m/home/jeroens/miniconda3/envs/python2-get-tweets/lib/python2.7/site-packages/boto/s3/key.pyc\u001b[0m in \u001b[0;36mset_contents_from_filename\u001b[0;34m(self, filename, headers, replace, cb, num_cb, policy, md5, reduced_redundancy, encrypt_key)\u001b[0m\n\u001b[1;32m   1368\u001b[0m         \u001b[0;34m:\u001b[0m\u001b[0;32mreturn\u001b[0m\u001b[0;34m:\u001b[0m \u001b[0mThe\u001b[0m \u001b[0mnumber\u001b[0m \u001b[0mof\u001b[0m \u001b[0mbytes\u001b[0m \u001b[0mwritten\u001b[0m \u001b[0mto\u001b[0m \u001b[0mthe\u001b[0m \u001b[0mkey\u001b[0m\u001b[0;34m.\u001b[0m\u001b[0;34m\u001b[0m\u001b[0m\n\u001b[1;32m   1369\u001b[0m         \"\"\"\n\u001b[0;32m-> 1370\u001b[0;31m         \u001b[0;32mwith\u001b[0m \u001b[0mopen\u001b[0m\u001b[0;34m(\u001b[0m\u001b[0mfilename\u001b[0m\u001b[0;34m,\u001b[0m \u001b[0;34m'rb'\u001b[0m\u001b[0;34m)\u001b[0m \u001b[0;32mas\u001b[0m \u001b[0mfp\u001b[0m\u001b[0;34m:\u001b[0m\u001b[0;34m\u001b[0m\u001b[0m\n\u001b[0m\u001b[1;32m   1371\u001b[0m             return self.set_contents_from_file(fp, headers, replace, cb,\n\u001b[1;32m   1372\u001b[0m                                                \u001b[0mnum_cb\u001b[0m\u001b[0;34m,\u001b[0m \u001b[0mpolicy\u001b[0m\u001b[0;34m,\u001b[0m \u001b[0mmd5\u001b[0m\u001b[0;34m,\u001b[0m\u001b[0;34m\u001b[0m\u001b[0m\n",
      "\u001b[0;31mIOError\u001b[0m: [Errno 21] Is a directory: '/home/jeroens/personal-repos/Udacity-Machine-Learning-Nano-Degree/Projects/projects for submission/capstone/test-folder'"
     ]
    }
   ],
   "source": [
    "import boto\n",
    "\n",
    "from boto.s3.key import Key\n",
    "\n",
    "BUCKET = 'jeroens-bucket'\n",
    "filepath = path\n",
    "conn = boto.connect_s3()\n",
    "bucket = conn.lookup(BUCKET)\n",
    "key = Key(bucket)\n",
    "key.name = 'test2.txt'\n",
    "key.set_contents_from_filename(filepath)"
   ]
  },
  {
   "cell_type": "code",
   "execution_count": 19,
   "metadata": {},
   "outputs": [
    {
     "name": "stdout",
     "output_type": "stream",
     "text": [
      "/home/jeroens/personal-repos/Udacity-Machine-Learning-Nano-Degree/Projects/projects for submission/capstone\r\n"
     ]
    }
   ],
   "source": [
    "! pwd"
   ]
  },
  {
   "cell_type": "code",
   "execution_count": null,
   "metadata": {},
   "outputs": [],
   "source": []
  },
  {
   "cell_type": "code",
   "execution_count": 9,
   "metadata": {},
   "outputs": [
    {
     "data": {
      "text/plain": [
       "{'ResponseMetadata': {'RequestId': 'FB203EA2FA1FA552',\n",
       "  'HostId': 'hWywDfIEJ3RXPEAE7JpBTJ3//FMB7aFbo60N1LVZTo3YrcoHpGl7UoqciBJfZf55exL0iLrJOD4=',\n",
       "  'HTTPStatusCode': 200,\n",
       "  'HTTPHeaders': {'x-amz-id-2': 'hWywDfIEJ3RXPEAE7JpBTJ3//FMB7aFbo60N1LVZTo3YrcoHpGl7UoqciBJfZf55exL0iLrJOD4=',\n",
       "   'x-amz-request-id': 'FB203EA2FA1FA552',\n",
       "   'date': 'Sun, 03 Jun 2018 18:01:35 GMT',\n",
       "   'etag': '\"4d1f1e21e8d030b31b27ea7dd258a394\"',\n",
       "   'content-length': '0',\n",
       "   'server': 'AmazonS3'},\n",
       "  'RetryAttempts': 0},\n",
       " 'ETag': '\"4d1f1e21e8d030b31b27ea7dd258a394\"'}"
      ]
     },
     "execution_count": 9,
     "metadata": {},
     "output_type": "execute_result"
    }
   ],
   "source": [
    "s3.Object('jeroens-bucket', 'test.txt').put(Body=open('test.txt', 'rb'))"
   ]
  },
  {
   "cell_type": "code",
   "execution_count": null,
   "metadata": {},
   "outputs": [],
   "source": []
  },
  {
   "cell_type": "code",
   "execution_count": null,
   "metadata": {},
   "outputs": [],
   "source": []
  },
  {
   "cell_type": "code",
   "execution_count": null,
   "metadata": {},
   "outputs": [],
   "source": []
  },
  {
   "cell_type": "code",
   "execution_count": 4,
   "metadata": {},
   "outputs": [],
   "source": [
    "ec2 = boto3.client('ec2')"
   ]
  },
  {
   "cell_type": "code",
   "execution_count": null,
   "metadata": {},
   "outputs": [],
   "source": [
    "ec2.create_instances(ImageId='<ami-image-id>', MinCount=1, MaxCount=5)"
   ]
  },
  {
   "cell_type": "code",
   "execution_count": null,
   "metadata": {},
   "outputs": [],
   "source": []
  },
  {
   "cell_type": "code",
   "execution_count": null,
   "metadata": {},
   "outputs": [],
   "source": []
  },
  {
   "cell_type": "code",
   "execution_count": null,
   "metadata": {},
   "outputs": [],
   "source": []
  },
  {
   "cell_type": "code",
   "execution_count": 3,
   "metadata": {},
   "outputs": [
    {
     "ename": "ValueError",
     "evalue": "somthing",
     "output_type": "error",
     "traceback": [
      "\u001b[0;31m---------------------------------------------------------------------------\u001b[0m",
      "\u001b[0;31mValueError\u001b[0m                                Traceback (most recent call last)",
      "\u001b[0;32m<ipython-input-3-deaa3040bf1d>\u001b[0m in \u001b[0;36m<module>\u001b[0;34m()\u001b[0m\n\u001b[0;32m----> 1\u001b[0;31m \u001b[0;32mraise\u001b[0m \u001b[0mValueError\u001b[0m\u001b[0;34m(\u001b[0m\u001b[0;34m\"somthing\"\u001b[0m\u001b[0;34m)\u001b[0m\u001b[0;34m\u001b[0m\u001b[0m\n\u001b[0m\u001b[1;32m      2\u001b[0m \u001b[0;32mprint\u001b[0m\u001b[0;34m(\u001b[0m\u001b[0;36m2\u001b[0m\u001b[0;34m)\u001b[0m\u001b[0;34m\u001b[0m\u001b[0m\n",
      "\u001b[0;31mValueError\u001b[0m: somthing"
     ]
    }
   ],
   "source": [
    "raise ValueError(\"somthing\")\n",
    "print(2)"
   ]
  },
  {
   "cell_type": "code",
   "execution_count": null,
   "metadata": {},
   "outputs": [],
   "source": []
  }
 ],
 "metadata": {
  "kernelspec": {
   "display_name": "Get Tweets py2",
   "language": "python",
   "name": "py2-get-tweets"
  },
  "language_info": {
   "codemirror_mode": {
    "name": "ipython",
    "version": 2
   },
   "file_extension": ".py",
   "mimetype": "text/x-python",
   "name": "python",
   "nbconvert_exporter": "python",
   "pygments_lexer": "ipython2",
   "version": "2.7.15"
  }
 },
 "nbformat": 4,
 "nbformat_minor": 2
}
