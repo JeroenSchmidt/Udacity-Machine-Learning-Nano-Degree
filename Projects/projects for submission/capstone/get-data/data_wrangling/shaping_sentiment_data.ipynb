{
 "cells": [
  {
   "cell_type": "markdown",
   "metadata": {},
   "source": [
    "# Spark Setup"
   ]
  },
  {
   "cell_type": "code",
   "execution_count": 2,
   "metadata": {
    "ExecuteTime": {
     "end_time": "2018-09-16T22:40:15.388245Z",
     "start_time": "2018-09-16T22:40:15.269246Z"
    }
   },
   "outputs": [],
   "source": [
    "from pyspark.sql import SparkSession\n",
    "from pyspark.sql.functions import udf, desc\n",
    "from pyspark.sql.types import ArrayType, StringType, MapType, FloatType"
   ]
  },
  {
   "cell_type": "code",
   "execution_count": 3,
   "metadata": {
    "ExecuteTime": {
     "end_time": "2018-09-16T22:40:19.785736Z",
     "start_time": "2018-09-16T22:40:15.419247Z"
    },
    "scrolled": true
   },
   "outputs": [
    {
     "data": {
      "text/html": [
       "\n",
       "            <div>\n",
       "                <p><b>SparkSession - in-memory</b></p>\n",
       "                \n",
       "        <div>\n",
       "            <p><b>SparkContext</b></p>\n",
       "\n",
       "            <p><a href=\"http://192.168.0.100:4040\">Spark UI</a></p>\n",
       "\n",
       "            <dl>\n",
       "              <dt>Version</dt>\n",
       "                <dd><code>v2.3.1</code></dd>\n",
       "              <dt>Master</dt>\n",
       "                <dd><code>local[*]</code></dd>\n",
       "              <dt>AppName</dt>\n",
       "                <dd><code>Sentiment Analysis</code></dd>\n",
       "            </dl>\n",
       "        </div>\n",
       "        \n",
       "            </div>\n",
       "        "
      ],
      "text/plain": [
       "<pyspark.sql.session.SparkSession at 0x7fa1d90c8cc0>"
      ]
     },
     "execution_count": 3,
     "metadata": {},
     "output_type": "execute_result"
    }
   ],
   "source": [
    "spark = SparkSession.builder\\\n",
    "                        .master(\"local[*]\")\\\n",
    "                        .config('spark.executor.memory', '5g')\\\n",
    "                        .config('spark.driver.memory', '5g')\\\n",
    "                        .config(\"spark.sql.session.timeZone\", \"UTC\")\\\n",
    "                        .config(\"spark.sql.execution.arrow.enabled\",\"true\")\\\n",
    "                    .appName(\"Sentiment Analysis\")\\\n",
    "                    .getOrCreate()\n",
    "spark"
   ]
  },
  {
   "cell_type": "code",
   "execution_count": 4,
   "metadata": {
    "ExecuteTime": {
     "end_time": "2018-09-16T22:40:19.793745Z",
     "start_time": "2018-09-16T22:40:19.788031Z"
    }
   },
   "outputs": [
    {
     "data": {
      "text/html": [
       "\n",
       "            <div>\n",
       "                <p><b>SparkSession - in-memory</b></p>\n",
       "                \n",
       "        <div>\n",
       "            <p><b>SparkContext</b></p>\n",
       "\n",
       "            <p><a href=\"http://192.168.0.100:4040\">Spark UI</a></p>\n",
       "\n",
       "            <dl>\n",
       "              <dt>Version</dt>\n",
       "                <dd><code>v2.3.1</code></dd>\n",
       "              <dt>Master</dt>\n",
       "                <dd><code>local[*]</code></dd>\n",
       "              <dt>AppName</dt>\n",
       "                <dd><code>Sentiment Analysis</code></dd>\n",
       "            </dl>\n",
       "        </div>\n",
       "        \n",
       "            </div>\n",
       "        "
      ],
      "text/plain": [
       "<pyspark.sql.session.SparkSession at 0x7fa1d90c8cc0>"
      ]
     },
     "execution_count": 4,
     "metadata": {},
     "output_type": "execute_result"
    }
   ],
   "source": [
    "spark"
   ]
  },
  {
   "cell_type": "markdown",
   "metadata": {},
   "source": [
    "# Twitter Sentiments"
   ]
  },
  {
   "cell_type": "code",
   "execution_count": 4,
   "metadata": {
    "ExecuteTime": {
     "end_time": "2018-09-16T22:27:08.784374Z",
     "start_time": "2018-09-16T22:27:05.436070Z"
    }
   },
   "outputs": [],
   "source": [
    "from pyspark.sql.functions import col, concat, lit, date_format, desc, asc\n",
    "\n",
    "\n",
    "parquet_eth_path = \"../../data/tweets/ethereum/parquet/sentiment/\"\n",
    "eth = spark.read.parquet(parquet_eth_path)"
   ]
  },
  {
   "cell_type": "code",
   "execution_count": 5,
   "metadata": {
    "ExecuteTime": {
     "end_time": "2018-09-16T22:27:08.794400Z",
     "start_time": "2018-09-16T22:27:08.787459Z"
    }
   },
   "outputs": [],
   "source": [
    "from pyspark.sql.functions import col, concat, lit, date_format, desc, asc, min, max\n"
   ]
  },
  {
   "cell_type": "code",
   "execution_count": 6,
   "metadata": {
    "ExecuteTime": {
     "end_time": "2018-09-16T22:27:08.981497Z",
     "start_time": "2018-09-16T22:27:08.797450Z"
    }
   },
   "outputs": [],
   "source": [
    "parquet_eth_path = \"../../data/tweets/bitcoin/parquet/sentiment/\"\n",
    "btc = spark.read.parquet(parquet_eth_path)"
   ]
  },
  {
   "cell_type": "code",
   "execution_count": 7,
   "metadata": {
    "ExecuteTime": {
     "end_time": "2018-09-16T22:27:09.438519Z",
     "start_time": "2018-09-16T22:27:08.984797Z"
    }
   },
   "outputs": [],
   "source": [
    "eth_ss = eth\\\n",
    "            .select(\"pos_vader\",\"neg_vader\",\"neu_vader\",\"compound_vader\",\"polarity_textblob\",\"subjectivity_textblob\",\"datetime\")\\\n",
    "            .withColumn(\"Cryptocurrency\",lit(\"Ethereum\"))\\"
   ]
  },
  {
   "cell_type": "code",
   "execution_count": 8,
   "metadata": {
    "ExecuteTime": {
     "end_time": "2018-09-16T22:27:09.482657Z",
     "start_time": "2018-09-16T22:27:09.441071Z"
    }
   },
   "outputs": [],
   "source": [
    "btc_ss = btc\\\n",
    "            .select(\"pos_vader\",\"neg_vader\",\"neu_vader\",\"compound_vader\",\"polarity_textblob\",\"subjectivity_textblob\",\"datetime\")\\\n",
    "            .withColumn(\"Cryptocurrency\",lit(\"Bitcoin\"))\\"
   ]
  },
  {
   "cell_type": "code",
   "execution_count": 9,
   "metadata": {
    "ExecuteTime": {
     "end_time": "2018-09-16T22:27:09.576036Z",
     "start_time": "2018-09-16T22:27:09.485100Z"
    }
   },
   "outputs": [],
   "source": [
    "both_ss = eth_ss.union(btc_ss).na.drop()"
   ]
  },
  {
   "cell_type": "code",
   "execution_count": 10,
   "metadata": {
    "ExecuteTime": {
     "end_time": "2018-09-16T22:27:09.586173Z",
     "start_time": "2018-09-16T22:27:09.578546Z"
    }
   },
   "outputs": [
    {
     "name": "stdout",
     "output_type": "stream",
     "text": [
      "root\n",
      " |-- pos_vader: float (nullable = true)\n",
      " |-- neg_vader: float (nullable = true)\n",
      " |-- neu_vader: float (nullable = true)\n",
      " |-- compound_vader: float (nullable = true)\n",
      " |-- polarity_textblob: float (nullable = true)\n",
      " |-- subjectivity_textblob: float (nullable = true)\n",
      " |-- datetime: timestamp (nullable = true)\n",
      " |-- Cryptocurrency: string (nullable = false)\n",
      "\n"
     ]
    }
   ],
   "source": [
    "eth_ss.printSchema()"
   ]
  },
  {
   "cell_type": "code",
   "execution_count": 11,
   "metadata": {
    "ExecuteTime": {
     "end_time": "2018-09-16T22:27:09.592329Z",
     "start_time": "2018-09-16T22:27:09.589330Z"
    }
   },
   "outputs": [],
   "source": [
    "from pyspark.sql.functions import when, lit, avg, month, year, dayofmonth, minute, hour\n",
    "from pyspark.sql.functions import col as c"
   ]
  },
  {
   "cell_type": "code",
   "execution_count": 12,
   "metadata": {
    "ExecuteTime": {
     "end_time": "2018-09-16T22:27:09.995529Z",
     "start_time": "2018-09-16T22:27:09.594684Z"
    }
   },
   "outputs": [],
   "source": [
    "l10 = c(\"minute\") <= 10\n",
    "l20 = (c(\"minute\") > 10) & (c(\"minute\") <= 20)\n",
    "l30 = (c(\"minute\") > 20) & (c(\"minute\") <= 30)\n",
    "l40 = (c(\"minute\") > 30) & (c(\"minute\") <= 40)\n",
    "l50 = (c(\"minute\") > 40) & (c(\"minute\") <= 50)\n",
    "l60 = (c(\"minute\") > 50) & (c(\"minute\") <= 60)\n",
    "#l35 = (c(\"minute\") > 30) & (c(\"minute\") <= 35)\n",
    "#l40 = (c(\"minute\") > 35) & (c(\"minute\") <= 40)\n",
    "#l45 = (c(\"minute\") > 40) & (c(\"minute\") <= 45)\n",
    "#l50 = (c(\"minute\") > 45) & (c(\"minute\") <= 50)\n",
    "#l55 = (c(\"minute\") > 50) & (c(\"minute\") <= 55)\n",
    "#l60 = (c(\"minute\") > 55) & (c(\"minute\") <= 60)\n",
    "\n",
    "w_t = when(l10,10)\\\n",
    "        .when(l20,20)\\\n",
    "        .when(l30,30)\\\n",
    "        .when(l40,40)\\\n",
    "        .when(l50,50)\\\n",
    "        .when(l60,60)\\\n",
    "        #.when(l35,35)\\\n",
    "        #.when(l40,40)\\\n",
    "        #.when(l45,45)\\\n",
    "        #.when(l50,50)\\\n",
    "        #.when(l55,55)\\\n",
    "        #.when(l60,60)\n",
    "\n",
    "\n",
    "eth_ssm = eth_ss.withColumn(\"year\",year(\"datetime\"))\\\n",
    "                .withColumn(\"month\",month(\"datetime\"))\\\n",
    "                .withColumn(\"day\",dayofmonth(\"datetime\"))\\\n",
    "                .withColumn(\"hour\",hour(\"datetime\"))\\\n",
    "                .withColumn(\"minute\",minute(\"datetime\"))\\\n",
    "                .withColumn(\"bucket\",w_t)\n",
    "\n",
    "btc_ssm = btc_ss.withColumn(\"year\",year(\"datetime\"))\\\n",
    "                .withColumn(\"month\",month(\"datetime\"))\\\n",
    "                .withColumn(\"day\",dayofmonth(\"datetime\"))\\\n",
    "                .withColumn(\"hour\",hour(\"datetime\"))\\\n",
    "                .withColumn(\"minute\",minute(\"datetime\"))\\\n",
    "                .withColumn(\"bucket\",w_t)\n",
    "            \n",
    "both_ssm = both_ss.withColumn(\"year\",year(\"datetime\"))\\\n",
    "                .withColumn(\"month\",month(\"datetime\"))\\\n",
    "                .withColumn(\"day\",dayofmonth(\"datetime\"))\\\n",
    "                .withColumn(\"hour\",hour(\"datetime\"))\\\n",
    "                .withColumn(\"minute\",minute(\"datetime\"))\\\n",
    "                .withColumn(\"bucket\",w_t)"
   ]
  },
  {
   "cell_type": "code",
   "execution_count": 13,
   "metadata": {
    "ExecuteTime": {
     "end_time": "2018-09-16T22:27:10.789701Z",
     "start_time": "2018-09-16T22:27:09.998065Z"
    }
   },
   "outputs": [],
   "source": [
    "cv = eth_ssm.filter(\"compound_vader != 0\")\\\n",
    ".groupBy(\"year\",\"month\",\"day\",\"hour\",\"bucket\").agg(\n",
    "avg(\"compound_vader\").alias(\"avg_twitter_eth_compound_vader\"),\n",
    ")\n",
    "\n",
    "pv = eth_ssm.filter(\"pos_vader != 0\")\\\n",
    ".groupBy(\"year\",\"month\",\"day\",\"hour\",\"bucket\").agg(\n",
    "avg(\"pos_vader\").alias(\"avg_twitter_eth_pos_vader\")\n",
    ")\n",
    "\n",
    "nv = eth_ssm.filter(\"neg_vader != 0\")\\\n",
    ".groupBy(\"year\",\"month\",\"day\",\"hour\",\"bucket\").agg(\n",
    "avg(\"neg_vader\").alias(\"avg_twitter_eth_neg_vader\")\n",
    ")\n",
    "\n",
    "pt = eth_ssm.filter(\"polarity_textblob != 0\")\\\n",
    ".groupBy(\"year\",\"month\",\"day\",\"hour\",\"bucket\").agg(\n",
    "avg(\"polarity_textblob\").alias(\"avg_twitter_eth_polarity_textblob\"),   \n",
    ")\n",
    "\n",
    "st = eth_ssm.filter(\"subjectivity_textblob != 0\")\\\n",
    ".groupBy(\"year\",\"month\",\"day\",\"hour\",\"bucket\").agg(\n",
    "avg(\"subjectivity_textblob\").alias(\"avg_twitter_eth_subjectivity_textblob\")    \n",
    ")\n",
    "\n",
    "eth_agg = cv.join(pv,on=[\"year\",\"month\",\"day\",\"hour\",\"bucket\"])\\\n",
    "    .join(nv,on=[\"year\",\"month\",\"day\",\"hour\",\"bucket\"],how=\"full\")\\\n",
    "    .join(pt,on=[\"year\",\"month\",\"day\",\"hour\",\"bucket\"],how=\"full\")\\\n",
    "    .join(st,on=[\"year\",\"month\",\"day\",\"hour\",\"bucket\"],how=\"full\")\n",
    "\n"
   ]
  },
  {
   "cell_type": "code",
   "execution_count": 14,
   "metadata": {
    "ExecuteTime": {
     "end_time": "2018-09-16T22:27:24.885641Z",
     "start_time": "2018-09-16T22:27:10.792193Z"
    }
   },
   "outputs": [
    {
     "data": {
      "text/plain": [
       "114667"
      ]
     },
     "execution_count": 14,
     "metadata": {},
     "output_type": "execute_result"
    }
   ],
   "source": [
    "eth_agg.count()"
   ]
  },
  {
   "cell_type": "code",
   "execution_count": 15,
   "metadata": {
    "ExecuteTime": {
     "end_time": "2018-09-16T22:27:25.328313Z",
     "start_time": "2018-09-16T22:27:24.888478Z"
    }
   },
   "outputs": [],
   "source": [
    "cv = btc_ssm.filter(\"compound_vader != 0\")\\\n",
    ".groupBy(\"year\",\"month\",\"day\",\"hour\",\"bucket\").agg(\n",
    "avg(\"compound_vader\").alias(\"avg_twitter_btc_compound_vader\"),\n",
    ")\n",
    "\n",
    "pv = btc_ssm.filter(\"pos_vader != 0\")\\\n",
    ".groupBy(\"year\",\"month\",\"day\",\"hour\",\"bucket\").agg(\n",
    "avg(\"pos_vader\").alias(\"avg_twitter_btc_pos_vader\")\n",
    ")\n",
    "\n",
    "nv = btc_ssm.filter(\"neg_vader != 0\")\\\n",
    ".groupBy(\"year\",\"month\",\"day\",\"hour\",\"bucket\").agg(\n",
    "avg(\"neg_vader\").alias(\"avg_twitter_btc_neg_vader\")\n",
    ")\n",
    "\n",
    "pt = btc_ssm.filter(\"polarity_textblob != 0\")\\\n",
    ".groupBy(\"year\",\"month\",\"day\",\"hour\",\"bucket\").agg(\n",
    "avg(\"polarity_textblob\").alias(\"avg_twitter_btc_polarity_textblob\"),   \n",
    ")\n",
    "\n",
    "st = btc_ssm.filter(\"subjectivity_textblob != 0\")\\\n",
    ".groupBy(\"year\",\"month\",\"day\",\"hour\",\"bucket\").agg(\n",
    "avg(\"subjectivity_textblob\").alias(\"avg_twitter_btc_subjectivity_textblob\")    \n",
    ")\n",
    "\n",
    "btc_agg = cv.join(pv,on=[\"year\",\"month\",\"day\",\"hour\",\"bucket\"],how=\"full\")\\\n",
    "    .join(nv,on=[\"year\",\"month\",\"day\",\"hour\",\"bucket\"],how=\"full\")\\\n",
    "    .join(pt,on=[\"year\",\"month\",\"day\",\"hour\",\"bucket\"],how=\"full\")\\\n",
    "    .join(st,on=[\"year\",\"month\",\"day\",\"hour\",\"bucket\"],how=\"full\")\n",
    "\n"
   ]
  },
  {
   "cell_type": "code",
   "execution_count": 16,
   "metadata": {
    "ExecuteTime": {
     "end_time": "2018-09-16T22:27:43.281644Z",
     "start_time": "2018-09-16T22:27:25.330572Z"
    }
   },
   "outputs": [
    {
     "data": {
      "text/plain": [
       "112079"
      ]
     },
     "execution_count": 16,
     "metadata": {},
     "output_type": "execute_result"
    }
   ],
   "source": [
    "btc_agg.count()"
   ]
  },
  {
   "cell_type": "code",
   "execution_count": 17,
   "metadata": {
    "ExecuteTime": {
     "end_time": "2018-09-16T22:27:43.694798Z",
     "start_time": "2018-09-16T22:27:43.283988Z"
    }
   },
   "outputs": [],
   "source": [
    "cv = both_ssm.filter(\"compound_vader != 0\")\\\n",
    ".groupBy(\"year\",\"month\",\"day\",\"hour\",\"bucket\").agg(\n",
    "avg(\"compound_vader\").alias(\"avg_twitter_compound_vader\"),\n",
    ")\n",
    "\n",
    "pv = both_ssm.filter(\"pos_vader != 0\")\\\n",
    ".groupBy(\"year\",\"month\",\"day\",\"hour\",\"bucket\").agg(\n",
    "avg(\"pos_vader\").alias(\"avg_twitter_pos_vader\")\n",
    ")\n",
    "\n",
    "nv = both_ssm.filter(\"neg_vader != 0\")\\\n",
    ".groupBy(\"year\",\"month\",\"day\",\"hour\",\"bucket\").agg(\n",
    "avg(\"neg_vader\").alias(\"avg_twitter_neg_vader\")\n",
    ")\n",
    "\n",
    "pt = both_ssm.filter(\"polarity_textblob != 0\")\\\n",
    ".groupBy(\"year\",\"month\",\"day\",\"hour\",\"bucket\").agg(\n",
    "avg(\"polarity_textblob\").alias(\"avg_twitter_polarity_textblob\"),   \n",
    ")\n",
    "\n",
    "st = both_ssm.filter(\"subjectivity_textblob != 0\")\\\n",
    ".groupBy(\"year\",\"month\",\"day\",\"hour\",\"bucket\").agg(\n",
    "avg(\"subjectivity_textblob\").alias(\"avg_twitter_subjectivity_textblob\")    \n",
    ")\n",
    "\n",
    "both_agg = cv.join(pv,on=[\"year\",\"month\",\"day\",\"hour\",\"bucket\"],how=\"full\")\\\n",
    "    .join(nv,on=[\"year\",\"month\",\"day\",\"hour\",\"bucket\"],how=\"full\")\\\n",
    "    .join(pt,on=[\"year\",\"month\",\"day\",\"hour\",\"bucket\"],how=\"full\")\\\n",
    "    .join(st,on=[\"year\",\"month\",\"day\",\"hour\",\"bucket\"],how=\"full\")\n",
    "\n"
   ]
  },
  {
   "cell_type": "code",
   "execution_count": 18,
   "metadata": {
    "ExecuteTime": {
     "end_time": "2018-09-16T22:27:43.975279Z",
     "start_time": "2018-09-16T22:27:43.697216Z"
    }
   },
   "outputs": [],
   "source": [
    "everything_t = eth_agg.join(btc_agg,on=[\"year\",\"month\",\"day\",\"hour\",\"bucket\"])\\\n",
    "                    .join(both_agg,on=[\"year\",\"month\",\"day\",\"hour\",\"bucket\"],how=\"full\")\n",
    "                    "
   ]
  },
  {
   "cell_type": "code",
   "execution_count": 19,
   "metadata": {
    "ExecuteTime": {
     "end_time": "2018-09-16T22:28:35.018874Z",
     "start_time": "2018-09-16T22:27:43.977647Z"
    }
   },
   "outputs": [
    {
     "data": {
      "text/plain": [
       "124738"
      ]
     },
     "execution_count": 19,
     "metadata": {},
     "output_type": "execute_result"
    }
   ],
   "source": [
    "everything_t.count()"
   ]
  },
  {
   "cell_type": "code",
   "execution_count": 20,
   "metadata": {
    "ExecuteTime": {
     "end_time": "2018-09-16T22:29:38.651821Z",
     "start_time": "2018-09-16T22:28:35.021764Z"
    }
   },
   "outputs": [],
   "source": [
    "everything_t.write.mode(\"overwrite\").parquet(\"../../data/temp/sentiment/twitter\")"
   ]
  },
  {
   "cell_type": "code",
   "execution_count": 21,
   "metadata": {
    "ExecuteTime": {
     "end_time": "2018-09-16T22:29:38.657513Z",
     "start_time": "2018-09-16T22:29:38.654740Z"
    }
   },
   "outputs": [],
   "source": [
    "#everything_t.limit(5).toPandas()"
   ]
  },
  {
   "cell_type": "markdown",
   "metadata": {},
   "source": [
    "# Reddit Sentiments"
   ]
  },
  {
   "cell_type": "code",
   "execution_count": 22,
   "metadata": {
    "ExecuteTime": {
     "end_time": "2018-09-16T22:29:38.747809Z",
     "start_time": "2018-09-16T22:29:38.659865Z"
    }
   },
   "outputs": [],
   "source": [
    "from pyspark.sql.functions import when, col\n",
    "from pyspark.sql.functions import col as c\n",
    "\n",
    "when_statment = when(col(\"subreddit\") == \"ethtrader\",\"Ethereum\")\\\n",
    "                .when(col(\"subreddit\") == \"ethereum\",\"Ethereum\")\\\n",
    "                .when(col(\"subreddit\") == \"Bitcoin\",\"Bitcoin\")\\\n",
    "                .when(col(\"subreddit\") == \"btc\",\"Bitcoin\")"
   ]
  },
  {
   "cell_type": "code",
   "execution_count": 23,
   "metadata": {
    "ExecuteTime": {
     "end_time": "2018-09-16T22:29:38.873383Z",
     "start_time": "2018-09-16T22:29:38.749984Z"
    }
   },
   "outputs": [],
   "source": [
    "parquet_reddit_path = \"../../data/reddit-crypto/parquet/complete_sentiment/\"\n",
    "redd = spark.read.parquet(parquet_reddit_path)\\\n",
    "                    .withColumn(\"Cryptocurrency\",when_statment)\\\n",
    "                    .withColumnRenamed(\"created_utc\",\"datetime\")"
   ]
  },
  {
   "cell_type": "code",
   "execution_count": 24,
   "metadata": {
    "ExecuteTime": {
     "end_time": "2018-09-16T22:29:38.979976Z",
     "start_time": "2018-09-16T22:29:38.876241Z"
    }
   },
   "outputs": [],
   "source": [
    "eth_r_ss  = redd.select(\"subreddit\",\"pos_vader\",\"neg_vader\",\"neu_vader\",\"compound_vader\",\"polarity_textblob\",\"subjectivity_textblob\",\"datetime\")\\\n",
    "                .filter(\"Cryptocurrency = 'Ethereum'\")\\\n",
    "                .drop(\"Cryptocurrency\")\n",
    "\n",
    "\n",
    "btc_r_ss  = redd.select(\"subreddit\",\"pos_vader\",\"neg_vader\",\"neu_vader\",\"compound_vader\",\"polarity_textblob\",\"subjectivity_textblob\",\"datetime\")\\\n",
    "                .filter(\"Cryptocurrency = 'Bitcoin'\")\\\n",
    "                .drop(\"Cryptocurrency\")\n",
    "\n",
    "\n",
    "both_r_ss = redd.select(\"subreddit\",\"pos_vader\",\"neg_vader\",\"neu_vader\",\"compound_vader\",\"polarity_textblob\",\"subjectivity_textblob\",\"datetime\")\\\n",
    "                .drop(\"Cryptocurrency\")\n",
    "\n",
    "\n",
    "\n",
    "\n",
    "\n"
   ]
  },
  {
   "cell_type": "code",
   "execution_count": 25,
   "metadata": {
    "ExecuteTime": {
     "end_time": "2018-09-16T22:29:39.231461Z",
     "start_time": "2018-09-16T22:29:38.983847Z"
    }
   },
   "outputs": [],
   "source": [
    "l10 = c(\"minute\") <= 10\n",
    "l20 = (c(\"minute\") > 10) & (c(\"minute\") <= 20)\n",
    "l30 = (c(\"minute\") > 20) & (c(\"minute\") <= 30)\n",
    "l40 = (c(\"minute\") > 30) & (c(\"minute\") <= 40)\n",
    "l50 = (c(\"minute\") > 40) & (c(\"minute\") <= 50)\n",
    "l60 = (c(\"minute\") > 50) & (c(\"minute\") <= 60)\n",
    "#l35 = (c(\"minute\") > 30) & (c(\"minute\") <= 35)\n",
    "#l40 = (c(\"minute\") > 35) & (c(\"minute\") <= 40)\n",
    "#l45 = (c(\"minute\") > 40) & (c(\"minute\") <= 45)\n",
    "#l50 = (c(\"minute\") > 45) & (c(\"minute\") <= 50)\n",
    "#l55 = (c(\"minute\") > 50) & (c(\"minute\") <= 55)\n",
    "#l60 = (c(\"minute\") > 55) & (c(\"minute\") <= 60)\n",
    "\n",
    "w_t = when(l10,10)\\\n",
    "        .when(l20,20)\\\n",
    "        .when(l30,30)\\\n",
    "        .when(l40,40)\\\n",
    "        .when(l50,50)\\\n",
    "        .when(l60,60)\\\n",
    "        #.when(l35,35)\\\n",
    "        #.when(l40,40)\\\n",
    "        #.when(l45,45)\\\n",
    "        #.when(l50,50)\\\n",
    "        #.when(l55,55)\\\n",
    "        #.when(l60,60)\n",
    "\n",
    "\n",
    "eth_r_ssm = eth_r_ss.withColumn(\"year\",year(\"datetime\"))\\\n",
    "                .withColumn(\"month\",month(\"datetime\"))\\\n",
    "                .withColumn(\"day\",dayofmonth(\"datetime\"))\\\n",
    "                .withColumn(\"hour\",hour(\"datetime\"))\\\n",
    "                .withColumn(\"minute\",minute(\"datetime\"))\\\n",
    "                .withColumn(\"bucket\",w_t)\n",
    "\n",
    "btc_r_ssm = btc_r_ss.withColumn(\"year\",year(\"datetime\"))\\\n",
    "                .withColumn(\"month\",month(\"datetime\"))\\\n",
    "                .withColumn(\"day\",dayofmonth(\"datetime\"))\\\n",
    "                .withColumn(\"hour\",hour(\"datetime\"))\\\n",
    "                .withColumn(\"minute\",minute(\"datetime\"))\\\n",
    "                .withColumn(\"bucket\",w_t)\n",
    "            \n",
    "both_r_ssm = both_r_ss.withColumn(\"year\",year(\"datetime\"))\\\n",
    "                .withColumn(\"month\",month(\"datetime\"))\\\n",
    "                .withColumn(\"day\",dayofmonth(\"datetime\"))\\\n",
    "                .withColumn(\"hour\",hour(\"datetime\"))\\\n",
    "                .withColumn(\"minute\",minute(\"datetime\"))\\\n",
    "                .withColumn(\"bucket\",w_t)"
   ]
  },
  {
   "cell_type": "code",
   "execution_count": 26,
   "metadata": {
    "ExecuteTime": {
     "end_time": "2018-09-16T22:29:39.553190Z",
     "start_time": "2018-09-16T22:29:39.233252Z"
    }
   },
   "outputs": [],
   "source": [
    "cv = eth_r_ssm.filter(\"compound_vader != 0\")\\\n",
    ".groupBy(\"year\",\"month\",\"day\",\"hour\",\"bucket\").agg(\n",
    "avg(\"compound_vader\").alias(\"avg_reddit_eth_compound_vader\"),\n",
    ")\n",
    "\n",
    "pv = eth_r_ssm.filter(\"pos_vader != 0\")\\\n",
    ".groupBy(\"year\",\"month\",\"day\",\"hour\",\"bucket\").agg(\n",
    "avg(\"pos_vader\").alias(\"avg_reddit_eth_pos_vader\")\n",
    ")\n",
    "\n",
    "nv = eth_r_ssm.filter(\"neg_vader != 0\")\\\n",
    ".groupBy(\"year\",\"month\",\"day\",\"hour\",\"bucket\").agg(\n",
    "avg(\"neg_vader\").alias(\"avg_reddit_eth_neg_vader\")\n",
    ")\n",
    "\n",
    "pt = eth_r_ssm.filter(\"polarity_textblob != 0\")\\\n",
    ".groupBy(\"year\",\"month\",\"day\",\"hour\",\"bucket\").agg(\n",
    "avg(\"polarity_textblob\").alias(\"avg_reddit_eth_polarity_textblob\"),   \n",
    ")\n",
    "\n",
    "st = eth_r_ssm.filter(\"subjectivity_textblob != 0\")\\\n",
    ".groupBy(\"year\",\"month\",\"day\",\"hour\",\"bucket\").agg(\n",
    "avg(\"subjectivity_textblob\").alias(\"avg_reddit_eth_subjectivity_textblob\")    \n",
    ")\n",
    "\n",
    "eth_r_agg = cv.join(pv,on=[\"year\",\"month\",\"day\",\"hour\",\"bucket\"],how=\"full\")\\\n",
    "    .join(nv,on=[\"year\",\"month\",\"day\",\"hour\",\"bucket\"],how=\"full\")\\\n",
    "    .join(pt,on=[\"year\",\"month\",\"day\",\"hour\",\"bucket\"],how=\"full\")\\\n",
    "    .join(st,on=[\"year\",\"month\",\"day\",\"hour\",\"bucket\"],how=\"full\")\n",
    "\n"
   ]
  },
  {
   "cell_type": "code",
   "execution_count": 27,
   "metadata": {
    "ExecuteTime": {
     "end_time": "2018-09-16T22:29:39.892775Z",
     "start_time": "2018-09-16T22:29:39.555405Z"
    }
   },
   "outputs": [],
   "source": [
    "cv = btc_r_ssm.filter(\"compound_vader != 0\")\\\n",
    ".groupBy(\"year\",\"month\",\"day\",\"hour\",\"bucket\").agg(\n",
    "avg(\"compound_vader\").alias(\"avg_reddit_btc_compound_vader\"),\n",
    ")\n",
    "\n",
    "pv = btc_r_ssm.filter(\"pos_vader != 0\")\\\n",
    ".groupBy(\"year\",\"month\",\"day\",\"hour\",\"bucket\").agg(\n",
    "avg(\"pos_vader\").alias(\"avg_reddit_btc_pos_vader\")\n",
    ")\n",
    "\n",
    "nv = btc_r_ssm.filter(\"neg_vader != 0\")\\\n",
    ".groupBy(\"year\",\"month\",\"day\",\"hour\",\"bucket\").agg(\n",
    "avg(\"neg_vader\").alias(\"avg_reddit_btc_neg_vader\")\n",
    ")\n",
    "\n",
    "pt = btc_r_ssm.filter(\"polarity_textblob != 0\")\\\n",
    ".groupBy(\"year\",\"month\",\"day\",\"hour\",\"bucket\").agg(\n",
    "avg(\"polarity_textblob\").alias(\"avg_reddit_btc_polarity_textblob\"),   \n",
    ")\n",
    "\n",
    "st = btc_r_ssm.filter(\"subjectivity_textblob != 0\")\\\n",
    ".groupBy(\"year\",\"month\",\"day\",\"hour\",\"bucket\").agg(\n",
    "avg(\"subjectivity_textblob\").alias(\"avg_reddit_btc_subjectivity_textblob\")    \n",
    ")\n",
    "\n",
    "btc_r_agg = cv.join(pv,on=[\"year\",\"month\",\"day\",\"hour\",\"bucket\"],how=\"full\")\\\n",
    "    .join(nv,on=[\"year\",\"month\",\"day\",\"hour\",\"bucket\"],how=\"full\")\\\n",
    "    .join(pt,on=[\"year\",\"month\",\"day\",\"hour\",\"bucket\"],how=\"full\")\\\n",
    "    .join(st,on=[\"year\",\"month\",\"day\",\"hour\",\"bucket\"],how=\"full\")\n",
    "\n"
   ]
  },
  {
   "cell_type": "code",
   "execution_count": 28,
   "metadata": {
    "ExecuteTime": {
     "end_time": "2018-09-16T22:29:40.190370Z",
     "start_time": "2018-09-16T22:29:39.896182Z"
    }
   },
   "outputs": [],
   "source": [
    "cv = both_r_ssm.filter(\"compound_vader != 0\")\\\n",
    ".groupBy(\"year\",\"month\",\"day\",\"hour\",\"bucket\").agg(\n",
    "avg(\"compound_vader\").alias(\"avg_reddit_compound_vader\"),\n",
    ")\n",
    "\n",
    "pv = both_r_ssm.filter(\"pos_vader != 0\")\\\n",
    ".groupBy(\"year\",\"month\",\"day\",\"hour\",\"bucket\").agg(\n",
    "avg(\"pos_vader\").alias(\"avg_reddit_pos_vader\")\n",
    ")\n",
    "\n",
    "nv = both_r_ssm.filter(\"neg_vader != 0\")\\\n",
    ".groupBy(\"year\",\"month\",\"day\",\"hour\",\"bucket\").agg(\n",
    "avg(\"neg_vader\").alias(\"avg_reddit_neg_vader\")\n",
    ")\n",
    "\n",
    "pt = both_r_ssm.filter(\"polarity_textblob != 0\")\\\n",
    ".groupBy(\"year\",\"month\",\"day\",\"hour\",\"bucket\").agg(\n",
    "avg(\"polarity_textblob\").alias(\"avg_reddit_polarity_textblob\"),   \n",
    ")\n",
    "\n",
    "st = both_r_ssm.filter(\"subjectivity_textblob != 0\")\\\n",
    ".groupBy(\"year\",\"month\",\"day\",\"hour\",\"bucket\").agg(\n",
    "avg(\"subjectivity_textblob\").alias(\"avg_reddit_subjectivity_textblob\")    \n",
    ")\n",
    "\n",
    "both_r_agg = cv.join(pv,on=[\"year\",\"month\",\"day\",\"hour\",\"bucket\"])\\\n",
    "    .join(nv,on=[\"year\",\"month\",\"day\",\"hour\",\"bucket\"],how=\"full\")\\\n",
    "    .join(pt,on=[\"year\",\"month\",\"day\",\"hour\",\"bucket\"],how=\"full\")\\\n",
    "    .join(st,on=[\"year\",\"month\",\"day\",\"hour\",\"bucket\"],how=\"full\")\n",
    "\n"
   ]
  },
  {
   "cell_type": "code",
   "execution_count": 29,
   "metadata": {
    "ExecuteTime": {
     "end_time": "2018-09-16T22:29:40.535020Z",
     "start_time": "2018-09-16T22:29:40.193521Z"
    }
   },
   "outputs": [],
   "source": [
    "everything_r = eth_r_agg.join(btc_r_agg,on=[\"year\",\"month\",\"day\",\"hour\",\"bucket\"])\\\n",
    "                    .join(both_r_agg,on=[\"year\",\"month\",\"day\",\"hour\",\"bucket\"],how=\"full\")\n",
    "                    "
   ]
  },
  {
   "cell_type": "code",
   "execution_count": 30,
   "metadata": {
    "ExecuteTime": {
     "end_time": "2018-09-16T22:30:23.428613Z",
     "start_time": "2018-09-16T22:29:40.537032Z"
    }
   },
   "outputs": [
    {
     "data": {
      "text/plain": [
       "131292"
      ]
     },
     "execution_count": 30,
     "metadata": {},
     "output_type": "execute_result"
    }
   ],
   "source": [
    "everything_r.filter(\"year > 2015\").count()"
   ]
  },
  {
   "cell_type": "code",
   "execution_count": 31,
   "metadata": {
    "ExecuteTime": {
     "end_time": "2018-09-16T22:30:23.434302Z",
     "start_time": "2018-09-16T22:30:23.430762Z"
    }
   },
   "outputs": [
    {
     "data": {
      "text/plain": [
       "227319"
      ]
     },
     "execution_count": 31,
     "metadata": {},
     "output_type": "execute_result"
    }
   ],
   "source": [
    "227319"
   ]
  },
  {
   "cell_type": "code",
   "execution_count": 32,
   "metadata": {
    "ExecuteTime": {
     "end_time": "2018-09-16T22:30:23.446587Z",
     "start_time": "2018-09-16T22:30:23.436288Z"
    }
   },
   "outputs": [
    {
     "data": {
      "text/plain": [
       "2.2875380517503805"
      ]
     },
     "execution_count": 32,
     "metadata": {},
     "output_type": "execute_result"
    }
   ],
   "source": [
    "240466*5/60/24/365"
   ]
  },
  {
   "cell_type": "code",
   "execution_count": 33,
   "metadata": {
    "ExecuteTime": {
     "end_time": "2018-09-16T22:31:10.180295Z",
     "start_time": "2018-09-16T22:30:23.448765Z"
    }
   },
   "outputs": [],
   "source": [
    "everything_r.write.mode(\"overwrite\").parquet(\"../../data/temp/sentiment/reddit\")"
   ]
  },
  {
   "cell_type": "code",
   "execution_count": 34,
   "metadata": {
    "ExecuteTime": {
     "end_time": "2018-09-16T22:31:10.184887Z",
     "start_time": "2018-09-16T22:31:10.182482Z"
    }
   },
   "outputs": [],
   "source": [
    "#everything_r.limit(5).toPandas()"
   ]
  },
  {
   "cell_type": "code",
   "execution_count": 35,
   "metadata": {
    "ExecuteTime": {
     "end_time": "2018-09-16T22:31:10.198006Z",
     "start_time": "2018-09-16T22:31:10.188675Z"
    }
   },
   "outputs": [
    {
     "name": "stdout",
     "output_type": "stream",
     "text": [
      "root\n",
      " |-- year: integer (nullable = true)\n",
      " |-- month: integer (nullable = true)\n",
      " |-- day: integer (nullable = true)\n",
      " |-- hour: integer (nullable = true)\n",
      " |-- bucket: integer (nullable = true)\n",
      " |-- avg_reddit_eth_compound_vader: double (nullable = true)\n",
      " |-- avg_reddit_eth_pos_vader: double (nullable = true)\n",
      " |-- avg_reddit_eth_neg_vader: double (nullable = true)\n",
      " |-- avg_reddit_eth_polarity_textblob: double (nullable = true)\n",
      " |-- avg_reddit_eth_subjectivity_textblob: double (nullable = true)\n",
      " |-- avg_reddit_btc_compound_vader: double (nullable = true)\n",
      " |-- avg_reddit_btc_pos_vader: double (nullable = true)\n",
      " |-- avg_reddit_btc_neg_vader: double (nullable = true)\n",
      " |-- avg_reddit_btc_polarity_textblob: double (nullable = true)\n",
      " |-- avg_reddit_btc_subjectivity_textblob: double (nullable = true)\n",
      " |-- avg_reddit_compound_vader: double (nullable = true)\n",
      " |-- avg_reddit_pos_vader: double (nullable = true)\n",
      " |-- avg_reddit_neg_vader: double (nullable = true)\n",
      " |-- avg_reddit_polarity_textblob: double (nullable = true)\n",
      " |-- avg_reddit_subjectivity_textblob: double (nullable = true)\n",
      "\n"
     ]
    }
   ],
   "source": [
    "everything_r.printSchema()"
   ]
  },
  {
   "cell_type": "markdown",
   "metadata": {},
   "source": [
    "# Join all social media information"
   ]
  },
  {
   "cell_type": "code",
   "execution_count": 36,
   "metadata": {
    "ExecuteTime": {
     "end_time": "2018-09-16T22:31:10.380112Z",
     "start_time": "2018-09-16T22:31:10.200169Z"
    }
   },
   "outputs": [],
   "source": [
    "r = spark.read.parquet(\"../../data/temp/sentiment/reddit\")\\\n",
    "            .filter(\"year > 2015\")\n",
    "t = spark.read.parquet(\"../../data/temp/sentiment/twitter\").filter(\"year > 2015\")"
   ]
  },
  {
   "cell_type": "code",
   "execution_count": 37,
   "metadata": {
    "ExecuteTime": {
     "end_time": "2018-09-16T22:31:10.780381Z",
     "start_time": "2018-09-16T22:31:10.382341Z"
    }
   },
   "outputs": [
    {
     "name": "stdout",
     "output_type": "stream",
     "text": [
      "+----+-----+---+----+------+\n",
      "|year|month|day|hour|bucket|\n",
      "+----+-----+---+----+------+\n",
      "|2018|    5| 30|  21|    20|\n",
      "|2018|    5| 30|  21|    10|\n",
      "+----+-----+---+----+------+\n",
      "only showing top 2 rows\n",
      "\n"
     ]
    }
   ],
   "source": [
    "t.select(\n",
    "    \"year\",\n",
    "    \"month\",\n",
    "    \"day\",\n",
    "    \"hour\",\n",
    "    \"bucket\"   \n",
    "        )\\\n",
    ".sort(desc(\"year\"),desc(\"month\"),desc(\"day\"),desc(\"hour\")).show(2)"
   ]
  },
  {
   "cell_type": "code",
   "execution_count": 38,
   "metadata": {
    "ExecuteTime": {
     "end_time": "2018-09-16T22:31:10.786137Z",
     "start_time": "2018-09-16T22:31:10.782607Z"
    }
   },
   "outputs": [
    {
     "name": "stdout",
     "output_type": "stream",
     "text": [
      "root\n",
      " |-- year: integer (nullable = true)\n",
      " |-- month: integer (nullable = true)\n",
      " |-- day: integer (nullable = true)\n",
      " |-- hour: integer (nullable = true)\n",
      " |-- bucket: integer (nullable = true)\n",
      " |-- avg_twitter_eth_compound_vader: double (nullable = true)\n",
      " |-- avg_twitter_eth_pos_vader: double (nullable = true)\n",
      " |-- avg_twitter_eth_neg_vader: double (nullable = true)\n",
      " |-- avg_twitter_eth_polarity_textblob: double (nullable = true)\n",
      " |-- avg_twitter_eth_subjectivity_textblob: double (nullable = true)\n",
      " |-- avg_twitter_btc_compound_vader: double (nullable = true)\n",
      " |-- avg_twitter_btc_pos_vader: double (nullable = true)\n",
      " |-- avg_twitter_btc_neg_vader: double (nullable = true)\n",
      " |-- avg_twitter_btc_polarity_textblob: double (nullable = true)\n",
      " |-- avg_twitter_btc_subjectivity_textblob: double (nullable = true)\n",
      " |-- avg_twitter_compound_vader: double (nullable = true)\n",
      " |-- avg_twitter_pos_vader: double (nullable = true)\n",
      " |-- avg_twitter_neg_vader: double (nullable = true)\n",
      " |-- avg_twitter_polarity_textblob: double (nullable = true)\n",
      " |-- avg_twitter_subjectivity_textblob: double (nullable = true)\n",
      "\n"
     ]
    }
   ],
   "source": [
    "t.printSchema()"
   ]
  },
  {
   "cell_type": "code",
   "execution_count": 39,
   "metadata": {
    "ExecuteTime": {
     "end_time": "2018-09-16T22:31:10.792789Z",
     "start_time": "2018-09-16T22:31:10.788953Z"
    }
   },
   "outputs": [
    {
     "name": "stdout",
     "output_type": "stream",
     "text": [
      "root\n",
      " |-- year: integer (nullable = true)\n",
      " |-- month: integer (nullable = true)\n",
      " |-- day: integer (nullable = true)\n",
      " |-- hour: integer (nullable = true)\n",
      " |-- bucket: integer (nullable = true)\n",
      " |-- avg_reddit_eth_compound_vader: double (nullable = true)\n",
      " |-- avg_reddit_eth_pos_vader: double (nullable = true)\n",
      " |-- avg_reddit_eth_neg_vader: double (nullable = true)\n",
      " |-- avg_reddit_eth_polarity_textblob: double (nullable = true)\n",
      " |-- avg_reddit_eth_subjectivity_textblob: double (nullable = true)\n",
      " |-- avg_reddit_btc_compound_vader: double (nullable = true)\n",
      " |-- avg_reddit_btc_pos_vader: double (nullable = true)\n",
      " |-- avg_reddit_btc_neg_vader: double (nullable = true)\n",
      " |-- avg_reddit_btc_polarity_textblob: double (nullable = true)\n",
      " |-- avg_reddit_btc_subjectivity_textblob: double (nullable = true)\n",
      " |-- avg_reddit_compound_vader: double (nullable = true)\n",
      " |-- avg_reddit_pos_vader: double (nullable = true)\n",
      " |-- avg_reddit_neg_vader: double (nullable = true)\n",
      " |-- avg_reddit_polarity_textblob: double (nullable = true)\n",
      " |-- avg_reddit_subjectivity_textblob: double (nullable = true)\n",
      "\n"
     ]
    }
   ],
   "source": [
    "r.printSchema()"
   ]
  },
  {
   "cell_type": "code",
   "execution_count": 40,
   "metadata": {
    "ExecuteTime": {
     "end_time": "2018-09-16T22:31:10.811820Z",
     "start_time": "2018-09-16T22:31:10.795269Z"
    }
   },
   "outputs": [],
   "source": [
    "everything = r.join(t,on=[\"year\",\"month\",\"day\",\"hour\",\"bucket\"],how=\"full\")"
   ]
  },
  {
   "cell_type": "code",
   "execution_count": 41,
   "metadata": {
    "ExecuteTime": {
     "end_time": "2018-09-16T22:31:14.110625Z",
     "start_time": "2018-09-16T22:31:10.814156Z"
    }
   },
   "outputs": [],
   "source": [
    "everything.write.mode(\"overwrite\").parquet(\"../../data/temp/sentiment/everything\")"
   ]
  },
  {
   "cell_type": "code",
   "execution_count": 42,
   "metadata": {
    "ExecuteTime": {
     "end_time": "2018-09-16T22:31:14.229881Z",
     "start_time": "2018-09-16T22:31:14.113353Z"
    }
   },
   "outputs": [
    {
     "name": "stdout",
     "output_type": "stream",
     "text": [
      "root\n",
      " |-- year: integer (nullable = true)\n",
      " |-- month: integer (nullable = true)\n",
      " |-- day: integer (nullable = true)\n",
      " |-- hour: integer (nullable = true)\n",
      " |-- bucket: integer (nullable = true)\n",
      " |-- avg_reddit_eth_compound_vader: double (nullable = true)\n",
      " |-- avg_reddit_eth_pos_vader: double (nullable = true)\n",
      " |-- avg_reddit_eth_neg_vader: double (nullable = true)\n",
      " |-- avg_reddit_eth_polarity_textblob: double (nullable = true)\n",
      " |-- avg_reddit_eth_subjectivity_textblob: double (nullable = true)\n",
      " |-- avg_reddit_btc_compound_vader: double (nullable = true)\n",
      " |-- avg_reddit_btc_pos_vader: double (nullable = true)\n",
      " |-- avg_reddit_btc_neg_vader: double (nullable = true)\n",
      " |-- avg_reddit_btc_polarity_textblob: double (nullable = true)\n",
      " |-- avg_reddit_btc_subjectivity_textblob: double (nullable = true)\n",
      " |-- avg_reddit_compound_vader: double (nullable = true)\n",
      " |-- avg_reddit_pos_vader: double (nullable = true)\n",
      " |-- avg_reddit_neg_vader: double (nullable = true)\n",
      " |-- avg_reddit_polarity_textblob: double (nullable = true)\n",
      " |-- avg_reddit_subjectivity_textblob: double (nullable = true)\n",
      " |-- avg_twitter_eth_compound_vader: double (nullable = true)\n",
      " |-- avg_twitter_eth_pos_vader: double (nullable = true)\n",
      " |-- avg_twitter_eth_neg_vader: double (nullable = true)\n",
      " |-- avg_twitter_eth_polarity_textblob: double (nullable = true)\n",
      " |-- avg_twitter_eth_subjectivity_textblob: double (nullable = true)\n",
      " |-- avg_twitter_btc_compound_vader: double (nullable = true)\n",
      " |-- avg_twitter_btc_pos_vader: double (nullable = true)\n",
      " |-- avg_twitter_btc_neg_vader: double (nullable = true)\n",
      " |-- avg_twitter_btc_polarity_textblob: double (nullable = true)\n",
      " |-- avg_twitter_btc_subjectivity_textblob: double (nullable = true)\n",
      " |-- avg_twitter_compound_vader: double (nullable = true)\n",
      " |-- avg_twitter_pos_vader: double (nullable = true)\n",
      " |-- avg_twitter_neg_vader: double (nullable = true)\n",
      " |-- avg_twitter_polarity_textblob: double (nullable = true)\n",
      " |-- avg_twitter_subjectivity_textblob: double (nullable = true)\n",
      "\n"
     ]
    }
   ],
   "source": [
    "spark.read.parquet(\"../../data/temp/sentiment/everything\").sort(\"year\",\"month\",\"day\",\"hour\",\"bucket\").printSchema()"
   ]
  },
  {
   "cell_type": "markdown",
   "metadata": {},
   "source": [
    "# Shape the data to reflect what I need"
   ]
  },
  {
   "cell_type": "code",
   "execution_count": 5,
   "metadata": {
    "ExecuteTime": {
     "end_time": "2018-09-16T22:40:34.662109Z",
     "start_time": "2018-09-16T22:40:25.448146Z"
    }
   },
   "outputs": [],
   "source": [
    "merged_data = spark.read.parquet(\"../../data/temp/sentiment/everything\").sort(\"year\",\"month\",\"day\",\"hour\",\"bucket\")\\\n",
    "            .toPandas()\\\n",
    "            .rename(columns={\"bucket\":\"minutes\"})"
   ]
  },
  {
   "cell_type": "code",
   "execution_count": 6,
   "metadata": {
    "ExecuteTime": {
     "end_time": "2018-09-16T22:40:34.666518Z",
     "start_time": "2018-09-16T22:40:34.664230Z"
    }
   },
   "outputs": [],
   "source": [
    "import pandas as pd"
   ]
  },
  {
   "cell_type": "code",
   "execution_count": 31,
   "metadata": {
    "ExecuteTime": {
     "end_time": "2018-09-16T22:43:13.635651Z",
     "start_time": "2018-09-16T22:43:13.521195Z"
    }
   },
   "outputs": [],
   "source": [
    "merged_data[\"datetime\"] = pd.to_datetime(merged_data[[\"year\",\"month\",\"day\",\"hour\",\"minutes\"]])"
   ]
  },
  {
   "cell_type": "code",
   "execution_count": 32,
   "metadata": {
    "ExecuteTime": {
     "end_time": "2018-09-16T22:43:13.818303Z",
     "start_time": "2018-09-16T22:43:13.787790Z"
    }
   },
   "outputs": [],
   "source": [
    "t_formated = merged_data\\\n",
    ".drop(columns=[\"year\",\"month\",\"hour\",\"minutes\",\"day\"])\\\n",
    ".set_index(\"datetime\")\\\n",
    ".loc[:'2018-5-30 22:00:00']"
   ]
  },
  {
   "cell_type": "code",
   "execution_count": 33,
   "metadata": {
    "ExecuteTime": {
     "end_time": "2018-09-16T22:43:14.007029Z",
     "start_time": "2018-09-16T22:43:14.002964Z"
    }
   },
   "outputs": [],
   "source": [
    "idx = pd.date_range(start='2016-1-01', end=\"2018-5-30 22:00:00\", freq='600s')"
   ]
  },
  {
   "cell_type": "code",
   "execution_count": 34,
   "metadata": {
    "ExecuteTime": {
     "end_time": "2018-09-16T22:43:14.235641Z",
     "start_time": "2018-09-16T22:43:14.215260Z"
    }
   },
   "outputs": [],
   "source": [
    "t_formated.index = pd.DatetimeIndex(t_formated.index)\n",
    "\n",
    "t_formated = t_formated.reindex(idx, fill_value=0)"
   ]
  },
  {
   "cell_type": "code",
   "execution_count": 35,
   "metadata": {
    "ExecuteTime": {
     "end_time": "2018-09-16T22:43:14.672423Z",
     "start_time": "2018-09-16T22:43:14.430889Z"
    }
   },
   "outputs": [],
   "source": [
    "t_formated = t_formated.interpolate(method='time')"
   ]
  },
  {
   "cell_type": "code",
   "execution_count": 36,
   "metadata": {
    "ExecuteTime": {
     "end_time": "2018-09-16T22:43:15.109220Z",
     "start_time": "2018-09-16T22:43:15.077550Z"
    }
   },
   "outputs": [],
   "source": [
    "rename_mapper_4days = {'avg_reddit_eth_compound_vader':'avg_4day_reddit_eth_compound_vader', \n",
    "                 'avg_reddit_eth_pos_vader':'avg_4day_reddit_eth_pos_vader',\n",
    "                 'avg_reddit_eth_neg_vader':'avg_4day_reddit_eth_neg_vader', \n",
    "                 'avg_reddit_eth_polarity_textblob':'avg_4day_reddit_eth_polarity_textblob',\n",
    "                 'avg_reddit_eth_subjectivity_textblob':'avg_4day_reddit_eth_subjectivity_textblob', \n",
    "                 'avg_reddit_btc_compound_vader':'avg_4day_reddit_btc_compound_vader',\n",
    "                 'avg_reddit_btc_pos_vader':'avg_4day_reddit_btc_pos_vader', \n",
    "                 'avg_reddit_btc_neg_vader':'avg_4day_reddit_btc_neg_vader',\n",
    "                 'avg_reddit_btc_polarity_textblob':'avg_4day_reddit_btc_polarity_textblob',\n",
    "                 'avg_reddit_btc_subjectivity_textblob':'avg_4day_reddit_btc_subjectivity_textblob', \n",
    "                 'avg_reddit_compound_vader':'avg_4day_reddit_compound_vader',\n",
    "                 'avg_reddit_pos_vader':'avg_4day_reddit_pos_vader', \n",
    "                 'avg_reddit_neg_vader':'avg_4day_reddit_neg_vader',\n",
    "                 'avg_reddit_polarity_textblob':'avg_4day_reddit_polarity_textblob', \n",
    "                 'avg_reddit_subjectivity_textblob':'avg_4day_reddit_subjectivity_textblob',\n",
    "                 'avg_twitter_eth_compound_vader':'avg_4day_twitter_eth_compound_vader', \n",
    "                 'avg_twitter_eth_pos_vader':'avg_4day_twitter_eth_pos_vader', \n",
    "                 'avg_twitter_eth_neg_vader':'avg_4day_twitter_eth_neg_vader',\n",
    "                 'avg_twitter_eth_polarity_textblob':'avg_4day_twitter_eth_polarity_textblob', \n",
    "                 'avg_twitter_eth_subjectivity_textblob':'avg_4day_twitter_eth_subjectivity_textblob',\n",
    "                 'avg_twitter_btc_compound_vader':'avg_4day_twitter_btc_compound_vader', \n",
    "                 'avg_twitter_btc_pos_vader':'avg_4day_twitter_btc_pos_vader',\n",
    "                 'avg_twitter_btc_neg_vader':'avg_4day_twitter_btc_neg_vader', \n",
    "                 'avg_twitter_btc_polarity_textblob':'avg_4day_twitter_btc_polarity_textblob',\n",
    "                 'avg_twitter_btc_subjectivity_textblob':'avg_4day_twitter_btc_subjectivity_textblob', \n",
    "                 'avg_twitter_compound_vader':'avg_4day_twitter_compound_vader',\n",
    "                 'avg_twitter_pos_vader':'avg_4day_twitter_pos_vader', \n",
    "                 'avg_twitter_neg_vader':'avg_4day_twitter_neg_vader',\n",
    "                 'avg_twitter_polarity_textblob':'avg_4day_twitter_polarity_textblob', \n",
    "                 'avg_twitter_subjectivity_textblob':'avg_4day_twitter_subjectivity_textblob'}\n",
    "\n",
    "\n",
    "rename_mapper_2days = {'avg_reddit_eth_compound_vader':'avg_2day_reddit_eth_compound_vader', \n",
    "                 'avg_reddit_eth_pos_vader':'avg_2day_reddit_eth_pos_vader',\n",
    "                 'avg_reddit_eth_neg_vader':'avg_2day_reddit_eth_neg_vader', \n",
    "                 'avg_reddit_eth_polarity_textblob':'avg_2day_reddit_eth_polarity_textblob',\n",
    "                 'avg_reddit_eth_subjectivity_textblob':'avg_2day_reddit_eth_subjectivity_textblob', \n",
    "                 'avg_reddit_btc_compound_vader':'avg_2day_reddit_btc_compound_vader',\n",
    "                 'avg_reddit_btc_pos_vader':'avg_2day_reddit_btc_pos_vader', \n",
    "                 'avg_reddit_btc_neg_vader':'avg_2day_reddit_btc_neg_vader',\n",
    "                 'avg_reddit_btc_polarity_textblob':'avg_2day_reddit_btc_polarity_textblob',\n",
    "                 'avg_reddit_btc_subjectivity_textblob':'avg_2day_reddit_btc_subjectivity_textblob', \n",
    "                 'avg_reddit_compound_vader':'avg_2day_reddit_compound_vader',\n",
    "                 'avg_reddit_pos_vader':'avg_2day_reddit_pos_vader', \n",
    "                 'avg_reddit_neg_vader':'avg_2day_reddit_neg_vader',\n",
    "                 'avg_reddit_polarity_textblob':'avg_2day_reddit_polarity_textblob', \n",
    "                 'avg_reddit_subjectivity_textblob':'avg_2day_reddit_subjectivity_textblob',\n",
    "                 'avg_twitter_eth_compound_vader':'avg_2day_twitter_eth_compound_vader', \n",
    "                 'avg_twitter_eth_pos_vader':'avg_2day_twitter_eth_pos_vader', \n",
    "                 'avg_twitter_eth_neg_vader':'avg_2day_twitter_eth_neg_vader',\n",
    "                 'avg_twitter_eth_polarity_textblob':'avg_2day_twitter_eth_polarity_textblob', \n",
    "                 'avg_twitter_eth_subjectivity_textblob':'avg_2day_twitter_eth_subjectivity_textblob',\n",
    "                 'avg_twitter_btc_compound_vader':'avg_2day_twitter_btc_compound_vader', \n",
    "                 'avg_twitter_btc_pos_vader':'avg_2day_twitter_btc_pos_vader',\n",
    "                 'avg_twitter_btc_neg_vader':'avg_2day_twitter_btc_neg_vader', \n",
    "                 'avg_twitter_btc_polarity_textblob':'avg_2day_twitter_btc_polarity_textblob',\n",
    "                 'avg_twitter_btc_subjectivity_textblob':'avg_2day_twitter_btc_subjectivity_textblob', \n",
    "                 'avg_twitter_compound_vader':'avg_2day_twitter_compound_vader',\n",
    "                 'avg_twitter_pos_vader':'avg_2day_twitter_pos_vader', \n",
    "                 'avg_twitter_neg_vader':'avg_2day_twitter_neg_vader',\n",
    "                 'avg_twitter_polarity_textblob':'avg_2day_twitter_polarity_textblob', \n",
    "                 'avg_twitter_subjectivity_textblob':'avg_2day_twitter_subjectivity_textblob'}"
   ]
  },
  {
   "cell_type": "code",
   "execution_count": 37,
   "metadata": {
    "ExecuteTime": {
     "end_time": "2018-09-16T22:43:15.574747Z",
     "start_time": "2018-09-16T22:43:15.522606Z"
    },
    "scrolled": true
   },
   "outputs": [],
   "source": [
    "days4 = int(4*24*60/10) #5 min interval\n",
    "days2 = int(2*24*60/10) #5 min interval\n",
    "\n",
    "feature_4days = t_formated\\\n",
    "        .shift(days4)\\\n",
    "        .rename(columns=rename_mapper_4days)\n",
    "\n",
    "feature_2days = t_formated\\\n",
    "        .shift(days2)\\\n",
    "        .rename(columns=rename_mapper_2days)"
   ]
  },
  {
   "cell_type": "code",
   "execution_count": 38,
   "metadata": {
    "ExecuteTime": {
     "end_time": "2018-09-16T22:43:16.131563Z",
     "start_time": "2018-09-16T22:43:16.072544Z"
    }
   },
   "outputs": [],
   "source": [
    "sentiments = t_formated\\\n",
    ".merge(\n",
    "feature_2days.merge(\n",
    "    feature_4days,left_index=True,right_index=True)\n",
    "    ,left_index=True,right_index=True\n",
    ")"
   ]
  },
  {
   "cell_type": "code",
   "execution_count": 39,
   "metadata": {
    "ExecuteTime": {
     "end_time": "2018-09-16T22:43:16.666451Z",
     "start_time": "2018-09-16T22:43:16.568332Z"
    }
   },
   "outputs": [],
   "source": [
    "sentiments = sentiments.loc['2016-1-5 00:00:00':'2018-5-30 22:00:00']"
   ]
  },
  {
   "cell_type": "code",
   "execution_count": 42,
   "metadata": {
    "ExecuteTime": {
     "end_time": "2018-09-16T22:43:33.462392Z",
     "start_time": "2018-09-16T22:43:31.920701Z"
    }
   },
   "outputs": [],
   "source": [
    "sentiments.to_parquet(\"../../data/features/sentiment_features\")"
   ]
  },
  {
   "cell_type": "code",
   "execution_count": 54,
   "metadata": {
    "ExecuteTime": {
     "end_time": "2018-09-16T22:31:20.248980Z",
     "start_time": "2018-09-16T22:31:20.235929Z"
    }
   },
   "outputs": [
    {
     "name": "stdout",
     "output_type": "stream",
     "text": [
      "avg_reddit_eth_compound_vader\n",
      "avg_reddit_eth_pos_vader\n",
      "avg_reddit_eth_neg_vader\n",
      "avg_reddit_eth_polarity_textblob\n",
      "avg_reddit_eth_subjectivity_textblob\n",
      "avg_reddit_btc_compound_vader\n",
      "avg_reddit_btc_pos_vader\n",
      "avg_reddit_btc_neg_vader\n",
      "avg_reddit_btc_polarity_textblob\n",
      "avg_reddit_btc_subjectivity_textblob\n",
      "avg_reddit_compound_vader\n",
      "avg_reddit_pos_vader\n",
      "avg_reddit_neg_vader\n",
      "avg_reddit_polarity_textblob\n",
      "avg_reddit_subjectivity_textblob\n",
      "avg_twitter_eth_compound_vader\n",
      "avg_twitter_eth_pos_vader\n",
      "avg_twitter_eth_neg_vader\n",
      "avg_twitter_eth_polarity_textblob\n",
      "avg_twitter_eth_subjectivity_textblob\n",
      "avg_twitter_btc_compound_vader\n",
      "avg_twitter_btc_pos_vader\n",
      "avg_twitter_btc_neg_vader\n",
      "avg_twitter_btc_polarity_textblob\n",
      "avg_twitter_btc_subjectivity_textblob\n",
      "avg_twitter_compound_vader\n",
      "avg_twitter_pos_vader\n",
      "avg_twitter_neg_vader\n",
      "avg_twitter_polarity_textblob\n",
      "avg_twitter_subjectivity_textblob\n",
      "avg_2day_reddit_eth_compound_vader\n",
      "avg_2day_reddit_eth_pos_vader\n",
      "avg_2day_reddit_eth_neg_vader\n",
      "avg_2day_reddit_eth_polarity_textblob\n",
      "avg_2day_reddit_eth_subjectivity_textblob\n",
      "avg_2day_reddit_btc_compound_vader\n",
      "avg_2day_reddit_btc_pos_vader\n",
      "avg_2day_reddit_btc_neg_vader\n",
      "avg_2day_reddit_btc_polarity_textblob\n",
      "avg_2day_reddit_btc_subjectivity_textblob\n",
      "avg_2day_reddit_compound_vader\n",
      "avg_2day_reddit_pos_vader\n",
      "avg_2day_reddit_neg_vader\n",
      "avg_2day_reddit_polarity_textblob\n",
      "avg_2day_reddit_subjectivity_textblob\n",
      "avg_2day_twitter_eth_compound_vader\n",
      "avg_2day_twitter_eth_pos_vader\n",
      "avg_2day_twitter_eth_neg_vader\n",
      "avg_2day_twitter_eth_polarity_textblob\n",
      "avg_2day_twitter_eth_subjectivity_textblob\n",
      "avg_2day_twitter_btc_compound_vader\n",
      "avg_2day_twitter_btc_pos_vader\n",
      "avg_2day_twitter_btc_neg_vader\n",
      "avg_2day_twitter_btc_polarity_textblob\n",
      "avg_2day_twitter_btc_subjectivity_textblob\n",
      "avg_2day_twitter_compound_vader\n",
      "avg_2day_twitter_pos_vader\n",
      "avg_2day_twitter_neg_vader\n",
      "avg_2day_twitter_polarity_textblob\n",
      "avg_2day_twitter_subjectivity_textblob\n",
      "avg_4day_reddit_eth_compound_vader\n",
      "avg_4day_reddit_eth_pos_vader\n",
      "avg_4day_reddit_eth_neg_vader\n",
      "avg_4day_reddit_eth_polarity_textblob\n",
      "avg_4day_reddit_eth_subjectivity_textblob\n",
      "avg_4day_reddit_btc_compound_vader\n",
      "avg_4day_reddit_btc_pos_vader\n",
      "avg_4day_reddit_btc_neg_vader\n",
      "avg_4day_reddit_btc_polarity_textblob\n",
      "avg_4day_reddit_btc_subjectivity_textblob\n",
      "avg_4day_reddit_compound_vader\n",
      "avg_4day_reddit_pos_vader\n",
      "avg_4day_reddit_neg_vader\n",
      "avg_4day_reddit_polarity_textblob\n",
      "avg_4day_reddit_subjectivity_textblob\n",
      "avg_4day_twitter_eth_compound_vader\n",
      "avg_4day_twitter_eth_pos_vader\n",
      "avg_4day_twitter_eth_neg_vader\n",
      "avg_4day_twitter_eth_polarity_textblob\n",
      "avg_4day_twitter_eth_subjectivity_textblob\n",
      "avg_4day_twitter_btc_compound_vader\n",
      "avg_4day_twitter_btc_pos_vader\n",
      "avg_4day_twitter_btc_neg_vader\n",
      "avg_4day_twitter_btc_polarity_textblob\n",
      "avg_4day_twitter_btc_subjectivity_textblob\n",
      "avg_4day_twitter_compound_vader\n",
      "avg_4day_twitter_pos_vader\n",
      "avg_4day_twitter_neg_vader\n",
      "avg_4day_twitter_polarity_textblob\n",
      "avg_4day_twitter_subjectivity_textblob\n"
     ]
    }
   ],
   "source": [
    "for i in sentiments.columns:\n",
    "    print(i)"
   ]
  },
  {
   "cell_type": "code",
   "execution_count": null,
   "metadata": {},
   "outputs": [],
   "source": []
  }
 ],
 "metadata": {
  "kernelspec": {
   "display_name": "udacity",
   "language": "python",
   "name": "udacity"
  },
  "toc": {
   "base_numbering": 1,
   "nav_menu": {},
   "number_sections": true,
   "sideBar": true,
   "skip_h1_title": false,
   "title_cell": "Table of Contents",
   "title_sidebar": "Contents",
   "toc_cell": false,
   "toc_position": {
    "height": "calc(100% - 180px)",
    "left": "10px",
    "top": "150px",
    "width": "512px"
   },
   "toc_section_display": true,
   "toc_window_display": true
  }
 },
 "nbformat": 4,
 "nbformat_minor": 2
}
