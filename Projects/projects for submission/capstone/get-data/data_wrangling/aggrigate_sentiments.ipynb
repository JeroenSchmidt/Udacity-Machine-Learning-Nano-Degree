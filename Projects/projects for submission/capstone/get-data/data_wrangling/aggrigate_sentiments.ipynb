{
 "cells": [
  {
   "cell_type": "code",
   "execution_count": 1,
   "metadata": {
    "ExecuteTime": {
     "end_time": "2018-07-14T15:03:51.586442Z",
     "start_time": "2018-07-14T15:03:46.643870Z"
    }
   },
   "outputs": [],
   "source": [
    "from pyspark.sql import SparkSession\n",
    "spark = SparkSession.builder\\\n",
    "                        .master(\"local[8]\")\\\n",
    "                        .config('spark.executor.memory', '5g')\\\n",
    "                        .config('spark.driver.memory', '5g')\\\n",
    "                        .appName(\"Tweet wrangeling\")\\\n",
    "                        .config('spark.local.dir','~/.spark_tmp/')\\\n",
    "                        .getOrCreate()"
   ]
  },
  {
   "cell_type": "markdown",
   "metadata": {},
   "source": [
    "# Sources"
   ]
  },
  {
   "cell_type": "code",
   "execution_count": 2,
   "metadata": {
    "ExecuteTime": {
     "end_time": "2018-07-14T15:03:53.946651Z",
     "start_time": "2018-07-14T15:03:51.588031Z"
    }
   },
   "outputs": [],
   "source": [
    "# twitter eth\n",
    "eth_twitter_path = \"../../data/tweets/ethereum/parquet/sentiment/\" \n",
    "# twitter btc\n",
    "btc_twitter_path = \"../../data/tweets/bitcoin/parquet/sentiment/\"\n",
    "\n",
    "eth_twitter = spark.read.parquet(eth_twitter_path)\n",
    "btc_twitter = spark.read.parquet(btc_twitter_path)"
   ]
  },
  {
   "cell_type": "code",
   "execution_count": 3,
   "metadata": {
    "ExecuteTime": {
     "end_time": "2018-07-14T15:03:54.519406Z",
     "start_time": "2018-07-14T15:03:53.948648Z"
    }
   },
   "outputs": [],
   "source": [
    "from pyspark.sql.functions import lit\n",
    "twitter = eth_twitter.withColumn(\"crypto_tag\",lit(\"eth\"))\\\n",
    "            .union(\n",
    "                btc_twitter.withColumn(\"crypto_tag\",lit(\"btc\"))\n",
    "            )"
   ]
  },
  {
   "cell_type": "code",
   "execution_count": 4,
   "metadata": {
    "ExecuteTime": {
     "end_time": "2018-07-14T15:03:54.646838Z",
     "start_time": "2018-07-14T15:03:54.520887Z"
    }
   },
   "outputs": [],
   "source": [
    "# reddit\n",
    "reddit_path = \"../../data/reddit-crypto/parquet/sentiment/\"\n",
    "\n",
    "reddit = spark.read.parquet(reddit_path)"
   ]
  },
  {
   "cell_type": "markdown",
   "metadata": {},
   "source": [
    "# Aggregation"
   ]
  },
  {
   "cell_type": "markdown",
   "metadata": {},
   "source": [
    "The goal is to aggrigate the scores into 5 minutes intervals (like with the ticker data). From there they can be rolled up as needed to match the ticker data time indecies."
   ]
  },
  {
   "cell_type": "markdown",
   "metadata": {},
   "source": [
    "Aggrigations:\n",
    "* ratio of pos/neg\n",
    "* average "
   ]
  },
  {
   "cell_type": "code",
   "execution_count": 5,
   "metadata": {
    "ExecuteTime": {
     "end_time": "2018-07-14T15:03:54.666369Z",
     "start_time": "2018-07-14T15:03:54.650730Z"
    }
   },
   "outputs": [
    {
     "name": "stdout",
     "output_type": "stream",
     "text": [
      "root\n",
      " |-- username: string (nullable = true)\n",
      " |-- datetime: timestamp (nullable = true)\n",
      " |-- text: string (nullable = true)\n",
      " |-- retweets: integer (nullable = true)\n",
      " |-- favorites: integer (nullable = true)\n",
      " |-- geo: string (nullable = true)\n",
      " |-- mentions: string (nullable = true)\n",
      " |-- hashtags: string (nullable = true)\n",
      " |-- id: string (nullable = true)\n",
      " |-- permalink: string (nullable = true)\n",
      " |-- pos_vader: float (nullable = true)\n",
      " |-- neg_vader: float (nullable = true)\n",
      " |-- neu_vader: float (nullable = true)\n",
      " |-- compound_vader: float (nullable = true)\n",
      " |-- polarity_textblob: float (nullable = true)\n",
      " |-- subjectivity_textblob: float (nullable = true)\n",
      " |-- crypto_tag: string (nullable = false)\n",
      "\n"
     ]
    }
   ],
   "source": [
    "twitter.printSchema()"
   ]
  },
  {
   "cell_type": "code",
   "execution_count": 32,
   "metadata": {
    "ExecuteTime": {
     "end_time": "2018-07-14T15:19:38.846304Z",
     "start_time": "2018-07-14T15:19:38.828154Z"
    }
   },
   "outputs": [],
   "source": [
    "from pyspark.sql.functions import unix_timestamp, col\n",
    "date_time = twitter.select(\"datetime\",\"crypto_tag\").withColumn(\"date_time\",\n",
    "                                           unix_timestamp(\n",
    "                                               col(\"datetime\"),'yyyy-MM-dd HH:mm:ss'\n",
    "                                                           )\n",
    "                                      )\n"
   ]
  },
  {
   "cell_type": "code",
   "execution_count": 34,
   "metadata": {
    "ExecuteTime": {
     "end_time": "2018-07-14T15:19:50.226135Z",
     "start_time": "2018-07-14T15:19:46.297915Z"
    }
   },
   "outputs": [
    {
     "name": "stdout",
     "output_type": "stream",
     "text": [
      "+----------+----------+-----+-------------------+\n",
      "|time_range|crypto_tag|count|       grouped_date|\n",
      "+----------+----------+-----+-------------------+\n",
      "|   5092391|       btc|  100|2018-05-30 23:55:00|\n",
      "|   5092391|       eth|   34|2018-05-30 23:55:00|\n",
      "|   5092390|       btc|  125|2018-05-30 23:50:00|\n",
      "|   5092390|       eth|   34|2018-05-30 23:50:00|\n",
      "|   5092389|       btc|  113|2018-05-30 23:45:00|\n",
      "|   5092389|       eth|   36|2018-05-30 23:45:00|\n",
      "|   5092388|       btc|  115|2018-05-30 23:40:00|\n",
      "|   5092388|       eth|   28|2018-05-30 23:40:00|\n",
      "|   5092387|       btc|   91|2018-05-30 23:35:00|\n",
      "|   5092387|       eth|   27|2018-05-30 23:35:00|\n",
      "|   5092386|       btc|  118|2018-05-30 23:30:00|\n",
      "|   5092386|       eth|   26|2018-05-30 23:30:00|\n",
      "|   5092385|       btc|   92|2018-05-30 23:25:00|\n",
      "|   5092385|       eth|   19|2018-05-30 23:25:00|\n",
      "|   5092384|       btc|  115|2018-05-30 23:20:00|\n",
      "|   5092384|       eth|   39|2018-05-30 23:20:00|\n",
      "|   5092383|       btc|  132|2018-05-30 23:15:00|\n",
      "|   5092383|       eth|   41|2018-05-30 23:15:00|\n",
      "|   5092382|       btc|  115|2018-05-30 23:10:00|\n",
      "|   5092382|       eth|   30|2018-05-30 23:10:00|\n",
      "+----------+----------+-----+-------------------+\n",
      "only showing top 20 rows\n",
      "\n"
     ]
    }
   ],
   "source": [
    "from pyspark.sql.functions import floor, desc, from_unixtime\n",
    "\n",
    "interval = 60*10#5 minutes \n",
    "date_time\\\n",
    ".withColumn(\"time_range\",floor(col(\"date_time\")/interval))\\\n",
    ".groupBy(\"time_range\",\"crypto_tag\")\\\n",
    ".count()\\\n",
    ".withColumn(\"grouped_date\",from_unixtime(col(\"time_range\")*interval))\\\n",
    ".sort(desc(\"grouped_date\"),\"crypto_tag\")\\\n",
    ".show()"
   ]
  },
  {
   "cell_type": "code",
   "execution_count": null,
   "metadata": {},
   "outputs": [],
   "source": []
  }
 ],
 "metadata": {
  "kernelspec": {
   "display_name": "pyspark2.3.0",
   "language": "python",
   "name": "pyspark2.3.0"
  },
  "language_info": {
   "codemirror_mode": {
    "name": "ipython",
    "version": 3
   },
   "file_extension": ".py",
   "mimetype": "text/x-python",
   "name": "python",
   "nbconvert_exporter": "python",
   "pygments_lexer": "ipython3",
   "version": "3.6.5"
  },
  "toc": {
   "base_numbering": 1,
   "nav_menu": {},
   "number_sections": true,
   "sideBar": true,
   "skip_h1_title": false,
   "title_cell": "Table of Contents",
   "title_sidebar": "Contents",
   "toc_cell": false,
   "toc_position": {},
   "toc_section_display": true,
   "toc_window_display": false
  }
 },
 "nbformat": 4,
 "nbformat_minor": 2
}
