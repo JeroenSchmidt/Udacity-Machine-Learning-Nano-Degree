{
 "cells": [
  {
   "cell_type": "code",
   "execution_count": 1,
   "metadata": {},
   "outputs": [],
   "source": [
    "import praw"
   ]
  },
  {
   "cell_type": "code",
   "execution_count": 6,
   "metadata": {},
   "outputs": [],
   "source": [
    "import praw\n",
    "reddit = praw.Reddit(client_id='kbN1Smc_E9LhXw', client_secret=\"Y255GGaA2gw3rtSapmfGgR3VEFM\",\n",
    "                     password='magic360', user_agent='test-script',\n",
    "                     username='api_dev_nlp')"
   ]
  },
  {
   "cell_type": "code",
   "execution_count": 16,
   "metadata": {},
   "outputs": [
    {
     "name": "stdout",
     "output_type": "stream",
     "text": [
      "180\n",
      "Daily General Discussion - May 19, 2018\n",
      "617\n",
      "Fed-Ex to use Ethereum to improve business processes\n",
      "185\n",
      "Someone Just Stoke Over 150k In Crypto From Me. Here's How They Did It. Now Let's Catch Them\n",
      "29\n",
      "district0x Weekly Update\n",
      "17\n",
      "Funds are Safe\n",
      "1123\n",
      "Apple's Steve Wozniak Dumps Facebook And Thinks Ethereum Could Be The New Apple\n",
      "5\n",
      "William Mougayar interview with very receptive CNBC panel\n",
      "8\n",
      "The reputable Brand Leadership Circle companies and Photochain, enter into an extensive partnership with mutual benefits to each party.\n",
      "144\n",
      "[Deconomy 2018] Vitalik Buterin 'Ethereum Next 12 Months' (official, good quality recording)\n",
      "4\n",
      "This Year in Tokens: Token Summit 2018 – SFOX\n"
     ]
    }
   ],
   "source": [
    "# Output score for the first 256 items on the frontpage\n",
    "for submission in reddit.subreddit('ethtrader').hot(limit=10):\n",
    "    print(submission.score)\n",
    "    print(submission.title)"
   ]
  },
  {
   "cell_type": "code",
   "execution_count": 54,
   "metadata": {},
   "outputs": [
    {
     "name": "stdout",
     "output_type": "stream",
     "text": [
      "Daily General Discussion - June 26, 2017\n",
      "Daily General Discussion - June 21, 2017\n",
      "Daily General Discussion - June 27, 2017\n",
      "Daily General Discussion - June 28, 2017\n",
      "Daily General Discussion - June 20, 2017\n",
      "Daily General Discussion - June 22, 2017\n",
      "Daily General Discussion - June 25, 2017\n",
      "Daily General Discussion - June 29, 2017\n",
      "Daily General Discussion - June 24, 2017\n",
      "Daily General Discussion - June 30, 2017\n",
      "[Serious] Trading and Markets Discussion - June 19, 2017)\n",
      "[Serious] Daily Markets Discussion thread - June 20, 2017\n",
      "[Serious] Daily Markets Discussion thread - June 25, 2017\n",
      "[Serious] Daily Markets Discussion thread - June 21, 2017\n",
      "[Serious] Daily Markets Discussion thread - June 26, 2017\n",
      "[Serious] Daily Markets Discussion thread - June 29, 2017\n",
      "[Serious] Daily Markets Discussion thread - June 22, 2017\n",
      "[Serious] Daily Markets Discussion thread - June 30, 2017\n",
      "[Serious] Daily Markets Discussion thread - June 28, 2017\n",
      "[Serious] Daily Markets Discussion thread - June 27, 2017\n",
      "[Serious] Daily Markets Discussion thread - June 24, 2017\n",
      "[Serious] Daily Markets Discussion thread - June 23, 2017\n"
     ]
    }
   ],
   "source": [
    "x = reddit.subreddit('ethtrader')\n",
    "results = x.search(\"Daily General Discussion - June 2017\")\n",
    "for result in results:\n",
    "   print(result.title)"
   ]
  },
  {
   "cell_type": "code",
   "execution_count": 51,
   "metadata": {},
   "outputs": [
    {
     "data": {
      "text/plain": [
       "0"
      ]
     },
     "execution_count": 51,
     "metadata": {},
     "output_type": "execute_result"
    }
   ],
   "source": [
    "len(list(results))"
   ]
  },
  {
   "cell_type": "code",
   "execution_count": 36,
   "metadata": {},
   "outputs": [
    {
     "data": {
      "text/plain": [
       "praw.models.listing.generator.ListingGenerator"
      ]
     },
     "execution_count": 36,
     "metadata": {},
     "output_type": "execute_result"
    }
   ],
   "source": [
    "type(results)"
   ]
  },
  {
   "cell_type": "code",
   "execution_count": 13,
   "metadata": {},
   "outputs": [
    {
     "name": "stdout",
     "output_type": "stream",
     "text": [
      "46227\n",
      "9105\n",
      "6370\n",
      "13387\n",
      "34631\n",
      "41545\n",
      "94737\n",
      "67284\n",
      "9528\n",
      "8491\n",
      "4533\n",
      "8044\n",
      "9841\n",
      "5779\n",
      "61984\n",
      "3028\n",
      "8431\n",
      "2990\n",
      "4456\n",
      "1728\n",
      "2420\n",
      "5188\n",
      "6301\n",
      "4530\n",
      "22436\n",
      "861\n",
      "8520\n",
      "2402\n",
      "764\n",
      "6437\n",
      "572\n",
      "27203\n",
      "1657\n",
      "765\n",
      "401\n",
      "481\n",
      "922\n",
      "401\n",
      "1624\n",
      "102\n",
      "41\n",
      "349\n",
      "7359\n",
      "297\n",
      "2581\n",
      "51755\n",
      "16904\n",
      "1214\n",
      "3066\n",
      "13750\n",
      "122\n",
      "9683\n",
      "1007\n",
      "29975\n",
      "3205\n",
      "4546\n",
      "3027\n",
      "16864\n",
      "2990\n",
      "14713\n",
      "10429\n",
      "4227\n",
      "5286\n",
      "5977\n",
      "35047\n",
      "7767\n",
      "2854\n",
      "14078\n",
      "9272\n",
      "21144\n",
      "4069\n",
      "11303\n",
      "2576\n",
      "873\n",
      "5297\n",
      "8933\n",
      "264\n",
      "928\n",
      "2547\n",
      "3599\n",
      "1540\n",
      "41475\n",
      "890\n",
      "576\n",
      "138\n",
      "2155\n",
      "450\n",
      "3737\n",
      "1632\n",
      "155\n",
      "33850\n",
      "1220\n",
      "113\n",
      "1015\n",
      "402\n",
      "2158\n",
      "26\n",
      "1248\n",
      "1292\n",
      "1352\n",
      "1622\n",
      "1953\n",
      "25\n",
      "2340\n",
      "193\n",
      "1559\n",
      "904\n",
      "3698\n",
      "1872\n",
      "27395\n",
      "4420\n",
      "1151\n",
      "14673\n",
      "1010\n",
      "9523\n",
      "65829\n",
      "3175\n",
      "140\n",
      "837\n",
      "156\n",
      "7288\n",
      "1138\n",
      "283\n",
      "4163\n",
      "986\n",
      "653\n",
      "677\n",
      "1275\n",
      "415\n",
      "1826\n",
      "5523\n",
      "1610\n",
      "6009\n",
      "5077\n",
      "1402\n",
      "392\n",
      "4439\n",
      "1027\n",
      "2938\n",
      "884\n",
      "1032\n",
      "1266\n",
      "2951\n",
      "2810\n",
      "620\n",
      "1730\n",
      "8591\n",
      "36607\n",
      "4779\n",
      "2011\n",
      "27\n",
      "1075\n",
      "16714\n",
      "24\n",
      "562\n",
      "1213\n",
      "310\n",
      "4997\n",
      "1539\n",
      "2565\n",
      "31940\n",
      "37\n",
      "39000\n",
      "16892\n",
      "1176\n",
      "120\n",
      "4456\n",
      "677\n",
      "13\n",
      "5813\n",
      "4276\n",
      "10\n",
      "232\n",
      "14222\n",
      "759\n",
      "4064\n",
      "1915\n",
      "527\n",
      "280\n",
      "110\n",
      "61\n",
      "46263\n",
      "578\n",
      "108\n",
      "3522\n",
      "8833\n",
      "412\n",
      "137\n",
      "18185\n",
      "7164\n",
      "2497\n",
      "62\n",
      "531\n",
      "11566\n",
      "11\n",
      "280\n",
      "1020\n",
      "23\n",
      "412\n",
      "5471\n",
      "17\n",
      "502\n",
      "404\n",
      "453\n",
      "74\n",
      "267\n",
      "454\n",
      "5200\n",
      "19843\n",
      "519\n",
      "468\n",
      "19646\n",
      "11688\n",
      "690\n",
      "162\n",
      "684\n",
      "328\n",
      "502\n",
      "8601\n",
      "785\n",
      "597\n",
      "2744\n",
      "454\n",
      "6908\n",
      "11\n",
      "372\n",
      "874\n",
      "582\n",
      "30\n",
      "258\n",
      "505\n",
      "318\n",
      "383\n",
      "571\n",
      "213\n",
      "3504\n",
      "386\n",
      "363\n",
      "27618\n",
      "19869\n",
      "273\n",
      "328\n",
      "159\n",
      "153\n",
      "292\n",
      "13\n",
      "203\n",
      "45\n",
      "4957\n",
      "17845\n",
      "2060\n",
      "539\n",
      "841\n",
      "68\n",
      "55977\n",
      "679\n"
     ]
    },
    {
     "ename": "TypeError",
     "evalue": "'ModeratorRelationship' object is not iterable",
     "output_type": "error",
     "traceback": [
      "\u001b[1;31m\u001b[0m",
      "\u001b[1;31mTypeError\u001b[0mTraceback (most recent call last)",
      "\u001b[1;32m<ipython-input-13-748315975606>\u001b[0m in \u001b[0;36m<module>\u001b[1;34m()\u001b[0m\n\u001b[0;32m     15\u001b[0m \u001b[1;33m\u001b[0m\u001b[0m\n\u001b[0;32m     16\u001b[0m \u001b[1;31m# Obtain the moderator listing for redditdev\u001b[0m\u001b[1;33m\u001b[0m\u001b[1;33m\u001b[0m\u001b[0m\n\u001b[1;32m---> 17\u001b[1;33m \u001b[1;32mfor\u001b[0m \u001b[0mmoderator\u001b[0m \u001b[1;32min\u001b[0m \u001b[0mreddit\u001b[0m\u001b[1;33m.\u001b[0m\u001b[0msubreddit\u001b[0m\u001b[1;33m(\u001b[0m\u001b[1;34m'redditdev'\u001b[0m\u001b[1;33m)\u001b[0m\u001b[1;33m.\u001b[0m\u001b[0mmoderator\u001b[0m\u001b[1;33m:\u001b[0m\u001b[1;33m\u001b[0m\u001b[0m\n\u001b[0m\u001b[0;32m     18\u001b[0m     \u001b[1;32mprint\u001b[0m\u001b[1;33m(\u001b[0m\u001b[0mmoderator\u001b[0m\u001b[1;33m)\u001b[0m\u001b[1;33m\u001b[0m\u001b[0m\n",
      "\u001b[1;31mTypeError\u001b[0m: 'ModeratorRelationship' object is not iterable"
     ]
    }
   ],
   "source": [
    "# Create a submission to /r/test\n",
    "#reddit.subreddit('test').submit('Test Submission', url='https://reddit.com')\n",
    "\n",
    "## Comment on a known submission\n",
    "#submission = reddit.submission(url='https://www.reddit.com/comments/5e1az9')\n",
    "#submission.reply('Super rad!')\n",
    "\n",
    "## Reply to the first comment of a weekly top thread of a moderated community\n",
    "#submission = next(reddit.subreddit('mod').top('week'))\n",
    "#submission.comments[0].reply('An automated reply')\n",
    "\n",
    "# Output score for the first 256 items on the frontpage\n",
    "for submission in reddit.front.hot(limit=256):\n",
    "    print(submission.score)\n",
    "\n",
    "# Obtain the moderator listing for redditdev\n",
    "for moderator in reddit.subreddit('redditdev').moderator:\n",
    "    print(moderator)"
   ]
  },
  {
   "cell_type": "code",
   "execution_count": 9,
   "metadata": {},
   "outputs": [
    {
     "data": {
      "text/plain": [
       "<praw.reddit.Reddit at 0x6578128>"
      ]
     },
     "execution_count": 9,
     "metadata": {},
     "output_type": "execute_result"
    }
   ],
   "source": [
    "reddit.ge"
   ]
  },
  {
   "cell_type": "code",
   "execution_count": 8,
   "metadata": {},
   "outputs": [
    {
     "ename": "AttributeError",
     "evalue": "'Reddit' object has no attribute 'get_subreddit'",
     "output_type": "error",
     "traceback": [
      "\u001b[1;31m\u001b[0m",
      "\u001b[1;31mAttributeError\u001b[0mTraceback (most recent call last)",
      "\u001b[1;32m<ipython-input-8-36f4ef429061>\u001b[0m in \u001b[0;36m<module>\u001b[1;34m()\u001b[0m\n\u001b[1;32m----> 1\u001b[1;33m \u001b[0msubmissions\u001b[0m \u001b[1;33m=\u001b[0m \u001b[0mreddit\u001b[0m\u001b[1;33m.\u001b[0m\u001b[0mget_subreddit\u001b[0m\u001b[1;33m(\u001b[0m\u001b[1;34m'opensource'\u001b[0m\u001b[1;33m)\u001b[0m\u001b[1;33m.\u001b[0m\u001b[0mget_hot\u001b[0m\u001b[1;33m(\u001b[0m\u001b[0mlimit\u001b[0m\u001b[1;33m=\u001b[0m\u001b[1;36m5\u001b[0m\u001b[1;33m)\u001b[0m\u001b[1;33m\u001b[0m\u001b[0m\n\u001b[0m\u001b[0;32m      2\u001b[0m \u001b[1;33m[\u001b[0m\u001b[0mstr\u001b[0m\u001b[1;33m(\u001b[0m\u001b[0mx\u001b[0m\u001b[1;33m)\u001b[0m \u001b[1;32mfor\u001b[0m \u001b[0mx\u001b[0m \u001b[1;32min\u001b[0m \u001b[0msubmissions\u001b[0m\u001b[1;33m]\u001b[0m\u001b[1;33m\u001b[0m\u001b[0m\n",
      "\u001b[1;31mAttributeError\u001b[0m: 'Reddit' object has no attribute 'get_subreddit'"
     ]
    }
   ],
   "source": [
    "submissions = reddit.get_subreddit('opensource').get_hot(limit=5)\n",
    "[str(x) for x in submissions]"
   ]
  },
  {
   "cell_type": "code",
   "execution_count": 4,
   "metadata": {},
   "outputs": [
    {
     "ename": "ClientException",
     "evalue": "Required configuration setting 'client_id' missing. \nThis setting can be provided in a praw.ini file, as a keyword argument to the `Reddit` class constructor, or as an environment variable.",
     "output_type": "error",
     "traceback": [
      "\u001b[1;31m\u001b[0m",
      "\u001b[1;31mClientException\u001b[0mTraceback (most recent call last)",
      "\u001b[1;32m<ipython-input-4-6873b8d7c773>\u001b[0m in \u001b[0;36m<module>\u001b[1;34m()\u001b[0m\n\u001b[0;32m      1\u001b[0m \u001b[0muser_agent\u001b[0m \u001b[1;33m=\u001b[0m \u001b[1;34m\"Karma breakdown 1.0 by /u/_Daimon_\"\u001b[0m\u001b[1;33m\u001b[0m\u001b[0m\n\u001b[1;32m----> 2\u001b[1;33m \u001b[0mr\u001b[0m \u001b[1;33m=\u001b[0m \u001b[0mpraw\u001b[0m\u001b[1;33m.\u001b[0m\u001b[0mReddit\u001b[0m\u001b[1;33m(\u001b[0m\u001b[0muser_agent\u001b[0m\u001b[1;33m=\u001b[0m\u001b[0muser_agent\u001b[0m\u001b[1;33m)\u001b[0m\u001b[1;33m\u001b[0m\u001b[0m\n\u001b[0m",
      "\u001b[1;32mC:\\Users\\jeroe\\Anaconda3\\envs\\python2-twitter\\lib\\site-packages\\praw\\reddit.pyc\u001b[0m in \u001b[0;36m__init__\u001b[1;34m(self, site_name, requestor_class, requestor_kwargs, **config_settings)\u001b[0m\n\u001b[0;32m    148\u001b[0m             if getattr(self.config, attribute) in (self.config.CONFIG_NOT_SET,\n\u001b[0;32m    149\u001b[0m                                                    None):\n\u001b[1;32m--> 150\u001b[1;33m                 \u001b[1;32mraise\u001b[0m \u001b[0mClientException\u001b[0m\u001b[1;33m(\u001b[0m\u001b[0mrequired_message\u001b[0m\u001b[1;33m.\u001b[0m\u001b[0mformat\u001b[0m\u001b[1;33m(\u001b[0m\u001b[0mattribute\u001b[0m\u001b[1;33m)\u001b[0m\u001b[1;33m)\u001b[0m\u001b[1;33m\u001b[0m\u001b[0m\n\u001b[0m\u001b[0;32m    151\u001b[0m         \u001b[1;32mif\u001b[0m \u001b[0mself\u001b[0m\u001b[1;33m.\u001b[0m\u001b[0mconfig\u001b[0m\u001b[1;33m.\u001b[0m\u001b[0mclient_secret\u001b[0m \u001b[1;32mis\u001b[0m \u001b[0mself\u001b[0m\u001b[1;33m.\u001b[0m\u001b[0mconfig\u001b[0m\u001b[1;33m.\u001b[0m\u001b[0mCONFIG_NOT_SET\u001b[0m\u001b[1;33m:\u001b[0m\u001b[1;33m\u001b[0m\u001b[0m\n\u001b[0;32m    152\u001b[0m             raise ClientException(required_message.format('client_secret') +\n",
      "\u001b[1;31mClientException\u001b[0m: Required configuration setting 'client_id' missing. \nThis setting can be provided in a praw.ini file, as a keyword argument to the `Reddit` class constructor, or as an environment variable."
     ]
    }
   ],
   "source": [
    "user_agent = \"Karma breakdown 1.0 by /u/_Daimon_\"\n",
    "r = praw.Reddit(user_agent=user_agent)"
   ]
  },
  {
   "cell_type": "code",
   "execution_count": 5,
   "metadata": {},
   "outputs": [
    {
     "ename": "ClientException",
     "evalue": "Required configuration setting 'client_id' missing. \nThis setting can be provided in a praw.ini file, as a keyword argument to the `Reddit` class constructor, or as an environment variable.",
     "output_type": "error",
     "traceback": [
      "\u001b[1;31m\u001b[0m",
      "\u001b[1;31mClientException\u001b[0mTraceback (most recent call last)",
      "\u001b[1;32m<ipython-input-5-a4269a3b43eb>\u001b[0m in \u001b[0;36m<module>\u001b[1;34m()\u001b[0m\n\u001b[0;32m      1\u001b[0m \u001b[1;32mimport\u001b[0m \u001b[0mpraw\u001b[0m\u001b[1;33m\u001b[0m\u001b[0m\n\u001b[1;32m----> 2\u001b[1;33m \u001b[0mr\u001b[0m \u001b[1;33m=\u001b[0m \u001b[0mpraw\u001b[0m\u001b[1;33m.\u001b[0m\u001b[0mReddit\u001b[0m\u001b[1;33m(\u001b[0m\u001b[0muser_agent\u001b[0m\u001b[1;33m=\u001b[0m\u001b[1;34m'my_cool_application'\u001b[0m\u001b[1;33m)\u001b[0m\u001b[1;33m\u001b[0m\u001b[0m\n\u001b[0m\u001b[0;32m      3\u001b[0m \u001b[0msubmissions\u001b[0m \u001b[1;33m=\u001b[0m \u001b[0mr\u001b[0m\u001b[1;33m.\u001b[0m\u001b[0mget_subreddit\u001b[0m\u001b[1;33m(\u001b[0m\u001b[1;34m'opensource'\u001b[0m\u001b[1;33m)\u001b[0m\u001b[1;33m.\u001b[0m\u001b[0mget_hot\u001b[0m\u001b[1;33m(\u001b[0m\u001b[0mlimit\u001b[0m\u001b[1;33m=\u001b[0m\u001b[1;36m5\u001b[0m\u001b[1;33m)\u001b[0m\u001b[1;33m\u001b[0m\u001b[0m\n\u001b[0;32m      4\u001b[0m \u001b[1;33m[\u001b[0m\u001b[0mstr\u001b[0m\u001b[1;33m(\u001b[0m\u001b[0mx\u001b[0m\u001b[1;33m)\u001b[0m \u001b[1;32mfor\u001b[0m \u001b[0mx\u001b[0m \u001b[1;32min\u001b[0m \u001b[0msubmissions\u001b[0m\u001b[1;33m]\u001b[0m\u001b[1;33m\u001b[0m\u001b[0m\n",
      "\u001b[1;32mC:\\Users\\jeroe\\Anaconda3\\envs\\python2-twitter\\lib\\site-packages\\praw\\reddit.pyc\u001b[0m in \u001b[0;36m__init__\u001b[1;34m(self, site_name, requestor_class, requestor_kwargs, **config_settings)\u001b[0m\n\u001b[0;32m    148\u001b[0m             if getattr(self.config, attribute) in (self.config.CONFIG_NOT_SET,\n\u001b[0;32m    149\u001b[0m                                                    None):\n\u001b[1;32m--> 150\u001b[1;33m                 \u001b[1;32mraise\u001b[0m \u001b[0mClientException\u001b[0m\u001b[1;33m(\u001b[0m\u001b[0mrequired_message\u001b[0m\u001b[1;33m.\u001b[0m\u001b[0mformat\u001b[0m\u001b[1;33m(\u001b[0m\u001b[0mattribute\u001b[0m\u001b[1;33m)\u001b[0m\u001b[1;33m)\u001b[0m\u001b[1;33m\u001b[0m\u001b[0m\n\u001b[0m\u001b[0;32m    151\u001b[0m         \u001b[1;32mif\u001b[0m \u001b[0mself\u001b[0m\u001b[1;33m.\u001b[0m\u001b[0mconfig\u001b[0m\u001b[1;33m.\u001b[0m\u001b[0mclient_secret\u001b[0m \u001b[1;32mis\u001b[0m \u001b[0mself\u001b[0m\u001b[1;33m.\u001b[0m\u001b[0mconfig\u001b[0m\u001b[1;33m.\u001b[0m\u001b[0mCONFIG_NOT_SET\u001b[0m\u001b[1;33m:\u001b[0m\u001b[1;33m\u001b[0m\u001b[0m\n\u001b[0;32m    152\u001b[0m             raise ClientException(required_message.format('client_secret') +\n",
      "\u001b[1;31mClientException\u001b[0m: Required configuration setting 'client_id' missing. \nThis setting can be provided in a praw.ini file, as a keyword argument to the `Reddit` class constructor, or as an environment variable."
     ]
    }
   ],
   "source": [
    "import praw\n",
    "r = praw.Reddit(user_agent='my_cool_application')\n",
    "submissions = r.get_subreddit('opensource').get_hot(limit=5)\n",
    "[str(x) for x in submissions]"
   ]
  },
  {
   "cell_type": "code",
   "execution_count": null,
   "metadata": {},
   "outputs": [],
   "source": [
    "api_dev_nlp"
   ]
  }
 ],
 "metadata": {
  "kernelspec": {
   "display_name": "Python twitter",
   "language": "python",
   "name": "other-env"
  },
  "language_info": {
   "codemirror_mode": {
    "name": "ipython",
    "version": 2
   },
   "file_extension": ".py",
   "mimetype": "text/x-python",
   "name": "python",
   "nbconvert_exporter": "python",
   "pygments_lexer": "ipython2",
   "version": "2.7.15"
  }
 },
 "nbformat": 4,
 "nbformat_minor": 2
}
