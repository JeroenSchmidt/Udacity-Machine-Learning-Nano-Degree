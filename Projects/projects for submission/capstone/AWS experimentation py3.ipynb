{
 "cells": [
  {
   "cell_type": "code",
   "execution_count": 1,
   "metadata": {},
   "outputs": [],
   "source": [
    "import boto3"
   ]
  },
  {
   "cell_type": "code",
   "execution_count": 2,
   "metadata": {},
   "outputs": [],
   "source": [
    "s3 = boto3.resource('s3')"
   ]
  },
  {
   "cell_type": "code",
   "execution_count": null,
   "metadata": {},
   "outputs": [],
   "source": [
    "## if on prem- you need to manualy set the machines time to gmt+0\n",
    "## -2 hours\n",
    "# thanks ITO\n",
    "# \n",
    "# date -s '07 June 2018 13:24:00'"
   ]
  },
  {
   "cell_type": "code",
   "execution_count": 3,
   "metadata": {},
   "outputs": [
    {
     "name": "stdout",
     "output_type": "stream",
     "text": [
      "aws-glue-scripts-680041685499-eu-west-1\n",
      "aws-glue-temporary-680041685499-eu-west-1\n",
      "aws-logs-680041685499-eu-west-1\n",
      "blt-emr-testing\n",
      "blts-data\n",
      "blts-staging-bucket\n",
      "bluenova-imesh-kops-state-store\n",
      "blunova-databricks-data\n",
      "blunova-databricks-poc\n"
     ]
    }
   ],
   "source": [
    "for bucket in s3.buckets.all():\n",
    "    print(bucket.name)"
   ]
  },
  {
   "cell_type": "code",
   "execution_count": 4,
   "metadata": {},
   "outputs": [],
   "source": [
    "ec2 = boto3.client('ec2')"
   ]
  },
  {
   "cell_type": "code",
   "execution_count": 16,
   "metadata": {},
   "outputs": [
    {
     "data": {
      "text/plain": [
       "{'Groups': [],\n",
       " 'Instances': [{'AmiLaunchIndex': 0,\n",
       "   'ImageId': 'ami-ca0135b3',\n",
       "   'InstanceId': 'i-0b5dc48e69d3f5a48',\n",
       "   'InstanceType': 't1.micro',\n",
       "   'KeyName': 'testing-jeroen',\n",
       "   'LaunchTime': datetime.datetime(2018, 6, 7, 13, 53, 23, tzinfo=tzlocal()),\n",
       "   'Monitoring': {'State': 'disabled'},\n",
       "   'Placement': {'AvailabilityZone': 'eu-west-1a',\n",
       "    'GroupName': '',\n",
       "    'Tenancy': 'default'},\n",
       "   'PrivateDnsName': 'ip-172-20-200-91.eu-west-1.compute.internal',\n",
       "   'PrivateIpAddress': '172.20.200.91',\n",
       "   'ProductCodes': [],\n",
       "   'PublicDnsName': '',\n",
       "   'State': {'Code': 0, 'Name': 'pending'},\n",
       "   'StateTransitionReason': '',\n",
       "   'SubnetId': 'subnet-36539650',\n",
       "   'VpcId': 'vpc-70c16f16',\n",
       "   'Architecture': 'x86_64',\n",
       "   'BlockDeviceMappings': [],\n",
       "   'ClientToken': '',\n",
       "   'EbsOptimized': False,\n",
       "   'Hypervisor': 'xen',\n",
       "   'NetworkInterfaces': [{'Attachment': {'AttachTime': datetime.datetime(2018, 6, 7, 13, 53, 23, tzinfo=tzlocal()),\n",
       "      'AttachmentId': 'eni-attach-b5c9b5c6',\n",
       "      'DeleteOnTermination': True,\n",
       "      'DeviceIndex': 0,\n",
       "      'Status': 'attaching'},\n",
       "     'Description': '',\n",
       "     'Groups': [{'GroupName': 'default', 'GroupId': 'sg-3b4cd041'}],\n",
       "     'Ipv6Addresses': [],\n",
       "     'MacAddress': '02:2e:e4:52:84:d8',\n",
       "     'NetworkInterfaceId': 'eni-87f1baa4',\n",
       "     'OwnerId': '680041685499',\n",
       "     'PrivateDnsName': 'ip-172-20-200-91.eu-west-1.compute.internal',\n",
       "     'PrivateIpAddress': '172.20.200.91',\n",
       "     'PrivateIpAddresses': [{'Primary': True,\n",
       "       'PrivateDnsName': 'ip-172-20-200-91.eu-west-1.compute.internal',\n",
       "       'PrivateIpAddress': '172.20.200.91'}],\n",
       "     'SourceDestCheck': True,\n",
       "     'Status': 'in-use',\n",
       "     'SubnetId': 'subnet-36539650',\n",
       "     'VpcId': 'vpc-70c16f16'}],\n",
       "   'RootDeviceName': '/dev/xvda',\n",
       "   'RootDeviceType': 'ebs',\n",
       "   'SecurityGroups': [{'GroupName': 'default', 'GroupId': 'sg-3b4cd041'}],\n",
       "   'SourceDestCheck': True,\n",
       "   'StateReason': {'Code': 'pending', 'Message': 'pending'},\n",
       "   'Tags': [{'Key': 'use', 'Value': 'boto'}],\n",
       "   'VirtualizationType': 'hvm',\n",
       "   'CpuOptions': {'CoreCount': 1, 'ThreadsPerCore': 1}}],\n",
       " 'OwnerId': '680041685499',\n",
       " 'ReservationId': 'r-02bd197eeef631d32',\n",
       " 'ResponseMetadata': {'RequestId': '1ad9b425-a3c9-4e33-98df-707588817367',\n",
       "  'HTTPStatusCode': 200,\n",
       "  'HTTPHeaders': {'content-type': 'text/xml;charset=UTF-8',\n",
       "   'content-length': '4277',\n",
       "   'vary': 'Accept-Encoding',\n",
       "   'date': 'Thu, 07 Jun 2018 13:53:22 GMT',\n",
       "   'server': 'AmazonEC2'},\n",
       "  'RetryAttempts': 0}}"
      ]
     },
     "execution_count": 16,
     "metadata": {},
     "output_type": "execute_result"
    }
   ],
   "source": [
    "ec2.run_instances(\n",
    "        ImageId='ami-ca0135b3',\n",
    "        MinCount=1,\n",
    "        MaxCount=1,\n",
    "        KeyName='testing-jeroen',\n",
    "        InstanceType='t1.micro',\n",
    "        SubnetId='subnet-36539650',\n",
    "        TagSpecifications=[\n",
    "                {\n",
    "                    'ResourceType':'instance',\n",
    "                    'Tags': [\n",
    "                        {\n",
    "                            'Key': 'use',\n",
    "                            'Value': 'boto'\n",
    "                        },\n",
    "                    ]\n",
    "                }]\n",
    "        )"
   ]
  },
  {
   "cell_type": "code",
   "execution_count": 4,
   "metadata": {},
   "outputs": [],
   "source": [
    "def execute_commands_on_linux_instances(client, commands, instance_ids):\n",
    "    \"\"\"Runs commands on remote linux instances\n",
    "    :param client: a boto/boto3 ssm client\n",
    "    :param commands: a list of strings, each one a command to execute on the instances\n",
    "    :param instance_ids: a list of instance_id strings, of the instances on which to execute the command\n",
    "    :return: the response from the send_command function (check the boto3 docs for ssm client.send_command() )\n",
    "    \"\"\"\n",
    "\n",
    "    resp = client.send_command(\n",
    "        DocumentName=\"AWS-RunShellScript\", # One of AWS' preconfigured documents\n",
    "        Parameters={'commands': commands},\n",
    "        InstanceIds=instance_ids,\n",
    "    )\n",
    "    return resp"
   ]
  },
  {
   "cell_type": "code",
   "execution_count": 9,
   "metadata": {},
   "outputs": [
    {
     "ename": "InvalidInstanceId",
     "evalue": "An error occurred (InvalidInstanceId) when calling the SendCommand operation: ",
     "output_type": "error",
     "traceback": [
      "\u001b[0;31m---------------------------------------------------------------------------\u001b[0m",
      "\u001b[0;31mInvalidInstanceId\u001b[0m                         Traceback (most recent call last)",
      "\u001b[0;32m<ipython-input-9-8372033ccf05>\u001b[0m in \u001b[0;36m<module>\u001b[0;34m()\u001b[0m\n\u001b[1;32m      3\u001b[0m \u001b[0mcommands\u001b[0m \u001b[0;34m=\u001b[0m \u001b[0;34m[\u001b[0m\u001b[0;34m'echo \"hello world\"'\u001b[0m\u001b[0;34m]\u001b[0m\u001b[0;34m\u001b[0m\u001b[0m\n\u001b[1;32m      4\u001b[0m \u001b[0minstance_ids\u001b[0m \u001b[0;34m=\u001b[0m \u001b[0;34m[\u001b[0m\u001b[0;34m'i-0b5dc48e69d3f5a48'\u001b[0m\u001b[0;34m]\u001b[0m\u001b[0;34m\u001b[0m\u001b[0m\n\u001b[0;32m----> 5\u001b[0;31m \u001b[0mexecute_commands_on_linux_instances\u001b[0m\u001b[0;34m(\u001b[0m\u001b[0mssm_client\u001b[0m\u001b[0;34m,\u001b[0m \u001b[0mcommands\u001b[0m\u001b[0;34m,\u001b[0m \u001b[0minstance_ids\u001b[0m\u001b[0;34m)\u001b[0m\u001b[0;34m\u001b[0m\u001b[0m\n\u001b[0m",
      "\u001b[0;32m<ipython-input-4-fcdaad8a05a9>\u001b[0m in \u001b[0;36mexecute_commands_on_linux_instances\u001b[0;34m(client, commands, instance_ids)\u001b[0m\n\u001b[1;32m     10\u001b[0m         \u001b[0mDocumentName\u001b[0m\u001b[0;34m=\u001b[0m\u001b[0;34m\"AWS-RunShellScript\"\u001b[0m\u001b[0;34m,\u001b[0m \u001b[0;31m# One of AWS' preconfigured documents\u001b[0m\u001b[0;34m\u001b[0m\u001b[0m\n\u001b[1;32m     11\u001b[0m         \u001b[0mParameters\u001b[0m\u001b[0;34m=\u001b[0m\u001b[0;34m{\u001b[0m\u001b[0;34m'commands'\u001b[0m\u001b[0;34m:\u001b[0m \u001b[0mcommands\u001b[0m\u001b[0;34m}\u001b[0m\u001b[0;34m,\u001b[0m\u001b[0;34m\u001b[0m\u001b[0m\n\u001b[0;32m---> 12\u001b[0;31m         \u001b[0mInstanceIds\u001b[0m\u001b[0;34m=\u001b[0m\u001b[0minstance_ids\u001b[0m\u001b[0;34m,\u001b[0m\u001b[0;34m\u001b[0m\u001b[0m\n\u001b[0m\u001b[1;32m     13\u001b[0m     )\n\u001b[1;32m     14\u001b[0m     \u001b[0;32mreturn\u001b[0m \u001b[0mresp\u001b[0m\u001b[0;34m\u001b[0m\u001b[0m\n",
      "\u001b[0;32m~/miniconda3/envs/aws/lib/python3.6/site-packages/botocore/client.py\u001b[0m in \u001b[0;36m_api_call\u001b[0;34m(self, *args, **kwargs)\u001b[0m\n\u001b[1;32m    312\u001b[0m                     \"%s() only accepts keyword arguments.\" % py_operation_name)\n\u001b[1;32m    313\u001b[0m             \u001b[0;31m# The \"self\" in this scope is referring to the BaseClient.\u001b[0m\u001b[0;34m\u001b[0m\u001b[0;34m\u001b[0m\u001b[0m\n\u001b[0;32m--> 314\u001b[0;31m             \u001b[0;32mreturn\u001b[0m \u001b[0mself\u001b[0m\u001b[0;34m.\u001b[0m\u001b[0m_make_api_call\u001b[0m\u001b[0;34m(\u001b[0m\u001b[0moperation_name\u001b[0m\u001b[0;34m,\u001b[0m \u001b[0mkwargs\u001b[0m\u001b[0;34m)\u001b[0m\u001b[0;34m\u001b[0m\u001b[0m\n\u001b[0m\u001b[1;32m    315\u001b[0m \u001b[0;34m\u001b[0m\u001b[0m\n\u001b[1;32m    316\u001b[0m         \u001b[0m_api_call\u001b[0m\u001b[0;34m.\u001b[0m\u001b[0m__name__\u001b[0m \u001b[0;34m=\u001b[0m \u001b[0mstr\u001b[0m\u001b[0;34m(\u001b[0m\u001b[0mpy_operation_name\u001b[0m\u001b[0;34m)\u001b[0m\u001b[0;34m\u001b[0m\u001b[0m\n",
      "\u001b[0;32m~/miniconda3/envs/aws/lib/python3.6/site-packages/botocore/client.py\u001b[0m in \u001b[0;36m_make_api_call\u001b[0;34m(self, operation_name, api_params)\u001b[0m\n\u001b[1;32m    610\u001b[0m             \u001b[0merror_code\u001b[0m \u001b[0;34m=\u001b[0m \u001b[0mparsed_response\u001b[0m\u001b[0;34m.\u001b[0m\u001b[0mget\u001b[0m\u001b[0;34m(\u001b[0m\u001b[0;34m\"Error\"\u001b[0m\u001b[0;34m,\u001b[0m \u001b[0;34m{\u001b[0m\u001b[0;34m}\u001b[0m\u001b[0;34m)\u001b[0m\u001b[0;34m.\u001b[0m\u001b[0mget\u001b[0m\u001b[0;34m(\u001b[0m\u001b[0;34m\"Code\"\u001b[0m\u001b[0;34m)\u001b[0m\u001b[0;34m\u001b[0m\u001b[0m\n\u001b[1;32m    611\u001b[0m             \u001b[0merror_class\u001b[0m \u001b[0;34m=\u001b[0m \u001b[0mself\u001b[0m\u001b[0;34m.\u001b[0m\u001b[0mexceptions\u001b[0m\u001b[0;34m.\u001b[0m\u001b[0mfrom_code\u001b[0m\u001b[0;34m(\u001b[0m\u001b[0merror_code\u001b[0m\u001b[0;34m)\u001b[0m\u001b[0;34m\u001b[0m\u001b[0m\n\u001b[0;32m--> 612\u001b[0;31m             \u001b[0;32mraise\u001b[0m \u001b[0merror_class\u001b[0m\u001b[0;34m(\u001b[0m\u001b[0mparsed_response\u001b[0m\u001b[0;34m,\u001b[0m \u001b[0moperation_name\u001b[0m\u001b[0;34m)\u001b[0m\u001b[0;34m\u001b[0m\u001b[0m\n\u001b[0m\u001b[1;32m    613\u001b[0m         \u001b[0;32melse\u001b[0m\u001b[0;34m:\u001b[0m\u001b[0;34m\u001b[0m\u001b[0m\n\u001b[1;32m    614\u001b[0m             \u001b[0;32mreturn\u001b[0m \u001b[0mparsed_response\u001b[0m\u001b[0;34m\u001b[0m\u001b[0m\n",
      "\u001b[0;31mInvalidInstanceId\u001b[0m: An error occurred (InvalidInstanceId) when calling the SendCommand operation: "
     ]
    }
   ],
   "source": [
    "# Example use:\n",
    "ssm_client = boto3.client('ssm') # Need your credentials here\n",
    "commands = ['echo \"hello world\"']\n",
    "instance_ids = ['i-0b5dc48e69d3f5a48']\n",
    "execute_commands_on_linux_instances(ssm_client, commands, instance_ids)"
   ]
  },
  {
   "cell_type": "code",
   "execution_count": 10,
   "metadata": {},
   "outputs": [
    {
     "name": "stdout",
     "output_type": "stream",
     "text": [
      "/usr/bin/sh: aws: command not found\r\n"
     ]
    }
   ],
   "source": [
    "! aws ssm describe-instance-information --output text"
   ]
  },
  {
   "cell_type": "code",
   "execution_count": 11,
   "metadata": {},
   "outputs": [
    {
     "name": "stdout",
     "output_type": "stream",
     "text": [
      "/usr/bin/sh: aws-cli: command not found\r\n"
     ]
    }
   ],
   "source": [
    "! aws-cli"
   ]
  },
  {
   "cell_type": "code",
   "execution_count": null,
   "metadata": {},
   "outputs": [],
   "source": []
  }
 ],
 "metadata": {
  "kernelspec": {
   "display_name": "aws",
   "language": "python",
   "name": "aws"
  },
  "language_info": {
   "codemirror_mode": {
    "name": "ipython",
    "version": 3
   },
   "file_extension": ".py",
   "mimetype": "text/x-python",
   "name": "python",
   "nbconvert_exporter": "python",
   "pygments_lexer": "ipython3",
   "version": "3.6.5"
  }
 },
 "nbformat": 4,
 "nbformat_minor": 2
}
