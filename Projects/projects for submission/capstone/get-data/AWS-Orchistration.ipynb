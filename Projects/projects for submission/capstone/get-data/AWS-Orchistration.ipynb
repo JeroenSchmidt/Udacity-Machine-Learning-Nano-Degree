{
 "cells": [
  {
   "cell_type": "markdown",
   "metadata": {},
   "source": [
    "Things that need to be done:\n",
    "* create IAM role for boto, \n",
    "\n",
    "You now want to give boto account the following permisions:\n",
    "* full ec2 creation access - or just enough to spin it up and run ssm commands on it\n",
    "* create a policy that allows the boto account to assign a ssm role to ec2 instance\n",
    "\n",
    "Create a role to assign ec2 instances:\n",
    "* this role should give the ec2 instance permision to access the ssm API\n",
    "\n"
   ]
  },
  {
   "cell_type": "markdown",
   "metadata": {},
   "source": [
    "NOTE: \n",
    "* You need your RTC time to be synched to the amazon UTC time\n",
    "* Your local time can be set to your local time (GTM zone)"
   ]
  },
  {
   "cell_type": "markdown",
   "metadata": {},
   "source": [
    "# Start Boto"
   ]
  },
  {
   "cell_type": "code",
   "execution_count": 5,
   "metadata": {
    "ExecuteTime": {
     "end_time": "2018-06-22T21:01:42.372249Z",
     "start_time": "2018-06-22T21:01:42.366791Z"
    }
   },
   "outputs": [],
   "source": [
    "import boto3 as bt3"
   ]
  },
  {
   "cell_type": "code",
   "execution_count": 6,
   "metadata": {
    "ExecuteTime": {
     "end_time": "2018-06-22T21:01:42.635545Z",
     "start_time": "2018-06-22T21:01:42.615026Z"
    }
   },
   "outputs": [],
   "source": [
    "boto3 = bt3.Session(profile_name='personal',region_name='eu-west-1')"
   ]
  },
  {
   "cell_type": "code",
   "execution_count": 7,
   "metadata": {
    "ExecuteTime": {
     "end_time": "2018-06-22T21:01:43.101367Z",
     "start_time": "2018-06-22T21:01:42.929540Z"
    }
   },
   "outputs": [],
   "source": [
    "s3 = boto3.resource('s3')"
   ]
  },
  {
   "cell_type": "code",
   "execution_count": 8,
   "metadata": {
    "ExecuteTime": {
     "end_time": "2018-06-22T21:01:49.526323Z",
     "start_time": "2018-06-22T21:01:43.368922Z"
    }
   },
   "outputs": [
    {
     "name": "stdout",
     "output_type": "stream",
     "text": [
      "jeroens-bucket\n",
      "lauren-backups\n"
     ]
    }
   ],
   "source": [
    "for bucket in s3.buckets.all():\n",
    "    print(bucket.name)"
   ]
  },
  {
   "cell_type": "markdown",
   "metadata": {},
   "source": [
    "# Generate Query"
   ]
  },
  {
   "cell_type": "code",
   "execution_count": 8,
   "metadata": {
    "ExecuteTime": {
     "end_time": "2018-06-22T05:40:51.733738Z",
     "start_time": "2018-06-22T05:40:51.730440Z"
    }
   },
   "outputs": [],
   "source": [
    "# generate date ranges\n",
    "import datetime\n",
    "\n",
    "#start = datetime.datetime.strptime(\"01-01-2016\", \"%d-%m-%Y\")\n",
    "start = datetime.datetime.strptime(\"28-11-2017\", \"%d-%m-%Y\")\n",
    "end = datetime.datetime.strptime(\"30-12-2017\", \"%d-%m-%Y\")\n",
    "dates_generated = [start + datetime.timedelta(days=x) for x in range(0, (end-start).days)]"
   ]
  },
  {
   "cell_type": "code",
   "execution_count": 9,
   "metadata": {
    "ExecuteTime": {
     "end_time": "2018-06-22T05:40:52.077363Z",
     "start_time": "2018-06-22T05:40:52.067785Z"
    }
   },
   "outputs": [
    {
     "data": {
      "text/plain": [
       "[datetime.datetime(2017, 11, 28, 0, 0),\n",
       " datetime.datetime(2017, 11, 29, 0, 0),\n",
       " datetime.datetime(2017, 11, 30, 0, 0),\n",
       " datetime.datetime(2017, 12, 1, 0, 0),\n",
       " datetime.datetime(2017, 12, 2, 0, 0),\n",
       " datetime.datetime(2017, 12, 3, 0, 0),\n",
       " datetime.datetime(2017, 12, 4, 0, 0),\n",
       " datetime.datetime(2017, 12, 5, 0, 0),\n",
       " datetime.datetime(2017, 12, 6, 0, 0),\n",
       " datetime.datetime(2017, 12, 7, 0, 0),\n",
       " datetime.datetime(2017, 12, 8, 0, 0),\n",
       " datetime.datetime(2017, 12, 9, 0, 0),\n",
       " datetime.datetime(2017, 12, 10, 0, 0),\n",
       " datetime.datetime(2017, 12, 11, 0, 0),\n",
       " datetime.datetime(2017, 12, 12, 0, 0),\n",
       " datetime.datetime(2017, 12, 13, 0, 0),\n",
       " datetime.datetime(2017, 12, 14, 0, 0),\n",
       " datetime.datetime(2017, 12, 15, 0, 0),\n",
       " datetime.datetime(2017, 12, 16, 0, 0),\n",
       " datetime.datetime(2017, 12, 17, 0, 0),\n",
       " datetime.datetime(2017, 12, 18, 0, 0),\n",
       " datetime.datetime(2017, 12, 19, 0, 0),\n",
       " datetime.datetime(2017, 12, 20, 0, 0),\n",
       " datetime.datetime(2017, 12, 21, 0, 0),\n",
       " datetime.datetime(2017, 12, 22, 0, 0),\n",
       " datetime.datetime(2017, 12, 23, 0, 0),\n",
       " datetime.datetime(2017, 12, 24, 0, 0),\n",
       " datetime.datetime(2017, 12, 25, 0, 0),\n",
       " datetime.datetime(2017, 12, 26, 0, 0),\n",
       " datetime.datetime(2017, 12, 27, 0, 0),\n",
       " datetime.datetime(2017, 12, 28, 0, 0),\n",
       " datetime.datetime(2017, 12, 29, 0, 0)]"
      ]
     },
     "execution_count": 9,
     "metadata": {},
     "output_type": "execute_result"
    }
   ],
   "source": [
    "dates_generated"
   ]
  },
  {
   "cell_type": "code",
   "execution_count": 10,
   "metadata": {
    "ExecuteTime": {
     "end_time": "2018-06-22T05:40:53.140186Z",
     "start_time": "2018-06-22T05:40:53.136445Z"
    }
   },
   "outputs": [
    {
     "data": {
      "text/plain": [
       "32"
      ]
     },
     "execution_count": 10,
     "metadata": {},
     "output_type": "execute_result"
    }
   ],
   "source": [
    "len(dates_generated)"
   ]
  },
  {
   "cell_type": "code",
   "execution_count": 11,
   "metadata": {
    "ExecuteTime": {
     "end_time": "2018-06-22T05:41:04.989918Z",
     "start_time": "2018-06-22T05:41:04.984373Z"
    }
   },
   "outputs": [
    {
     "data": {
      "text/plain": [
       "[datetime.datetime(2017, 12, 24, 0, 0),\n",
       " datetime.datetime(2017, 12, 26, 0, 0),\n",
       " datetime.datetime(2017, 11, 29, 0, 0),\n",
       " datetime.datetime(2017, 12, 6, 0, 0),\n",
       " datetime.datetime(2017, 12, 20, 0, 0),\n",
       " datetime.datetime(2017, 12, 12, 0, 0),\n",
       " datetime.datetime(2017, 12, 16, 0, 0),\n",
       " datetime.datetime(2017, 12, 27, 0, 0),\n",
       " datetime.datetime(2017, 12, 10, 0, 0),\n",
       " datetime.datetime(2017, 12, 17, 0, 0),\n",
       " datetime.datetime(2017, 12, 25, 0, 0),\n",
       " datetime.datetime(2017, 12, 3, 0, 0),\n",
       " datetime.datetime(2017, 12, 22, 0, 0),\n",
       " datetime.datetime(2017, 12, 23, 0, 0),\n",
       " datetime.datetime(2017, 11, 28, 0, 0),\n",
       " datetime.datetime(2017, 12, 14, 0, 0),\n",
       " datetime.datetime(2017, 12, 8, 0, 0),\n",
       " datetime.datetime(2017, 12, 28, 0, 0),\n",
       " datetime.datetime(2017, 12, 7, 0, 0),\n",
       " datetime.datetime(2017, 12, 9, 0, 0),\n",
       " datetime.datetime(2017, 12, 1, 0, 0),\n",
       " datetime.datetime(2017, 12, 18, 0, 0),\n",
       " datetime.datetime(2017, 12, 4, 0, 0),\n",
       " datetime.datetime(2017, 12, 11, 0, 0),\n",
       " datetime.datetime(2017, 12, 19, 0, 0),\n",
       " datetime.datetime(2017, 12, 13, 0, 0),\n",
       " datetime.datetime(2017, 12, 15, 0, 0),\n",
       " datetime.datetime(2017, 11, 30, 0, 0),\n",
       " datetime.datetime(2017, 12, 5, 0, 0),\n",
       " datetime.datetime(2017, 12, 21, 0, 0),\n",
       " datetime.datetime(2017, 12, 2, 0, 0),\n",
       " datetime.datetime(2017, 12, 29, 0, 0)]"
      ]
     },
     "execution_count": 11,
     "metadata": {},
     "output_type": "execute_result"
    }
   ],
   "source": [
    "# shuffle the dates around so that we dont have monotoicly increasing dates per instance\n",
    "from random import shuffle\n",
    "shuffle(dates_generated)\n",
    "dates_generated"
   ]
  },
  {
   "cell_type": "code",
   "execution_count": 14,
   "metadata": {
    "ExecuteTime": {
     "end_time": "2018-06-22T05:41:26.434641Z",
     "start_time": "2018-06-22T05:41:26.430364Z"
    }
   },
   "outputs": [],
   "source": [
    "# generate dates that need to be queried\n",
    "\n",
    "date_ranges_str = []\n",
    "counter = 0\n",
    "query = ''\n",
    "\n",
    "#days_per_node = 41\n",
    "days_per_node = 2\n",
    "\n",
    "\n",
    "for date in dates_generated:\n",
    "    counter += 1\n",
    "    if counter <= days_per_node-1:\n",
    "        query = query + date.strftime(\"%Y-%m-%d\") + \";\"\n",
    "    elif counter == days_per_node:\n",
    "        query = query + date.strftime(\"%Y-%m-%d\")\n",
    "        date_ranges_str.append(query)\n",
    "        counter = 0\n",
    "        query = ''#date.strftime(\"%Y-%m-%d\") + \";\"\n",
    "\n",
    "if counter <= days_per_node:        \n",
    "    date_ranges_str.append(query[0:-2])"
   ]
  },
  {
   "cell_type": "code",
   "execution_count": 15,
   "metadata": {
    "ExecuteTime": {
     "end_time": "2018-06-22T05:41:26.880175Z",
     "start_time": "2018-06-22T05:41:26.875502Z"
    }
   },
   "outputs": [
    {
     "data": {
      "text/plain": [
       "2.6666666666666665"
      ]
     },
     "execution_count": 15,
     "metadata": {},
     "output_type": "execute_result"
    }
   ],
   "source": [
    "days_per_node*80/60"
   ]
  },
  {
   "cell_type": "code",
   "execution_count": 16,
   "metadata": {
    "ExecuteTime": {
     "end_time": "2018-06-22T05:41:27.303651Z",
     "start_time": "2018-06-22T05:41:27.298215Z"
    }
   },
   "outputs": [
    {
     "data": {
      "text/plain": [
       "''"
      ]
     },
     "execution_count": 16,
     "metadata": {},
     "output_type": "execute_result"
    }
   ],
   "source": [
    "query"
   ]
  },
  {
   "cell_type": "code",
   "execution_count": 33,
   "metadata": {
    "ExecuteTime": {
     "end_time": "2018-06-22T05:43:41.498965Z",
     "start_time": "2018-06-22T05:43:41.496276Z"
    }
   },
   "outputs": [],
   "source": [
    "# generate complete query for eth\n",
    "\n",
    "eth_queries = []\n",
    "for date_range_q in date_ranges_str:\n",
    "    query = 'su ec2-user -l -c \"python ~/GetOldTweets-python/crypto.py --querysearch \\'ethereum\\' --days ' + \"\\'\"+date_range_q+'\\'\"'\n",
    "    eth_queries.append(query)\n"
   ]
  },
  {
   "cell_type": "code",
   "execution_count": 34,
   "metadata": {
    "ExecuteTime": {
     "end_time": "2018-06-22T05:43:41.664881Z",
     "start_time": "2018-06-22T05:43:41.658741Z"
    }
   },
   "outputs": [
    {
     "data": {
      "text/plain": [
       "17"
      ]
     },
     "execution_count": 34,
     "metadata": {},
     "output_type": "execute_result"
    }
   ],
   "source": [
    "eth_nodes_needed = len(eth_queries)\n",
    "eth_nodes_needed"
   ]
  },
  {
   "cell_type": "code",
   "execution_count": 35,
   "metadata": {
    "ExecuteTime": {
     "end_time": "2018-06-22T05:43:41.824151Z",
     "start_time": "2018-06-22T05:43:41.816709Z"
    }
   },
   "outputs": [],
   "source": [
    "# generate complete query for eth\n",
    "\n",
    "bitcoin_queries = []\n",
    "for date_range_q in date_ranges_str:\n",
    "    query = 'su ec2-user -l -c \"python ~/GetOldTweets-python/crypto.py --querysearch \\'bitcoin\\' --maxTweets \\'150000\\' --days ' + \"\\'\"+date_range_q+'\\'\"'\n",
    "    bitcoin_queries.append(query)\n"
   ]
  },
  {
   "cell_type": "code",
   "execution_count": 36,
   "metadata": {
    "ExecuteTime": {
     "end_time": "2018-06-22T05:43:42.176672Z",
     "start_time": "2018-06-22T05:43:42.169325Z"
    }
   },
   "outputs": [
    {
     "data": {
      "text/plain": [
       "17"
      ]
     },
     "execution_count": 36,
     "metadata": {},
     "output_type": "execute_result"
    }
   ],
   "source": [
    "btc_nodes_needed = len(bitcoin_queries)\n",
    "btc_nodes_needed"
   ]
  },
  {
   "cell_type": "markdown",
   "metadata": {},
   "source": [
    "# Define bash execution Function"
   ]
  },
  {
   "cell_type": "markdown",
   "metadata": {},
   "source": [
    "[docs on send_command paramaters](https://docs.aws.amazon.com/systems-manager/latest/userguide/sysman-paramstore-versions.html)"
   ]
  },
  {
   "cell_type": "code",
   "execution_count": 21,
   "metadata": {
    "ExecuteTime": {
     "end_time": "2018-06-22T05:41:47.835034Z",
     "start_time": "2018-06-22T05:41:47.830114Z"
    }
   },
   "outputs": [],
   "source": [
    "def execute_commands_on_linux_instances(client, commands, instance_ids,output_logs='boto-logs'):\n",
    "    \"\"\"Runs commands on remote linux instances\n",
    "    :param client: a boto/boto3 ssm client\n",
    "    :param commands: a list of strings, each one a command to execute on the instances\n",
    "    :param instance_ids: a list of instance_id strings, of the instances on which to execute the command\n",
    "    :return: the response from the send_command function (check the boto3 docs for ssm client.send_command() )\n",
    "    \"\"\"\n",
    "    \n",
    "    # allows the command to run for 3 days\n",
    "    run_time = 60*60*24*3\n",
    "    \n",
    "    # execution time - max 2 houts\n",
    "    execution_time = \"172800\"\n",
    "    \n",
    "    resp = client.send_command(\n",
    "        DocumentName=\"AWS-RunShellScript\", # One of AWS' preconfigured documents\n",
    "        Parameters={'commands': commands,\n",
    "                    'executionTimeout':[execution_time]},\n",
    "        TimeoutSeconds=run_time,\n",
    "        InstanceIds=instance_ids,\n",
    "        OutputS3BucketName='jeroens-bucket',\n",
    "        OutputS3KeyPrefix=output_logs\n",
    "    )\n",
    "    return resp"
   ]
  },
  {
   "cell_type": "markdown",
   "metadata": {},
   "source": [
    "# Define Ec2"
   ]
  },
  {
   "cell_type": "code",
   "execution_count": 22,
   "metadata": {
    "ExecuteTime": {
     "end_time": "2018-06-22T05:41:53.601419Z",
     "start_time": "2018-06-22T05:41:53.549747Z"
    }
   },
   "outputs": [],
   "source": [
    "ec2 = boto3.client('ec2')"
   ]
  },
  {
   "cell_type": "code",
   "execution_count": 23,
   "metadata": {
    "ExecuteTime": {
     "end_time": "2018-06-22T05:41:55.613916Z",
     "start_time": "2018-06-22T05:41:55.610328Z"
    }
   },
   "outputs": [],
   "source": [
    "IAM_profile = {\n",
    "        'Arn': 'arn:aws:iam::937520633893:instance-profile/EC2=S3+SSM'\n",
    "    }\n",
    "\n",
    "\n",
    "\n",
    "ami='ami-74e8eb9e'\n",
    "key='jeroen-R-studio'\n",
    "subnet='subnet-17a89c4f'\n",
    "security_group=['sg-1c540361']\n",
    "\n",
    "instance_market_options={\n",
    "        'MarketType': 'spot',\n",
    "        'SpotOptions': {\n",
    "            'MaxPrice': '0.006',\n",
    "            'SpotInstanceType': 'one-time',\n",
    "            'InstanceInterruptionBehavior': 'terminate'\n",
    "        }\n",
    "}"
   ]
  },
  {
   "cell_type": "markdown",
   "metadata": {},
   "source": [
    "# Spin up Ec2 instances for Eth"
   ]
  },
  {
   "cell_type": "markdown",
   "metadata": {},
   "source": [
    "* if you want to run an isntance with an IAM role - the boto credentials need to have some admin rights\n",
    "https://stackoverflow.com/questions/27266400/launching-ec-instance-a-client-error-unauthorizedoperation-occurred-when-ca\n",
    "\n",
    "For a more in depth explination:\n",
    "* https://aws.amazon.com/blogs/security/granting-permission-to-launch-ec2-instances-with-iam-roles-passrole-permission/"
   ]
  },
  {
   "cell_type": "code",
   "execution_count": 20,
   "metadata": {
    "ExecuteTime": {
     "end_time": "2018-06-19T08:18:58.434673Z",
     "start_time": "2018-06-19T08:18:58.429723Z"
    }
   },
   "outputs": [],
   "source": [
    "tags = [\n",
    "                {\n",
    "                    'ResourceType':'instance',\n",
    "                    'Tags': [\n",
    "                        {\n",
    "                            'Key': 'use',\n",
    "                            'Value': 'eth'\n",
    "                        },\n",
    "                    ]\n",
    "                }]"
   ]
  },
  {
   "cell_type": "code",
   "execution_count": 21,
   "metadata": {
    "ExecuteTime": {
     "end_time": "2018-06-19T08:19:03.884800Z",
     "start_time": "2018-06-19T08:18:58.656140Z"
    }
   },
   "outputs": [],
   "source": [
    "eth_instances = ec2.run_instances(\n",
    "        ImageId=ami,\n",
    "        MinCount=eth_nodes_needed,\n",
    "        MaxCount=eth_nodes_needed,\n",
    "        KeyName=key,\n",
    "        InstanceType='t1.micro',\n",
    "        SubnetId=subnet,\n",
    "        TagSpecifications=tags,\n",
    "        IamInstanceProfile=IAM_profile,\n",
    "        SecurityGroupIds=security_group,\n",
    "        InstanceMarketOptions=instance_market_options,\n",
    "        InstanceInitiatedShutdownBehavior='terminate'\n",
    "        )"
   ]
  },
  {
   "cell_type": "code",
   "execution_count": 22,
   "metadata": {
    "ExecuteTime": {
     "end_time": "2018-06-19T08:19:03.892673Z",
     "start_time": "2018-06-19T08:19:03.886981Z"
    },
    "scrolled": false
   },
   "outputs": [
    {
     "data": {
      "text/plain": [
       "['i-0b7dde412b20b300c',\n",
       " 'i-0cb1f0579dfa994cf',\n",
       " 'i-0cacb853dc90d018a',\n",
       " 'i-071b4a815ce553bce',\n",
       " 'i-085c7b377ec11de73',\n",
       " 'i-05c073e808afba56d',\n",
       " 'i-0e5c0361f7950c7e4',\n",
       " 'i-068809c367e5d00a6',\n",
       " 'i-09ef1b7fbfd021997',\n",
       " 'i-0d95b5370da10d4ff',\n",
       " 'i-0ec080b9987858e0a',\n",
       " 'i-0503fc3e5410e8c4a',\n",
       " 'i-07c8b55335ef73787',\n",
       " 'i-00ce609e9bbe009b5',\n",
       " 'i-0e071df7c736a4ad8',\n",
       " 'i-0e02ba8b741d97887',\n",
       " 'i-09cbf75163a1ba545',\n",
       " 'i-012f5609cebbf713a',\n",
       " 'i-0cd92477abc8bccf3',\n",
       " 'i-0d51a5a8f7ff4cb2d',\n",
       " 'i-0b2e149ea494754fe',\n",
       " 'i-0fdb129cc134029ac']"
      ]
     },
     "execution_count": 22,
     "metadata": {},
     "output_type": "execute_result"
    }
   ],
   "source": [
    "eth_instance_ids = []\n",
    "for instance in eth_instances.get(\"Instances\"):\n",
    "    eth_instance_ids.append(instance.get(\"InstanceId\"))\n",
    "    \n",
    "eth_instance_ids"
   ]
  },
  {
   "cell_type": "markdown",
   "metadata": {},
   "source": [
    "## Run commands"
   ]
  },
  {
   "cell_type": "code",
   "execution_count": 23,
   "metadata": {
    "ExecuteTime": {
     "end_time": "2018-06-19T08:19:03.909970Z",
     "start_time": "2018-06-19T08:19:03.894541Z"
    }
   },
   "outputs": [
    {
     "data": {
      "text/plain": [
       "'su ec2-user -l -c \"python ~/GetOldTweets-python/crypto.py --querysearch \\'ethereum\\' --days \\'2016-04-12;2018-05-18;2017-04-01;2018-02-22;2017-09-27;2016-06-09;2016-10-26;2016-04-09;2017-07-15;2017-05-19;2017-09-09;2017-04-27;2017-05-28;2016-03-23;2016-01-29;2018-05-06;2018-05-17;2018-02-09;2016-01-12;2017-07-2\\'\"'"
      ]
     },
     "execution_count": 23,
     "metadata": {},
     "output_type": "execute_result"
    }
   ],
   "source": [
    "eth_queries[-1]"
   ]
  },
  {
   "cell_type": "code",
   "execution_count": 24,
   "metadata": {
    "ExecuteTime": {
     "end_time": "2018-06-19T08:20:08.942661Z",
     "start_time": "2018-06-19T08:19:59.345779Z"
    }
   },
   "outputs": [
    {
     "name": "stdout",
     "output_type": "stream",
     "text": [
      "i-0b7dde412b20b300c\n",
      "i-0cb1f0579dfa994cf\n",
      "i-0cacb853dc90d018a\n",
      "i-071b4a815ce553bce\n",
      "i-085c7b377ec11de73\n",
      "i-05c073e808afba56d\n",
      "i-0e5c0361f7950c7e4\n",
      "i-068809c367e5d00a6\n",
      "i-09ef1b7fbfd021997\n",
      "i-0d95b5370da10d4ff\n",
      "i-0ec080b9987858e0a\n",
      "i-0503fc3e5410e8c4a\n",
      "i-07c8b55335ef73787\n",
      "i-00ce609e9bbe009b5\n",
      "i-0e071df7c736a4ad8\n",
      "i-0e02ba8b741d97887\n",
      "i-09cbf75163a1ba545\n",
      "i-012f5609cebbf713a\n",
      "i-0cd92477abc8bccf3\n",
      "i-0d51a5a8f7ff4cb2d\n",
      "i-0b2e149ea494754fe\n",
      "i-0fdb129cc134029ac\n"
     ]
    }
   ],
   "source": [
    "ssm_client = boto3.client('ssm') \n",
    "\n",
    "eth_responseses = []\n",
    "\n",
    "for instance_id, query in list(zip(eth_instance_ids,eth_queries)):\n",
    "    print(instance_id)\n",
    "    #print(type(query))\n",
    "    responses = execute_commands_on_linux_instances(ssm_client, [query,\"poweroff\"], [instance_id],output_logs='boto-logs/eth/19-06-2018/')\n",
    "    eth_responseses.append(responses)\n"
   ]
  },
  {
   "cell_type": "code",
   "execution_count": 25,
   "metadata": {
    "ExecuteTime": {
     "end_time": "2018-06-19T08:20:08.949429Z",
     "start_time": "2018-06-19T08:20:08.945372Z"
    }
   },
   "outputs": [
    {
     "name": "stdout",
     "output_type": "stream",
     "text": [
      "f981afbd-cc8b-4a6a-acc5-2381267a1d3c\n",
      "7689da4c-e61b-4757-b67c-4f0f54573fad\n",
      "1bc31538-cfa0-4ca6-96f8-b9af682757b4\n",
      "6d620281-4d33-4246-9b03-b3e37abc3b0e\n",
      "cc8ce4bb-32a2-41da-aad2-edfb0e7d0d4c\n",
      "b73c24be-2ae1-4e7b-85b9-60a0c36b076d\n",
      "e4cdf45b-351f-4ee0-89bb-c888a4d1e3ba\n",
      "4dac30ab-925c-418b-bd58-1158ba1616d8\n",
      "cbda838e-cf93-42f6-90b6-dab126c7b130\n",
      "f67e7401-e9cb-436c-938d-f9eaedaf6394\n",
      "ecc1eaea-adb3-4db7-b3b6-13bf383511bb\n",
      "3cb3230c-ecb3-43a4-97ea-b843d0719888\n",
      "f6057bb6-339a-44b6-bacd-0fcc1fb7fbfe\n",
      "a60dea8d-da6f-4ef8-80f9-9ccfea73d58e\n",
      "2c3d527a-0555-4a3d-abeb-ed6adf503ec3\n",
      "20d65f82-fe7a-4a35-bca0-8a4d609e1434\n",
      "050d9655-f9e8-4015-b1bb-5db3bbe76ef4\n",
      "d2131b06-49d1-40cb-a001-11549c4c0455\n",
      "ee192ee8-6e11-4ead-a2f0-296b34a7b5ae\n",
      "1a5665d5-139f-4e62-9840-d9ecd09a5483\n",
      "d016df1c-f1aa-40eb-90af-ffddab9f3693\n",
      "23d2012a-673b-4a42-9e42-088dbc5139bf\n"
     ]
    }
   ],
   "source": [
    "# list command-ids\n",
    "for response in eth_responseses:\n",
    "    command_id = response[\"Command\"][\"CommandId\"]\n",
    "    print(command_id)"
   ]
  },
  {
   "cell_type": "code",
   "execution_count": 94,
   "metadata": {
    "ExecuteTime": {
     "end_time": "2018-06-17T19:05:55.093193Z",
     "start_time": "2018-06-17T19:05:48.421946Z"
    }
   },
   "outputs": [],
   "source": [
    "# kill commands\n",
    "kill_eth_commands = False\n",
    "\n",
    "if kill_eth_commands == True:\n",
    "    for response in eth_responseses:\n",
    "        command_id = response[\"Command\"][\"CommandId\"]\n",
    "        ssm_client.cancel_command(CommandId=command_id)"
   ]
  },
  {
   "cell_type": "markdown",
   "metadata": {},
   "source": [
    "# Spin up Ec2 instances for Bitcoin"
   ]
  },
  {
   "cell_type": "code",
   "execution_count": 26,
   "metadata": {
    "ExecuteTime": {
     "end_time": "2018-06-22T05:42:23.677921Z",
     "start_time": "2018-06-22T05:42:23.669414Z"
    }
   },
   "outputs": [],
   "source": [
    "tags = [\n",
    "                {\n",
    "                    'ResourceType':'instance',\n",
    "                    'Tags': [\n",
    "                        {\n",
    "                            'Key': 'use',\n",
    "                            'Value': 'btc'\n",
    "                        },\n",
    "                    ]\n",
    "                }]"
   ]
  },
  {
   "cell_type": "code",
   "execution_count": 27,
   "metadata": {
    "ExecuteTime": {
     "end_time": "2018-06-22T05:42:23.944033Z",
     "start_time": "2018-06-22T05:42:23.932094Z"
    }
   },
   "outputs": [],
   "source": [
    "ec2 = boto3.client('ec2')"
   ]
  },
  {
   "cell_type": "code",
   "execution_count": 28,
   "metadata": {
    "ExecuteTime": {
     "end_time": "2018-06-22T05:42:29.735462Z",
     "start_time": "2018-06-22T05:42:24.177609Z"
    }
   },
   "outputs": [],
   "source": [
    "btc_instances = ec2.run_instances(\n",
    "        ImageId=ami,\n",
    "        MinCount=btc_nodes_needed,\n",
    "        MaxCount=btc_nodes_needed,\n",
    "        KeyName=key,\n",
    "        InstanceType='t1.micro',\n",
    "        SubnetId=subnet,\n",
    "        TagSpecifications=tags,\n",
    "        IamInstanceProfile=IAM_profile,\n",
    "        SecurityGroupIds=security_group,\n",
    "        InstanceMarketOptions=instance_market_options,\n",
    "        InstanceInitiatedShutdownBehavior='terminate'\n",
    "        )"
   ]
  },
  {
   "cell_type": "code",
   "execution_count": 29,
   "metadata": {
    "ExecuteTime": {
     "end_time": "2018-06-22T05:42:29.743490Z",
     "start_time": "2018-06-22T05:42:29.738315Z"
    },
    "scrolled": false
   },
   "outputs": [
    {
     "data": {
      "text/plain": [
       "['i-002253254abc15890',\n",
       " 'i-09eb9ebf0593fc2ad',\n",
       " 'i-0a5142385c6d2419a',\n",
       " 'i-0cfa1d5a7628bf268',\n",
       " 'i-0711a8c0ce2c53920',\n",
       " 'i-044b196abc46dc3bf',\n",
       " 'i-0f78f580ff8080e15',\n",
       " 'i-00c8044e77fa370a4',\n",
       " 'i-069cdf5d1489af393',\n",
       " 'i-0bb3cbb03af6d5eb5',\n",
       " 'i-0b6f6a918df29bf0e',\n",
       " 'i-0a152486d56d52e58',\n",
       " 'i-07842b6b52c5685c2',\n",
       " 'i-0c068603db5d95a0b',\n",
       " 'i-034717ab0ef0f2973',\n",
       " 'i-0f343398682685d11',\n",
       " 'i-0d9e0c3c94a67a896']"
      ]
     },
     "execution_count": 29,
     "metadata": {},
     "output_type": "execute_result"
    }
   ],
   "source": [
    "instance_ids = []\n",
    "for instance in btc_instances.get(\"Instances\"):\n",
    "    instance_ids.append(instance.get(\"InstanceId\"))\n",
    "    \n",
    "instance_ids"
   ]
  },
  {
   "cell_type": "markdown",
   "metadata": {},
   "source": [
    "## Run commands"
   ]
  },
  {
   "cell_type": "code",
   "execution_count": 38,
   "metadata": {
    "ExecuteTime": {
     "end_time": "2018-06-22T05:43:52.447119Z",
     "start_time": "2018-06-22T05:43:52.443775Z"
    }
   },
   "outputs": [
    {
     "data": {
      "text/plain": [
       "'su ec2-user -l -c \"python ~/GetOldTweets-python/crypto.py --querysearch \\'bitcoin\\' --maxTweets \\'150000\\' --days \\'2017-12-24;2017-12-26\\'\"'"
      ]
     },
     "execution_count": 38,
     "metadata": {},
     "output_type": "execute_result"
    }
   ],
   "source": [
    "bitcoin_queries[0]"
   ]
  },
  {
   "cell_type": "code",
   "execution_count": 39,
   "metadata": {
    "ExecuteTime": {
     "end_time": "2018-06-22T05:44:55.007464Z",
     "start_time": "2018-06-22T05:44:49.212244Z"
    }
   },
   "outputs": [
    {
     "name": "stdout",
     "output_type": "stream",
     "text": [
      "i-002253254abc15890\n",
      "i-09eb9ebf0593fc2ad\n",
      "i-0a5142385c6d2419a\n",
      "i-0cfa1d5a7628bf268\n",
      "i-0711a8c0ce2c53920\n",
      "i-044b196abc46dc3bf\n",
      "i-0f78f580ff8080e15\n",
      "i-00c8044e77fa370a4\n",
      "i-069cdf5d1489af393\n",
      "i-0bb3cbb03af6d5eb5\n",
      "i-0b6f6a918df29bf0e\n",
      "i-0a152486d56d52e58\n",
      "i-07842b6b52c5685c2\n",
      "i-0c068603db5d95a0b\n",
      "i-034717ab0ef0f2973\n",
      "i-0f343398682685d11\n",
      "i-0d9e0c3c94a67a896\n"
     ]
    }
   ],
   "source": [
    "ssm_client = boto3.client('ssm') # Need your credentials here\n",
    "\n",
    "btc_responseses = []\n",
    "\n",
    "for instance_id, query in list(zip(instance_ids,bitcoin_queries)):\n",
    "    print(instance_id)\n",
    "    #print(type(query))\n",
    "    btc_responses = execute_commands_on_linux_instances(ssm_client, [query,\"poweroff\"], [instance_id],output_logs='boto-logs/btc/22-06-2018/')\n",
    "    btc_responseses.append(btc_responses)\n"
   ]
  },
  {
   "cell_type": "code",
   "execution_count": 40,
   "metadata": {
    "ExecuteTime": {
     "end_time": "2018-06-22T05:44:55.013181Z",
     "start_time": "2018-06-22T05:44:55.009184Z"
    }
   },
   "outputs": [
    {
     "data": {
      "text/plain": [
       "17"
      ]
     },
     "execution_count": 40,
     "metadata": {},
     "output_type": "execute_result"
    }
   ],
   "source": [
    "len(btc_responseses)"
   ]
  },
  {
   "cell_type": "code",
   "execution_count": 41,
   "metadata": {
    "ExecuteTime": {
     "end_time": "2018-06-22T05:44:55.021390Z",
     "start_time": "2018-06-22T05:44:55.015783Z"
    }
   },
   "outputs": [
    {
     "name": "stdout",
     "output_type": "stream",
     "text": [
      "9f718711-907a-41d9-a029-526c3c85def9\n",
      "f5a7fb03-59f4-418d-85e5-33a1071a699e\n",
      "b27a04ef-94d1-4730-9044-e8b12e31eac2\n",
      "a3884743-8b83-4765-a192-2ed0f1b57639\n",
      "a0e326c0-5ca8-42f3-a36f-54a2945676b3\n",
      "c6c65dd4-38e3-4c1c-93d4-92250550ab1f\n",
      "4eaa429c-e382-47d3-80db-30839a0da584\n",
      "a65a9378-0c02-4858-b7df-f6ec0d44f60d\n",
      "9a37cc7d-b07e-4346-a2a3-65060bd604b8\n",
      "0bfc9ad3-ea9e-4fed-a648-fd412c55c0d9\n",
      "0d8fe836-0f20-41e6-84b6-4374c3028e16\n",
      "ba2a838b-5c62-4cf5-aacb-da05f7831cea\n",
      "e6962474-3b11-44a9-b3e0-35e2dc4c75d6\n",
      "09ad3148-3c46-4b5b-972e-51ae9ea2e47d\n",
      "b0485773-8adb-49cb-94e0-b12731737426\n",
      "cfb7e7a1-33f1-4005-adfa-87a38e9f401f\n",
      "26476d7d-6d74-4ef9-8514-9c88e1a4b08d\n"
     ]
    }
   ],
   "source": [
    "# list command-ids\n",
    "for response in btc_responseses:\n",
    "    command_id = response[\"Command\"][\"CommandId\"]\n",
    "    print(command_id)"
   ]
  },
  {
   "cell_type": "code",
   "execution_count": null,
   "metadata": {
    "ExecuteTime": {
     "end_time": "2018-06-18T18:21:48.194115Z",
     "start_time": "2018-06-18T18:21:48.072Z"
    }
   },
   "outputs": [],
   "source": [
    "# kill commands\n",
    "kill_eth_commands = False\n",
    "\n",
    "if kill_eth_commands == True:\n",
    "    for response in btc_responseses:\n",
    "        command_id = response[\"Command\"][\"CommandId\"]\n",
    "        ssm_client.cancel_command(CommandId=command_id)"
   ]
  },
  {
   "cell_type": "markdown",
   "metadata": {},
   "source": [
    "# Kill All SSM commands"
   ]
  },
  {
   "cell_type": "code",
   "execution_count": 9,
   "metadata": {
    "ExecuteTime": {
     "end_time": "2018-06-22T21:01:51.288207Z",
     "start_time": "2018-06-22T21:01:49.528310Z"
    }
   },
   "outputs": [],
   "source": [
    "ssm_client = boto3.client('ssm') # Need your credentials here\n",
    "active_ssm = ssm_client.list_commands(Filters=[\n",
    "        {\n",
    "            'key': 'Status',\n",
    "            'value': 'InProgress'\n",
    "        }])"
   ]
  },
  {
   "cell_type": "code",
   "execution_count": 10,
   "metadata": {
    "ExecuteTime": {
     "end_time": "2018-06-22T21:01:54.317431Z",
     "start_time": "2018-06-22T21:01:54.286797Z"
    }
   },
   "outputs": [
    {
     "data": {
      "text/plain": [
       "{'Commands': [{'CommandId': 'e6962474-3b11-44a9-b3e0-35e2dc4c75d6',\n",
       "   'DocumentName': 'AWS-RunShellScript',\n",
       "   'DocumentVersion': '',\n",
       "   'Comment': '',\n",
       "   'ExpiresAfter': datetime.datetime(2018, 6, 27, 7, 44, 53, 853000, tzinfo=tzlocal()),\n",
       "   'Parameters': {'commands': ['su ec2-user -l -c \"python ~/GetOldTweets-python/crypto.py --querysearch \\'bitcoin\\' --maxTweets \\'150000\\' --days \\'2017-12-19;2017-12-13\\'\"',\n",
       "     'poweroff'],\n",
       "    'executionTimeout': ['172800']},\n",
       "   'InstanceIds': ['i-07842b6b52c5685c2'],\n",
       "   'Targets': [],\n",
       "   'RequestedDateTime': datetime.datetime(2018, 6, 22, 7, 44, 53, 853000, tzinfo=tzlocal()),\n",
       "   'Status': 'InProgress',\n",
       "   'StatusDetails': 'InProgress',\n",
       "   'OutputS3BucketName': 'jeroens-bucket',\n",
       "   'OutputS3KeyPrefix': 'boto-logs/btc/22-06-2018/',\n",
       "   'MaxConcurrency': '50',\n",
       "   'MaxErrors': '0',\n",
       "   'TargetCount': 1,\n",
       "   'CompletedCount': 0,\n",
       "   'ErrorCount': 0,\n",
       "   'ServiceRole': '',\n",
       "   'NotificationConfig': {'NotificationArn': '',\n",
       "    'NotificationEvents': [],\n",
       "    'NotificationType': ''}},\n",
       "  {'CommandId': 'ba2a838b-5c62-4cf5-aacb-da05f7831cea',\n",
       "   'DocumentName': 'AWS-RunShellScript',\n",
       "   'DocumentVersion': '',\n",
       "   'Comment': '',\n",
       "   'ExpiresAfter': datetime.datetime(2018, 6, 27, 7, 44, 53, 572000, tzinfo=tzlocal()),\n",
       "   'Parameters': {'commands': ['su ec2-user -l -c \"python ~/GetOldTweets-python/crypto.py --querysearch \\'bitcoin\\' --maxTweets \\'150000\\' --days \\'2017-12-04;2017-12-11\\'\"',\n",
       "     'poweroff'],\n",
       "    'executionTimeout': ['172800']},\n",
       "   'InstanceIds': ['i-0a152486d56d52e58'],\n",
       "   'Targets': [],\n",
       "   'RequestedDateTime': datetime.datetime(2018, 6, 22, 7, 44, 53, 572000, tzinfo=tzlocal()),\n",
       "   'Status': 'InProgress',\n",
       "   'StatusDetails': 'InProgress',\n",
       "   'OutputS3BucketName': 'jeroens-bucket',\n",
       "   'OutputS3KeyPrefix': 'boto-logs/btc/22-06-2018/',\n",
       "   'MaxConcurrency': '50',\n",
       "   'MaxErrors': '0',\n",
       "   'TargetCount': 1,\n",
       "   'CompletedCount': 0,\n",
       "   'ErrorCount': 0,\n",
       "   'ServiceRole': '',\n",
       "   'NotificationConfig': {'NotificationArn': '',\n",
       "    'NotificationEvents': [],\n",
       "    'NotificationType': ''}},\n",
       "  {'CommandId': '0bfc9ad3-ea9e-4fed-a648-fd412c55c0d9',\n",
       "   'DocumentName': 'AWS-RunShellScript',\n",
       "   'DocumentVersion': '',\n",
       "   'Comment': '',\n",
       "   'ExpiresAfter': datetime.datetime(2018, 6, 27, 7, 44, 53, 44000, tzinfo=tzlocal()),\n",
       "   'Parameters': {'commands': ['su ec2-user -l -c \"python ~/GetOldTweets-python/crypto.py --querysearch \\'bitcoin\\' --maxTweets \\'150000\\' --days \\'2017-12-07;2017-12-09\\'\"',\n",
       "     'poweroff'],\n",
       "    'executionTimeout': ['172800']},\n",
       "   'InstanceIds': ['i-0bb3cbb03af6d5eb5'],\n",
       "   'Targets': [],\n",
       "   'RequestedDateTime': datetime.datetime(2018, 6, 22, 7, 44, 53, 44000, tzinfo=tzlocal()),\n",
       "   'Status': 'InProgress',\n",
       "   'StatusDetails': 'InProgress',\n",
       "   'OutputS3BucketName': 'jeroens-bucket',\n",
       "   'OutputS3KeyPrefix': 'boto-logs/btc/22-06-2018/',\n",
       "   'MaxConcurrency': '50',\n",
       "   'MaxErrors': '0',\n",
       "   'TargetCount': 1,\n",
       "   'CompletedCount': 0,\n",
       "   'ErrorCount': 0,\n",
       "   'ServiceRole': '',\n",
       "   'NotificationConfig': {'NotificationArn': '',\n",
       "    'NotificationEvents': [],\n",
       "    'NotificationType': ''}},\n",
       "  {'CommandId': 'a65a9378-0c02-4858-b7df-f6ec0d44f60d',\n",
       "   'DocumentName': 'AWS-RunShellScript',\n",
       "   'DocumentVersion': '',\n",
       "   'Comment': '',\n",
       "   'ExpiresAfter': datetime.datetime(2018, 6, 27, 7, 44, 52, 523000, tzinfo=tzlocal()),\n",
       "   'Parameters': {'commands': ['su ec2-user -l -c \"python ~/GetOldTweets-python/crypto.py --querysearch \\'bitcoin\\' --maxTweets \\'150000\\' --days \\'2017-11-28;2017-12-14\\'\"',\n",
       "     'poweroff'],\n",
       "    'executionTimeout': ['172800']},\n",
       "   'InstanceIds': ['i-00c8044e77fa370a4'],\n",
       "   'Targets': [],\n",
       "   'RequestedDateTime': datetime.datetime(2018, 6, 22, 7, 44, 52, 523000, tzinfo=tzlocal()),\n",
       "   'Status': 'InProgress',\n",
       "   'StatusDetails': 'InProgress',\n",
       "   'OutputS3BucketName': 'jeroens-bucket',\n",
       "   'OutputS3KeyPrefix': 'boto-logs/btc/22-06-2018/',\n",
       "   'MaxConcurrency': '50',\n",
       "   'MaxErrors': '0',\n",
       "   'TargetCount': 1,\n",
       "   'CompletedCount': 0,\n",
       "   'ErrorCount': 0,\n",
       "   'ServiceRole': '',\n",
       "   'NotificationConfig': {'NotificationArn': '',\n",
       "    'NotificationEvents': [],\n",
       "    'NotificationType': ''}},\n",
       "  {'CommandId': 'c6c65dd4-38e3-4c1c-93d4-92250550ab1f',\n",
       "   'DocumentName': 'AWS-RunShellScript',\n",
       "   'DocumentVersion': '',\n",
       "   'Comment': '',\n",
       "   'ExpiresAfter': datetime.datetime(2018, 6, 27, 7, 44, 51, 998000, tzinfo=tzlocal()),\n",
       "   'Parameters': {'commands': ['su ec2-user -l -c \"python ~/GetOldTweets-python/crypto.py --querysearch \\'bitcoin\\' --maxTweets \\'150000\\' --days \\'2017-12-25;2017-12-03\\'\"',\n",
       "     'poweroff'],\n",
       "    'executionTimeout': ['172800']},\n",
       "   'InstanceIds': ['i-044b196abc46dc3bf'],\n",
       "   'Targets': [],\n",
       "   'RequestedDateTime': datetime.datetime(2018, 6, 22, 7, 44, 51, 998000, tzinfo=tzlocal()),\n",
       "   'Status': 'InProgress',\n",
       "   'StatusDetails': 'InProgress',\n",
       "   'OutputS3BucketName': 'jeroens-bucket',\n",
       "   'OutputS3KeyPrefix': 'boto-logs/btc/22-06-2018/',\n",
       "   'MaxConcurrency': '50',\n",
       "   'MaxErrors': '0',\n",
       "   'TargetCount': 1,\n",
       "   'CompletedCount': 0,\n",
       "   'ErrorCount': 0,\n",
       "   'ServiceRole': '',\n",
       "   'NotificationConfig': {'NotificationArn': '',\n",
       "    'NotificationEvents': [],\n",
       "    'NotificationType': ''}},\n",
       "  {'CommandId': 'f5a7fb03-59f4-418d-85e5-33a1071a699e',\n",
       "   'DocumentName': 'AWS-RunShellScript',\n",
       "   'DocumentVersion': '',\n",
       "   'Comment': '',\n",
       "   'ExpiresAfter': datetime.datetime(2018, 6, 27, 7, 44, 50, 946000, tzinfo=tzlocal()),\n",
       "   'Parameters': {'commands': ['su ec2-user -l -c \"python ~/GetOldTweets-python/crypto.py --querysearch \\'bitcoin\\' --maxTweets \\'150000\\' --days \\'2017-11-29;2017-12-06\\'\"',\n",
       "     'poweroff'],\n",
       "    'executionTimeout': ['172800']},\n",
       "   'InstanceIds': ['i-09eb9ebf0593fc2ad'],\n",
       "   'Targets': [],\n",
       "   'RequestedDateTime': datetime.datetime(2018, 6, 22, 7, 44, 50, 946000, tzinfo=tzlocal()),\n",
       "   'Status': 'InProgress',\n",
       "   'StatusDetails': 'InProgress',\n",
       "   'OutputS3BucketName': 'jeroens-bucket',\n",
       "   'OutputS3KeyPrefix': 'boto-logs/btc/22-06-2018/',\n",
       "   'MaxConcurrency': '50',\n",
       "   'MaxErrors': '0',\n",
       "   'TargetCount': 1,\n",
       "   'CompletedCount': 0,\n",
       "   'ErrorCount': 0,\n",
       "   'ServiceRole': '',\n",
       "   'NotificationConfig': {'NotificationArn': '',\n",
       "    'NotificationEvents': [],\n",
       "    'NotificationType': ''}},\n",
       "  {'CommandId': '9f718711-907a-41d9-a029-526c3c85def9',\n",
       "   'DocumentName': 'AWS-RunShellScript',\n",
       "   'DocumentVersion': '',\n",
       "   'Comment': '',\n",
       "   'ExpiresAfter': datetime.datetime(2018, 6, 27, 7, 44, 50, 663000, tzinfo=tzlocal()),\n",
       "   'Parameters': {'commands': ['su ec2-user -l -c \"python ~/GetOldTweets-python/crypto.py --querysearch \\'bitcoin\\' --maxTweets \\'150000\\' --days \\'2017-12-24;2017-12-26\\'\"',\n",
       "     'poweroff'],\n",
       "    'executionTimeout': ['172800']},\n",
       "   'InstanceIds': ['i-002253254abc15890'],\n",
       "   'Targets': [],\n",
       "   'RequestedDateTime': datetime.datetime(2018, 6, 22, 7, 44, 50, 663000, tzinfo=tzlocal()),\n",
       "   'Status': 'InProgress',\n",
       "   'StatusDetails': 'InProgress',\n",
       "   'OutputS3BucketName': 'jeroens-bucket',\n",
       "   'OutputS3KeyPrefix': 'boto-logs/btc/22-06-2018/',\n",
       "   'MaxConcurrency': '50',\n",
       "   'MaxErrors': '0',\n",
       "   'TargetCount': 1,\n",
       "   'CompletedCount': 0,\n",
       "   'ErrorCount': 0,\n",
       "   'ServiceRole': '',\n",
       "   'NotificationConfig': {'NotificationArn': '',\n",
       "    'NotificationEvents': [],\n",
       "    'NotificationType': ''}},\n",
       "  {'CommandId': '9cb8654c-edf5-4307-b9d5-7a82f1a0afe8',\n",
       "   'DocumentName': 'AWS-RunShellScript',\n",
       "   'DocumentVersion': '',\n",
       "   'Comment': '',\n",
       "   'ExpiresAfter': datetime.datetime(2018, 6, 25, 19, 51, 56, 397000, tzinfo=tzlocal()),\n",
       "   'Parameters': {'commands': ['su ec2-user -l -c \"python ~/GetOldTweets-python/crypto.py --querysearch \\'bitcoin\\' --maxTweets \\'150000\\' --days \\'2018-05-29;2018-05-3\\'\"',\n",
       "     'poweroff'],\n",
       "    'executionTimeout': ['172800']},\n",
       "   'InstanceIds': ['i-0108b93c9097f108d'],\n",
       "   'Targets': [],\n",
       "   'RequestedDateTime': datetime.datetime(2018, 6, 20, 19, 51, 56, 397000, tzinfo=tzlocal()),\n",
       "   'Status': 'InProgress',\n",
       "   'StatusDetails': 'InProgress',\n",
       "   'OutputS3BucketName': 'jeroens-bucket',\n",
       "   'OutputS3KeyPrefix': 'boto-logs/btc/20-06-2018/',\n",
       "   'MaxConcurrency': '50',\n",
       "   'MaxErrors': '0',\n",
       "   'TargetCount': 1,\n",
       "   'CompletedCount': 0,\n",
       "   'ErrorCount': 0,\n",
       "   'ServiceRole': '',\n",
       "   'NotificationConfig': {'NotificationArn': '',\n",
       "    'NotificationEvents': [],\n",
       "    'NotificationType': ''}},\n",
       "  {'CommandId': '68503298-2d78-466d-8941-0e33fa03b104',\n",
       "   'DocumentName': 'AWS-RunShellScript',\n",
       "   'DocumentVersion': '',\n",
       "   'Comment': '',\n",
       "   'ExpiresAfter': datetime.datetime(2018, 6, 25, 19, 51, 56, 154000, tzinfo=tzlocal()),\n",
       "   'Parameters': {'commands': ['su ec2-user -l -c \"python ~/GetOldTweets-python/crypto.py --querysearch \\'bitcoin\\' --maxTweets \\'150000\\' --days \\'2018-05-14;2018-05-15;2018-05-16;2018-05-17;2018-05-18;2018-05-19;2018-05-20;2018-05-21;2018-05-22;2018-05-23;2018-05-24;2018-05-25;2018-05-26;2018-05-27;2018-05-28\\'\"',\n",
       "     'poweroff'],\n",
       "    'executionTimeout': ['172800']},\n",
       "   'InstanceIds': ['i-01db5b884fa310db3'],\n",
       "   'Targets': [],\n",
       "   'RequestedDateTime': datetime.datetime(2018, 6, 20, 19, 51, 56, 154000, tzinfo=tzlocal()),\n",
       "   'Status': 'InProgress',\n",
       "   'StatusDetails': 'InProgress',\n",
       "   'OutputS3BucketName': 'jeroens-bucket',\n",
       "   'OutputS3KeyPrefix': 'boto-logs/btc/20-06-2018/',\n",
       "   'MaxConcurrency': '50',\n",
       "   'MaxErrors': '0',\n",
       "   'TargetCount': 1,\n",
       "   'CompletedCount': 0,\n",
       "   'ErrorCount': 0,\n",
       "   'ServiceRole': '',\n",
       "   'NotificationConfig': {'NotificationArn': '',\n",
       "    'NotificationEvents': [],\n",
       "    'NotificationType': ''}},\n",
       "  {'CommandId': '98c89797-ae55-4062-ba37-cfbc95de9413',\n",
       "   'DocumentName': 'AWS-RunShellScript',\n",
       "   'DocumentVersion': '',\n",
       "   'Comment': '',\n",
       "   'ExpiresAfter': datetime.datetime(2018, 6, 25, 19, 51, 55, 902000, tzinfo=tzlocal()),\n",
       "   'Parameters': {'commands': ['su ec2-user -l -c \"python ~/GetOldTweets-python/crypto.py --querysearch \\'bitcoin\\' --maxTweets \\'150000\\' --days \\'2018-04-29;2018-04-30;2018-05-01;2018-05-02;2018-05-03;2018-05-04;2018-05-05;2018-05-06;2018-05-07;2018-05-08;2018-05-09;2018-05-10;2018-05-11;2018-05-12;2018-05-13\\'\"',\n",
       "     'poweroff'],\n",
       "    'executionTimeout': ['172800']},\n",
       "   'InstanceIds': ['i-09ef1fe06a68f5514'],\n",
       "   'Targets': [],\n",
       "   'RequestedDateTime': datetime.datetime(2018, 6, 20, 19, 51, 55, 902000, tzinfo=tzlocal()),\n",
       "   'Status': 'InProgress',\n",
       "   'StatusDetails': 'InProgress',\n",
       "   'OutputS3BucketName': 'jeroens-bucket',\n",
       "   'OutputS3KeyPrefix': 'boto-logs/btc/20-06-2018/',\n",
       "   'MaxConcurrency': '50',\n",
       "   'MaxErrors': '0',\n",
       "   'TargetCount': 1,\n",
       "   'CompletedCount': 0,\n",
       "   'ErrorCount': 0,\n",
       "   'ServiceRole': '',\n",
       "   'NotificationConfig': {'NotificationArn': '',\n",
       "    'NotificationEvents': [],\n",
       "    'NotificationType': ''}},\n",
       "  {'CommandId': 'ae0762da-ba13-4d82-b4df-85aee142776f',\n",
       "   'DocumentName': 'AWS-RunShellScript',\n",
       "   'DocumentVersion': '',\n",
       "   'Comment': '',\n",
       "   'ExpiresAfter': datetime.datetime(2018, 6, 25, 19, 51, 54, 686000, tzinfo=tzlocal()),\n",
       "   'Parameters': {'commands': ['su ec2-user -l -c \"python ~/GetOldTweets-python/crypto.py --querysearch \\'bitcoin\\' --maxTweets \\'150000\\' --days \\'2018-02-28;2018-03-01;2018-03-02;2018-03-03;2018-03-04;2018-03-05;2018-03-06;2018-03-07;2018-03-08;2018-03-09;2018-03-10;2018-03-11;2018-03-12;2018-03-13;2018-03-14\\'\"',\n",
       "     'poweroff'],\n",
       "    'executionTimeout': ['172800']},\n",
       "   'InstanceIds': ['i-02e5c1fc0f767f3a9'],\n",
       "   'Targets': [],\n",
       "   'RequestedDateTime': datetime.datetime(2018, 6, 20, 19, 51, 54, 686000, tzinfo=tzlocal()),\n",
       "   'Status': 'InProgress',\n",
       "   'StatusDetails': 'InProgress',\n",
       "   'OutputS3BucketName': 'jeroens-bucket',\n",
       "   'OutputS3KeyPrefix': 'boto-logs/btc/20-06-2018/',\n",
       "   'MaxConcurrency': '50',\n",
       "   'MaxErrors': '0',\n",
       "   'TargetCount': 1,\n",
       "   'CompletedCount': 0,\n",
       "   'ErrorCount': 0,\n",
       "   'ServiceRole': '',\n",
       "   'NotificationConfig': {'NotificationArn': '',\n",
       "    'NotificationEvents': [],\n",
       "    'NotificationType': ''}},\n",
       "  {'CommandId': '696e153e-3f11-4e0b-a53a-0be8a368738b',\n",
       "   'DocumentName': 'AWS-RunShellScript',\n",
       "   'DocumentVersion': '',\n",
       "   'Comment': '',\n",
       "   'ExpiresAfter': datetime.datetime(2018, 6, 25, 19, 51, 54, 435000, tzinfo=tzlocal()),\n",
       "   'Parameters': {'commands': ['su ec2-user -l -c \"python ~/GetOldTweets-python/crypto.py --querysearch \\'bitcoin\\' --maxTweets \\'150000\\' --days \\'2018-02-13;2018-02-14;2018-02-15;2018-02-16;2018-02-17;2018-02-18;2018-02-19;2018-02-20;2018-02-21;2018-02-22;2018-02-23;2018-02-24;2018-02-25;2018-02-26;2018-02-27\\'\"',\n",
       "     'poweroff'],\n",
       "    'executionTimeout': ['172800']},\n",
       "   'InstanceIds': ['i-0cedf9d7b3871b353'],\n",
       "   'Targets': [],\n",
       "   'RequestedDateTime': datetime.datetime(2018, 6, 20, 19, 51, 54, 435000, tzinfo=tzlocal()),\n",
       "   'Status': 'InProgress',\n",
       "   'StatusDetails': 'InProgress',\n",
       "   'OutputS3BucketName': 'jeroens-bucket',\n",
       "   'OutputS3KeyPrefix': 'boto-logs/btc/20-06-2018/',\n",
       "   'MaxConcurrency': '50',\n",
       "   'MaxErrors': '0',\n",
       "   'TargetCount': 1,\n",
       "   'CompletedCount': 0,\n",
       "   'ErrorCount': 0,\n",
       "   'ServiceRole': '',\n",
       "   'NotificationConfig': {'NotificationArn': '',\n",
       "    'NotificationEvents': [],\n",
       "    'NotificationType': ''}},\n",
       "  {'CommandId': '6de7f919-2a1c-458a-9a7c-79acdd951561',\n",
       "   'DocumentName': 'AWS-RunShellScript',\n",
       "   'DocumentVersion': '',\n",
       "   'Comment': '',\n",
       "   'ExpiresAfter': datetime.datetime(2018, 6, 25, 19, 51, 54, 184000, tzinfo=tzlocal()),\n",
       "   'Parameters': {'commands': ['su ec2-user -l -c \"python ~/GetOldTweets-python/crypto.py --querysearch \\'bitcoin\\' --maxTweets \\'150000\\' --days \\'2018-01-29;2018-01-30;2018-01-31;2018-02-01;2018-02-02;2018-02-03;2018-02-04;2018-02-05;2018-02-06;2018-02-07;2018-02-08;2018-02-09;2018-02-10;2018-02-11;2018-02-12\\'\"',\n",
       "     'poweroff'],\n",
       "    'executionTimeout': ['172800']},\n",
       "   'InstanceIds': ['i-0edcf1583eee308eb'],\n",
       "   'Targets': [],\n",
       "   'RequestedDateTime': datetime.datetime(2018, 6, 20, 19, 51, 54, 184000, tzinfo=tzlocal()),\n",
       "   'Status': 'InProgress',\n",
       "   'StatusDetails': 'InProgress',\n",
       "   'OutputS3BucketName': 'jeroens-bucket',\n",
       "   'OutputS3KeyPrefix': 'boto-logs/btc/20-06-2018/',\n",
       "   'MaxConcurrency': '50',\n",
       "   'MaxErrors': '0',\n",
       "   'TargetCount': 1,\n",
       "   'CompletedCount': 0,\n",
       "   'ErrorCount': 0,\n",
       "   'ServiceRole': '',\n",
       "   'NotificationConfig': {'NotificationArn': '',\n",
       "    'NotificationEvents': [],\n",
       "    'NotificationType': ''}},\n",
       "  {'CommandId': '7511ecb1-f195-48f9-8548-f7e1323dc819',\n",
       "   'DocumentName': 'AWS-RunShellScript',\n",
       "   'DocumentVersion': '',\n",
       "   'Comment': '',\n",
       "   'ExpiresAfter': datetime.datetime(2018, 6, 25, 19, 51, 53, 330000, tzinfo=tzlocal()),\n",
       "   'Parameters': {'commands': ['su ec2-user -l -c \"python ~/GetOldTweets-python/crypto.py --querysearch \\'bitcoin\\' --maxTweets \\'150000\\' --days \\'2017-12-15;2017-12-16;2017-12-17;2017-12-18;2017-12-19;2017-12-20;2017-12-21;2017-12-22;2017-12-23;2017-12-24;2017-12-25;2017-12-26;2017-12-27;2017-12-28;2017-12-29\\'\"',\n",
       "     'poweroff'],\n",
       "    'executionTimeout': ['172800']},\n",
       "   'InstanceIds': ['i-0fb2ab527723e4079'],\n",
       "   'Targets': [],\n",
       "   'RequestedDateTime': datetime.datetime(2018, 6, 20, 19, 51, 53, 330000, tzinfo=tzlocal()),\n",
       "   'Status': 'InProgress',\n",
       "   'StatusDetails': 'InProgress',\n",
       "   'OutputS3BucketName': 'jeroens-bucket',\n",
       "   'OutputS3KeyPrefix': 'boto-logs/btc/20-06-2018/',\n",
       "   'MaxConcurrency': '50',\n",
       "   'MaxErrors': '0',\n",
       "   'TargetCount': 1,\n",
       "   'CompletedCount': 0,\n",
       "   'ErrorCount': 0,\n",
       "   'ServiceRole': '',\n",
       "   'NotificationConfig': {'NotificationArn': '',\n",
       "    'NotificationEvents': [],\n",
       "    'NotificationType': ''}},\n",
       "  {'CommandId': '4a267221-4fff-44ac-b44e-effe083a7fc5',\n",
       "   'DocumentName': 'AWS-RunShellScript',\n",
       "   'DocumentVersion': '',\n",
       "   'Comment': '',\n",
       "   'ExpiresAfter': datetime.datetime(2018, 6, 25, 19, 51, 53, 86000, tzinfo=tzlocal()),\n",
       "   'Parameters': {'commands': ['su ec2-user -l -c \"python ~/GetOldTweets-python/crypto.py --querysearch \\'bitcoin\\' --maxTweets \\'150000\\' --days \\'2017-11-30;2017-12-01;2017-12-02;2017-12-03;2017-12-04;2017-12-05;2017-12-06;2017-12-07;2017-12-08;2017-12-09;2017-12-10;2017-12-11;2017-12-12;2017-12-13;2017-12-14\\'\"',\n",
       "     'poweroff'],\n",
       "    'executionTimeout': ['172800']},\n",
       "   'InstanceIds': ['i-02e99f556d03451d1'],\n",
       "   'Targets': [],\n",
       "   'RequestedDateTime': datetime.datetime(2018, 6, 20, 19, 51, 53, 86000, tzinfo=tzlocal()),\n",
       "   'Status': 'InProgress',\n",
       "   'StatusDetails': 'InProgress',\n",
       "   'OutputS3BucketName': 'jeroens-bucket',\n",
       "   'OutputS3KeyPrefix': 'boto-logs/btc/20-06-2018/',\n",
       "   'MaxConcurrency': '50',\n",
       "   'MaxErrors': '0',\n",
       "   'TargetCount': 1,\n",
       "   'CompletedCount': 0,\n",
       "   'ErrorCount': 0,\n",
       "   'ServiceRole': '',\n",
       "   'NotificationConfig': {'NotificationArn': '',\n",
       "    'NotificationEvents': [],\n",
       "    'NotificationType': ''}},\n",
       "  {'CommandId': '650ec8ed-4289-45c9-aeba-c4eb1d7b8699',\n",
       "   'DocumentName': 'AWS-RunShellScript',\n",
       "   'DocumentVersion': '',\n",
       "   'Comment': '',\n",
       "   'ExpiresAfter': datetime.datetime(2018, 6, 25, 19, 51, 52, 829000, tzinfo=tzlocal()),\n",
       "   'Parameters': {'commands': ['su ec2-user -l -c \"python ~/GetOldTweets-python/crypto.py --querysearch \\'bitcoin\\' --maxTweets \\'150000\\' --days \\'2017-11-15;2017-11-16;2017-11-17;2017-11-18;2017-11-19;2017-11-20;2017-11-21;2017-11-22;2017-11-23;2017-11-24;2017-11-25;2017-11-26;2017-11-27;2017-11-28;2017-11-29\\'\"',\n",
       "     'poweroff'],\n",
       "    'executionTimeout': ['172800']},\n",
       "   'InstanceIds': ['i-07082f7c356e238c8'],\n",
       "   'Targets': [],\n",
       "   'RequestedDateTime': datetime.datetime(2018, 6, 20, 19, 51, 52, 829000, tzinfo=tzlocal()),\n",
       "   'Status': 'InProgress',\n",
       "   'StatusDetails': 'InProgress',\n",
       "   'OutputS3BucketName': 'jeroens-bucket',\n",
       "   'OutputS3KeyPrefix': 'boto-logs/btc/20-06-2018/',\n",
       "   'MaxConcurrency': '50',\n",
       "   'MaxErrors': '0',\n",
       "   'TargetCount': 1,\n",
       "   'CompletedCount': 0,\n",
       "   'ErrorCount': 0,\n",
       "   'ServiceRole': '',\n",
       "   'NotificationConfig': {'NotificationArn': '',\n",
       "    'NotificationEvents': [],\n",
       "    'NotificationType': ''}},\n",
       "  {'CommandId': 'fc3b952a-1097-4eb3-ac53-2ab3ffdb9e17',\n",
       "   'DocumentName': 'AWS-RunShellScript',\n",
       "   'DocumentVersion': '',\n",
       "   'Comment': '',\n",
       "   'ExpiresAfter': datetime.datetime(2018, 6, 25, 19, 51, 52, 291000, tzinfo=tzlocal()),\n",
       "   'Parameters': {'commands': ['su ec2-user -l -c \"python ~/GetOldTweets-python/crypto.py --querysearch \\'bitcoin\\' --maxTweets \\'150000\\' --days \\'2017-10-16;2017-10-17;2017-10-18;2017-10-19;2017-10-20;2017-10-21;2017-10-22;2017-10-23;2017-10-24;2017-10-25;2017-10-26;2017-10-27;2017-10-28;2017-10-29;2017-10-30\\'\"',\n",
       "     'poweroff'],\n",
       "    'executionTimeout': ['172800']},\n",
       "   'InstanceIds': ['i-09d31c1c03753f46a'],\n",
       "   'Targets': [],\n",
       "   'RequestedDateTime': datetime.datetime(2018, 6, 20, 19, 51, 52, 291000, tzinfo=tzlocal()),\n",
       "   'Status': 'InProgress',\n",
       "   'StatusDetails': 'InProgress',\n",
       "   'OutputS3BucketName': 'jeroens-bucket',\n",
       "   'OutputS3KeyPrefix': 'boto-logs/btc/20-06-2018/',\n",
       "   'MaxConcurrency': '50',\n",
       "   'MaxErrors': '0',\n",
       "   'TargetCount': 1,\n",
       "   'CompletedCount': 0,\n",
       "   'ErrorCount': 0,\n",
       "   'ServiceRole': '',\n",
       "   'NotificationConfig': {'NotificationArn': '',\n",
       "    'NotificationEvents': [],\n",
       "    'NotificationType': ''}},\n",
       "  {'CommandId': 'b7c9eb03-8807-4e08-aab8-a714888e94d8',\n",
       "   'DocumentName': 'AWS-RunShellScript',\n",
       "   'DocumentVersion': '',\n",
       "   'Comment': '',\n",
       "   'ExpiresAfter': datetime.datetime(2018, 6, 25, 19, 51, 51, 288000, tzinfo=tzlocal()),\n",
       "   'Parameters': {'commands': ['su ec2-user -l -c \"python ~/GetOldTweets-python/crypto.py --querysearch \\'bitcoin\\' --maxTweets \\'150000\\' --days \\'2017-09-01;2017-09-02;2017-09-03;2017-09-04;2017-09-05;2017-09-06;2017-09-07;2017-09-08;2017-09-09;2017-09-10;2017-09-11;2017-09-12;2017-09-13;2017-09-14;2017-09-15\\'\"',\n",
       "     'poweroff'],\n",
       "    'executionTimeout': ['172800']},\n",
       "   'InstanceIds': ['i-079802553345676eb'],\n",
       "   'Targets': [],\n",
       "   'RequestedDateTime': datetime.datetime(2018, 6, 20, 19, 51, 51, 288000, tzinfo=tzlocal()),\n",
       "   'Status': 'InProgress',\n",
       "   'StatusDetails': 'InProgress',\n",
       "   'OutputS3BucketName': 'jeroens-bucket',\n",
       "   'OutputS3KeyPrefix': 'boto-logs/btc/20-06-2018/',\n",
       "   'MaxConcurrency': '50',\n",
       "   'MaxErrors': '0',\n",
       "   'TargetCount': 1,\n",
       "   'CompletedCount': 0,\n",
       "   'ErrorCount': 0,\n",
       "   'ServiceRole': '',\n",
       "   'NotificationConfig': {'NotificationArn': '',\n",
       "    'NotificationEvents': [],\n",
       "    'NotificationType': ''}},\n",
       "  {'CommandId': '23d2012a-673b-4a42-9e42-088dbc5139bf',\n",
       "   'DocumentName': 'AWS-RunShellScript',\n",
       "   'DocumentVersion': '',\n",
       "   'Comment': '',\n",
       "   'ExpiresAfter': datetime.datetime(2018, 6, 24, 10, 20, 8, 205000, tzinfo=tzlocal()),\n",
       "   'Parameters': {'commands': ['su ec2-user -l -c \"python ~/GetOldTweets-python/crypto.py --querysearch \\'ethereum\\' --days \\'2016-04-12;2018-05-18;2017-04-01;2018-02-22;2017-09-27;2016-06-09;2016-10-26;2016-04-09;2017-07-15;2017-05-19;2017-09-09;2017-04-27;2017-05-28;2016-03-23;2016-01-29;2018-05-06;2018-05-17;2018-02-09;2016-01-12;2017-07-2\\'\"',\n",
       "     'poweroff'],\n",
       "    'executionTimeout': ['172800']},\n",
       "   'InstanceIds': ['i-0fdb129cc134029ac'],\n",
       "   'Targets': [],\n",
       "   'RequestedDateTime': datetime.datetime(2018, 6, 19, 10, 20, 8, 205000, tzinfo=tzlocal()),\n",
       "   'Status': 'InProgress',\n",
       "   'StatusDetails': 'InProgress',\n",
       "   'OutputS3BucketName': 'jeroens-bucket',\n",
       "   'OutputS3KeyPrefix': 'boto-logs/eth/19-06-2018/',\n",
       "   'MaxConcurrency': '50',\n",
       "   'MaxErrors': '0',\n",
       "   'TargetCount': 1,\n",
       "   'CompletedCount': 0,\n",
       "   'ErrorCount': 0,\n",
       "   'ServiceRole': '',\n",
       "   'NotificationConfig': {'NotificationArn': '',\n",
       "    'NotificationEvents': [],\n",
       "    'NotificationType': ''}},\n",
       "  {'CommandId': '1a5665d5-139f-4e62-9840-d9ecd09a5483',\n",
       "   'DocumentName': 'AWS-RunShellScript',\n",
       "   'DocumentVersion': '',\n",
       "   'Comment': '',\n",
       "   'ExpiresAfter': datetime.datetime(2018, 6, 24, 10, 20, 7, 477000, tzinfo=tzlocal()),\n",
       "   'Parameters': {'commands': ['su ec2-user -l -c \"python ~/GetOldTweets-python/crypto.py --querysearch \\'ethereum\\' --days \\'2017-02-26;2018-01-28;2018-01-25;2017-08-24;2018-02-10;2017-10-23;2016-01-05;2016-02-15;2017-05-08;2017-12-29;2017-07-31;2017-09-16;2016-02-03;2016-03-20;2016-07-18;2017-08-03;2017-03-21;2017-02-09;2016-02-27;2016-06-28;2016-02-05;2017-01-14;2016-11-05;2016-09-07;2017-10-08;2016-11-01;2016-10-01;2017-10-17;2017-12-20;2016-12-19;2017-12-30;2017-03-18;2016-07-06;2016-05-21;2017-12-28;2018-05-01;2017-06-07;2018-04-19;2016-08-21;2018-03-09;2017-08-10\\'\"',\n",
       "     'poweroff'],\n",
       "    'executionTimeout': ['172800']},\n",
       "   'InstanceIds': ['i-0d51a5a8f7ff4cb2d'],\n",
       "   'Targets': [],\n",
       "   'RequestedDateTime': datetime.datetime(2018, 6, 19, 10, 20, 7, 477000, tzinfo=tzlocal()),\n",
       "   'Status': 'InProgress',\n",
       "   'StatusDetails': 'InProgress',\n",
       "   'OutputS3BucketName': 'jeroens-bucket',\n",
       "   'OutputS3KeyPrefix': 'boto-logs/eth/19-06-2018/',\n",
       "   'MaxConcurrency': '50',\n",
       "   'MaxErrors': '0',\n",
       "   'TargetCount': 1,\n",
       "   'CompletedCount': 0,\n",
       "   'ErrorCount': 0,\n",
       "   'ServiceRole': '',\n",
       "   'NotificationConfig': {'NotificationArn': '',\n",
       "    'NotificationEvents': [],\n",
       "    'NotificationType': ''}},\n",
       "  {'CommandId': 'd2131b06-49d1-40cb-a001-11549c4c0455',\n",
       "   'DocumentName': 'AWS-RunShellScript',\n",
       "   'DocumentVersion': '',\n",
       "   'Comment': '',\n",
       "   'ExpiresAfter': datetime.datetime(2018, 6, 24, 10, 20, 6, 719000, tzinfo=tzlocal()),\n",
       "   'Parameters': {'commands': ['su ec2-user -l -c \"python ~/GetOldTweets-python/crypto.py --querysearch \\'ethereum\\' --days \\'2017-12-14;2018-01-06;2018-05-30;2017-10-19;2016-09-21;2016-12-06;2018-03-23;2017-02-19;2018-03-02;2016-07-27;2016-02-18;2018-01-16;2016-01-20;2016-05-24;2016-10-12;2017-03-11;2016-12-05;2017-11-13;2016-11-09;2018-05-14;2017-10-05;2017-11-26;2016-04-28;2016-04-27;2016-07-09;2017-11-15;2017-07-16;2017-05-23;2017-12-02;2016-04-11;2017-02-06;2016-10-07;2018-05-10;2017-01-26;2017-01-11;2016-02-26;2017-01-09;2018-01-19;2017-03-03;2017-07-07;2017-03-10\\'\"',\n",
       "     'poweroff'],\n",
       "    'executionTimeout': ['172800']},\n",
       "   'InstanceIds': ['i-012f5609cebbf713a'],\n",
       "   'Targets': [],\n",
       "   'RequestedDateTime': datetime.datetime(2018, 6, 19, 10, 20, 6, 719000, tzinfo=tzlocal()),\n",
       "   'Status': 'InProgress',\n",
       "   'StatusDetails': 'InProgress',\n",
       "   'OutputS3BucketName': 'jeroens-bucket',\n",
       "   'OutputS3KeyPrefix': 'boto-logs/eth/19-06-2018/',\n",
       "   'MaxConcurrency': '50',\n",
       "   'MaxErrors': '0',\n",
       "   'TargetCount': 1,\n",
       "   'CompletedCount': 0,\n",
       "   'ErrorCount': 0,\n",
       "   'ServiceRole': '',\n",
       "   'NotificationConfig': {'NotificationArn': '',\n",
       "    'NotificationEvents': [],\n",
       "    'NotificationType': ''}},\n",
       "  {'CommandId': '050d9655-f9e8-4015-b1bb-5db3bbe76ef4',\n",
       "   'DocumentName': 'AWS-RunShellScript',\n",
       "   'DocumentVersion': '',\n",
       "   'Comment': '',\n",
       "   'ExpiresAfter': datetime.datetime(2018, 6, 24, 10, 20, 6, 303000, tzinfo=tzlocal()),\n",
       "   'Parameters': {'commands': ['su ec2-user -l -c \"python ~/GetOldTweets-python/crypto.py --querysearch \\'ethereum\\' --days \\'2016-07-24;2016-06-05;2016-12-11;2018-01-30;2016-01-11;2017-10-20;2017-05-17;2017-01-28;2016-11-17;2016-07-31;2017-07-27;2017-01-24;2016-06-03;2017-11-20;2016-07-11;2016-12-02;2016-06-07;2018-02-08;2016-02-20;2017-09-12;2017-01-08;2017-04-08;2016-04-15;2017-05-07;2016-11-25;2016-02-22;2016-02-23;2018-01-10;2017-10-16;2018-05-02;2017-03-19;2017-11-21;2017-02-23;2016-03-06;2018-05-08;2017-06-21;2018-01-24;2017-06-19;2016-06-11;2017-11-18;2017-08-09\\'\"',\n",
       "     'poweroff'],\n",
       "    'executionTimeout': ['172800']},\n",
       "   'InstanceIds': ['i-09cbf75163a1ba545'],\n",
       "   'Targets': [],\n",
       "   'RequestedDateTime': datetime.datetime(2018, 6, 19, 10, 20, 6, 303000, tzinfo=tzlocal()),\n",
       "   'Status': 'InProgress',\n",
       "   'StatusDetails': 'InProgress',\n",
       "   'OutputS3BucketName': 'jeroens-bucket',\n",
       "   'OutputS3KeyPrefix': 'boto-logs/eth/19-06-2018/',\n",
       "   'MaxConcurrency': '50',\n",
       "   'MaxErrors': '0',\n",
       "   'TargetCount': 1,\n",
       "   'CompletedCount': 0,\n",
       "   'ErrorCount': 0,\n",
       "   'ServiceRole': '',\n",
       "   'NotificationConfig': {'NotificationArn': '',\n",
       "    'NotificationEvents': [],\n",
       "    'NotificationType': ''}},\n",
       "  {'CommandId': '20d65f82-fe7a-4a35-bca0-8a4d609e1434',\n",
       "   'DocumentName': 'AWS-RunShellScript',\n",
       "   'DocumentVersion': '',\n",
       "   'Comment': '',\n",
       "   'ExpiresAfter': datetime.datetime(2018, 6, 24, 10, 20, 6, 48000, tzinfo=tzlocal()),\n",
       "   'Parameters': {'commands': ['su ec2-user -l -c \"python ~/GetOldTweets-python/crypto.py --querysearch \\'ethereum\\' --days \\'2016-02-24;2017-08-08;2018-01-26;2016-07-19;2017-03-31;2016-02-29;2017-09-07;2016-11-23;2018-02-28;2016-03-29;2016-05-26;2017-06-02;2017-05-04;2016-07-01;2018-01-05;2016-08-10;2016-06-06;2016-11-22;2018-05-20;2017-09-10;2017-11-01;2016-10-15;2018-03-30;2016-06-19;2017-10-24;2017-12-27;2016-11-07;2017-09-28;2017-05-02;2016-08-05;2017-07-08;2017-03-30;2016-03-12;2016-01-09;2016-10-30;2018-04-29;2016-08-11;2016-06-21;2018-03-10;2016-04-13;2018-01-03\\'\"',\n",
       "     'poweroff'],\n",
       "    'executionTimeout': ['172800']},\n",
       "   'InstanceIds': ['i-0e02ba8b741d97887'],\n",
       "   'Targets': [],\n",
       "   'RequestedDateTime': datetime.datetime(2018, 6, 19, 10, 20, 6, 48000, tzinfo=tzlocal()),\n",
       "   'Status': 'InProgress',\n",
       "   'StatusDetails': 'InProgress',\n",
       "   'OutputS3BucketName': 'jeroens-bucket',\n",
       "   'OutputS3KeyPrefix': 'boto-logs/eth/19-06-2018/',\n",
       "   'MaxConcurrency': '50',\n",
       "   'MaxErrors': '0',\n",
       "   'TargetCount': 1,\n",
       "   'CompletedCount': 0,\n",
       "   'ErrorCount': 0,\n",
       "   'ServiceRole': '',\n",
       "   'NotificationConfig': {'NotificationArn': '',\n",
       "    'NotificationEvents': [],\n",
       "    'NotificationType': ''}},\n",
       "  {'CommandId': 'f6057bb6-339a-44b6-bacd-0fcc1fb7fbfe',\n",
       "   'DocumentName': 'AWS-RunShellScript',\n",
       "   'DocumentVersion': '',\n",
       "   'Comment': '',\n",
       "   'ExpiresAfter': datetime.datetime(2018, 6, 24, 10, 20, 4, 967000, tzinfo=tzlocal()),\n",
       "   'Parameters': {'commands': ['su ec2-user -l -c \"python ~/GetOldTweets-python/crypto.py --querysearch \\'ethereum\\' --days \\'2017-10-25;2017-06-16;2016-11-10;2017-02-28;2018-01-14;2016-01-01;2017-08-31;2016-11-14;2017-05-05;2017-02-24;2018-04-06;2018-01-17;2018-02-24;2016-05-09;2017-11-30;2016-07-14;2016-03-25;2016-02-11;2017-03-20;2017-09-13;2016-05-19;2017-01-20;2017-01-18;2016-09-13;2016-08-29;2017-12-07;2017-11-25;2017-08-06;2017-09-23;2016-08-03;2018-04-11;2016-04-07;2017-12-12;2017-02-02;2016-12-01;2017-09-18;2017-08-22;2016-08-07;2017-05-20;2016-04-05;2018-01-04\\'\"',\n",
       "     'poweroff'],\n",
       "    'executionTimeout': ['172800']},\n",
       "   'InstanceIds': ['i-07c8b55335ef73787'],\n",
       "   'Targets': [],\n",
       "   'RequestedDateTime': datetime.datetime(2018, 6, 19, 10, 20, 4, 967000, tzinfo=tzlocal()),\n",
       "   'Status': 'InProgress',\n",
       "   'StatusDetails': 'InProgress',\n",
       "   'OutputS3BucketName': 'jeroens-bucket',\n",
       "   'OutputS3KeyPrefix': 'boto-logs/eth/19-06-2018/',\n",
       "   'MaxConcurrency': '50',\n",
       "   'MaxErrors': '0',\n",
       "   'TargetCount': 1,\n",
       "   'CompletedCount': 0,\n",
       "   'ErrorCount': 0,\n",
       "   'ServiceRole': '',\n",
       "   'NotificationConfig': {'NotificationArn': '',\n",
       "    'NotificationEvents': [],\n",
       "    'NotificationType': ''}},\n",
       "  {'CommandId': '3cb3230c-ecb3-43a4-97ea-b843d0719888',\n",
       "   'DocumentName': 'AWS-RunShellScript',\n",
       "   'DocumentVersion': '',\n",
       "   'Comment': '',\n",
       "   'ExpiresAfter': datetime.datetime(2018, 6, 24, 10, 20, 4, 612000, tzinfo=tzlocal()),\n",
       "   'Parameters': {'commands': ['su ec2-user -l -c \"python ~/GetOldTweets-python/crypto.py --querysearch \\'ethereum\\' --days \\'2018-03-15;2017-01-06;2016-02-13;2017-11-27;2017-09-26;2016-01-27;2017-12-25;2016-05-16;2018-03-13;2017-04-23;2017-08-18;2018-04-30;2017-11-06;2017-04-26;2016-12-15;2018-01-09;2017-11-12;2017-04-11;2017-04-06;2017-11-23;2018-05-23;2017-10-26;2017-02-03;2018-02-25;2017-02-13;2017-04-14;2017-11-09;2016-01-13;2018-05-19;2018-03-31;2017-11-05;2017-04-22;2018-04-26;2018-05-13;2016-12-21;2016-03-28;2018-04-28;2016-03-30;2016-05-06;2017-08-05;2018-05-05\\'\"',\n",
       "     'poweroff'],\n",
       "    'executionTimeout': ['172800']},\n",
       "   'InstanceIds': ['i-0503fc3e5410e8c4a'],\n",
       "   'Targets': [],\n",
       "   'RequestedDateTime': datetime.datetime(2018, 6, 19, 10, 20, 4, 612000, tzinfo=tzlocal()),\n",
       "   'Status': 'InProgress',\n",
       "   'StatusDetails': 'InProgress',\n",
       "   'OutputS3BucketName': 'jeroens-bucket',\n",
       "   'OutputS3KeyPrefix': 'boto-logs/eth/19-06-2018/',\n",
       "   'MaxConcurrency': '50',\n",
       "   'MaxErrors': '0',\n",
       "   'TargetCount': 1,\n",
       "   'CompletedCount': 0,\n",
       "   'ErrorCount': 0,\n",
       "   'ServiceRole': '',\n",
       "   'NotificationConfig': {'NotificationArn': '',\n",
       "    'NotificationEvents': [],\n",
       "    'NotificationType': ''}},\n",
       "  {'CommandId': 'ecc1eaea-adb3-4db7-b3b6-13bf383511bb',\n",
       "   'DocumentName': 'AWS-RunShellScript',\n",
       "   'DocumentVersion': '',\n",
       "   'Comment': '',\n",
       "   'ExpiresAfter': datetime.datetime(2018, 6, 24, 10, 20, 4, 348000, tzinfo=tzlocal()),\n",
       "   'Parameters': {'commands': ['su ec2-user -l -c \"python ~/GetOldTweets-python/crypto.py --querysearch \\'ethereum\\' --days \\'2017-04-30;2016-09-05;2016-01-26;2016-01-22;2016-12-13;2016-03-04;2016-01-30;2016-10-04;2016-03-18;2017-04-05;2016-07-08;2016-09-20;2016-08-27;2017-02-05;2016-09-03;2017-07-24;2016-05-18;2016-11-29;2017-04-18;2016-07-04;2018-03-14;2017-07-04;2016-04-24;2017-01-19;2017-12-08;2017-07-02;2016-04-19;2017-03-23;2016-12-03;2016-10-24;2016-01-21;2017-11-19;2017-12-21;2018-01-21;2016-05-22;2018-05-21;2016-12-04;2016-05-31;2017-02-17;2017-09-22;2017-04-15\\'\"',\n",
       "     'poweroff'],\n",
       "    'executionTimeout': ['172800']},\n",
       "   'InstanceIds': ['i-0ec080b9987858e0a'],\n",
       "   'Targets': [],\n",
       "   'RequestedDateTime': datetime.datetime(2018, 6, 19, 10, 20, 4, 348000, tzinfo=tzlocal()),\n",
       "   'Status': 'InProgress',\n",
       "   'StatusDetails': 'InProgress',\n",
       "   'OutputS3BucketName': 'jeroens-bucket',\n",
       "   'OutputS3KeyPrefix': 'boto-logs/eth/19-06-2018/',\n",
       "   'MaxConcurrency': '50',\n",
       "   'MaxErrors': '0',\n",
       "   'TargetCount': 1,\n",
       "   'CompletedCount': 0,\n",
       "   'ErrorCount': 0,\n",
       "   'ServiceRole': '',\n",
       "   'NotificationConfig': {'NotificationArn': '',\n",
       "    'NotificationEvents': [],\n",
       "    'NotificationType': ''}},\n",
       "  {'CommandId': '4dac30ab-925c-418b-bd58-1158ba1616d8',\n",
       "   'DocumentName': 'AWS-RunShellScript',\n",
       "   'DocumentVersion': '',\n",
       "   'Comment': '',\n",
       "   'ExpiresAfter': datetime.datetime(2018, 6, 24, 10, 20, 3, 352000, tzinfo=tzlocal()),\n",
       "   'Parameters': {'commands': ['su ec2-user -l -c \"python ~/GetOldTweets-python/crypto.py --querysearch \\'ethereum\\' --days \\'2017-02-11;2017-10-06;2017-04-02;2016-02-25;2016-05-28;2016-06-16;2017-10-22;2017-01-31;2017-04-12;2016-07-21;2016-11-30;2017-06-12;2016-05-12;2018-02-03;2017-05-01;2016-05-11;2016-12-12;2016-06-29;2017-04-16;2017-05-18;2017-11-08;2016-08-16;2016-08-12;2017-10-12;2018-05-28;2017-08-26;2017-06-03;2017-07-17;2017-02-01;2016-08-09;2018-03-07;2016-03-13;2017-11-24;2017-05-27;2016-03-07;2018-02-12;2017-10-10;2016-06-23;2017-06-05;2016-12-26;2017-11-04\\'\"',\n",
       "     'poweroff'],\n",
       "    'executionTimeout': ['172800']},\n",
       "   'InstanceIds': ['i-068809c367e5d00a6'],\n",
       "   'Targets': [],\n",
       "   'RequestedDateTime': datetime.datetime(2018, 6, 19, 10, 20, 3, 352000, tzinfo=tzlocal()),\n",
       "   'Status': 'InProgress',\n",
       "   'StatusDetails': 'InProgress',\n",
       "   'OutputS3BucketName': 'jeroens-bucket',\n",
       "   'OutputS3KeyPrefix': 'boto-logs/eth/19-06-2018/',\n",
       "   'MaxConcurrency': '50',\n",
       "   'MaxErrors': '0',\n",
       "   'TargetCount': 1,\n",
       "   'CompletedCount': 0,\n",
       "   'ErrorCount': 0,\n",
       "   'ServiceRole': '',\n",
       "   'NotificationConfig': {'NotificationArn': '',\n",
       "    'NotificationEvents': [],\n",
       "    'NotificationType': ''}},\n",
       "  {'CommandId': '6d620281-4d33-4246-9b03-b3e37abc3b0e',\n",
       "   'DocumentName': 'AWS-RunShellScript',\n",
       "   'DocumentVersion': '',\n",
       "   'Comment': '',\n",
       "   'ExpiresAfter': datetime.datetime(2018, 6, 24, 10, 20, 1, 904000, tzinfo=tzlocal()),\n",
       "   'Parameters': {'commands': ['su ec2-user -l -c \"python ~/GetOldTweets-python/crypto.py --querysearch \\'ethereum\\' --days \\'2016-10-08;2017-11-29;2017-12-24;2016-06-18;2016-09-18;2018-05-12;2016-03-10;2016-08-14;2017-04-04;2017-10-18;2017-05-12;2017-05-14;2018-03-12;2017-12-04;2016-10-29;2016-10-19;2018-04-22;2016-12-16;2017-03-08;2016-09-29;2016-12-08;2017-09-11;2018-05-26;2016-10-16;2017-07-18;2016-05-17;2017-05-26;2016-01-31;2017-04-24;2016-12-23;2016-08-23;2018-01-15;2017-10-13;2018-05-16;2018-04-27;2016-08-01;2016-09-27;2016-08-18;2017-04-10;2018-04-18;2018-05-27\\'\"',\n",
       "     'poweroff'],\n",
       "    'executionTimeout': ['172800']},\n",
       "   'InstanceIds': ['i-071b4a815ce553bce'],\n",
       "   'Targets': [],\n",
       "   'RequestedDateTime': datetime.datetime(2018, 6, 19, 10, 20, 1, 904000, tzinfo=tzlocal()),\n",
       "   'Status': 'InProgress',\n",
       "   'StatusDetails': 'InProgress',\n",
       "   'OutputS3BucketName': 'jeroens-bucket',\n",
       "   'OutputS3KeyPrefix': 'boto-logs/eth/19-06-2018/',\n",
       "   'MaxConcurrency': '50',\n",
       "   'MaxErrors': '0',\n",
       "   'TargetCount': 1,\n",
       "   'CompletedCount': 0,\n",
       "   'ErrorCount': 0,\n",
       "   'ServiceRole': '',\n",
       "   'NotificationConfig': {'NotificationArn': '',\n",
       "    'NotificationEvents': [],\n",
       "    'NotificationType': ''}},\n",
       "  {'CommandId': '1bc31538-cfa0-4ca6-96f8-b9af682757b4',\n",
       "   'DocumentName': 'AWS-RunShellScript',\n",
       "   'DocumentVersion': '',\n",
       "   'Comment': '',\n",
       "   'ExpiresAfter': datetime.datetime(2018, 6, 24, 10, 20, 1, 531000, tzinfo=tzlocal()),\n",
       "   'Parameters': {'commands': ['su ec2-user -l -c \"python ~/GetOldTweets-python/crypto.py --querysearch \\'ethereum\\' --days \\'2017-04-20;2018-02-11;2017-01-16;2018-03-28;2017-01-02;2017-12-13;2017-06-29;2018-04-13;2017-10-03;2016-12-20;2017-03-13;2017-09-20;2016-12-09;2017-09-04;2017-01-10;2018-02-13;2017-07-23;2017-08-23;2018-02-07;2016-04-08;2016-05-04;2017-03-07;2017-11-22;2016-04-04;2018-04-21;2016-04-22;2016-01-06;2017-09-01;2017-06-30;2016-01-24;2018-02-02;2016-08-30;2017-08-07;2017-04-19;2017-04-07;2017-01-17;2017-08-15;2017-08-04;2016-08-13;2018-03-19;2018-04-07\\'\"',\n",
       "     'poweroff'],\n",
       "    'executionTimeout': ['172800']},\n",
       "   'InstanceIds': ['i-0cacb853dc90d018a'],\n",
       "   'Targets': [],\n",
       "   'RequestedDateTime': datetime.datetime(2018, 6, 19, 10, 20, 1, 531000, tzinfo=tzlocal()),\n",
       "   'Status': 'InProgress',\n",
       "   'StatusDetails': 'InProgress',\n",
       "   'OutputS3BucketName': 'jeroens-bucket',\n",
       "   'OutputS3KeyPrefix': 'boto-logs/eth/19-06-2018/',\n",
       "   'MaxConcurrency': '50',\n",
       "   'MaxErrors': '0',\n",
       "   'TargetCount': 1,\n",
       "   'CompletedCount': 0,\n",
       "   'ErrorCount': 0,\n",
       "   'ServiceRole': '',\n",
       "   'NotificationConfig': {'NotificationArn': '',\n",
       "    'NotificationEvents': [],\n",
       "    'NotificationType': ''}},\n",
       "  {'CommandId': 'f981afbd-cc8b-4a6a-acc5-2381267a1d3c',\n",
       "   'DocumentName': 'AWS-RunShellScript',\n",
       "   'DocumentVersion': '',\n",
       "   'Comment': '',\n",
       "   'ExpiresAfter': datetime.datetime(2018, 6, 24, 10, 20, 0, 453000, tzinfo=tzlocal()),\n",
       "   'Parameters': {'commands': ['su ec2-user -l -c \"python ~/GetOldTweets-python/crypto.py --querysearch \\'ethereum\\' --days \\'2017-08-16;2017-04-03;2016-09-10;2017-07-28;2016-08-28;2017-01-29;2018-05-29;2016-02-08;2016-07-02;2018-01-11;2017-06-10;2016-09-16;2016-03-19;2017-05-03;2016-11-16;2017-06-23;2016-12-29;2018-01-29;2016-01-17;2016-10-11;2016-09-19;2016-04-25;2017-04-13;2018-01-01;2016-12-31;2016-05-23;2017-10-11;2017-12-18;2016-12-27;2018-01-18;2018-03-04;2017-12-16;2018-02-15;2017-06-06;2017-01-23;2018-02-17;2016-04-17;2017-05-15;2017-07-29;2016-01-19;2016-11-15\\'\"',\n",
       "     'poweroff'],\n",
       "    'executionTimeout': ['172800']},\n",
       "   'InstanceIds': ['i-0b7dde412b20b300c'],\n",
       "   'Targets': [],\n",
       "   'RequestedDateTime': datetime.datetime(2018, 6, 19, 10, 20, 0, 453000, tzinfo=tzlocal()),\n",
       "   'Status': 'InProgress',\n",
       "   'StatusDetails': 'InProgress',\n",
       "   'OutputS3BucketName': 'jeroens-bucket',\n",
       "   'OutputS3KeyPrefix': 'boto-logs/eth/19-06-2018/',\n",
       "   'MaxConcurrency': '50',\n",
       "   'MaxErrors': '0',\n",
       "   'TargetCount': 1,\n",
       "   'CompletedCount': 0,\n",
       "   'ErrorCount': 0,\n",
       "   'ServiceRole': '',\n",
       "   'NotificationConfig': {'NotificationArn': '',\n",
       "    'NotificationEvents': [],\n",
       "    'NotificationType': ''}},\n",
       "  {'CommandId': '3147be33-5be2-42ce-ae49-ee04322e59f3',\n",
       "   'DocumentName': 'AWS-RunShellScript',\n",
       "   'DocumentVersion': '',\n",
       "   'Comment': '',\n",
       "   'ExpiresAfter': datetime.datetime(2018, 6, 23, 20, 22, 54, 424000, tzinfo=tzlocal()),\n",
       "   'Parameters': {'commands': ['su ec2-user -l -c \"python ~/GetOldTweets-python/crypto.py --querysearch \\'bitcoin\\' --days \\'2018-03-10;2018-01-22;2016-10-14;2016-05-24;2017-12-03;2017-09-21;2017-07-18;2016-07-18;2018-04-16;2018-05-21;2017-11-09;2016-08-04;2016-02-14;2016-05-06;2017-02-20;2018-04-21;2017-06-05;2018-01-14;2016-10-02;2017-06-21;2018-01-20;2016-12-27;2018-02-25;2017-11-19;2016-08-17;2016-05-09;2016-09-04;2017-05-04;2016-05-25;2018-04-18;2017-02-17;2017-02-10;2017-05-08;2017-04-01;2017-07-03;2017-06-18;2017-08-28;2017-07-23;2017-08-30;2018-05-19;2016-11-11\\'\"',\n",
       "     'poweroff'],\n",
       "    'executionTimeout': ['172800']},\n",
       "   'InstanceIds': ['i-046ecbb6e3693062b'],\n",
       "   'Targets': [],\n",
       "   'RequestedDateTime': datetime.datetime(2018, 6, 18, 20, 22, 54, 424000, tzinfo=tzlocal()),\n",
       "   'Status': 'InProgress',\n",
       "   'StatusDetails': 'InProgress',\n",
       "   'OutputS3BucketName': 'jeroens-bucket',\n",
       "   'OutputS3KeyPrefix': 'boto-logs/btc/18-06-2018/',\n",
       "   'MaxConcurrency': '50',\n",
       "   'MaxErrors': '0',\n",
       "   'TargetCount': 1,\n",
       "   'CompletedCount': 0,\n",
       "   'ErrorCount': 0,\n",
       "   'ServiceRole': '',\n",
       "   'NotificationConfig': {'NotificationArn': '',\n",
       "    'NotificationEvents': [],\n",
       "    'NotificationType': ''}},\n",
       "  {'CommandId': '2f460f0d-b523-49f2-bfbc-4416697efb2d',\n",
       "   'DocumentName': 'AWS-RunShellScript',\n",
       "   'DocumentVersion': '',\n",
       "   'Comment': '',\n",
       "   'ExpiresAfter': datetime.datetime(2018, 6, 23, 20, 22, 54, 113000, tzinfo=tzlocal()),\n",
       "   'Parameters': {'commands': ['su ec2-user -l -c \"python ~/GetOldTweets-python/crypto.py --querysearch \\'bitcoin\\' --days \\'2016-08-07;2017-12-26;2018-05-20;2017-06-19;2016-02-19;2017-04-19;2016-02-17;2016-10-19;2017-06-02;2017-03-18;2017-04-10;2018-02-21;2017-12-13;2018-02-17;2016-11-05;2017-05-14;2017-05-18;2017-09-26;2016-03-02;2017-10-15;2016-12-29;2017-12-11;2016-11-27;2016-04-05;2017-09-06;2016-03-09;2017-10-17;2016-12-07;2018-03-20;2017-07-04;2016-04-19;2016-07-13;2016-11-26;2017-08-20;2017-11-24;2017-03-01;2016-07-28;2017-06-17;2017-11-27;2017-10-30;2017-05-25\\'\"',\n",
       "     'poweroff'],\n",
       "    'executionTimeout': ['172800']},\n",
       "   'InstanceIds': ['i-05fd210b3b7b377f9'],\n",
       "   'Targets': [],\n",
       "   'RequestedDateTime': datetime.datetime(2018, 6, 18, 20, 22, 54, 113000, tzinfo=tzlocal()),\n",
       "   'Status': 'InProgress',\n",
       "   'StatusDetails': 'InProgress',\n",
       "   'OutputS3BucketName': 'jeroens-bucket',\n",
       "   'OutputS3KeyPrefix': 'boto-logs/btc/18-06-2018/',\n",
       "   'MaxConcurrency': '50',\n",
       "   'MaxErrors': '0',\n",
       "   'TargetCount': 1,\n",
       "   'CompletedCount': 0,\n",
       "   'ErrorCount': 0,\n",
       "   'ServiceRole': '',\n",
       "   'NotificationConfig': {'NotificationArn': '',\n",
       "    'NotificationEvents': [],\n",
       "    'NotificationType': ''}},\n",
       "  {'CommandId': 'a6da13e7-567d-4117-a51b-89f6d3e9134a',\n",
       "   'DocumentName': 'AWS-RunShellScript',\n",
       "   'DocumentVersion': '',\n",
       "   'Comment': '',\n",
       "   'ExpiresAfter': datetime.datetime(2018, 6, 23, 20, 22, 53, 800000, tzinfo=tzlocal()),\n",
       "   'Parameters': {'commands': ['su ec2-user -l -c \"python ~/GetOldTweets-python/crypto.py --querysearch \\'bitcoin\\' --days \\'2016-04-06;2016-12-21;2016-05-12;2017-02-04;2016-09-30;2017-02-26;2016-04-24;2017-12-07;2017-02-13;2016-09-17;2017-01-30;2016-12-13;2017-08-08;2017-03-07;2016-03-15;2017-09-04;2018-03-23;2017-01-12;2017-09-09;2016-08-13;2017-06-09;2016-11-02;2018-01-06;2018-01-16;2016-08-20;2016-10-20;2017-12-27;2016-10-07;2017-07-19;2017-12-23;2018-01-11;2016-12-09;2017-04-08;2016-04-21;2017-10-02;2017-07-02;2018-05-08;2016-12-01;2016-08-24;2016-04-28;2018-02-20\\'\"',\n",
       "     'poweroff'],\n",
       "    'executionTimeout': ['172800']},\n",
       "   'InstanceIds': ['i-00328c978cfa842b3'],\n",
       "   'Targets': [],\n",
       "   'RequestedDateTime': datetime.datetime(2018, 6, 18, 20, 22, 53, 800000, tzinfo=tzlocal()),\n",
       "   'Status': 'InProgress',\n",
       "   'StatusDetails': 'InProgress',\n",
       "   'OutputS3BucketName': 'jeroens-bucket',\n",
       "   'OutputS3KeyPrefix': 'boto-logs/btc/18-06-2018/',\n",
       "   'MaxConcurrency': '50',\n",
       "   'MaxErrors': '0',\n",
       "   'TargetCount': 1,\n",
       "   'CompletedCount': 0,\n",
       "   'ErrorCount': 0,\n",
       "   'ServiceRole': '',\n",
       "   'NotificationConfig': {'NotificationArn': '',\n",
       "    'NotificationEvents': [],\n",
       "    'NotificationType': ''}},\n",
       "  {'CommandId': '784fe3d5-5ff0-4398-88ec-0d2ee3615985',\n",
       "   'DocumentName': 'AWS-RunShellScript',\n",
       "   'DocumentVersion': '',\n",
       "   'Comment': '',\n",
       "   'ExpiresAfter': datetime.datetime(2018, 6, 23, 20, 22, 53, 470000, tzinfo=tzlocal()),\n",
       "   'Parameters': {'commands': ['su ec2-user -l -c \"python ~/GetOldTweets-python/crypto.py --querysearch \\'bitcoin\\' --days \\'2017-10-16;2017-03-15;2017-04-28;2017-10-08;2016-12-26;2018-04-26;2016-10-22;2017-07-06;2017-12-28;2016-12-05;2018-04-01;2016-06-05;2016-11-29;2018-03-27;2016-02-12;2016-04-10;2018-03-14;2016-07-14;2017-08-09;2016-07-11;2016-01-17;2017-10-03;2017-11-13;2017-02-07;2018-02-08;2018-03-02;2017-05-11;2016-10-12;2017-02-01;2017-08-13;2017-07-16;2016-07-25;2016-04-16;2016-09-09;2017-09-24;2017-01-28;2016-04-02;2017-09-29;2016-02-06;2018-04-22;2017-03-10\\'\"',\n",
       "     'poweroff'],\n",
       "    'executionTimeout': ['172800']},\n",
       "   'InstanceIds': ['i-0f70b2abaae6d2045'],\n",
       "   'Targets': [],\n",
       "   'RequestedDateTime': datetime.datetime(2018, 6, 18, 20, 22, 53, 470000, tzinfo=tzlocal()),\n",
       "   'Status': 'InProgress',\n",
       "   'StatusDetails': 'InProgress',\n",
       "   'OutputS3BucketName': 'jeroens-bucket',\n",
       "   'OutputS3KeyPrefix': 'boto-logs/btc/18-06-2018/',\n",
       "   'MaxConcurrency': '50',\n",
       "   'MaxErrors': '0',\n",
       "   'TargetCount': 1,\n",
       "   'CompletedCount': 0,\n",
       "   'ErrorCount': 0,\n",
       "   'ServiceRole': '',\n",
       "   'NotificationConfig': {'NotificationArn': '',\n",
       "    'NotificationEvents': [],\n",
       "    'NotificationType': ''}},\n",
       "  {'CommandId': 'cbb2fd01-6d1a-4f16-b674-969bed9a042d',\n",
       "   'DocumentName': 'AWS-RunShellScript',\n",
       "   'DocumentVersion': '',\n",
       "   'Comment': '',\n",
       "   'ExpiresAfter': datetime.datetime(2018, 6, 23, 20, 22, 52, 891000, tzinfo=tzlocal()),\n",
       "   'Parameters': {'commands': ['su ec2-user -l -c \"python ~/GetOldTweets-python/crypto.py --querysearch \\'bitcoin\\' --days \\'2016-06-12;2016-10-10;2016-01-11;2017-08-25;2016-02-21;2017-02-05;2017-04-04;2016-10-27;2017-05-30;2016-12-20;2017-04-12;2017-01-06;2018-05-13;2018-03-03;2017-07-22;2017-01-19;2018-01-13;2016-05-11;2017-07-20;2017-10-01;2016-06-11;2018-02-22;2017-03-25;2016-08-29;2016-06-29;2017-09-05;2016-10-04;2016-01-14;2016-02-18;2018-01-21;2016-03-07;2017-08-22;2016-09-22;2017-02-11;2017-12-24;2018-02-14;2018-04-29;2018-05-26;2017-04-15;2017-07-27;2018-03-06\\'\"',\n",
       "     'poweroff'],\n",
       "    'executionTimeout': ['172800']},\n",
       "   'InstanceIds': ['i-03bac5caf7fbef44f'],\n",
       "   'Targets': [],\n",
       "   'RequestedDateTime': datetime.datetime(2018, 6, 18, 20, 22, 52, 891000, tzinfo=tzlocal()),\n",
       "   'Status': 'InProgress',\n",
       "   'StatusDetails': 'InProgress',\n",
       "   'OutputS3BucketName': 'jeroens-bucket',\n",
       "   'OutputS3KeyPrefix': 'boto-logs/btc/18-06-2018/',\n",
       "   'MaxConcurrency': '50',\n",
       "   'MaxErrors': '0',\n",
       "   'TargetCount': 1,\n",
       "   'CompletedCount': 0,\n",
       "   'ErrorCount': 0,\n",
       "   'ServiceRole': '',\n",
       "   'NotificationConfig': {'NotificationArn': '',\n",
       "    'NotificationEvents': [],\n",
       "    'NotificationType': ''}},\n",
       "  {'CommandId': 'e1c620e4-3d1b-4015-b1c8-22dac64cfb76',\n",
       "   'DocumentName': 'AWS-RunShellScript',\n",
       "   'DocumentVersion': '',\n",
       "   'Comment': '',\n",
       "   'ExpiresAfter': datetime.datetime(2018, 6, 23, 20, 22, 50, 359000, tzinfo=tzlocal()),\n",
       "   'Parameters': {'commands': ['su ec2-user -l -c \"python ~/GetOldTweets-python/crypto.py --querysearch \\'bitcoin\\' --days \\'2018-04-24;2017-03-27;2016-01-24;2017-05-12;2018-03-19;2017-08-21;2016-10-06;2016-11-18;2017-07-29;2017-05-28;2016-09-19;2018-05-25;2016-01-19;2016-04-26;2018-02-23;2016-06-04;2016-09-05;2018-02-19;2016-02-13;2016-11-28;2018-02-27;2016-01-13;2016-04-08;2016-09-06;2017-08-07;2017-08-29;2016-10-29;2017-05-13;2018-01-27;2017-01-09;2017-12-21;2017-06-01;2016-03-26;2016-07-07;2017-03-24;2016-05-01;2017-02-27;2016-06-20;2016-04-15;2017-10-09;2017-10-13\\'\"',\n",
       "     'poweroff'],\n",
       "    'executionTimeout': ['172800']},\n",
       "   'InstanceIds': ['i-0f8929c9ea1e618d7'],\n",
       "   'Targets': [],\n",
       "   'RequestedDateTime': datetime.datetime(2018, 6, 18, 20, 22, 50, 359000, tzinfo=tzlocal()),\n",
       "   'Status': 'InProgress',\n",
       "   'StatusDetails': 'InProgress',\n",
       "   'OutputS3BucketName': 'jeroens-bucket',\n",
       "   'OutputS3KeyPrefix': 'boto-logs/btc/18-06-2018/',\n",
       "   'MaxConcurrency': '50',\n",
       "   'MaxErrors': '0',\n",
       "   'TargetCount': 1,\n",
       "   'CompletedCount': 0,\n",
       "   'ErrorCount': 0,\n",
       "   'ServiceRole': '',\n",
       "   'NotificationConfig': {'NotificationArn': '',\n",
       "    'NotificationEvents': [],\n",
       "    'NotificationType': ''}},\n",
       "  {'CommandId': '0127b9df-f438-462f-89a0-fdc5676890aa',\n",
       "   'DocumentName': 'AWS-RunShellScript',\n",
       "   'DocumentVersion': '',\n",
       "   'Comment': '',\n",
       "   'ExpiresAfter': datetime.datetime(2018, 6, 23, 20, 22, 49, 513000, tzinfo=tzlocal()),\n",
       "   'Parameters': {'commands': ['su ec2-user -l -c \"python ~/GetOldTweets-python/crypto.py --querysearch \\'bitcoin\\' --days \\'2017-03-06;2017-07-13;2017-10-04;2016-05-18;2016-10-03;2017-04-05;2018-04-30;2018-04-15;2017-01-29;2017-08-18;2017-11-16;2017-01-04;2016-05-19;2017-04-09;2016-08-22;2017-05-07;2018-05-16;2017-06-20;2017-01-14;2018-01-15;2016-07-23;2016-03-24;2017-06-11;2017-11-25;2016-12-03;2016-05-08;2016-12-12;2016-10-09;2017-07-25;2017-03-05;2017-04-26;2016-10-17;2017-02-03;2018-01-24;2017-05-29;2018-01-19;2017-10-29;2017-04-14;2018-01-26;2016-11-20;2017-12-17\\'\"',\n",
       "     'poweroff'],\n",
       "    'executionTimeout': ['172800']},\n",
       "   'InstanceIds': ['i-0d6cd9c8a24a913f5'],\n",
       "   'Targets': [],\n",
       "   'RequestedDateTime': datetime.datetime(2018, 6, 18, 20, 22, 49, 513000, tzinfo=tzlocal()),\n",
       "   'Status': 'InProgress',\n",
       "   'StatusDetails': 'InProgress',\n",
       "   'OutputS3BucketName': 'jeroens-bucket',\n",
       "   'OutputS3KeyPrefix': 'boto-logs/btc/18-06-2018/',\n",
       "   'MaxConcurrency': '50',\n",
       "   'MaxErrors': '0',\n",
       "   'TargetCount': 1,\n",
       "   'CompletedCount': 0,\n",
       "   'ErrorCount': 0,\n",
       "   'ServiceRole': '',\n",
       "   'NotificationConfig': {'NotificationArn': '',\n",
       "    'NotificationEvents': [],\n",
       "    'NotificationType': ''}},\n",
       "  {'CommandId': '0d192344-c3f4-4e85-bdac-bd97da658593',\n",
       "   'DocumentName': 'AWS-RunShellScript',\n",
       "   'DocumentVersion': '',\n",
       "   'Comment': '',\n",
       "   'ExpiresAfter': datetime.datetime(2018, 6, 23, 20, 22, 48, 903000, tzinfo=tzlocal()),\n",
       "   'Parameters': {'commands': ['su ec2-user -l -c \"python ~/GetOldTweets-python/crypto.py --querysearch \\'bitcoin\\' --days \\'2018-05-29;2018-03-29;2016-07-30;2016-08-28;2016-10-24;2017-01-10;2016-08-09;2017-11-15;2017-04-24;2018-01-29;2017-05-01;2018-04-03;2017-09-16;2016-12-23;2016-06-02;2018-05-18;2017-06-14;2018-01-05;2017-04-16;2017-10-22;2017-05-06;2016-06-10;2016-05-13;2017-01-27;2016-03-19;2018-03-25;2016-09-14;2016-03-30;2017-07-17;2018-02-13;2016-04-01;2018-04-06;2016-02-10;2017-01-02;2016-04-27;2017-08-23;2017-11-20;2016-05-21;2016-07-16;2016-05-14;2016-11-19\\'\"',\n",
       "     'poweroff'],\n",
       "    'executionTimeout': ['172800']},\n",
       "   'InstanceIds': ['i-078d8ef8e07316bd2'],\n",
       "   'Targets': [],\n",
       "   'RequestedDateTime': datetime.datetime(2018, 6, 18, 20, 22, 48, 903000, tzinfo=tzlocal()),\n",
       "   'Status': 'InProgress',\n",
       "   'StatusDetails': 'InProgress',\n",
       "   'OutputS3BucketName': 'jeroens-bucket',\n",
       "   'OutputS3KeyPrefix': 'boto-logs/btc/18-06-2018/',\n",
       "   'MaxConcurrency': '50',\n",
       "   'MaxErrors': '0',\n",
       "   'TargetCount': 1,\n",
       "   'CompletedCount': 0,\n",
       "   'ErrorCount': 0,\n",
       "   'ServiceRole': '',\n",
       "   'NotificationConfig': {'NotificationArn': '',\n",
       "    'NotificationEvents': [],\n",
       "    'NotificationType': ''}}],\n",
       " 'NextToken': 'AAEAAjaRCMcj39w4iu1SYEaK9a8iDhW4+PAnYUlAiL39pQkXAAAAAFstY77/CtXgJBc9IhZH71dNBzIcBAyCkaskjX/bkKSjLKUThiSzdRBioc7ojnUyIQ/uc3X6TrqHHxbRLZT/3ohSo95+ahcudQd/g1YUPh92E3XaKIW3OXH6fXRVJqoxEJZ9aotFcCM374dWSdQsj5r/QEcxfCqG5/tvbU7pUPN+2Qm7eWGfRxCayHzptjbBDjVJ5g+5HcocLMyv0n5KBlB5u+2tBZyk1oP92bivlTiiq0PElVzMOaxqCq/ctB/0FV90ZlTA2IUF/VyZmRb8HWedC8dqec1yo0w5Pynwy3ewU2vKVrAtsXSa5RNtwtI+gSUj4QmyOMmCBFg+yR2B/ON6dCRIchlBkqR2F3i85TBb5a5OhexAtvg0nVnNOQDDxt1dGI61EYl6weMEts9+mYSujbKVYevKpcy/BZQnrAKLAkBPtGwpLEns3gyxGn7a3jekKFfySeUni7lQtfnjURO/bdPBCmI7h0Ub5WF9zzKg2Tbpqw==',\n",
       " 'ResponseMetadata': {'RequestId': '5c381a51-67c5-4616-b3fb-b520350c2222',\n",
       "  'HTTPStatusCode': 200,\n",
       "  'HTTPHeaders': {'x-amzn-requestid': '5c381a51-67c5-4616-b3fb-b520350c2222',\n",
       "   'content-type': 'application/x-amz-json-1.1',\n",
       "   'content-length': '44750',\n",
       "   'date': 'Fri, 22 Jun 2018 21:01:50 GMT'},\n",
       "  'RetryAttempts': 0}}"
      ]
     },
     "execution_count": 10,
     "metadata": {},
     "output_type": "execute_result"
    }
   ],
   "source": [
    "active_ssm"
   ]
  },
  {
   "cell_type": "code",
   "execution_count": null,
   "metadata": {},
   "outputs": [],
   "source": []
  },
  {
   "cell_type": "code",
   "execution_count": null,
   "metadata": {},
   "outputs": [],
   "source": []
  },
  {
   "cell_type": "code",
   "execution_count": null,
   "metadata": {},
   "outputs": [],
   "source": []
  },
  {
   "cell_type": "code",
   "execution_count": null,
   "metadata": {},
   "outputs": [],
   "source": []
  },
  {
   "cell_type": "code",
   "execution_count": 39,
   "metadata": {
    "ExecuteTime": {
     "end_time": "2018-06-18T15:46:18.518691Z",
     "start_time": "2018-06-18T15:46:18.507431Z"
    }
   },
   "outputs": [
    {
     "data": {
      "text/plain": [
       "'1e864287-af28-46a8-a0f0-f87ff274924f'"
      ]
     },
     "execution_count": 39,
     "metadata": {},
     "output_type": "execute_result"
    }
   ],
   "source": [
    "active_ssm[\"Commands\"][0][\"CommandId\"]"
   ]
  },
  {
   "cell_type": "code",
   "execution_count": 11,
   "metadata": {
    "ExecuteTime": {
     "end_time": "2018-06-22T21:10:00.344307Z",
     "start_time": "2018-06-22T21:09:48.744294Z"
    }
   },
   "outputs": [
    {
     "name": "stdout",
     "output_type": "stream",
     "text": [
      "e6962474-3b11-44a9-b3e0-35e2dc4c75d6\n",
      "ba2a838b-5c62-4cf5-aacb-da05f7831cea\n",
      "0bfc9ad3-ea9e-4fed-a648-fd412c55c0d9\n",
      "a65a9378-0c02-4858-b7df-f6ec0d44f60d\n",
      "c6c65dd4-38e3-4c1c-93d4-92250550ab1f\n",
      "f5a7fb03-59f4-418d-85e5-33a1071a699e\n",
      "9f718711-907a-41d9-a029-526c3c85def9\n",
      "9cb8654c-edf5-4307-b9d5-7a82f1a0afe8\n",
      "68503298-2d78-466d-8941-0e33fa03b104\n",
      "98c89797-ae55-4062-ba37-cfbc95de9413\n",
      "ae0762da-ba13-4d82-b4df-85aee142776f\n",
      "696e153e-3f11-4e0b-a53a-0be8a368738b\n",
      "6de7f919-2a1c-458a-9a7c-79acdd951561\n",
      "7511ecb1-f195-48f9-8548-f7e1323dc819\n",
      "4a267221-4fff-44ac-b44e-effe083a7fc5\n",
      "650ec8ed-4289-45c9-aeba-c4eb1d7b8699\n",
      "fc3b952a-1097-4eb3-ac53-2ab3ffdb9e17\n",
      "b7c9eb03-8807-4e08-aab8-a714888e94d8\n",
      "23d2012a-673b-4a42-9e42-088dbc5139bf\n",
      "1a5665d5-139f-4e62-9840-d9ecd09a5483\n",
      "d2131b06-49d1-40cb-a001-11549c4c0455\n",
      "050d9655-f9e8-4015-b1bb-5db3bbe76ef4\n",
      "20d65f82-fe7a-4a35-bca0-8a4d609e1434\n",
      "f6057bb6-339a-44b6-bacd-0fcc1fb7fbfe\n",
      "3cb3230c-ecb3-43a4-97ea-b843d0719888\n",
      "ecc1eaea-adb3-4db7-b3b6-13bf383511bb\n",
      "4dac30ab-925c-418b-bd58-1158ba1616d8\n",
      "6d620281-4d33-4246-9b03-b3e37abc3b0e\n",
      "1bc31538-cfa0-4ca6-96f8-b9af682757b4\n",
      "f981afbd-cc8b-4a6a-acc5-2381267a1d3c\n",
      "3147be33-5be2-42ce-ae49-ee04322e59f3\n",
      "2f460f0d-b523-49f2-bfbc-4416697efb2d\n",
      "a6da13e7-567d-4117-a51b-89f6d3e9134a\n",
      "784fe3d5-5ff0-4398-88ec-0d2ee3615985\n",
      "cbb2fd01-6d1a-4f16-b674-969bed9a042d\n",
      "e1c620e4-3d1b-4015-b1c8-22dac64cfb76\n",
      "0127b9df-f438-462f-89a0-fdc5676890aa\n",
      "0d192344-c3f4-4e85-bdac-bd97da658593\n"
     ]
    }
   ],
   "source": [
    "for response in active_ssm[\"Commands\"]:\n",
    "    command_id = response[\"CommandId\"]\n",
    "    print(command_id)\n",
    "    ssm_client.cancel_command(CommandId=command_id)"
   ]
  },
  {
   "cell_type": "markdown",
   "metadata": {},
   "source": [
    "# Commands"
   ]
  },
  {
   "cell_type": "code",
   "execution_count": null,
   "metadata": {},
   "outputs": [],
   "source": [
    "# set up proccess\n",
    "commands = [\n",
    "'yum update -y',\n",
    "'yum install git -y',\n",
    "'wget https://repo.continuum.io/miniconda/Miniconda2-latest-Linux-x86_64.sh',\n",
    "'chmod 777 Miniconda2-latest-Linux-x86_64.sh',\n",
    "'bash ./Miniconda2-latest-Linux-x86_64.sh -b',\n",
    "'echo \"export PATH=/root/miniconda2/bin:$PATH\" >> /root/.bashrc ',\n",
    "'conda install boto -y',\n",
    "'sudo yum groupinstall \"Development Tools\" -y',\n",
    "'yum install python-lxml',\n",
    "'yum install libxml2-devel libxslt-devel python-devel',\n",
    "'git clone https://github.com/Jefferson-Henrique/GetOldTweets-python.git',\n",
    "'pip install -r requirements.txt',\n",
    "'mkdir /GetOldTweets-python/Bitcoin',\n",
    "'mkdir /GetOldTweets-python/Ethereum',\n",
    "'aws s3 cp s3://jeroens-bucket/cryto_v2.py GetOldTweets-python/cryto_v2.py'\n",
    "]"
   ]
  }
 ],
 "metadata": {
  "kernelspec": {
   "display_name": "aws",
   "language": "python",
   "name": "aws"
  },
  "language_info": {
   "codemirror_mode": {
    "name": "ipython",
    "version": 3
   },
   "file_extension": ".py",
   "mimetype": "text/x-python",
   "name": "python",
   "nbconvert_exporter": "python",
   "pygments_lexer": "ipython3",
   "version": "3.6.5"
  },
  "toc": {
   "base_numbering": 1,
   "nav_menu": {},
   "number_sections": true,
   "sideBar": true,
   "skip_h1_title": false,
   "title_cell": "Table of Contents",
   "title_sidebar": "Contents",
   "toc_cell": false,
   "toc_position": {
    "height": "calc(100% - 180px)",
    "left": "10px",
    "top": "150px",
    "width": "255px"
   },
   "toc_section_display": true,
   "toc_window_display": true
  }
 },
 "nbformat": 4,
 "nbformat_minor": 2
}
