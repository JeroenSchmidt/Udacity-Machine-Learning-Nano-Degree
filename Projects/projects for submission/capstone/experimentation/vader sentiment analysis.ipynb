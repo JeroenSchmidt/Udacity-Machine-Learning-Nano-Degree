{
 "cells": [
  {
   "cell_type": "code",
   "execution_count": 1,
   "metadata": {
    "ExecuteTime": {
     "end_time": "2018-06-20T21:13:14.963590Z",
     "start_time": "2018-06-20T21:13:14.854890Z"
    }
   },
   "outputs": [],
   "source": [
    "from vaderSentiment.vaderSentiment import SentimentIntensityAnalyzer    "
   ]
  },
  {
   "cell_type": "code",
   "execution_count": 2,
   "metadata": {
    "ExecuteTime": {
     "end_time": "2018-06-20T21:13:20.223724Z",
     "start_time": "2018-06-20T21:13:20.217302Z"
    }
   },
   "outputs": [],
   "source": [
    "sentences = [\"VADER is smart, handsome, and funny.\",  # positive sentence example\n",
    "             \"VADER is smart, handsome, and funny!\",  # punctuation emphasis handled correctly (sentiment intensity adjusted)\n",
    "             \"VADER is very smart, handsome, and funny.\", # booster words handled correctly (sentiment intensity adjusted)\n",
    "             \"VADER is VERY SMART, handsome, and FUNNY.\",  # emphasis for ALLCAPS handled\n",
    "             \"VADER is VERY SMART, handsome, and FUNNY!!!\", # combination of signals - VADER appropriately adjusts intensity\n",
    "             \"VADER is VERY SMART, uber handsome, and FRIGGIN FUNNY!!!\", # booster words & punctuation make this close to ceiling for score\n",
    "             \"VADER is not smart, handsome, nor funny.\",  # negation sentence example\n",
    "             \"The book was good.\",  # positive sentence\n",
    "             \"At least it isn't a horrible book.\",  # negated negative sentence with contraction\n",
    "             \"The book was only kind of good.\", # qualified positive sentence is handled correctly (intensity adjusted)\n",
    "             \"The plot was good, but the characters are uncompelling and the dialog is not great.\", # mixed negation sentence\n",
    "             \"Today SUX!\",  # negative slang with capitalization emphasis\n",
    "             \"Today only kinda sux! But I'll get by, lol\", # mixed sentiment example with slang and constrastive conjunction \"but\"\n",
    "             \"Make sure you :) or :D today!\",  # emoticons handled\n",
    "             \"Catch utf-8 emoji such as such as 💘 and 💋 and 😁\",  # emojis handled\n",
    "             \"Not bad at all\"  # Capitalized negation\n",
    "             ]\n",
    "\n"
   ]
  },
  {
   "cell_type": "code",
   "execution_count": 4,
   "metadata": {
    "ExecuteTime": {
     "end_time": "2018-06-20T21:13:49.471781Z",
     "start_time": "2018-06-20T21:13:49.215865Z"
    }
   },
   "outputs": [],
   "source": [
    "import pandas as pd\n",
    "series = pd.Series(sentences)"
   ]
  },
  {
   "cell_type": "code",
   "execution_count": 5,
   "metadata": {
    "ExecuteTime": {
     "end_time": "2018-06-20T21:13:53.494823Z",
     "start_time": "2018-06-20T21:13:53.485469Z"
    }
   },
   "outputs": [
    {
     "data": {
      "text/plain": [
       "0                  VADER is smart, handsome, and funny.\n",
       "1                  VADER is smart, handsome, and funny!\n",
       "2             VADER is very smart, handsome, and funny.\n",
       "3             VADER is VERY SMART, handsome, and FUNNY.\n",
       "4           VADER is VERY SMART, handsome, and FUNNY!!!\n",
       "5     VADER is VERY SMART, uber handsome, and FRIGGI...\n",
       "6              VADER is not smart, handsome, nor funny.\n",
       "7                                    The book was good.\n",
       "8                    At least it isn't a horrible book.\n",
       "9                       The book was only kind of good.\n",
       "10    The plot was good, but the characters are unco...\n",
       "11                                           Today SUX!\n",
       "12           Today only kinda sux! But I'll get by, lol\n",
       "13                        Make sure you :) or :D today!\n",
       "14      Catch utf-8 emoji such as such as 💘 and 💋 and 😁\n",
       "15                                       Not bad at all\n",
       "dtype: object"
      ]
     },
     "execution_count": 5,
     "metadata": {},
     "output_type": "execute_result"
    }
   ],
   "source": [
    "series"
   ]
  },
  {
   "cell_type": "code",
   "execution_count": null,
   "metadata": {},
   "outputs": [],
   "source": []
  },
  {
   "cell_type": "code",
   "execution_count": 8,
   "metadata": {
    "ExecuteTime": {
     "end_time": "2018-06-20T21:15:23.184950Z",
     "start_time": "2018-06-20T21:15:23.181651Z"
    }
   },
   "outputs": [],
   "source": [
    "def sentiment(sentence):\n",
    "    analyzer = SentimentIntensityAnalyzer()\n",
    "    vs = analyzer.polarity_scores(sentence)\n",
    "    return vs.get(\"neg\")"
   ]
  },
  {
   "cell_type": "code",
   "execution_count": 9,
   "metadata": {
    "ExecuteTime": {
     "end_time": "2018-06-20T21:15:23.856675Z",
     "start_time": "2018-06-20T21:15:23.684373Z"
    }
   },
   "outputs": [
    {
     "data": {
      "text/plain": [
       "0     0.000\n",
       "1     0.000\n",
       "2     0.000\n",
       "3     0.000\n",
       "4     0.000\n",
       "5     0.000\n",
       "6     0.646\n",
       "7     0.000\n",
       "8     0.000\n",
       "9     0.000\n",
       "10    0.327\n",
       "11    0.779\n",
       "12    0.127\n",
       "13    0.000\n",
       "14    0.000\n",
       "15    0.000\n",
       "dtype: float64"
      ]
     },
     "execution_count": 9,
     "metadata": {},
     "output_type": "execute_result"
    }
   ],
   "source": [
    "series.apply(sentiment)"
   ]
  },
  {
   "cell_type": "code",
   "execution_count": null,
   "metadata": {},
   "outputs": [],
   "source": [
    "analyzer = SentimentIntensityAnalyzer()\n",
    "for sentence in sentences:\n",
    "    vs = analyzer.polarity_scores(sentence)\n",
    "    print(\"{:-<65} {}\".format(sentence, str(vs)))"
   ]
  },
  {
   "cell_type": "code",
   "execution_count": null,
   "metadata": {},
   "outputs": [],
   "source": [
    "analyzer = SentimentIntensityAnalyzer()\n",
    "analyzer.polarity_scores(sentence)"
   ]
  },
  {
   "cell_type": "code",
   "execution_count": 4,
   "metadata": {
    "ExecuteTime": {
     "end_time": "2018-06-19T19:11:31.434186Z",
     "start_time": "2018-06-19T19:11:31.422789Z"
    }
   },
   "outputs": [
    {
     "data": {
      "text/plain": [
       "{'neg': 0.0, 'neu': 0.513, 'pos': 0.487, 'compound': 0.431}"
      ]
     },
     "execution_count": 4,
     "metadata": {},
     "output_type": "execute_result"
    }
   ],
   "source": [
    "vs"
   ]
  },
  {
   "cell_type": "code",
   "execution_count": null,
   "metadata": {},
   "outputs": [],
   "source": []
  }
 ],
 "metadata": {
  "kernelspec": {
   "display_name": "pyspark2.3.0",
   "language": "python",
   "name": "pyspark2.3.0"
  },
  "language_info": {
   "codemirror_mode": {
    "name": "ipython",
    "version": 3
   },
   "file_extension": ".py",
   "mimetype": "text/x-python",
   "name": "python",
   "nbconvert_exporter": "python",
   "pygments_lexer": "ipython3",
   "version": "3.6.5"
  },
  "toc": {
   "base_numbering": 1,
   "nav_menu": {},
   "number_sections": true,
   "sideBar": true,
   "skip_h1_title": false,
   "title_cell": "Table of Contents",
   "title_sidebar": "Contents",
   "toc_cell": false,
   "toc_position": {},
   "toc_section_display": true,
   "toc_window_display": false
  }
 },
 "nbformat": 4,
 "nbformat_minor": 2
}
