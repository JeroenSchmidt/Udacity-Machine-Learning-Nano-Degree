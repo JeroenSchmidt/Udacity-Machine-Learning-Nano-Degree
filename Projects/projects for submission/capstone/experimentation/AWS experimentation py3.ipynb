{
 "cells": [
  {
   "cell_type": "markdown",
   "metadata": {},
   "source": [
    "Things that need to be done:\n",
    "* create IAM role for boto, \n",
    "\n",
    "You now want to give boto account the following permisions:\n",
    "* full ec2 creation access - or just enough to spin it up and run ssm commands on it\n",
    "* create a policy that allows the boto account to assign a ssm role to ec2 instance\n",
    "\n",
    "Create a role to assign ec2 instances:\n",
    "* this role should give the ec2 instance permision to access the ssm API\n",
    "\n"
   ]
  },
  {
   "cell_type": "markdown",
   "metadata": {},
   "source": [
    "NOTE: \n",
    "* You need your RTC time to be synched to the amazon UTC time\n",
    "* Your local time can be set to your local time (GTM zone)"
   ]
  },
  {
   "cell_type": "code",
   "execution_count": 1,
   "metadata": {},
   "outputs": [],
   "source": [
    "import boto3"
   ]
  },
  {
   "cell_type": "code",
   "execution_count": 2,
   "metadata": {},
   "outputs": [],
   "source": [
    "s3 = boto3.resource('s3')"
   ]
  },
  {
   "cell_type": "code",
   "execution_count": 3,
   "metadata": {},
   "outputs": [],
   "source": [
    "## if on prem- you need to manualy set the machines time to gmt+0\n",
    "## -2 hours\n",
    "# thanks ITO\n",
    "# \n",
    "# date -s '07 June 2018 13:24:00'"
   ]
  },
  {
   "cell_type": "code",
   "execution_count": 4,
   "metadata": {},
   "outputs": [
    {
     "name": "stdout",
     "output_type": "stream",
     "text": [
      "jeroens-bucket\n",
      "lauren-backups\n"
     ]
    }
   ],
   "source": [
    "for bucket in s3.buckets.all():\n",
    "    print(bucket.name)"
   ]
  },
  {
   "cell_type": "code",
   "execution_count": 5,
   "metadata": {},
   "outputs": [],
   "source": [
    "ec2 = boto3.client('ec2')"
   ]
  },
  {
   "cell_type": "code",
   "execution_count": 6,
   "metadata": {},
   "outputs": [],
   "source": [
    "\n",
    "#IAM_profile = {\n",
    "#        'Arn': 'arn:aws:iam::680041685499:instance-profile/SSM-access'\n",
    "#    }"
   ]
  },
  {
   "cell_type": "code",
   "execution_count": 7,
   "metadata": {},
   "outputs": [],
   "source": [
    "IAM_profile = {\n",
    "        'Arn': 'arn:aws:iam::937520633893:instance-profile/EC2=S3+SSM'\n",
    "    }"
   ]
  },
  {
   "cell_type": "code",
   "execution_count": 8,
   "metadata": {},
   "outputs": [],
   "source": [
    "tags = [\n",
    "                {\n",
    "                    'ResourceType':'instance',\n",
    "                    'Tags': [\n",
    "                        {\n",
    "                            'Key': 'use',\n",
    "                            'Value': 'boto3'\n",
    "                        },\n",
    "                    ]\n",
    "                }]"
   ]
  },
  {
   "cell_type": "markdown",
   "metadata": {},
   "source": [
    "* if you want to run an isntance with an IAM role - the boto credentials need to have some admin rights\n",
    "https://stackoverflow.com/questions/27266400/launching-ec-instance-a-client-error-unauthorizedoperation-occurred-when-ca\n",
    "\n",
    "For a more in depth explination:\n",
    "* https://aws.amazon.com/blogs/security/granting-permission-to-launch-ec2-instances-with-iam-roles-passrole-permission/"
   ]
  },
  {
   "cell_type": "code",
   "execution_count": 13,
   "metadata": {},
   "outputs": [],
   "source": [
    "# defualt ami - AWS LINUX\n",
    "ami='ami-ca0135b3'\n",
    "\n",
    "#key='testing-jeroen'\n",
    "#subnet=subnet-36539650\n",
    "\n",
    "#ami='ami-59696920'\n",
    "key='jeroen-R-studio'\n",
    "subnet='subnet-17a89c4f'\n",
    "security_group=['sg-1c540361']\n"
   ]
  },
  {
   "cell_type": "code",
   "execution_count": 14,
   "metadata": {},
   "outputs": [],
   "source": [
    "instance = ec2.run_instances(\n",
    "        ImageId=ami,\n",
    "        MinCount=1,\n",
    "        MaxCount=1,\n",
    "        KeyName=key,\n",
    "        InstanceType='t1.micro',\n",
    "        SubnetId=subnet,\n",
    "        TagSpecifications=tags,\n",
    "        IamInstanceProfile=IAM_profile,\n",
    "        SecurityGroupIds=security_group\n",
    "        )"
   ]
  },
  {
   "cell_type": "code",
   "execution_count": 13,
   "metadata": {},
   "outputs": [
    {
     "data": {
      "text/plain": [
       "{'Groups': [],\n",
       " 'Instances': [{'AmiLaunchIndex': 0,\n",
       "   'ImageId': 'ami-59696920',\n",
       "   'InstanceId': 'i-023b3ecd69692fabc',\n",
       "   'InstanceType': 't1.micro',\n",
       "   'KeyName': 'jeroen-R-studio',\n",
       "   'LaunchTime': datetime.datetime(2018, 6, 8, 5, 12, 58, tzinfo=tzutc()),\n",
       "   'Monitoring': {'State': 'disabled'},\n",
       "   'Placement': {'AvailabilityZone': 'eu-west-1a',\n",
       "    'GroupName': '',\n",
       "    'Tenancy': 'default'},\n",
       "   'PrivateDnsName': 'ip-172-31-47-66.eu-west-1.compute.internal',\n",
       "   'PrivateIpAddress': '172.31.47.66',\n",
       "   'ProductCodes': [],\n",
       "   'PublicDnsName': '',\n",
       "   'State': {'Code': 0, 'Name': 'pending'},\n",
       "   'StateTransitionReason': '',\n",
       "   'SubnetId': 'subnet-17a89c4f',\n",
       "   'VpcId': 'vpc-ae7498c9',\n",
       "   'Architecture': 'x86_64',\n",
       "   'BlockDeviceMappings': [],\n",
       "   'ClientToken': '',\n",
       "   'EbsOptimized': False,\n",
       "   'Hypervisor': 'xen',\n",
       "   'IamInstanceProfile': {'Arn': 'arn:aws:iam::937520633893:instance-profile/EC2=S3+SSM',\n",
       "    'Id': 'AIPAJUSMUGO34SJXZSCA6'},\n",
       "   'NetworkInterfaces': [{'Attachment': {'AttachTime': datetime.datetime(2018, 6, 8, 5, 12, 58, tzinfo=tzutc()),\n",
       "      'AttachmentId': 'eni-attach-ac9eb1d3',\n",
       "      'DeleteOnTermination': True,\n",
       "      'DeviceIndex': 0,\n",
       "      'Status': 'attaching'},\n",
       "     'Description': '',\n",
       "     'Groups': [{'GroupName': 'default', 'GroupId': 'sg-3760e44e'}],\n",
       "     'Ipv6Addresses': [],\n",
       "     'MacAddress': '0a:ba:92:51:99:0a',\n",
       "     'NetworkInterfaceId': 'eni-ac2bb4ab',\n",
       "     'OwnerId': '937520633893',\n",
       "     'PrivateDnsName': 'ip-172-31-47-66.eu-west-1.compute.internal',\n",
       "     'PrivateIpAddress': '172.31.47.66',\n",
       "     'PrivateIpAddresses': [{'Primary': True,\n",
       "       'PrivateDnsName': 'ip-172-31-47-66.eu-west-1.compute.internal',\n",
       "       'PrivateIpAddress': '172.31.47.66'}],\n",
       "     'SourceDestCheck': True,\n",
       "     'Status': 'in-use',\n",
       "     'SubnetId': 'subnet-17a89c4f',\n",
       "     'VpcId': 'vpc-ae7498c9'}],\n",
       "   'RootDeviceName': '/dev/xvda',\n",
       "   'RootDeviceType': 'ebs',\n",
       "   'SecurityGroups': [{'GroupName': 'default', 'GroupId': 'sg-3760e44e'}],\n",
       "   'SourceDestCheck': True,\n",
       "   'StateReason': {'Code': 'pending', 'Message': 'pending'},\n",
       "   'Tags': [{'Key': 'use', 'Value': 'boto3'}],\n",
       "   'VirtualizationType': 'hvm',\n",
       "   'CpuOptions': {'CoreCount': 1, 'ThreadsPerCore': 1}}],\n",
       " 'OwnerId': '937520633893',\n",
       " 'ReservationId': 'r-0356af94d18ff914e',\n",
       " 'ResponseMetadata': {'RequestId': '0e12e7c2-528d-4c7b-bbeb-45df5b0cd936',\n",
       "  'HTTPStatusCode': 200,\n",
       "  'HTTPHeaders': {'content-type': 'text/xml;charset=UTF-8',\n",
       "   'content-length': '4468',\n",
       "   'vary': 'Accept-Encoding',\n",
       "   'date': 'Fri, 08 Jun 2018 05:12:58 GMT',\n",
       "   'server': 'AmazonEC2'},\n",
       "  'RetryAttempts': 0}}"
      ]
     },
     "execution_count": 13,
     "metadata": {},
     "output_type": "execute_result"
    }
   ],
   "source": [
    "isntance"
   ]
  },
  {
   "cell_type": "code",
   "execution_count": 18,
   "metadata": {},
   "outputs": [],
   "source": [
    "def execute_commands_on_linux_instances(client, commands, instance_ids):\n",
    "    \"\"\"Runs commands on remote linux instances\n",
    "    :param client: a boto/boto3 ssm client\n",
    "    :param commands: a list of strings, each one a command to execute on the instances\n",
    "    :param instance_ids: a list of instance_id strings, of the instances on which to execute the command\n",
    "    :return: the response from the send_command function (check the boto3 docs for ssm client.send_command() )\n",
    "    \"\"\"\n",
    "\n",
    "    resp = client.send_command(\n",
    "        DocumentName=\"AWS-RunShellScript\", # One of AWS' preconfigured documents\n",
    "        Parameters={'commands': commands},\n",
    "        InstanceIds=instance_ids,\n",
    "        OutputS3BucketName='jeroens-bucket',\n",
    "        OutputS3KeyPrefix='boto-logs'\n",
    "    )\n",
    "    return resp"
   ]
  },
  {
   "cell_type": "code",
   "execution_count": 23,
   "metadata": {
    "scrolled": false
   },
   "outputs": [
    {
     "data": {
      "text/plain": [
       "{'Command': {'CommandId': '30dcf321-2b00-4e2d-9561-4de277f5ab92',\n",
       "  'DocumentName': 'AWS-RunShellScript',\n",
       "  'DocumentVersion': '',\n",
       "  'Comment': '',\n",
       "  'ExpiresAfter': datetime.datetime(2018, 6, 9, 20, 43, 27, 187000, tzinfo=tzlocal()),\n",
       "  'Parameters': {'commands': ['su ec2-user -l -c \"python ~/GetOldTweets-python/crypto_v2.py --querysearch \\'etherium\\' --days \\'2017-06-04;2017-06-05\\'\"']},\n",
       "  'InstanceIds': ['i-01b2c6f83b28b5f39'],\n",
       "  'Targets': [],\n",
       "  'RequestedDateTime': datetime.datetime(2018, 6, 9, 18, 43, 27, 187000, tzinfo=tzlocal()),\n",
       "  'Status': 'Pending',\n",
       "  'StatusDetails': 'Pending',\n",
       "  'OutputS3BucketName': 'jeroens-bucket',\n",
       "  'OutputS3KeyPrefix': 'boto-logs',\n",
       "  'MaxConcurrency': '50',\n",
       "  'MaxErrors': '0',\n",
       "  'TargetCount': 1,\n",
       "  'CompletedCount': 0,\n",
       "  'ErrorCount': 0,\n",
       "  'ServiceRole': '',\n",
       "  'NotificationConfig': {'NotificationArn': '',\n",
       "   'NotificationEvents': [],\n",
       "   'NotificationType': ''}},\n",
       " 'ResponseMetadata': {'RequestId': '965d5c6b-0c00-490f-ba43-ed74cd702906',\n",
       "  'HTTPStatusCode': 200,\n",
       "  'HTTPHeaders': {'x-amzn-requestid': '965d5c6b-0c00-490f-ba43-ed74cd702906',\n",
       "   'content-type': 'application/x-amz-json-1.1',\n",
       "   'content-length': '760',\n",
       "   'date': 'Sat, 09 Jun 2018 16:43:26 GMT'},\n",
       "  'RetryAttempts': 0}}"
      ]
     },
     "execution_count": 23,
     "metadata": {},
     "output_type": "execute_result"
    }
   ],
   "source": [
    "# Example use:\n",
    "ssm_client = boto3.client('ssm') # Need your credentials here\n",
    "# command = 'python get-tweets-data-ranges.py --querysearch \"etherium\" --days \"2017-06-02;2017-06-03\"'\n",
    "#command = \"echo 'User:'\"\n",
    "#command1 = 'su ec2-user -c \"whoami\"'\n",
    "#command2 = 'su ec2-user -c \"ls -l ~/GetOldTweets-python\"'\n",
    "#command3 = 'su ec2-user -l -c \"conda list env\"'\n",
    "#command4 = \"conda\"\n",
    "#commandTimeoutSeconds5 = 'su ec2-user -c \"which python\"'\n",
    "#command3 = 'echo \"python ~/GetOldTweets-python/crypto_v2.py --querysearch \\'etherium\\' --days \\'2017-06-02;2017-06-03\\'\"'\n",
    "\n",
    "command = 'su ec2-user -l -c \"python ~/GetOldTweets-python/crypto_v2.py --querysearch \\'etherium\\' --days \\'2017-06-04;2017-06-05\\'\"'\n",
    "\n",
    "#command2 = 'su ec2-user -l -c \"python ~/GetOldTweets-python/crypto_v2.py --querysearch ''\\'' \n",
    "#\"etherium'\\'' --days \"\"2017-06-02;2017-06-03\"\"\"'  \n",
    "\n",
    "\n",
    "commands = [command]\n",
    "instance_ids = ['i-01b2c6f83b28b5f39']\n",
    "execute_commands_on_linux_instances(ssm_client, commands, instance_ids)"
   ]
  },
  {
   "cell_type": "code",
   "execution_count": 11,
   "metadata": {},
   "outputs": [
    {
     "name": "stdout",
     "output_type": "stream",
     "text": [
      "su ec2-user -l -c \"python ~/GetOldTweets-python/crypto_v2.py --querysearch 'etherium' --days '2017-06-02;2017-06-03'\"\n"
     ]
    }
   ],
   "source": [
    "print(command3)"
   ]
  },
  {
   "cell_type": "code",
   "execution_count": 30,
   "metadata": {},
   "outputs": [
    {
     "data": {
      "text/plain": [
       "\"su ec2-user -l -c 'python ~/GetOldTweets-python/crypto_v2.py --querysearch \""
      ]
     },
     "execution_count": 30,
     "metadata": {},
     "output_type": "execute_result"
    }
   ],
   "source": [
    "'su ec2-user -l -c \\'python ~/GetOldTweets-python/crypto_v2.py --querysearch '"
   ]
  },
  {
   "cell_type": "code",
   "execution_count": 55,
   "metadata": {},
   "outputs": [],
   "source": [
    "x = 'su ec2-user -l -c \"python ~/GetOldTweets-python/crypto_v2.py --querysearch \\'etherium\\' --days \\'2017-06-02;2017-06-03\\'\"'"
   ]
  },
  {
   "cell_type": "code",
   "execution_count": 56,
   "metadata": {},
   "outputs": [
    {
     "name": "stdout",
     "output_type": "stream",
     "text": [
      "su ec2-user -l -c \"python ~/GetOldTweets-python/crypto_v2.py --querysearch 'etherium' --days '2017-06-02;2017-06-03'\"\n"
     ]
    }
   ],
   "source": [
    "print(x)"
   ]
  },
  {
   "cell_type": "code",
   "execution_count": 27,
   "metadata": {},
   "outputs": [
    {
     "data": {
      "text/plain": [
       "\" don't \""
      ]
     },
     "execution_count": 27,
     "metadata": {},
     "output_type": "execute_result"
    }
   ],
   "source": [
    "' don\\'t '"
   ]
  },
  {
   "cell_type": "code",
   "execution_count": 17,
   "metadata": {},
   "outputs": [
    {
     "name": "stdout",
     "output_type": "stream",
     "text": [
      "{\r\n",
      "    \"InstanceInformationList\": [\r\n",
      "        {\r\n",
      "            \"InstanceId\": \"i-01b2c6f83b28b5f39\",\r\n",
      "            \"PingStatus\": \"Online\",\r\n",
      "            \"LastPingDateTime\": 1528561812.548,\r\n",
      "            \"AgentVersion\": \"2.2.120.0\",\r\n",
      "            \"IsLatestVersion\": false,\r\n",
      "            \"PlatformType\": \"Linux\",\r\n",
      "            \"PlatformName\": \"Amazon Linux AMI\",\r\n",
      "            \"PlatformVersion\": \"2018.03\",\r\n",
      "            \"ResourceType\": \"EC2Instance\",\r\n",
      "            \"IPAddress\": \"172.31.5.69\",\r\n",
      "            \"ComputerName\": \"ip-172-31-5-69.eu-west-1.compute.internal\"\r\n",
      "        }\r\n",
      "    ]\r\n",
      "}\r\n"
     ]
    }
   ],
   "source": [
    "! aws ssm describe-instance-information"
   ]
  },
  {
   "cell_type": "markdown",
   "metadata": {},
   "source": [
    "# Commands"
   ]
  },
  {
   "cell_type": "code",
   "execution_count": null,
   "metadata": {},
   "outputs": [],
   "source": [
    "# set up proccess\n",
    "commands = [\n",
    "'yum update -y',\n",
    "'yum install git -y',\n",
    "'wget https://repo.continuum.io/miniconda/Miniconda2-latest-Linux-x86_64.sh',\n",
    "'chmod 777 Miniconda2-latest-Linux-x86_64.sh',\n",
    "'bash ./Miniconda2-latest-Linux-x86_64.sh -b',\n",
    "'echo \"export PATH=/root/miniconda2/bin:$PATH\" >> /root/.bashrc ',\n",
    "'conda install boto -y',\n",
    "'sudo yum groupinstall \"Development Tools\" -y',\n",
    "'yum install python-lxml',\n",
    "'yum install libxml2-devel libxslt-devel python-devel',\n",
    "'git clone https://github.com/Jefferson-Henrique/GetOldTweets-python.git',\n",
    "'pip install -r requirements.txt',\n",
    "'mkdir /GetOldTweets-python/Bitcoin',\n",
    "'mkdir /GetOldTweets-python/Ethereum',\n",
    "'aws s3 cp s3://jeroens-bucket/cryto_v2.py GetOldTweets-python/cryto_v2.py'\n",
    "]"
   ]
  },
  {
   "cell_type": "code",
   "execution_count": 16,
   "metadata": {},
   "outputs": [
    {
     "data": {
      "text/plain": [
       "'\\nyum update -y\\nyum install git -y\\nwget https://repo.continuum.io/miniconda/Miniconda2-latest-Linux-x86_64.sh\\nchmod 777 Miniconda2-latest-Linux-x86_64.sh\\nbash ./Miniconda2-latest-Linux-x86_64.sh -b\\necho \"export PATH=/root/miniconda2/bin:$PATH\" >> /root/.bashrc \\nconda install boto -y\\nsudo yum groupinstall \"Development Tools\" -y\\nyum install python-lxml\\nyum install libxml2-devel libxslt-devel python-devel\\ngit clone https://github.com/Jefferson-Henrique/GetOldTweets-python.git\\npip install -r requirements.txt\\nmkdir /GetOldTweets-python/Bitcoin\\nmkdir /GetOldTweets-python/Ethereum\\naws s3 cp s3://jeroens-bucket/cryto_v2.py GetOldTweets-python/cryto_v2.py\\n'"
      ]
     },
     "execution_count": 16,
     "metadata": {},
     "output_type": "execute_result"
    }
   ],
   "source": [
    "# set up proccess \n",
    "command2 = '''\n",
    "yum update -y\n",
    "yum install git -y\n",
    "wget https://repo.continuum.io/miniconda/Miniconda2-latest-Linux-x86_64.sh\n",
    "chmod 777 Miniconda2-latest-Linux-x86_64.sh\n",
    "bash ./Miniconda2-latest-Linux-x86_64.sh -b\n",
    "echo \"export PATH=/root/miniconda2/bin:$PATH\" >> /root/.bashrc \n",
    "conda install boto -y\n",
    "sudo yum groupinstall \"Development Tools\" -y\n",
    "yum install python-lxml\n",
    "yum install libxml2-devel libxslt-devel python-devel\n",
    "git clone https://github.com/Jefferson-Henrique/GetOldTweets-python.git\n",
    "pip install -r requirements.txt\n",
    "mkdir /GetOldTweets-python/Bitcoin\n",
    "mkdir /GetOldTweets-python/Ethereum\n",
    "aws s3 cp s3://jeroens-bucket/cryto_v2.py GetOldTweets-python/cryto_v2.py\n",
    "'''"
   ]
  },
  {
   "cell_type": "code",
   "execution_count": null,
   "metadata": {},
   "outputs": [],
   "source": []
  }
 ],
 "metadata": {
  "kernelspec": {
   "display_name": "aws",
   "language": "python",
   "name": "aws"
  },
  "language_info": {
   "codemirror_mode": {
    "name": "ipython",
    "version": 3
   },
   "file_extension": ".py",
   "mimetype": "text/x-python",
   "name": "python",
   "nbconvert_exporter": "python",
   "pygments_lexer": "ipython3",
   "version": "3.6.5"
  }
 },
 "nbformat": 4,
 "nbformat_minor": 2
}
