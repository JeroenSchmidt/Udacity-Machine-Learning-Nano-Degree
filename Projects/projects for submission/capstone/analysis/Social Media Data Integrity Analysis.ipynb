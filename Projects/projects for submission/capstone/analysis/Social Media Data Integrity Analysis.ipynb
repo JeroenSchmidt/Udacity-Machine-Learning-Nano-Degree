{
 "cells": [
  {
   "cell_type": "markdown",
   "metadata": {},
   "source": [
    "# Start Spark"
   ]
  },
  {
   "cell_type": "code",
   "execution_count": 1,
   "metadata": {
    "ExecuteTime": {
     "end_time": "2018-07-01T12:38:11.262882Z",
     "start_time": "2018-07-01T12:38:10.668588Z"
    }
   },
   "outputs": [],
   "source": [
    "import seaborn as sns"
   ]
  },
  {
   "cell_type": "code",
   "execution_count": 2,
   "metadata": {
    "ExecuteTime": {
     "end_time": "2018-07-01T12:38:13.857834Z",
     "start_time": "2018-07-01T12:38:11.264254Z"
    }
   },
   "outputs": [],
   "source": [
    "from pyspark.sql import SparkSession\n",
    "spark = SparkSession.builder\\\n",
    "                        .master(\"local[8]\")\\\n",
    "                        .config('spark.executor.memory', '5g')\\\n",
    "                        .config('spark.driver.memory', '5g')\\\n",
    "                        .config(\"spark.sql.session.timeZone\", \"UTC\")\\\n",
    "                        .config(\"spark.sql.execution.arrow.enabled\",\"true\")\\\n",
    "                        .appName(\"Tweet wrangeling\")\\\n",
    "                        .getOrCreate()\n",
    "\n",
    "#                        .config('spark.local.dir','~/.spark_tmp/')\\\n"
   ]
  },
  {
   "cell_type": "code",
   "execution_count": 3,
   "metadata": {
    "ExecuteTime": {
     "end_time": "2018-07-01T12:38:13.869813Z",
     "start_time": "2018-07-01T12:38:13.859702Z"
    }
   },
   "outputs": [
    {
     "data": {
      "text/html": [
       "\n",
       "            <div>\n",
       "                <p><b>SparkSession - in-memory</b></p>\n",
       "                \n",
       "        <div>\n",
       "            <p><b>SparkContext</b></p>\n",
       "\n",
       "            <p><a href=\"http://192.168.0.100:4041\">Spark UI</a></p>\n",
       "\n",
       "            <dl>\n",
       "              <dt>Version</dt>\n",
       "                <dd><code>v2.3.1</code></dd>\n",
       "              <dt>Master</dt>\n",
       "                <dd><code>local[8]</code></dd>\n",
       "              <dt>AppName</dt>\n",
       "                <dd><code>Tweet wrangeling</code></dd>\n",
       "            </dl>\n",
       "        </div>\n",
       "        \n",
       "            </div>\n",
       "        "
      ],
      "text/plain": [
       "<pyspark.sql.session.SparkSession at 0x7f4650f6be80>"
      ]
     },
     "execution_count": 3,
     "metadata": {},
     "output_type": "execute_result"
    }
   ],
   "source": [
    "spark"
   ]
  },
  {
   "cell_type": "markdown",
   "metadata": {},
   "source": [
    "# Eth Tweets"
   ]
  },
  {
   "cell_type": "code",
   "execution_count": 21,
   "metadata": {
    "ExecuteTime": {
     "end_time": "2018-07-01T12:38:29.089287Z",
     "start_time": "2018-07-01T12:38:29.083341Z"
    }
   },
   "outputs": [],
   "source": [
    "parquet_eth_path = \"../data/tweets/ethereum/parquet/sentiment/\""
   ]
  },
  {
   "cell_type": "code",
   "execution_count": 22,
   "metadata": {
    "ExecuteTime": {
     "end_time": "2018-07-01T12:38:31.161757Z",
     "start_time": "2018-07-01T12:38:29.798878Z"
    }
   },
   "outputs": [],
   "source": [
    "eth = spark.read.parquet(parquet_eth_path)"
   ]
  },
  {
   "cell_type": "code",
   "execution_count": 8,
   "metadata": {
    "ExecuteTime": {
     "end_time": "2018-07-01T12:38:31.185421Z",
     "start_time": "2018-07-01T12:38:31.163961Z"
    }
   },
   "outputs": [
    {
     "name": "stdout",
     "output_type": "stream",
     "text": [
      "root\n",
      " |-- username: string (nullable = true)\n",
      " |-- datetime: timestamp (nullable = true)\n",
      " |-- text: string (nullable = true)\n",
      " |-- retweets: integer (nullable = true)\n",
      " |-- favorites: integer (nullable = true)\n",
      " |-- geo: string (nullable = true)\n",
      " |-- mentions: string (nullable = true)\n",
      " |-- hashtags: string (nullable = true)\n",
      " |-- id: string (nullable = true)\n",
      " |-- permalink: string (nullable = true)\n",
      " |-- pos_vader: float (nullable = true)\n",
      " |-- neg_vader: float (nullable = true)\n",
      " |-- neu_vader: float (nullable = true)\n",
      " |-- compound_vader: float (nullable = true)\n",
      " |-- polarity_textblob: float (nullable = true)\n",
      " |-- subjectivity_textblob: float (nullable = true)\n",
      "\n"
     ]
    }
   ],
   "source": [
    "eth.printSchema()"
   ]
  },
  {
   "cell_type": "code",
   "execution_count": 9,
   "metadata": {
    "ExecuteTime": {
     "end_time": "2018-07-01T12:38:32.321048Z",
     "start_time": "2018-07-01T12:38:31.194933Z"
    }
   },
   "outputs": [
    {
     "data": {
      "text/plain": [
       "4326320"
      ]
     },
     "execution_count": 9,
     "metadata": {},
     "output_type": "execute_result"
    }
   ],
   "source": [
    "eth.count()"
   ]
  },
  {
   "cell_type": "code",
   "execution_count": 10,
   "metadata": {
    "ExecuteTime": {
     "end_time": "2018-07-01T12:38:38.802987Z",
     "start_time": "2018-07-01T12:38:32.323620Z"
    }
   },
   "outputs": [
    {
     "data": {
      "text/plain": [
       "3514005"
      ]
     },
     "execution_count": 10,
     "metadata": {},
     "output_type": "execute_result"
    }
   ],
   "source": [
    "eth.select(\"text\").distinct().count()"
   ]
  },
  {
   "cell_type": "code",
   "execution_count": 11,
   "metadata": {
    "ExecuteTime": {
     "end_time": "2018-07-01T12:38:38.838425Z",
     "start_time": "2018-07-01T12:38:38.805385Z"
    }
   },
   "outputs": [],
   "source": [
    "from pyspark.sql.functions import to_date"
   ]
  },
  {
   "cell_type": "code",
   "execution_count": 12,
   "metadata": {
    "ExecuteTime": {
     "end_time": "2018-07-01T12:38:40.343577Z",
     "start_time": "2018-07-01T12:38:38.840040Z"
    }
   },
   "outputs": [],
   "source": [
    "date_counts = eth.withColumn(\"date\",to_date(\"datetime\")).groupBy(\"date\").count()"
   ]
  },
  {
   "cell_type": "code",
   "execution_count": 13,
   "metadata": {
    "ExecuteTime": {
     "end_time": "2018-07-01T12:38:42.424669Z",
     "start_time": "2018-07-01T12:38:40.345747Z"
    }
   },
   "outputs": [],
   "source": [
    "date_counts_pd = date_counts.toPandas()"
   ]
  },
  {
   "cell_type": "code",
   "execution_count": 14,
   "metadata": {
    "ExecuteTime": {
     "end_time": "2018-07-01T12:38:42.436119Z",
     "start_time": "2018-07-01T12:38:42.429182Z"
    }
   },
   "outputs": [],
   "source": [
    "import matplotlib"
   ]
  },
  {
   "cell_type": "code",
   "execution_count": 15,
   "metadata": {
    "ExecuteTime": {
     "end_time": "2018-07-01T12:38:42.913987Z",
     "start_time": "2018-07-01T12:38:42.443451Z"
    }
   },
   "outputs": [
    {
     "data": {
      "application/javascript": [
       "/* Put everything inside the global mpl namespace */\n",
       "window.mpl = {};\n",
       "\n",
       "\n",
       "mpl.get_websocket_type = function() {\n",
       "    if (typeof(WebSocket) !== 'undefined') {\n",
       "        return WebSocket;\n",
       "    } else if (typeof(MozWebSocket) !== 'undefined') {\n",
       "        return MozWebSocket;\n",
       "    } else {\n",
       "        alert('Your browser does not have WebSocket support.' +\n",
       "              'Please try Chrome, Safari or Firefox ≥ 6. ' +\n",
       "              'Firefox 4 and 5 are also supported but you ' +\n",
       "              'have to enable WebSockets in about:config.');\n",
       "    };\n",
       "}\n",
       "\n",
       "mpl.figure = function(figure_id, websocket, ondownload, parent_element) {\n",
       "    this.id = figure_id;\n",
       "\n",
       "    this.ws = websocket;\n",
       "\n",
       "    this.supports_binary = (this.ws.binaryType != undefined);\n",
       "\n",
       "    if (!this.supports_binary) {\n",
       "        var warnings = document.getElementById(\"mpl-warnings\");\n",
       "        if (warnings) {\n",
       "            warnings.style.display = 'block';\n",
       "            warnings.textContent = (\n",
       "                \"This browser does not support binary websocket messages. \" +\n",
       "                    \"Performance may be slow.\");\n",
       "        }\n",
       "    }\n",
       "\n",
       "    this.imageObj = new Image();\n",
       "\n",
       "    this.context = undefined;\n",
       "    this.message = undefined;\n",
       "    this.canvas = undefined;\n",
       "    this.rubberband_canvas = undefined;\n",
       "    this.rubberband_context = undefined;\n",
       "    this.format_dropdown = undefined;\n",
       "\n",
       "    this.image_mode = 'full';\n",
       "\n",
       "    this.root = $('<div/>');\n",
       "    this._root_extra_style(this.root)\n",
       "    this.root.attr('style', 'display: inline-block');\n",
       "\n",
       "    $(parent_element).append(this.root);\n",
       "\n",
       "    this._init_header(this);\n",
       "    this._init_canvas(this);\n",
       "    this._init_toolbar(this);\n",
       "\n",
       "    var fig = this;\n",
       "\n",
       "    this.waiting = false;\n",
       "\n",
       "    this.ws.onopen =  function () {\n",
       "            fig.send_message(\"supports_binary\", {value: fig.supports_binary});\n",
       "            fig.send_message(\"send_image_mode\", {});\n",
       "            if (mpl.ratio != 1) {\n",
       "                fig.send_message(\"set_dpi_ratio\", {'dpi_ratio': mpl.ratio});\n",
       "            }\n",
       "            fig.send_message(\"refresh\", {});\n",
       "        }\n",
       "\n",
       "    this.imageObj.onload = function() {\n",
       "            if (fig.image_mode == 'full') {\n",
       "                // Full images could contain transparency (where diff images\n",
       "                // almost always do), so we need to clear the canvas so that\n",
       "                // there is no ghosting.\n",
       "                fig.context.clearRect(0, 0, fig.canvas.width, fig.canvas.height);\n",
       "            }\n",
       "            fig.context.drawImage(fig.imageObj, 0, 0);\n",
       "        };\n",
       "\n",
       "    this.imageObj.onunload = function() {\n",
       "        fig.ws.close();\n",
       "    }\n",
       "\n",
       "    this.ws.onmessage = this._make_on_message_function(this);\n",
       "\n",
       "    this.ondownload = ondownload;\n",
       "}\n",
       "\n",
       "mpl.figure.prototype._init_header = function() {\n",
       "    var titlebar = $(\n",
       "        '<div class=\"ui-dialog-titlebar ui-widget-header ui-corner-all ' +\n",
       "        'ui-helper-clearfix\"/>');\n",
       "    var titletext = $(\n",
       "        '<div class=\"ui-dialog-title\" style=\"width: 100%; ' +\n",
       "        'text-align: center; padding: 3px;\"/>');\n",
       "    titlebar.append(titletext)\n",
       "    this.root.append(titlebar);\n",
       "    this.header = titletext[0];\n",
       "}\n",
       "\n",
       "\n",
       "\n",
       "mpl.figure.prototype._canvas_extra_style = function(canvas_div) {\n",
       "\n",
       "}\n",
       "\n",
       "\n",
       "mpl.figure.prototype._root_extra_style = function(canvas_div) {\n",
       "\n",
       "}\n",
       "\n",
       "mpl.figure.prototype._init_canvas = function() {\n",
       "    var fig = this;\n",
       "\n",
       "    var canvas_div = $('<div/>');\n",
       "\n",
       "    canvas_div.attr('style', 'position: relative; clear: both; outline: 0');\n",
       "\n",
       "    function canvas_keyboard_event(event) {\n",
       "        return fig.key_event(event, event['data']);\n",
       "    }\n",
       "\n",
       "    canvas_div.keydown('key_press', canvas_keyboard_event);\n",
       "    canvas_div.keyup('key_release', canvas_keyboard_event);\n",
       "    this.canvas_div = canvas_div\n",
       "    this._canvas_extra_style(canvas_div)\n",
       "    this.root.append(canvas_div);\n",
       "\n",
       "    var canvas = $('<canvas/>');\n",
       "    canvas.addClass('mpl-canvas');\n",
       "    canvas.attr('style', \"left: 0; top: 0; z-index: 0; outline: 0\")\n",
       "\n",
       "    this.canvas = canvas[0];\n",
       "    this.context = canvas[0].getContext(\"2d\");\n",
       "\n",
       "    var backingStore = this.context.backingStorePixelRatio ||\n",
       "\tthis.context.webkitBackingStorePixelRatio ||\n",
       "\tthis.context.mozBackingStorePixelRatio ||\n",
       "\tthis.context.msBackingStorePixelRatio ||\n",
       "\tthis.context.oBackingStorePixelRatio ||\n",
       "\tthis.context.backingStorePixelRatio || 1;\n",
       "\n",
       "    mpl.ratio = (window.devicePixelRatio || 1) / backingStore;\n",
       "\n",
       "    var rubberband = $('<canvas/>');\n",
       "    rubberband.attr('style', \"position: absolute; left: 0; top: 0; z-index: 1;\")\n",
       "\n",
       "    var pass_mouse_events = true;\n",
       "\n",
       "    canvas_div.resizable({\n",
       "        start: function(event, ui) {\n",
       "            pass_mouse_events = false;\n",
       "        },\n",
       "        resize: function(event, ui) {\n",
       "            fig.request_resize(ui.size.width, ui.size.height);\n",
       "        },\n",
       "        stop: function(event, ui) {\n",
       "            pass_mouse_events = true;\n",
       "            fig.request_resize(ui.size.width, ui.size.height);\n",
       "        },\n",
       "    });\n",
       "\n",
       "    function mouse_event_fn(event) {\n",
       "        if (pass_mouse_events)\n",
       "            return fig.mouse_event(event, event['data']);\n",
       "    }\n",
       "\n",
       "    rubberband.mousedown('button_press', mouse_event_fn);\n",
       "    rubberband.mouseup('button_release', mouse_event_fn);\n",
       "    // Throttle sequential mouse events to 1 every 20ms.\n",
       "    rubberband.mousemove('motion_notify', mouse_event_fn);\n",
       "\n",
       "    rubberband.mouseenter('figure_enter', mouse_event_fn);\n",
       "    rubberband.mouseleave('figure_leave', mouse_event_fn);\n",
       "\n",
       "    canvas_div.on(\"wheel\", function (event) {\n",
       "        event = event.originalEvent;\n",
       "        event['data'] = 'scroll'\n",
       "        if (event.deltaY < 0) {\n",
       "            event.step = 1;\n",
       "        } else {\n",
       "            event.step = -1;\n",
       "        }\n",
       "        mouse_event_fn(event);\n",
       "    });\n",
       "\n",
       "    canvas_div.append(canvas);\n",
       "    canvas_div.append(rubberband);\n",
       "\n",
       "    this.rubberband = rubberband;\n",
       "    this.rubberband_canvas = rubberband[0];\n",
       "    this.rubberband_context = rubberband[0].getContext(\"2d\");\n",
       "    this.rubberband_context.strokeStyle = \"#000000\";\n",
       "\n",
       "    this._resize_canvas = function(width, height) {\n",
       "        // Keep the size of the canvas, canvas container, and rubber band\n",
       "        // canvas in synch.\n",
       "        canvas_div.css('width', width)\n",
       "        canvas_div.css('height', height)\n",
       "\n",
       "        canvas.attr('width', width * mpl.ratio);\n",
       "        canvas.attr('height', height * mpl.ratio);\n",
       "        canvas.attr('style', 'width: ' + width + 'px; height: ' + height + 'px;');\n",
       "\n",
       "        rubberband.attr('width', width);\n",
       "        rubberband.attr('height', height);\n",
       "    }\n",
       "\n",
       "    // Set the figure to an initial 600x600px, this will subsequently be updated\n",
       "    // upon first draw.\n",
       "    this._resize_canvas(600, 600);\n",
       "\n",
       "    // Disable right mouse context menu.\n",
       "    $(this.rubberband_canvas).bind(\"contextmenu\",function(e){\n",
       "        return false;\n",
       "    });\n",
       "\n",
       "    function set_focus () {\n",
       "        canvas.focus();\n",
       "        canvas_div.focus();\n",
       "    }\n",
       "\n",
       "    window.setTimeout(set_focus, 100);\n",
       "}\n",
       "\n",
       "mpl.figure.prototype._init_toolbar = function() {\n",
       "    var fig = this;\n",
       "\n",
       "    var nav_element = $('<div/>')\n",
       "    nav_element.attr('style', 'width: 100%');\n",
       "    this.root.append(nav_element);\n",
       "\n",
       "    // Define a callback function for later on.\n",
       "    function toolbar_event(event) {\n",
       "        return fig.toolbar_button_onclick(event['data']);\n",
       "    }\n",
       "    function toolbar_mouse_event(event) {\n",
       "        return fig.toolbar_button_onmouseover(event['data']);\n",
       "    }\n",
       "\n",
       "    for(var toolbar_ind in mpl.toolbar_items) {\n",
       "        var name = mpl.toolbar_items[toolbar_ind][0];\n",
       "        var tooltip = mpl.toolbar_items[toolbar_ind][1];\n",
       "        var image = mpl.toolbar_items[toolbar_ind][2];\n",
       "        var method_name = mpl.toolbar_items[toolbar_ind][3];\n",
       "\n",
       "        if (!name) {\n",
       "            // put a spacer in here.\n",
       "            continue;\n",
       "        }\n",
       "        var button = $('<button/>');\n",
       "        button.addClass('ui-button ui-widget ui-state-default ui-corner-all ' +\n",
       "                        'ui-button-icon-only');\n",
       "        button.attr('role', 'button');\n",
       "        button.attr('aria-disabled', 'false');\n",
       "        button.click(method_name, toolbar_event);\n",
       "        button.mouseover(tooltip, toolbar_mouse_event);\n",
       "\n",
       "        var icon_img = $('<span/>');\n",
       "        icon_img.addClass('ui-button-icon-primary ui-icon');\n",
       "        icon_img.addClass(image);\n",
       "        icon_img.addClass('ui-corner-all');\n",
       "\n",
       "        var tooltip_span = $('<span/>');\n",
       "        tooltip_span.addClass('ui-button-text');\n",
       "        tooltip_span.html(tooltip);\n",
       "\n",
       "        button.append(icon_img);\n",
       "        button.append(tooltip_span);\n",
       "\n",
       "        nav_element.append(button);\n",
       "    }\n",
       "\n",
       "    var fmt_picker_span = $('<span/>');\n",
       "\n",
       "    var fmt_picker = $('<select/>');\n",
       "    fmt_picker.addClass('mpl-toolbar-option ui-widget ui-widget-content');\n",
       "    fmt_picker_span.append(fmt_picker);\n",
       "    nav_element.append(fmt_picker_span);\n",
       "    this.format_dropdown = fmt_picker[0];\n",
       "\n",
       "    for (var ind in mpl.extensions) {\n",
       "        var fmt = mpl.extensions[ind];\n",
       "        var option = $(\n",
       "            '<option/>', {selected: fmt === mpl.default_extension}).html(fmt);\n",
       "        fmt_picker.append(option)\n",
       "    }\n",
       "\n",
       "    // Add hover states to the ui-buttons\n",
       "    $( \".ui-button\" ).hover(\n",
       "        function() { $(this).addClass(\"ui-state-hover\");},\n",
       "        function() { $(this).removeClass(\"ui-state-hover\");}\n",
       "    );\n",
       "\n",
       "    var status_bar = $('<span class=\"mpl-message\"/>');\n",
       "    nav_element.append(status_bar);\n",
       "    this.message = status_bar[0];\n",
       "}\n",
       "\n",
       "mpl.figure.prototype.request_resize = function(x_pixels, y_pixels) {\n",
       "    // Request matplotlib to resize the figure. Matplotlib will then trigger a resize in the client,\n",
       "    // which will in turn request a refresh of the image.\n",
       "    this.send_message('resize', {'width': x_pixels, 'height': y_pixels});\n",
       "}\n",
       "\n",
       "mpl.figure.prototype.send_message = function(type, properties) {\n",
       "    properties['type'] = type;\n",
       "    properties['figure_id'] = this.id;\n",
       "    this.ws.send(JSON.stringify(properties));\n",
       "}\n",
       "\n",
       "mpl.figure.prototype.send_draw_message = function() {\n",
       "    if (!this.waiting) {\n",
       "        this.waiting = true;\n",
       "        this.ws.send(JSON.stringify({type: \"draw\", figure_id: this.id}));\n",
       "    }\n",
       "}\n",
       "\n",
       "\n",
       "mpl.figure.prototype.handle_save = function(fig, msg) {\n",
       "    var format_dropdown = fig.format_dropdown;\n",
       "    var format = format_dropdown.options[format_dropdown.selectedIndex].value;\n",
       "    fig.ondownload(fig, format);\n",
       "}\n",
       "\n",
       "\n",
       "mpl.figure.prototype.handle_resize = function(fig, msg) {\n",
       "    var size = msg['size'];\n",
       "    if (size[0] != fig.canvas.width || size[1] != fig.canvas.height) {\n",
       "        fig._resize_canvas(size[0], size[1]);\n",
       "        fig.send_message(\"refresh\", {});\n",
       "    };\n",
       "}\n",
       "\n",
       "mpl.figure.prototype.handle_rubberband = function(fig, msg) {\n",
       "    var x0 = msg['x0'] / mpl.ratio;\n",
       "    var y0 = (fig.canvas.height - msg['y0']) / mpl.ratio;\n",
       "    var x1 = msg['x1'] / mpl.ratio;\n",
       "    var y1 = (fig.canvas.height - msg['y1']) / mpl.ratio;\n",
       "    x0 = Math.floor(x0) + 0.5;\n",
       "    y0 = Math.floor(y0) + 0.5;\n",
       "    x1 = Math.floor(x1) + 0.5;\n",
       "    y1 = Math.floor(y1) + 0.5;\n",
       "    var min_x = Math.min(x0, x1);\n",
       "    var min_y = Math.min(y0, y1);\n",
       "    var width = Math.abs(x1 - x0);\n",
       "    var height = Math.abs(y1 - y0);\n",
       "\n",
       "    fig.rubberband_context.clearRect(\n",
       "        0, 0, fig.canvas.width, fig.canvas.height);\n",
       "\n",
       "    fig.rubberband_context.strokeRect(min_x, min_y, width, height);\n",
       "}\n",
       "\n",
       "mpl.figure.prototype.handle_figure_label = function(fig, msg) {\n",
       "    // Updates the figure title.\n",
       "    fig.header.textContent = msg['label'];\n",
       "}\n",
       "\n",
       "mpl.figure.prototype.handle_cursor = function(fig, msg) {\n",
       "    var cursor = msg['cursor'];\n",
       "    switch(cursor)\n",
       "    {\n",
       "    case 0:\n",
       "        cursor = 'pointer';\n",
       "        break;\n",
       "    case 1:\n",
       "        cursor = 'default';\n",
       "        break;\n",
       "    case 2:\n",
       "        cursor = 'crosshair';\n",
       "        break;\n",
       "    case 3:\n",
       "        cursor = 'move';\n",
       "        break;\n",
       "    }\n",
       "    fig.rubberband_canvas.style.cursor = cursor;\n",
       "}\n",
       "\n",
       "mpl.figure.prototype.handle_message = function(fig, msg) {\n",
       "    fig.message.textContent = msg['message'];\n",
       "}\n",
       "\n",
       "mpl.figure.prototype.handle_draw = function(fig, msg) {\n",
       "    // Request the server to send over a new figure.\n",
       "    fig.send_draw_message();\n",
       "}\n",
       "\n",
       "mpl.figure.prototype.handle_image_mode = function(fig, msg) {\n",
       "    fig.image_mode = msg['mode'];\n",
       "}\n",
       "\n",
       "mpl.figure.prototype.updated_canvas_event = function() {\n",
       "    // Called whenever the canvas gets updated.\n",
       "    this.send_message(\"ack\", {});\n",
       "}\n",
       "\n",
       "// A function to construct a web socket function for onmessage handling.\n",
       "// Called in the figure constructor.\n",
       "mpl.figure.prototype._make_on_message_function = function(fig) {\n",
       "    return function socket_on_message(evt) {\n",
       "        if (evt.data instanceof Blob) {\n",
       "            /* FIXME: We get \"Resource interpreted as Image but\n",
       "             * transferred with MIME type text/plain:\" errors on\n",
       "             * Chrome.  But how to set the MIME type?  It doesn't seem\n",
       "             * to be part of the websocket stream */\n",
       "            evt.data.type = \"image/png\";\n",
       "\n",
       "            /* Free the memory for the previous frames */\n",
       "            if (fig.imageObj.src) {\n",
       "                (window.URL || window.webkitURL).revokeObjectURL(\n",
       "                    fig.imageObj.src);\n",
       "            }\n",
       "\n",
       "            fig.imageObj.src = (window.URL || window.webkitURL).createObjectURL(\n",
       "                evt.data);\n",
       "            fig.updated_canvas_event();\n",
       "            fig.waiting = false;\n",
       "            return;\n",
       "        }\n",
       "        else if (typeof evt.data === 'string' && evt.data.slice(0, 21) == \"data:image/png;base64\") {\n",
       "            fig.imageObj.src = evt.data;\n",
       "            fig.updated_canvas_event();\n",
       "            fig.waiting = false;\n",
       "            return;\n",
       "        }\n",
       "\n",
       "        var msg = JSON.parse(evt.data);\n",
       "        var msg_type = msg['type'];\n",
       "\n",
       "        // Call the  \"handle_{type}\" callback, which takes\n",
       "        // the figure and JSON message as its only arguments.\n",
       "        try {\n",
       "            var callback = fig[\"handle_\" + msg_type];\n",
       "        } catch (e) {\n",
       "            console.log(\"No handler for the '\" + msg_type + \"' message type: \", msg);\n",
       "            return;\n",
       "        }\n",
       "\n",
       "        if (callback) {\n",
       "            try {\n",
       "                // console.log(\"Handling '\" + msg_type + \"' message: \", msg);\n",
       "                callback(fig, msg);\n",
       "            } catch (e) {\n",
       "                console.log(\"Exception inside the 'handler_\" + msg_type + \"' callback:\", e, e.stack, msg);\n",
       "            }\n",
       "        }\n",
       "    };\n",
       "}\n",
       "\n",
       "// from http://stackoverflow.com/questions/1114465/getting-mouse-location-in-canvas\n",
       "mpl.findpos = function(e) {\n",
       "    //this section is from http://www.quirksmode.org/js/events_properties.html\n",
       "    var targ;\n",
       "    if (!e)\n",
       "        e = window.event;\n",
       "    if (e.target)\n",
       "        targ = e.target;\n",
       "    else if (e.srcElement)\n",
       "        targ = e.srcElement;\n",
       "    if (targ.nodeType == 3) // defeat Safari bug\n",
       "        targ = targ.parentNode;\n",
       "\n",
       "    // jQuery normalizes the pageX and pageY\n",
       "    // pageX,Y are the mouse positions relative to the document\n",
       "    // offset() returns the position of the element relative to the document\n",
       "    var x = e.pageX - $(targ).offset().left;\n",
       "    var y = e.pageY - $(targ).offset().top;\n",
       "\n",
       "    return {\"x\": x, \"y\": y};\n",
       "};\n",
       "\n",
       "/*\n",
       " * return a copy of an object with only non-object keys\n",
       " * we need this to avoid circular references\n",
       " * http://stackoverflow.com/a/24161582/3208463\n",
       " */\n",
       "function simpleKeys (original) {\n",
       "  return Object.keys(original).reduce(function (obj, key) {\n",
       "    if (typeof original[key] !== 'object')\n",
       "        obj[key] = original[key]\n",
       "    return obj;\n",
       "  }, {});\n",
       "}\n",
       "\n",
       "mpl.figure.prototype.mouse_event = function(event, name) {\n",
       "    var canvas_pos = mpl.findpos(event)\n",
       "\n",
       "    if (name === 'button_press')\n",
       "    {\n",
       "        this.canvas.focus();\n",
       "        this.canvas_div.focus();\n",
       "    }\n",
       "\n",
       "    var x = canvas_pos.x * mpl.ratio;\n",
       "    var y = canvas_pos.y * mpl.ratio;\n",
       "\n",
       "    this.send_message(name, {x: x, y: y, button: event.button,\n",
       "                             step: event.step,\n",
       "                             guiEvent: simpleKeys(event)});\n",
       "\n",
       "    /* This prevents the web browser from automatically changing to\n",
       "     * the text insertion cursor when the button is pressed.  We want\n",
       "     * to control all of the cursor setting manually through the\n",
       "     * 'cursor' event from matplotlib */\n",
       "    event.preventDefault();\n",
       "    return false;\n",
       "}\n",
       "\n",
       "mpl.figure.prototype._key_event_extra = function(event, name) {\n",
       "    // Handle any extra behaviour associated with a key event\n",
       "}\n",
       "\n",
       "mpl.figure.prototype.key_event = function(event, name) {\n",
       "\n",
       "    // Prevent repeat events\n",
       "    if (name == 'key_press')\n",
       "    {\n",
       "        if (event.which === this._key)\n",
       "            return;\n",
       "        else\n",
       "            this._key = event.which;\n",
       "    }\n",
       "    if (name == 'key_release')\n",
       "        this._key = null;\n",
       "\n",
       "    var value = '';\n",
       "    if (event.ctrlKey && event.which != 17)\n",
       "        value += \"ctrl+\";\n",
       "    if (event.altKey && event.which != 18)\n",
       "        value += \"alt+\";\n",
       "    if (event.shiftKey && event.which != 16)\n",
       "        value += \"shift+\";\n",
       "\n",
       "    value += 'k';\n",
       "    value += event.which.toString();\n",
       "\n",
       "    this._key_event_extra(event, name);\n",
       "\n",
       "    this.send_message(name, {key: value,\n",
       "                             guiEvent: simpleKeys(event)});\n",
       "    return false;\n",
       "}\n",
       "\n",
       "mpl.figure.prototype.toolbar_button_onclick = function(name) {\n",
       "    if (name == 'download') {\n",
       "        this.handle_save(this, null);\n",
       "    } else {\n",
       "        this.send_message(\"toolbar_button\", {name: name});\n",
       "    }\n",
       "};\n",
       "\n",
       "mpl.figure.prototype.toolbar_button_onmouseover = function(tooltip) {\n",
       "    this.message.textContent = tooltip;\n",
       "};\n",
       "mpl.toolbar_items = [[\"Home\", \"Reset original view\", \"fa fa-home icon-home\", \"home\"], [\"Back\", \"Back to  previous view\", \"fa fa-arrow-left icon-arrow-left\", \"back\"], [\"Forward\", \"Forward to next view\", \"fa fa-arrow-right icon-arrow-right\", \"forward\"], [\"\", \"\", \"\", \"\"], [\"Pan\", \"Pan axes with left mouse, zoom with right\", \"fa fa-arrows icon-move\", \"pan\"], [\"Zoom\", \"Zoom to rectangle\", \"fa fa-square-o icon-check-empty\", \"zoom\"], [\"\", \"\", \"\", \"\"], [\"Download\", \"Download plot\", \"fa fa-floppy-o icon-save\", \"download\"]];\n",
       "\n",
       "mpl.extensions = [\"eps\", \"pdf\", \"png\", \"ps\", \"raw\", \"svg\"];\n",
       "\n",
       "mpl.default_extension = \"png\";var comm_websocket_adapter = function(comm) {\n",
       "    // Create a \"websocket\"-like object which calls the given IPython comm\n",
       "    // object with the appropriate methods. Currently this is a non binary\n",
       "    // socket, so there is still some room for performance tuning.\n",
       "    var ws = {};\n",
       "\n",
       "    ws.close = function() {\n",
       "        comm.close()\n",
       "    };\n",
       "    ws.send = function(m) {\n",
       "        //console.log('sending', m);\n",
       "        comm.send(m);\n",
       "    };\n",
       "    // Register the callback with on_msg.\n",
       "    comm.on_msg(function(msg) {\n",
       "        //console.log('receiving', msg['content']['data'], msg);\n",
       "        // Pass the mpl event to the overridden (by mpl) onmessage function.\n",
       "        ws.onmessage(msg['content']['data'])\n",
       "    });\n",
       "    return ws;\n",
       "}\n",
       "\n",
       "mpl.mpl_figure_comm = function(comm, msg) {\n",
       "    // This is the function which gets called when the mpl process\n",
       "    // starts-up an IPython Comm through the \"matplotlib\" channel.\n",
       "\n",
       "    var id = msg.content.data.id;\n",
       "    // Get hold of the div created by the display call when the Comm\n",
       "    // socket was opened in Python.\n",
       "    var element = $(\"#\" + id);\n",
       "    var ws_proxy = comm_websocket_adapter(comm)\n",
       "\n",
       "    function ondownload(figure, format) {\n",
       "        window.open(figure.imageObj.src);\n",
       "    }\n",
       "\n",
       "    var fig = new mpl.figure(id, ws_proxy,\n",
       "                           ondownload,\n",
       "                           element.get(0));\n",
       "\n",
       "    // Call onopen now - mpl needs it, as it is assuming we've passed it a real\n",
       "    // web socket which is closed, not our websocket->open comm proxy.\n",
       "    ws_proxy.onopen();\n",
       "\n",
       "    fig.parent_element = element.get(0);\n",
       "    fig.cell_info = mpl.find_output_cell(\"<div id='\" + id + \"'></div>\");\n",
       "    if (!fig.cell_info) {\n",
       "        console.error(\"Failed to find cell for figure\", id, fig);\n",
       "        return;\n",
       "    }\n",
       "\n",
       "    var output_index = fig.cell_info[2]\n",
       "    var cell = fig.cell_info[0];\n",
       "\n",
       "};\n",
       "\n",
       "mpl.figure.prototype.handle_close = function(fig, msg) {\n",
       "    var width = fig.canvas.width/mpl.ratio\n",
       "    fig.root.unbind('remove')\n",
       "\n",
       "    // Update the output cell to use the data from the current canvas.\n",
       "    fig.push_to_output();\n",
       "    var dataURL = fig.canvas.toDataURL();\n",
       "    // Re-enable the keyboard manager in IPython - without this line, in FF,\n",
       "    // the notebook keyboard shortcuts fail.\n",
       "    IPython.keyboard_manager.enable()\n",
       "    $(fig.parent_element).html('<img src=\"' + dataURL + '\" width=\"' + width + '\">');\n",
       "    fig.close_ws(fig, msg);\n",
       "}\n",
       "\n",
       "mpl.figure.prototype.close_ws = function(fig, msg){\n",
       "    fig.send_message('closing', msg);\n",
       "    // fig.ws.close()\n",
       "}\n",
       "\n",
       "mpl.figure.prototype.push_to_output = function(remove_interactive) {\n",
       "    // Turn the data on the canvas into data in the output cell.\n",
       "    var width = this.canvas.width/mpl.ratio\n",
       "    var dataURL = this.canvas.toDataURL();\n",
       "    this.cell_info[1]['text/html'] = '<img src=\"' + dataURL + '\" width=\"' + width + '\">';\n",
       "}\n",
       "\n",
       "mpl.figure.prototype.updated_canvas_event = function() {\n",
       "    // Tell IPython that the notebook contents must change.\n",
       "    IPython.notebook.set_dirty(true);\n",
       "    this.send_message(\"ack\", {});\n",
       "    var fig = this;\n",
       "    // Wait a second, then push the new image to the DOM so\n",
       "    // that it is saved nicely (might be nice to debounce this).\n",
       "    setTimeout(function () { fig.push_to_output() }, 1000);\n",
       "}\n",
       "\n",
       "mpl.figure.prototype._init_toolbar = function() {\n",
       "    var fig = this;\n",
       "\n",
       "    var nav_element = $('<div/>')\n",
       "    nav_element.attr('style', 'width: 100%');\n",
       "    this.root.append(nav_element);\n",
       "\n",
       "    // Define a callback function for later on.\n",
       "    function toolbar_event(event) {\n",
       "        return fig.toolbar_button_onclick(event['data']);\n",
       "    }\n",
       "    function toolbar_mouse_event(event) {\n",
       "        return fig.toolbar_button_onmouseover(event['data']);\n",
       "    }\n",
       "\n",
       "    for(var toolbar_ind in mpl.toolbar_items){\n",
       "        var name = mpl.toolbar_items[toolbar_ind][0];\n",
       "        var tooltip = mpl.toolbar_items[toolbar_ind][1];\n",
       "        var image = mpl.toolbar_items[toolbar_ind][2];\n",
       "        var method_name = mpl.toolbar_items[toolbar_ind][3];\n",
       "\n",
       "        if (!name) { continue; };\n",
       "\n",
       "        var button = $('<button class=\"btn btn-default\" href=\"#\" title=\"' + name + '\"><i class=\"fa ' + image + ' fa-lg\"></i></button>');\n",
       "        button.click(method_name, toolbar_event);\n",
       "        button.mouseover(tooltip, toolbar_mouse_event);\n",
       "        nav_element.append(button);\n",
       "    }\n",
       "\n",
       "    // Add the status bar.\n",
       "    var status_bar = $('<span class=\"mpl-message\" style=\"text-align:right; float: right;\"/>');\n",
       "    nav_element.append(status_bar);\n",
       "    this.message = status_bar[0];\n",
       "\n",
       "    // Add the close button to the window.\n",
       "    var buttongrp = $('<div class=\"btn-group inline pull-right\"></div>');\n",
       "    var button = $('<button class=\"btn btn-mini btn-primary\" href=\"#\" title=\"Stop Interaction\"><i class=\"fa fa-power-off icon-remove icon-large\"></i></button>');\n",
       "    button.click(function (evt) { fig.handle_close(fig, {}); } );\n",
       "    button.mouseover('Stop Interaction', toolbar_mouse_event);\n",
       "    buttongrp.append(button);\n",
       "    var titlebar = this.root.find($('.ui-dialog-titlebar'));\n",
       "    titlebar.prepend(buttongrp);\n",
       "}\n",
       "\n",
       "mpl.figure.prototype._root_extra_style = function(el){\n",
       "    var fig = this\n",
       "    el.on(\"remove\", function(){\n",
       "\tfig.close_ws(fig, {});\n",
       "    });\n",
       "}\n",
       "\n",
       "mpl.figure.prototype._canvas_extra_style = function(el){\n",
       "    // this is important to make the div 'focusable\n",
       "    el.attr('tabindex', 0)\n",
       "    // reach out to IPython and tell the keyboard manager to turn it's self\n",
       "    // off when our div gets focus\n",
       "\n",
       "    // location in version 3\n",
       "    if (IPython.notebook.keyboard_manager) {\n",
       "        IPython.notebook.keyboard_manager.register_events(el);\n",
       "    }\n",
       "    else {\n",
       "        // location in version 2\n",
       "        IPython.keyboard_manager.register_events(el);\n",
       "    }\n",
       "\n",
       "}\n",
       "\n",
       "mpl.figure.prototype._key_event_extra = function(event, name) {\n",
       "    var manager = IPython.notebook.keyboard_manager;\n",
       "    if (!manager)\n",
       "        manager = IPython.keyboard_manager;\n",
       "\n",
       "    // Check for shift+enter\n",
       "    if (event.shiftKey && event.which == 13) {\n",
       "        this.canvas_div.blur();\n",
       "        event.shiftKey = false;\n",
       "        // Send a \"J\" for go to next cell\n",
       "        event.which = 74;\n",
       "        event.keyCode = 74;\n",
       "        manager.command_mode();\n",
       "        manager.handle_keydown(event);\n",
       "    }\n",
       "}\n",
       "\n",
       "mpl.figure.prototype.handle_save = function(fig, msg) {\n",
       "    fig.ondownload(fig, null);\n",
       "}\n",
       "\n",
       "\n",
       "mpl.find_output_cell = function(html_output) {\n",
       "    // Return the cell and output element which can be found *uniquely* in the notebook.\n",
       "    // Note - this is a bit hacky, but it is done because the \"notebook_saving.Notebook\"\n",
       "    // IPython event is triggered only after the cells have been serialised, which for\n",
       "    // our purposes (turning an active figure into a static one), is too late.\n",
       "    var cells = IPython.notebook.get_cells();\n",
       "    var ncells = cells.length;\n",
       "    for (var i=0; i<ncells; i++) {\n",
       "        var cell = cells[i];\n",
       "        if (cell.cell_type === 'code'){\n",
       "            for (var j=0; j<cell.output_area.outputs.length; j++) {\n",
       "                var data = cell.output_area.outputs[j];\n",
       "                if (data.data) {\n",
       "                    // IPython >= 3 moved mimebundle to data attribute of output\n",
       "                    data = data.data;\n",
       "                }\n",
       "                if (data['text/html'] == html_output) {\n",
       "                    return [cell, data, j];\n",
       "                }\n",
       "            }\n",
       "        }\n",
       "    }\n",
       "}\n",
       "\n",
       "// Register the function which deals with the matplotlib target/channel.\n",
       "// The kernel may be null if the page has been refreshed.\n",
       "if (IPython.notebook.kernel != null) {\n",
       "    IPython.notebook.kernel.comm_manager.register_target('matplotlib', mpl.mpl_figure_comm);\n",
       "}\n"
      ],
      "text/plain": [
       "<IPython.core.display.Javascript object>"
      ]
     },
     "metadata": {},
     "output_type": "display_data"
    },
    {
     "data": {
      "text/html": [
       "<img src=\"data:image/png;base64,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\" width=\"1020.9090687814828\">"
      ],
      "text/plain": [
       "<IPython.core.display.HTML object>"
      ]
     },
     "metadata": {},
     "output_type": "display_data"
    },
    {
     "data": {
      "text/plain": [
       "<matplotlib.axes._subplots.AxesSubplot at 0x7f5d9ac09630>"
      ]
     },
     "execution_count": 15,
     "metadata": {},
     "output_type": "execute_result"
    }
   ],
   "source": [
    "%matplotlib notebook\n",
    "date_counts_pd.plot.line(x=\"date\",y=\"count\")"
   ]
  },
  {
   "cell_type": "code",
   "execution_count": 16,
   "metadata": {
    "ExecuteTime": {
     "end_time": "2018-07-01T12:38:45.769915Z",
     "start_time": "2018-07-01T12:38:42.915753Z"
    }
   },
   "outputs": [
    {
     "name": "stdout",
     "output_type": "stream",
     "text": [
      "+----------+-----+\n",
      "|      date|count|\n",
      "+----------+-----+\n",
      "|2018-02-22|  201|\n",
      "|2017-09-23|  308|\n",
      "|2018-02-23|  561|\n",
      "|2018-02-21|  620|\n",
      "|2017-10-06|  663|\n",
      "|2018-02-25|  701|\n",
      "|2017-12-06|  783|\n",
      "|2018-02-26|  869|\n",
      "|2017-10-01|  972|\n",
      "|2017-10-07|  990|\n",
      "|2017-10-02| 1096|\n",
      "|2017-09-30| 1377|\n",
      "|2017-09-25| 1507|\n",
      "|2017-09-17| 1655|\n",
      "|2017-09-24| 1853|\n",
      "|2017-09-28| 2144|\n",
      "|2017-12-29| 2197|\n",
      "|2017-12-23| 2241|\n",
      "|2017-12-02| 2331|\n",
      "|2017-09-22| 2335|\n",
      "+----------+-----+\n",
      "only showing top 20 rows\n",
      "\n"
     ]
    }
   ],
   "source": [
    "date_counts.filter(\"date > '2017-09' AND date < '2018-04' \").sort(\"count\").show()"
   ]
  },
  {
   "cell_type": "code",
   "execution_count": 14,
   "metadata": {
    "ExecuteTime": {
     "end_time": "2018-06-20T06:04:15.320105Z",
     "start_time": "2018-06-20T06:04:13.664103Z"
    }
   },
   "outputs": [
    {
     "data": {
      "text/plain": [
       "15"
      ]
     },
     "execution_count": 14,
     "metadata": {},
     "output_type": "execute_result"
    }
   ],
   "source": [
    "date_counts.filter(\"date > '2017-09' AND date < '2018-04' \").filter(\"count < 2000\").count()"
   ]
  },
  {
   "cell_type": "markdown",
   "metadata": {},
   "source": [
    "## group by month"
   ]
  },
  {
   "cell_type": "code",
   "execution_count": 43,
   "metadata": {},
   "outputs": [],
   "source": [
    "from pyspark.sql.functions import month, year, sum, to_date\n",
    "month_year_counts_eth = eth.withColumn(\"date\",to_date(\"datetime\"))\\\n",
    "                            .groupBy(month('date').alias('month'),year('date').alias('year')).count()\\\n",
    "                            .sort('year','month')\\\n",
    "                            .toPandas()"
   ]
  },
  {
   "cell_type": "code",
   "execution_count": 44,
   "metadata": {},
   "outputs": [
    {
     "data": {
      "image/png": "[encoded data removed]",
      "text/plain": [
       "<Figure size 720x360 with 1 Axes>"
      ]
     },
     "metadata": {},
     "output_type": "display_data"
    }
   ],
   "source": [
    "%matplotlib inline\n",
    "import pandas as pd\n",
    "num_records= len(month_year_counts_eth.year)\n",
    "date_dic_eth = dict(year=month_year_counts_eth.year, month=month_year_counts_eth.month, day=[1]*num_records)\n",
    "\n",
    "month_year_counts_eth['date'] = pd.to_datetime(date_dic_eth,format='%Y%m%d')\n",
    "ax = month_year_counts_eth.drop(['month','year'],axis=1).set_index([\"date\"]).plot(kind='line',figsize=(10,5))\n",
    "ax.set_xlabel(\"Date\")\n",
    "ax.set_ylabel(\"Number of Tweets\")\n",
    "ax.get_yaxis().set_major_formatter(\n",
    "    tkr.FuncFormatter(lambda x, p: format(int(x), ',')))"
   ]
  },
  {
   "cell_type": "markdown",
   "metadata": {},
   "source": [
    "# BTC Tweets"
   ]
  },
  {
   "cell_type": "code",
   "execution_count": 4,
   "metadata": {
    "ExecuteTime": {
     "end_time": "2018-07-01T12:40:10.841570Z",
     "start_time": "2018-07-01T12:40:10.835397Z"
    }
   },
   "outputs": [],
   "source": [
    "parquet_btc_path = \"../data/tweets/bitcoin/parquet/sentiment/\""
   ]
  },
  {
   "cell_type": "code",
   "execution_count": 5,
   "metadata": {
    "ExecuteTime": {
     "end_time": "2018-07-01T12:40:11.405534Z",
     "start_time": "2018-07-01T12:40:11.280945Z"
    }
   },
   "outputs": [],
   "source": [
    "btc = spark.read.parquet(parquet_btc_path)"
   ]
  },
  {
   "cell_type": "code",
   "execution_count": 6,
   "metadata": {
    "ExecuteTime": {
     "end_time": "2018-07-01T12:40:11.619065Z",
     "start_time": "2018-07-01T12:40:11.613490Z"
    }
   },
   "outputs": [
    {
     "name": "stdout",
     "output_type": "stream",
     "text": [
      "root\n",
      " |-- username: string (nullable = true)\n",
      " |-- datetime: timestamp (nullable = true)\n",
      " |-- text: string (nullable = true)\n",
      " |-- retweets: integer (nullable = true)\n",
      " |-- favorites: integer (nullable = true)\n",
      " |-- geo: string (nullable = true)\n",
      " |-- mentions: string (nullable = true)\n",
      " |-- hashtags: string (nullable = true)\n",
      " |-- id: string (nullable = true)\n",
      " |-- permalink: string (nullable = true)\n",
      " |-- pos_vader: float (nullable = true)\n",
      " |-- neg_vader: float (nullable = true)\n",
      " |-- neu_vader: float (nullable = true)\n",
      " |-- compound_vader: float (nullable = true)\n",
      " |-- polarity_textblob: float (nullable = true)\n",
      " |-- subjectivity_textblob: float (nullable = true)\n",
      "\n"
     ]
    }
   ],
   "source": [
    "btc.printSchema()"
   ]
  },
  {
   "cell_type": "code",
   "execution_count": 7,
   "metadata": {
    "ExecuteTime": {
     "end_time": "2018-07-01T12:40:12.298895Z",
     "start_time": "2018-07-01T12:40:11.965102Z"
    }
   },
   "outputs": [
    {
     "data": {
      "text/plain": [
       "26208300"
      ]
     },
     "execution_count": 7,
     "metadata": {},
     "output_type": "execute_result"
    }
   ],
   "source": [
    "btc.count()"
   ]
  },
  {
   "cell_type": "code",
   "execution_count": 8,
   "metadata": {
    "ExecuteTime": {
     "end_time": "2018-07-01T12:42:14.308661Z",
     "start_time": "2018-07-01T12:40:12.346481Z"
    }
   },
   "outputs": [
    {
     "data": {
      "text/plain": [
       "26208300"
      ]
     },
     "execution_count": 8,
     "metadata": {},
     "output_type": "execute_result"
    }
   ],
   "source": [
    "btc.distinct().count()"
   ]
  },
  {
   "cell_type": "code",
   "execution_count": 9,
   "metadata": {
    "ExecuteTime": {
     "end_time": "2018-07-01T12:42:14.313651Z",
     "start_time": "2018-07-01T12:42:14.310968Z"
    }
   },
   "outputs": [],
   "source": [
    "#btc.select(\"text\").distinct().count()"
   ]
  },
  {
   "cell_type": "code",
   "execution_count": 23,
   "metadata": {
    "ExecuteTime": {
     "end_time": "2018-07-01T12:42:14.338942Z",
     "start_time": "2018-07-01T12:42:14.315213Z"
    }
   },
   "outputs": [
    {
     "data": {
      "text/plain": [
       "0.8404911679018158"
      ]
     },
     "execution_count": 23,
     "metadata": {},
     "output_type": "execute_result"
    }
   ],
   "source": [
    "17431338/20739466"
   ]
  },
  {
   "cell_type": "code",
   "execution_count": 24,
   "metadata": {
    "ExecuteTime": {
     "end_time": "2018-07-01T12:43:28.781715Z",
     "start_time": "2018-07-01T12:42:14.340907Z"
    }
   },
   "outputs": [
    {
     "data": {
      "text/plain": [
       "26208300"
      ]
     },
     "execution_count": 24,
     "metadata": {},
     "output_type": "execute_result"
    }
   ],
   "source": [
    "btc.distinct().count()"
   ]
  },
  {
   "cell_type": "code",
   "execution_count": 25,
   "metadata": {
    "ExecuteTime": {
     "end_time": "2018-07-01T12:43:29.898613Z",
     "start_time": "2018-07-01T12:43:28.783379Z"
    }
   },
   "outputs": [
    {
     "data": {
      "text/html": [
       "<div>\n",
       "<style scoped>\n",
       "    .dataframe tbody tr th:only-of-type {\n",
       "        vertical-align: middle;\n",
       "    }\n",
       "\n",
       "    .dataframe tbody tr th {\n",
       "        vertical-align: top;\n",
       "    }\n",
       "\n",
       "    .dataframe thead th {\n",
       "        text-align: right;\n",
       "    }\n",
       "</style>\n",
       "<table border=\"1\" class=\"dataframe\">\n",
       "  <thead>\n",
       "    <tr style=\"text-align: right;\">\n",
       "      <th></th>\n",
       "      <th>username</th>\n",
       "      <th>datetime</th>\n",
       "      <th>text</th>\n",
       "      <th>retweets</th>\n",
       "      <th>favorites</th>\n",
       "      <th>geo</th>\n",
       "      <th>mentions</th>\n",
       "      <th>hashtags</th>\n",
       "      <th>id</th>\n",
       "      <th>permalink</th>\n",
       "      <th>pos_vader</th>\n",
       "      <th>neg_vader</th>\n",
       "      <th>neu_vader</th>\n",
       "      <th>compound_vader</th>\n",
       "      <th>polarity_textblob</th>\n",
       "      <th>subjectivity_textblob</th>\n",
       "    </tr>\n",
       "  </thead>\n",
       "  <tbody>\n",
       "    <tr>\n",
       "      <th>0</th>\n",
       "      <td>RealJohnyRomero</td>\n",
       "      <td>2018-05-26 23:57:00</td>\n",
       "      <td>for the project that is used for bitcoin virtu...</td>\n",
       "      <td>0</td>\n",
       "      <td>1</td>\n",
       "      <td>None</td>\n",
       "      <td>None</td>\n",
       "      <td>None</td>\n",
       "      <td>1000526434698440712</td>\n",
       "      <td>https://twitter.com/RealJohnyRomero/status/100...</td>\n",
       "      <td>0.000</td>\n",
       "      <td>0.000</td>\n",
       "      <td>1.000</td>\n",
       "      <td>0.0000</td>\n",
       "      <td>0.000000</td>\n",
       "      <td>0.000000</td>\n",
       "    </tr>\n",
       "    <tr>\n",
       "      <th>1</th>\n",
       "      <td>de_erikita</td>\n",
       "      <td>2018-05-26 23:57:00</td>\n",
       "      <td>#ze_cash #ico https:// ze.cash Ze next Bitcoin...</td>\n",
       "      <td>0</td>\n",
       "      <td>0</td>\n",
       "      <td>None</td>\n",
       "      <td>None</td>\n",
       "      <td>#ze_cash #ico</td>\n",
       "      <td>1000526359175704578</td>\n",
       "      <td>https://twitter.com/de_erikita/status/10005263...</td>\n",
       "      <td>0.095</td>\n",
       "      <td>0.000</td>\n",
       "      <td>0.905</td>\n",
       "      <td>0.2960</td>\n",
       "      <td>0.000000</td>\n",
       "      <td>0.000000</td>\n",
       "    </tr>\n",
       "    <tr>\n",
       "      <th>2</th>\n",
       "      <td>theflyinghutch</td>\n",
       "      <td>2018-05-26 23:57:00</td>\n",
       "      <td>Joke: discussion describing the fallacies of b...</td>\n",
       "      <td>0</td>\n",
       "      <td>1</td>\n",
       "      <td>None</td>\n",
       "      <td>None</td>\n",
       "      <td>None</td>\n",
       "      <td>1000526279500877825</td>\n",
       "      <td>https://twitter.com/theflyinghutch/status/1000...</td>\n",
       "      <td>0.111</td>\n",
       "      <td>0.182</td>\n",
       "      <td>0.707</td>\n",
       "      <td>-0.3400</td>\n",
       "      <td>-0.200000</td>\n",
       "      <td>0.000000</td>\n",
       "    </tr>\n",
       "    <tr>\n",
       "      <th>3</th>\n",
       "      <td>beyazdiy</td>\n",
       "      <td>2018-05-26 23:54:00</td>\n",
       "      <td>http:// bitcoinhaberleri.co Kripto para, kript...</td>\n",
       "      <td>0</td>\n",
       "      <td>0</td>\n",
       "      <td>None</td>\n",
       "      <td>None</td>\n",
       "      <td>None</td>\n",
       "      <td>1000525689802711042</td>\n",
       "      <td>https://twitter.com/beyazdiy/status/1000525689...</td>\n",
       "      <td>0.000</td>\n",
       "      <td>0.000</td>\n",
       "      <td>1.000</td>\n",
       "      <td>0.0000</td>\n",
       "      <td>0.000000</td>\n",
       "      <td>0.000000</td>\n",
       "    </tr>\n",
       "    <tr>\n",
       "      <th>4</th>\n",
       "      <td>AdegboyegaHeze4</td>\n",
       "      <td>2018-05-26 23:54:00</td>\n",
       "      <td>Big airdrop Javatoken airdrop get 80,000 jtoke...</td>\n",
       "      <td>1</td>\n",
       "      <td>1</td>\n",
       "      <td>None</td>\n",
       "      <td>None</td>\n",
       "      <td>#TokenSa #ICO #bitcoin #ethereum #crypto #cryp...</td>\n",
       "      <td>1000525493911871488</td>\n",
       "      <td>https://twitter.com/AdegboyegaHeze4/status/100...</td>\n",
       "      <td>0.000</td>\n",
       "      <td>0.058</td>\n",
       "      <td>0.942</td>\n",
       "      <td>-0.2263</td>\n",
       "      <td>-0.035714</td>\n",
       "      <td>0.121429</td>\n",
       "    </tr>\n",
       "  </tbody>\n",
       "</table>\n",
       "</div>"
      ],
      "text/plain": [
       "          username            datetime  \\\n",
       "0  RealJohnyRomero 2018-05-26 23:57:00   \n",
       "1       de_erikita 2018-05-26 23:57:00   \n",
       "2   theflyinghutch 2018-05-26 23:57:00   \n",
       "3         beyazdiy 2018-05-26 23:54:00   \n",
       "4  AdegboyegaHeze4 2018-05-26 23:54:00   \n",
       "\n",
       "                                                text  retweets  favorites  \\\n",
       "0  for the project that is used for bitcoin virtu...         0          1   \n",
       "1  #ze_cash #ico https:// ze.cash Ze next Bitcoin...         0          0   \n",
       "2  Joke: discussion describing the fallacies of b...         0          1   \n",
       "3  http:// bitcoinhaberleri.co Kripto para, kript...         0          0   \n",
       "4  Big airdrop Javatoken airdrop get 80,000 jtoke...         1          1   \n",
       "\n",
       "    geo mentions                                           hashtags  \\\n",
       "0  None     None                                               None   \n",
       "1  None     None                                      #ze_cash #ico   \n",
       "2  None     None                                               None   \n",
       "3  None     None                                               None   \n",
       "4  None     None  #TokenSa #ICO #bitcoin #ethereum #crypto #cryp...   \n",
       "\n",
       "                    id                                          permalink  \\\n",
       "0  1000526434698440712  https://twitter.com/RealJohnyRomero/status/100...   \n",
       "1  1000526359175704578  https://twitter.com/de_erikita/status/10005263...   \n",
       "2  1000526279500877825  https://twitter.com/theflyinghutch/status/1000...   \n",
       "3  1000525689802711042  https://twitter.com/beyazdiy/status/1000525689...   \n",
       "4  1000525493911871488  https://twitter.com/AdegboyegaHeze4/status/100...   \n",
       "\n",
       "   pos_vader  neg_vader  neu_vader  compound_vader  polarity_textblob  \\\n",
       "0      0.000      0.000      1.000          0.0000           0.000000   \n",
       "1      0.095      0.000      0.905          0.2960           0.000000   \n",
       "2      0.111      0.182      0.707         -0.3400          -0.200000   \n",
       "3      0.000      0.000      1.000          0.0000           0.000000   \n",
       "4      0.000      0.058      0.942         -0.2263          -0.035714   \n",
       "\n",
       "   subjectivity_textblob  \n",
       "0               0.000000  \n",
       "1               0.000000  \n",
       "2               0.000000  \n",
       "3               0.000000  \n",
       "4               0.121429  "
      ]
     },
     "execution_count": 25,
     "metadata": {},
     "output_type": "execute_result"
    }
   ],
   "source": [
    "btc.limit(5).toPandas()"
   ]
  },
  {
   "cell_type": "code",
   "execution_count": 26,
   "metadata": {
    "ExecuteTime": {
     "end_time": "2018-07-01T12:43:29.903152Z",
     "start_time": "2018-07-01T12:43:29.900698Z"
    }
   },
   "outputs": [],
   "source": [
    "from pyspark.sql.functions import to_date"
   ]
  },
  {
   "cell_type": "code",
   "execution_count": 27,
   "metadata": {
    "ExecuteTime": {
     "end_time": "2018-07-01T12:43:29.942721Z",
     "start_time": "2018-07-01T12:43:29.905085Z"
    }
   },
   "outputs": [],
   "source": [
    "date_counts_btc = btc.withColumn(\"date\",to_date(\"datetime\")).groupBy(\"date\").count()"
   ]
  },
  {
   "cell_type": "code",
   "execution_count": 28,
   "metadata": {
    "ExecuteTime": {
     "end_time": "2018-07-01T12:43:31.624289Z",
     "start_time": "2018-07-01T12:43:29.945104Z"
    }
   },
   "outputs": [
    {
     "name": "stdout",
     "output_type": "stream",
     "text": [
      "number of days that need to be reevaluated\n"
     ]
    },
    {
     "data": {
      "text/plain": [
       "52"
      ]
     },
     "execution_count": 28,
     "metadata": {},
     "output_type": "execute_result"
    }
   ],
   "source": [
    "print(\"number of days that need to be reevaluated\")\n",
    "date_counts_btc.filter(\"count < 10000\").sort(\"count\").count()"
   ]
  },
  {
   "cell_type": "code",
   "execution_count": 29,
   "metadata": {
    "ExecuteTime": {
     "end_time": "2018-07-01T12:43:33.020158Z",
     "start_time": "2018-07-01T12:43:31.626544Z"
    }
   },
   "outputs": [
    {
     "name": "stdout",
     "output_type": "stream",
     "text": [
      "+----------+-----+\n",
      "|      date|count|\n",
      "+----------+-----+\n",
      "|2016-05-04| 1670|\n",
      "|2016-07-03| 9516|\n",
      "|2016-07-29| 9690|\n",
      "|2016-07-31| 2357|\n",
      "|2016-08-03| 1292|\n",
      "|2016-08-07| 7095|\n",
      "|2016-08-08| 8627|\n",
      "|2016-08-13| 9854|\n",
      "|2016-08-14| 1841|\n",
      "|2016-08-16| 3681|\n",
      "|2016-08-17| 2157|\n",
      "|2016-08-18| 6904|\n",
      "|2016-08-20| 4076|\n",
      "|2016-09-13| 2662|\n",
      "|2016-09-15|   13|\n",
      "|2016-09-23| 1083|\n",
      "|2016-09-24| 7887|\n",
      "|2016-09-28| 9587|\n",
      "|2016-09-29| 2307|\n",
      "|2016-10-01|   16|\n",
      "|2016-10-02| 2386|\n",
      "|2016-10-03| 7661|\n",
      "|2016-10-15| 2162|\n",
      "|2016-10-16| 1831|\n",
      "|2016-10-17| 1767|\n",
      "|2016-10-18| 1351|\n",
      "|2016-10-19|  461|\n",
      "|2016-10-20|    8|\n",
      "|2016-10-21| 2992|\n",
      "|2016-10-22| 2209|\n",
      "|2017-01-09|  854|\n",
      "|2017-03-19| 3456|\n",
      "|2017-03-20| 4730|\n",
      "|2017-03-21|  533|\n",
      "|2017-03-25| 4963|\n",
      "|2017-03-26|   54|\n",
      "|2017-04-20| 7158|\n",
      "|2017-07-18| 7208|\n",
      "|2017-10-06| 4145|\n",
      "|2017-10-07| 3381|\n",
      "|2017-10-29| 7549|\n",
      "|2017-12-10| 7080|\n",
      "|2018-02-25| 2577|\n",
      "|2018-02-26| 4476|\n",
      "|2018-03-04| 7394|\n",
      "|2018-03-26| 2598|\n",
      "|2018-04-19| 3130|\n",
      "|2018-04-26| 7045|\n",
      "|2018-05-09| 8469|\n",
      "|2018-05-10| 8406|\n",
      "|2018-05-22| 9460|\n",
      "|2018-05-23| 9417|\n",
      "+----------+-----+\n",
      "\n"
     ]
    }
   ],
   "source": [
    "date_counts_btc.filter(\"count < 10000\").sort(\"date\").show(52)"
   ]
  },
  {
   "cell_type": "code",
   "execution_count": 30,
   "metadata": {
    "ExecuteTime": {
     "end_time": "2018-07-01T12:43:36.780626Z",
     "start_time": "2018-07-01T12:43:33.022517Z"
    }
   },
   "outputs": [
    {
     "name": "stdout",
     "output_type": "stream",
     "text": [
      "+----------+-----+\n",
      "|      date|count|\n",
      "+----------+-----+\n",
      "|2016-08-30|17259|\n",
      "+----------+-----+\n",
      "\n"
     ]
    }
   ],
   "source": [
    "date_counts_btc.filter(\"date == '2016-08-30'\").show()"
   ]
  },
  {
   "cell_type": "code",
   "execution_count": 31,
   "metadata": {
    "ExecuteTime": {
     "end_time": "2018-07-01T12:43:37.845274Z",
     "start_time": "2018-07-01T12:43:36.784605Z"
    }
   },
   "outputs": [],
   "source": [
    "date_counts_btc_pd = date_counts_btc.toPandas()"
   ]
  },
  {
   "cell_type": "code",
   "execution_count": 32,
   "metadata": {
    "ExecuteTime": {
     "end_time": "2018-07-01T12:43:37.850022Z",
     "start_time": "2018-07-01T12:43:37.847270Z"
    }
   },
   "outputs": [],
   "source": [
    "import matplotlib"
   ]
  },
  {
   "cell_type": "code",
   "execution_count": 33,
   "metadata": {
    "ExecuteTime": {
     "end_time": "2018-07-01T12:43:37.945591Z",
     "start_time": "2018-07-01T12:43:37.853725Z"
    }
   },
   "outputs": [
    {
     "data": {
      "application/javascript": [
       "/* Put everything inside the global mpl namespace */\n",
       "window.mpl = {};\n",
       "\n",
       "\n",
       "mpl.get_websocket_type = function() {\n",
       "    if (typeof(WebSocket) !== 'undefined') {\n",
       "        return WebSocket;\n",
       "    } else if (typeof(MozWebSocket) !== 'undefined') {\n",
       "        return MozWebSocket;\n",
       "    } else {\n",
       "        alert('Your browser does not have WebSocket support.' +\n",
       "              'Please try Chrome, Safari or Firefox ≥ 6. ' +\n",
       "              'Firefox 4 and 5 are also supported but you ' +\n",
       "              'have to enable WebSockets in about:config.');\n",
       "    };\n",
       "}\n",
       "\n",
       "mpl.figure = function(figure_id, websocket, ondownload, parent_element) {\n",
       "    this.id = figure_id;\n",
       "\n",
       "    this.ws = websocket;\n",
       "\n",
       "    this.supports_binary = (this.ws.binaryType != undefined);\n",
       "\n",
       "    if (!this.supports_binary) {\n",
       "        var warnings = document.getElementById(\"mpl-warnings\");\n",
       "        if (warnings) {\n",
       "            warnings.style.display = 'block';\n",
       "            warnings.textContent = (\n",
       "                \"This browser does not support binary websocket messages. \" +\n",
       "                    \"Performance may be slow.\");\n",
       "        }\n",
       "    }\n",
       "\n",
       "    this.imageObj = new Image();\n",
       "\n",
       "    this.context = undefined;\n",
       "    this.message = undefined;\n",
       "    this.canvas = undefined;\n",
       "    this.rubberband_canvas = undefined;\n",
       "    this.rubberband_context = undefined;\n",
       "    this.format_dropdown = undefined;\n",
       "\n",
       "    this.image_mode = 'full';\n",
       "\n",
       "    this.root = $('<div/>');\n",
       "    this._root_extra_style(this.root)\n",
       "    this.root.attr('style', 'display: inline-block');\n",
       "\n",
       "    $(parent_element).append(this.root);\n",
       "\n",
       "    this._init_header(this);\n",
       "    this._init_canvas(this);\n",
       "    this._init_toolbar(this);\n",
       "\n",
       "    var fig = this;\n",
       "\n",
       "    this.waiting = false;\n",
       "\n",
       "    this.ws.onopen =  function () {\n",
       "            fig.send_message(\"supports_binary\", {value: fig.supports_binary});\n",
       "            fig.send_message(\"send_image_mode\", {});\n",
       "            if (mpl.ratio != 1) {\n",
       "                fig.send_message(\"set_dpi_ratio\", {'dpi_ratio': mpl.ratio});\n",
       "            }\n",
       "            fig.send_message(\"refresh\", {});\n",
       "        }\n",
       "\n",
       "    this.imageObj.onload = function() {\n",
       "            if (fig.image_mode == 'full') {\n",
       "                // Full images could contain transparency (where diff images\n",
       "                // almost always do), so we need to clear the canvas so that\n",
       "                // there is no ghosting.\n",
       "                fig.context.clearRect(0, 0, fig.canvas.width, fig.canvas.height);\n",
       "            }\n",
       "            fig.context.drawImage(fig.imageObj, 0, 0);\n",
       "        };\n",
       "\n",
       "    this.imageObj.onunload = function() {\n",
       "        fig.ws.close();\n",
       "    }\n",
       "\n",
       "    this.ws.onmessage = this._make_on_message_function(this);\n",
       "\n",
       "    this.ondownload = ondownload;\n",
       "}\n",
       "\n",
       "mpl.figure.prototype._init_header = function() {\n",
       "    var titlebar = $(\n",
       "        '<div class=\"ui-dialog-titlebar ui-widget-header ui-corner-all ' +\n",
       "        'ui-helper-clearfix\"/>');\n",
       "    var titletext = $(\n",
       "        '<div class=\"ui-dialog-title\" style=\"width: 100%; ' +\n",
       "        'text-align: center; padding: 3px;\"/>');\n",
       "    titlebar.append(titletext)\n",
       "    this.root.append(titlebar);\n",
       "    this.header = titletext[0];\n",
       "}\n",
       "\n",
       "\n",
       "\n",
       "mpl.figure.prototype._canvas_extra_style = function(canvas_div) {\n",
       "\n",
       "}\n",
       "\n",
       "\n",
       "mpl.figure.prototype._root_extra_style = function(canvas_div) {\n",
       "\n",
       "}\n",
       "\n",
       "mpl.figure.prototype._init_canvas = function() {\n",
       "    var fig = this;\n",
       "\n",
       "    var canvas_div = $('<div/>');\n",
       "\n",
       "    canvas_div.attr('style', 'position: relative; clear: both; outline: 0');\n",
       "\n",
       "    function canvas_keyboard_event(event) {\n",
       "        return fig.key_event(event, event['data']);\n",
       "    }\n",
       "\n",
       "    canvas_div.keydown('key_press', canvas_keyboard_event);\n",
       "    canvas_div.keyup('key_release', canvas_keyboard_event);\n",
       "    this.canvas_div = canvas_div\n",
       "    this._canvas_extra_style(canvas_div)\n",
       "    this.root.append(canvas_div);\n",
       "\n",
       "    var canvas = $('<canvas/>');\n",
       "    canvas.addClass('mpl-canvas');\n",
       "    canvas.attr('style', \"left: 0; top: 0; z-index: 0; outline: 0\")\n",
       "\n",
       "    this.canvas = canvas[0];\n",
       "    this.context = canvas[0].getContext(\"2d\");\n",
       "\n",
       "    var backingStore = this.context.backingStorePixelRatio ||\n",
       "\tthis.context.webkitBackingStorePixelRatio ||\n",
       "\tthis.context.mozBackingStorePixelRatio ||\n",
       "\tthis.context.msBackingStorePixelRatio ||\n",
       "\tthis.context.oBackingStorePixelRatio ||\n",
       "\tthis.context.backingStorePixelRatio || 1;\n",
       "\n",
       "    mpl.ratio = (window.devicePixelRatio || 1) / backingStore;\n",
       "\n",
       "    var rubberband = $('<canvas/>');\n",
       "    rubberband.attr('style', \"position: absolute; left: 0; top: 0; z-index: 1;\")\n",
       "\n",
       "    var pass_mouse_events = true;\n",
       "\n",
       "    canvas_div.resizable({\n",
       "        start: function(event, ui) {\n",
       "            pass_mouse_events = false;\n",
       "        },\n",
       "        resize: function(event, ui) {\n",
       "            fig.request_resize(ui.size.width, ui.size.height);\n",
       "        },\n",
       "        stop: function(event, ui) {\n",
       "            pass_mouse_events = true;\n",
       "            fig.request_resize(ui.size.width, ui.size.height);\n",
       "        },\n",
       "    });\n",
       "\n",
       "    function mouse_event_fn(event) {\n",
       "        if (pass_mouse_events)\n",
       "            return fig.mouse_event(event, event['data']);\n",
       "    }\n",
       "\n",
       "    rubberband.mousedown('button_press', mouse_event_fn);\n",
       "    rubberband.mouseup('button_release', mouse_event_fn);\n",
       "    // Throttle sequential mouse events to 1 every 20ms.\n",
       "    rubberband.mousemove('motion_notify', mouse_event_fn);\n",
       "\n",
       "    rubberband.mouseenter('figure_enter', mouse_event_fn);\n",
       "    rubberband.mouseleave('figure_leave', mouse_event_fn);\n",
       "\n",
       "    canvas_div.on(\"wheel\", function (event) {\n",
       "        event = event.originalEvent;\n",
       "        event['data'] = 'scroll'\n",
       "        if (event.deltaY < 0) {\n",
       "            event.step = 1;\n",
       "        } else {\n",
       "            event.step = -1;\n",
       "        }\n",
       "        mouse_event_fn(event);\n",
       "    });\n",
       "\n",
       "    canvas_div.append(canvas);\n",
       "    canvas_div.append(rubberband);\n",
       "\n",
       "    this.rubberband = rubberband;\n",
       "    this.rubberband_canvas = rubberband[0];\n",
       "    this.rubberband_context = rubberband[0].getContext(\"2d\");\n",
       "    this.rubberband_context.strokeStyle = \"#000000\";\n",
       "\n",
       "    this._resize_canvas = function(width, height) {\n",
       "        // Keep the size of the canvas, canvas container, and rubber band\n",
       "        // canvas in synch.\n",
       "        canvas_div.css('width', width)\n",
       "        canvas_div.css('height', height)\n",
       "\n",
       "        canvas.attr('width', width * mpl.ratio);\n",
       "        canvas.attr('height', height * mpl.ratio);\n",
       "        canvas.attr('style', 'width: ' + width + 'px; height: ' + height + 'px;');\n",
       "\n",
       "        rubberband.attr('width', width);\n",
       "        rubberband.attr('height', height);\n",
       "    }\n",
       "\n",
       "    // Set the figure to an initial 600x600px, this will subsequently be updated\n",
       "    // upon first draw.\n",
       "    this._resize_canvas(600, 600);\n",
       "\n",
       "    // Disable right mouse context menu.\n",
       "    $(this.rubberband_canvas).bind(\"contextmenu\",function(e){\n",
       "        return false;\n",
       "    });\n",
       "\n",
       "    function set_focus () {\n",
       "        canvas.focus();\n",
       "        canvas_div.focus();\n",
       "    }\n",
       "\n",
       "    window.setTimeout(set_focus, 100);\n",
       "}\n",
       "\n",
       "mpl.figure.prototype._init_toolbar = function() {\n",
       "    var fig = this;\n",
       "\n",
       "    var nav_element = $('<div/>')\n",
       "    nav_element.attr('style', 'width: 100%');\n",
       "    this.root.append(nav_element);\n",
       "\n",
       "    // Define a callback function for later on.\n",
       "    function toolbar_event(event) {\n",
       "        return fig.toolbar_button_onclick(event['data']);\n",
       "    }\n",
       "    function toolbar_mouse_event(event) {\n",
       "        return fig.toolbar_button_onmouseover(event['data']);\n",
       "    }\n",
       "\n",
       "    for(var toolbar_ind in mpl.toolbar_items) {\n",
       "        var name = mpl.toolbar_items[toolbar_ind][0];\n",
       "        var tooltip = mpl.toolbar_items[toolbar_ind][1];\n",
       "        var image = mpl.toolbar_items[toolbar_ind][2];\n",
       "        var method_name = mpl.toolbar_items[toolbar_ind][3];\n",
       "\n",
       "        if (!name) {\n",
       "            // put a spacer in here.\n",
       "            continue;\n",
       "        }\n",
       "        var button = $('<button/>');\n",
       "        button.addClass('ui-button ui-widget ui-state-default ui-corner-all ' +\n",
       "                        'ui-button-icon-only');\n",
       "        button.attr('role', 'button');\n",
       "        button.attr('aria-disabled', 'false');\n",
       "        button.click(method_name, toolbar_event);\n",
       "        button.mouseover(tooltip, toolbar_mouse_event);\n",
       "\n",
       "        var icon_img = $('<span/>');\n",
       "        icon_img.addClass('ui-button-icon-primary ui-icon');\n",
       "        icon_img.addClass(image);\n",
       "        icon_img.addClass('ui-corner-all');\n",
       "\n",
       "        var tooltip_span = $('<span/>');\n",
       "        tooltip_span.addClass('ui-button-text');\n",
       "        tooltip_span.html(tooltip);\n",
       "\n",
       "        button.append(icon_img);\n",
       "        button.append(tooltip_span);\n",
       "\n",
       "        nav_element.append(button);\n",
       "    }\n",
       "\n",
       "    var fmt_picker_span = $('<span/>');\n",
       "\n",
       "    var fmt_picker = $('<select/>');\n",
       "    fmt_picker.addClass('mpl-toolbar-option ui-widget ui-widget-content');\n",
       "    fmt_picker_span.append(fmt_picker);\n",
       "    nav_element.append(fmt_picker_span);\n",
       "    this.format_dropdown = fmt_picker[0];\n",
       "\n",
       "    for (var ind in mpl.extensions) {\n",
       "        var fmt = mpl.extensions[ind];\n",
       "        var option = $(\n",
       "            '<option/>', {selected: fmt === mpl.default_extension}).html(fmt);\n",
       "        fmt_picker.append(option)\n",
       "    }\n",
       "\n",
       "    // Add hover states to the ui-buttons\n",
       "    $( \".ui-button\" ).hover(\n",
       "        function() { $(this).addClass(\"ui-state-hover\");},\n",
       "        function() { $(this).removeClass(\"ui-state-hover\");}\n",
       "    );\n",
       "\n",
       "    var status_bar = $('<span class=\"mpl-message\"/>');\n",
       "    nav_element.append(status_bar);\n",
       "    this.message = status_bar[0];\n",
       "}\n",
       "\n",
       "mpl.figure.prototype.request_resize = function(x_pixels, y_pixels) {\n",
       "    // Request matplotlib to resize the figure. Matplotlib will then trigger a resize in the client,\n",
       "    // which will in turn request a refresh of the image.\n",
       "    this.send_message('resize', {'width': x_pixels, 'height': y_pixels});\n",
       "}\n",
       "\n",
       "mpl.figure.prototype.send_message = function(type, properties) {\n",
       "    properties['type'] = type;\n",
       "    properties['figure_id'] = this.id;\n",
       "    this.ws.send(JSON.stringify(properties));\n",
       "}\n",
       "\n",
       "mpl.figure.prototype.send_draw_message = function() {\n",
       "    if (!this.waiting) {\n",
       "        this.waiting = true;\n",
       "        this.ws.send(JSON.stringify({type: \"draw\", figure_id: this.id}));\n",
       "    }\n",
       "}\n",
       "\n",
       "\n",
       "mpl.figure.prototype.handle_save = function(fig, msg) {\n",
       "    var format_dropdown = fig.format_dropdown;\n",
       "    var format = format_dropdown.options[format_dropdown.selectedIndex].value;\n",
       "    fig.ondownload(fig, format);\n",
       "}\n",
       "\n",
       "\n",
       "mpl.figure.prototype.handle_resize = function(fig, msg) {\n",
       "    var size = msg['size'];\n",
       "    if (size[0] != fig.canvas.width || size[1] != fig.canvas.height) {\n",
       "        fig._resize_canvas(size[0], size[1]);\n",
       "        fig.send_message(\"refresh\", {});\n",
       "    };\n",
       "}\n",
       "\n",
       "mpl.figure.prototype.handle_rubberband = function(fig, msg) {\n",
       "    var x0 = msg['x0'] / mpl.ratio;\n",
       "    var y0 = (fig.canvas.height - msg['y0']) / mpl.ratio;\n",
       "    var x1 = msg['x1'] / mpl.ratio;\n",
       "    var y1 = (fig.canvas.height - msg['y1']) / mpl.ratio;\n",
       "    x0 = Math.floor(x0) + 0.5;\n",
       "    y0 = Math.floor(y0) + 0.5;\n",
       "    x1 = Math.floor(x1) + 0.5;\n",
       "    y1 = Math.floor(y1) + 0.5;\n",
       "    var min_x = Math.min(x0, x1);\n",
       "    var min_y = Math.min(y0, y1);\n",
       "    var width = Math.abs(x1 - x0);\n",
       "    var height = Math.abs(y1 - y0);\n",
       "\n",
       "    fig.rubberband_context.clearRect(\n",
       "        0, 0, fig.canvas.width, fig.canvas.height);\n",
       "\n",
       "    fig.rubberband_context.strokeRect(min_x, min_y, width, height);\n",
       "}\n",
       "\n",
       "mpl.figure.prototype.handle_figure_label = function(fig, msg) {\n",
       "    // Updates the figure title.\n",
       "    fig.header.textContent = msg['label'];\n",
       "}\n",
       "\n",
       "mpl.figure.prototype.handle_cursor = function(fig, msg) {\n",
       "    var cursor = msg['cursor'];\n",
       "    switch(cursor)\n",
       "    {\n",
       "    case 0:\n",
       "        cursor = 'pointer';\n",
       "        break;\n",
       "    case 1:\n",
       "        cursor = 'default';\n",
       "        break;\n",
       "    case 2:\n",
       "        cursor = 'crosshair';\n",
       "        break;\n",
       "    case 3:\n",
       "        cursor = 'move';\n",
       "        break;\n",
       "    }\n",
       "    fig.rubberband_canvas.style.cursor = cursor;\n",
       "}\n",
       "\n",
       "mpl.figure.prototype.handle_message = function(fig, msg) {\n",
       "    fig.message.textContent = msg['message'];\n",
       "}\n",
       "\n",
       "mpl.figure.prototype.handle_draw = function(fig, msg) {\n",
       "    // Request the server to send over a new figure.\n",
       "    fig.send_draw_message();\n",
       "}\n",
       "\n",
       "mpl.figure.prototype.handle_image_mode = function(fig, msg) {\n",
       "    fig.image_mode = msg['mode'];\n",
       "}\n",
       "\n",
       "mpl.figure.prototype.updated_canvas_event = function() {\n",
       "    // Called whenever the canvas gets updated.\n",
       "    this.send_message(\"ack\", {});\n",
       "}\n",
       "\n",
       "// A function to construct a web socket function for onmessage handling.\n",
       "// Called in the figure constructor.\n",
       "mpl.figure.prototype._make_on_message_function = function(fig) {\n",
       "    return function socket_on_message(evt) {\n",
       "        if (evt.data instanceof Blob) {\n",
       "            /* FIXME: We get \"Resource interpreted as Image but\n",
       "             * transferred with MIME type text/plain:\" errors on\n",
       "             * Chrome.  But how to set the MIME type?  It doesn't seem\n",
       "             * to be part of the websocket stream */\n",
       "            evt.data.type = \"image/png\";\n",
       "\n",
       "            /* Free the memory for the previous frames */\n",
       "            if (fig.imageObj.src) {\n",
       "                (window.URL || window.webkitURL).revokeObjectURL(\n",
       "                    fig.imageObj.src);\n",
       "            }\n",
       "\n",
       "            fig.imageObj.src = (window.URL || window.webkitURL).createObjectURL(\n",
       "                evt.data);\n",
       "            fig.updated_canvas_event();\n",
       "            fig.waiting = false;\n",
       "            return;\n",
       "        }\n",
       "        else if (typeof evt.data === 'string' && evt.data.slice(0, 21) == \"data:image/png;base64\") {\n",
       "            fig.imageObj.src = evt.data;\n",
       "            fig.updated_canvas_event();\n",
       "            fig.waiting = false;\n",
       "            return;\n",
       "        }\n",
       "\n",
       "        var msg = JSON.parse(evt.data);\n",
       "        var msg_type = msg['type'];\n",
       "\n",
       "        // Call the  \"handle_{type}\" callback, which takes\n",
       "        // the figure and JSON message as its only arguments.\n",
       "        try {\n",
       "            var callback = fig[\"handle_\" + msg_type];\n",
       "        } catch (e) {\n",
       "            console.log(\"No handler for the '\" + msg_type + \"' message type: \", msg);\n",
       "            return;\n",
       "        }\n",
       "\n",
       "        if (callback) {\n",
       "            try {\n",
       "                // console.log(\"Handling '\" + msg_type + \"' message: \", msg);\n",
       "                callback(fig, msg);\n",
       "            } catch (e) {\n",
       "                console.log(\"Exception inside the 'handler_\" + msg_type + \"' callback:\", e, e.stack, msg);\n",
       "            }\n",
       "        }\n",
       "    };\n",
       "}\n",
       "\n",
       "// from http://stackoverflow.com/questions/1114465/getting-mouse-location-in-canvas\n",
       "mpl.findpos = function(e) {\n",
       "    //this section is from http://www.quirksmode.org/js/events_properties.html\n",
       "    var targ;\n",
       "    if (!e)\n",
       "        e = window.event;\n",
       "    if (e.target)\n",
       "        targ = e.target;\n",
       "    else if (e.srcElement)\n",
       "        targ = e.srcElement;\n",
       "    if (targ.nodeType == 3) // defeat Safari bug\n",
       "        targ = targ.parentNode;\n",
       "\n",
       "    // jQuery normalizes the pageX and pageY\n",
       "    // pageX,Y are the mouse positions relative to the document\n",
       "    // offset() returns the position of the element relative to the document\n",
       "    var x = e.pageX - $(targ).offset().left;\n",
       "    var y = e.pageY - $(targ).offset().top;\n",
       "\n",
       "    return {\"x\": x, \"y\": y};\n",
       "};\n",
       "\n",
       "/*\n",
       " * return a copy of an object with only non-object keys\n",
       " * we need this to avoid circular references\n",
       " * http://stackoverflow.com/a/24161582/3208463\n",
       " */\n",
       "function simpleKeys (original) {\n",
       "  return Object.keys(original).reduce(function (obj, key) {\n",
       "    if (typeof original[key] !== 'object')\n",
       "        obj[key] = original[key]\n",
       "    return obj;\n",
       "  }, {});\n",
       "}\n",
       "\n",
       "mpl.figure.prototype.mouse_event = function(event, name) {\n",
       "    var canvas_pos = mpl.findpos(event)\n",
       "\n",
       "    if (name === 'button_press')\n",
       "    {\n",
       "        this.canvas.focus();\n",
       "        this.canvas_div.focus();\n",
       "    }\n",
       "\n",
       "    var x = canvas_pos.x * mpl.ratio;\n",
       "    var y = canvas_pos.y * mpl.ratio;\n",
       "\n",
       "    this.send_message(name, {x: x, y: y, button: event.button,\n",
       "                             step: event.step,\n",
       "                             guiEvent: simpleKeys(event)});\n",
       "\n",
       "    /* This prevents the web browser from automatically changing to\n",
       "     * the text insertion cursor when the button is pressed.  We want\n",
       "     * to control all of the cursor setting manually through the\n",
       "     * 'cursor' event from matplotlib */\n",
       "    event.preventDefault();\n",
       "    return false;\n",
       "}\n",
       "\n",
       "mpl.figure.prototype._key_event_extra = function(event, name) {\n",
       "    // Handle any extra behaviour associated with a key event\n",
       "}\n",
       "\n",
       "mpl.figure.prototype.key_event = function(event, name) {\n",
       "\n",
       "    // Prevent repeat events\n",
       "    if (name == 'key_press')\n",
       "    {\n",
       "        if (event.which === this._key)\n",
       "            return;\n",
       "        else\n",
       "            this._key = event.which;\n",
       "    }\n",
       "    if (name == 'key_release')\n",
       "        this._key = null;\n",
       "\n",
       "    var value = '';\n",
       "    if (event.ctrlKey && event.which != 17)\n",
       "        value += \"ctrl+\";\n",
       "    if (event.altKey && event.which != 18)\n",
       "        value += \"alt+\";\n",
       "    if (event.shiftKey && event.which != 16)\n",
       "        value += \"shift+\";\n",
       "\n",
       "    value += 'k';\n",
       "    value += event.which.toString();\n",
       "\n",
       "    this._key_event_extra(event, name);\n",
       "\n",
       "    this.send_message(name, {key: value,\n",
       "                             guiEvent: simpleKeys(event)});\n",
       "    return false;\n",
       "}\n",
       "\n",
       "mpl.figure.prototype.toolbar_button_onclick = function(name) {\n",
       "    if (name == 'download') {\n",
       "        this.handle_save(this, null);\n",
       "    } else {\n",
       "        this.send_message(\"toolbar_button\", {name: name});\n",
       "    }\n",
       "};\n",
       "\n",
       "mpl.figure.prototype.toolbar_button_onmouseover = function(tooltip) {\n",
       "    this.message.textContent = tooltip;\n",
       "};\n",
       "mpl.toolbar_items = [[\"Home\", \"Reset original view\", \"fa fa-home icon-home\", \"home\"], [\"Back\", \"Back to  previous view\", \"fa fa-arrow-left icon-arrow-left\", \"back\"], [\"Forward\", \"Forward to next view\", \"fa fa-arrow-right icon-arrow-right\", \"forward\"], [\"\", \"\", \"\", \"\"], [\"Pan\", \"Pan axes with left mouse, zoom with right\", \"fa fa-arrows icon-move\", \"pan\"], [\"Zoom\", \"Zoom to rectangle\", \"fa fa-square-o icon-check-empty\", \"zoom\"], [\"\", \"\", \"\", \"\"], [\"Download\", \"Download plot\", \"fa fa-floppy-o icon-save\", \"download\"]];\n",
       "\n",
       "mpl.extensions = [\"eps\", \"pdf\", \"png\", \"ps\", \"raw\", \"svg\"];\n",
       "\n",
       "mpl.default_extension = \"png\";var comm_websocket_adapter = function(comm) {\n",
       "    // Create a \"websocket\"-like object which calls the given IPython comm\n",
       "    // object with the appropriate methods. Currently this is a non binary\n",
       "    // socket, so there is still some room for performance tuning.\n",
       "    var ws = {};\n",
       "\n",
       "    ws.close = function() {\n",
       "        comm.close()\n",
       "    };\n",
       "    ws.send = function(m) {\n",
       "        //console.log('sending', m);\n",
       "        comm.send(m);\n",
       "    };\n",
       "    // Register the callback with on_msg.\n",
       "    comm.on_msg(function(msg) {\n",
       "        //console.log('receiving', msg['content']['data'], msg);\n",
       "        // Pass the mpl event to the overridden (by mpl) onmessage function.\n",
       "        ws.onmessage(msg['content']['data'])\n",
       "    });\n",
       "    return ws;\n",
       "}\n",
       "\n",
       "mpl.mpl_figure_comm = function(comm, msg) {\n",
       "    // This is the function which gets called when the mpl process\n",
       "    // starts-up an IPython Comm through the \"matplotlib\" channel.\n",
       "\n",
       "    var id = msg.content.data.id;\n",
       "    // Get hold of the div created by the display call when the Comm\n",
       "    // socket was opened in Python.\n",
       "    var element = $(\"#\" + id);\n",
       "    var ws_proxy = comm_websocket_adapter(comm)\n",
       "\n",
       "    function ondownload(figure, format) {\n",
       "        window.open(figure.imageObj.src);\n",
       "    }\n",
       "\n",
       "    var fig = new mpl.figure(id, ws_proxy,\n",
       "                           ondownload,\n",
       "                           element.get(0));\n",
       "\n",
       "    // Call onopen now - mpl needs it, as it is assuming we've passed it a real\n",
       "    // web socket which is closed, not our websocket->open comm proxy.\n",
       "    ws_proxy.onopen();\n",
       "\n",
       "    fig.parent_element = element.get(0);\n",
       "    fig.cell_info = mpl.find_output_cell(\"<div id='\" + id + \"'></div>\");\n",
       "    if (!fig.cell_info) {\n",
       "        console.error(\"Failed to find cell for figure\", id, fig);\n",
       "        return;\n",
       "    }\n",
       "\n",
       "    var output_index = fig.cell_info[2]\n",
       "    var cell = fig.cell_info[0];\n",
       "\n",
       "};\n",
       "\n",
       "mpl.figure.prototype.handle_close = function(fig, msg) {\n",
       "    var width = fig.canvas.width/mpl.ratio\n",
       "    fig.root.unbind('remove')\n",
       "\n",
       "    // Update the output cell to use the data from the current canvas.\n",
       "    fig.push_to_output();\n",
       "    var dataURL = fig.canvas.toDataURL();\n",
       "    // Re-enable the keyboard manager in IPython - without this line, in FF,\n",
       "    // the notebook keyboard shortcuts fail.\n",
       "    IPython.keyboard_manager.enable()\n",
       "    $(fig.parent_element).html('<img src=\"' + dataURL + '\" width=\"' + width + '\">');\n",
       "    fig.close_ws(fig, msg);\n",
       "}\n",
       "\n",
       "mpl.figure.prototype.close_ws = function(fig, msg){\n",
       "    fig.send_message('closing', msg);\n",
       "    // fig.ws.close()\n",
       "}\n",
       "\n",
       "mpl.figure.prototype.push_to_output = function(remove_interactive) {\n",
       "    // Turn the data on the canvas into data in the output cell.\n",
       "    var width = this.canvas.width/mpl.ratio\n",
       "    var dataURL = this.canvas.toDataURL();\n",
       "    this.cell_info[1]['text/html'] = '<img src=\"' + dataURL + '\" width=\"' + width + '\">';\n",
       "}\n",
       "\n",
       "mpl.figure.prototype.updated_canvas_event = function() {\n",
       "    // Tell IPython that the notebook contents must change.\n",
       "    IPython.notebook.set_dirty(true);\n",
       "    this.send_message(\"ack\", {});\n",
       "    var fig = this;\n",
       "    // Wait a second, then push the new image to the DOM so\n",
       "    // that it is saved nicely (might be nice to debounce this).\n",
       "    setTimeout(function () { fig.push_to_output() }, 1000);\n",
       "}\n",
       "\n",
       "mpl.figure.prototype._init_toolbar = function() {\n",
       "    var fig = this;\n",
       "\n",
       "    var nav_element = $('<div/>')\n",
       "    nav_element.attr('style', 'width: 100%');\n",
       "    this.root.append(nav_element);\n",
       "\n",
       "    // Define a callback function for later on.\n",
       "    function toolbar_event(event) {\n",
       "        return fig.toolbar_button_onclick(event['data']);\n",
       "    }\n",
       "    function toolbar_mouse_event(event) {\n",
       "        return fig.toolbar_button_onmouseover(event['data']);\n",
       "    }\n",
       "\n",
       "    for(var toolbar_ind in mpl.toolbar_items){\n",
       "        var name = mpl.toolbar_items[toolbar_ind][0];\n",
       "        var tooltip = mpl.toolbar_items[toolbar_ind][1];\n",
       "        var image = mpl.toolbar_items[toolbar_ind][2];\n",
       "        var method_name = mpl.toolbar_items[toolbar_ind][3];\n",
       "\n",
       "        if (!name) { continue; };\n",
       "\n",
       "        var button = $('<button class=\"btn btn-default\" href=\"#\" title=\"' + name + '\"><i class=\"fa ' + image + ' fa-lg\"></i></button>');\n",
       "        button.click(method_name, toolbar_event);\n",
       "        button.mouseover(tooltip, toolbar_mouse_event);\n",
       "        nav_element.append(button);\n",
       "    }\n",
       "\n",
       "    // Add the status bar.\n",
       "    var status_bar = $('<span class=\"mpl-message\" style=\"text-align:right; float: right;\"/>');\n",
       "    nav_element.append(status_bar);\n",
       "    this.message = status_bar[0];\n",
       "\n",
       "    // Add the close button to the window.\n",
       "    var buttongrp = $('<div class=\"btn-group inline pull-right\"></div>');\n",
       "    var button = $('<button class=\"btn btn-mini btn-primary\" href=\"#\" title=\"Stop Interaction\"><i class=\"fa fa-power-off icon-remove icon-large\"></i></button>');\n",
       "    button.click(function (evt) { fig.handle_close(fig, {}); } );\n",
       "    button.mouseover('Stop Interaction', toolbar_mouse_event);\n",
       "    buttongrp.append(button);\n",
       "    var titlebar = this.root.find($('.ui-dialog-titlebar'));\n",
       "    titlebar.prepend(buttongrp);\n",
       "}\n",
       "\n",
       "mpl.figure.prototype._root_extra_style = function(el){\n",
       "    var fig = this\n",
       "    el.on(\"remove\", function(){\n",
       "\tfig.close_ws(fig, {});\n",
       "    });\n",
       "}\n",
       "\n",
       "mpl.figure.prototype._canvas_extra_style = function(el){\n",
       "    // this is important to make the div 'focusable\n",
       "    el.attr('tabindex', 0)\n",
       "    // reach out to IPython and tell the keyboard manager to turn it's self\n",
       "    // off when our div gets focus\n",
       "\n",
       "    // location in version 3\n",
       "    if (IPython.notebook.keyboard_manager) {\n",
       "        IPython.notebook.keyboard_manager.register_events(el);\n",
       "    }\n",
       "    else {\n",
       "        // location in version 2\n",
       "        IPython.keyboard_manager.register_events(el);\n",
       "    }\n",
       "\n",
       "}\n",
       "\n",
       "mpl.figure.prototype._key_event_extra = function(event, name) {\n",
       "    var manager = IPython.notebook.keyboard_manager;\n",
       "    if (!manager)\n",
       "        manager = IPython.keyboard_manager;\n",
       "\n",
       "    // Check for shift+enter\n",
       "    if (event.shiftKey && event.which == 13) {\n",
       "        this.canvas_div.blur();\n",
       "        event.shiftKey = false;\n",
       "        // Send a \"J\" for go to next cell\n",
       "        event.which = 74;\n",
       "        event.keyCode = 74;\n",
       "        manager.command_mode();\n",
       "        manager.handle_keydown(event);\n",
       "    }\n",
       "}\n",
       "\n",
       "mpl.figure.prototype.handle_save = function(fig, msg) {\n",
       "    fig.ondownload(fig, null);\n",
       "}\n",
       "\n",
       "\n",
       "mpl.find_output_cell = function(html_output) {\n",
       "    // Return the cell and output element which can be found *uniquely* in the notebook.\n",
       "    // Note - this is a bit hacky, but it is done because the \"notebook_saving.Notebook\"\n",
       "    // IPython event is triggered only after the cells have been serialised, which for\n",
       "    // our purposes (turning an active figure into a static one), is too late.\n",
       "    var cells = IPython.notebook.get_cells();\n",
       "    var ncells = cells.length;\n",
       "    for (var i=0; i<ncells; i++) {\n",
       "        var cell = cells[i];\n",
       "        if (cell.cell_type === 'code'){\n",
       "            for (var j=0; j<cell.output_area.outputs.length; j++) {\n",
       "                var data = cell.output_area.outputs[j];\n",
       "                if (data.data) {\n",
       "                    // IPython >= 3 moved mimebundle to data attribute of output\n",
       "                    data = data.data;\n",
       "                }\n",
       "                if (data['text/html'] == html_output) {\n",
       "                    return [cell, data, j];\n",
       "                }\n",
       "            }\n",
       "        }\n",
       "    }\n",
       "}\n",
       "\n",
       "// Register the function which deals with the matplotlib target/channel.\n",
       "// The kernel may be null if the page has been refreshed.\n",
       "if (IPython.notebook.kernel != null) {\n",
       "    IPython.notebook.kernel.comm_manager.register_target('matplotlib', mpl.mpl_figure_comm);\n",
       "}\n"
      ],
      "text/plain": [
       "<IPython.core.display.Javascript object>"
      ]
     },
     "metadata": {},
     "output_type": "display_data"
    },
    {
     "data": {
      "text/html": [
       "<img src=\"data:image/png;base64,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\" width=\"639.9999861283738\">"
      ],
      "text/plain": [
       "<IPython.core.display.HTML object>"
      ]
     },
     "metadata": {},
     "output_type": "display_data"
    },
    {
     "data": {
      "text/plain": [
       "<matplotlib.axes._subplots.AxesSubplot at 0x7f5d9a86d940>"
      ]
     },
     "execution_count": 33,
     "metadata": {},
     "output_type": "execute_result"
    }
   ],
   "source": [
    "%matplotlib notebook\n",
    "date_counts_btc_pd.plot.line(x=\"date\",y=\"count\")"
   ]
  },
  {
   "cell_type": "markdown",
   "metadata": {},
   "source": [
    "## Group By Month"
   ]
  },
  {
   "cell_type": "code",
   "execution_count": 29,
   "metadata": {
    "ExecuteTime": {
     "end_time": "2018-07-01T12:43:37.949891Z",
     "start_time": "2018-07-01T12:43:37.947057Z"
    }
   },
   "outputs": [
    {
     "name": "stdout",
     "output_type": "stream",
     "text": [
      "root\n",
      " |-- username: string (nullable = true)\n",
      " |-- datetime: timestamp (nullable = true)\n",
      " |-- text: string (nullable = true)\n",
      " |-- retweets: integer (nullable = true)\n",
      " |-- favorites: integer (nullable = true)\n",
      " |-- geo: string (nullable = true)\n",
      " |-- mentions: string (nullable = true)\n",
      " |-- hashtags: string (nullable = true)\n",
      " |-- id: string (nullable = true)\n",
      " |-- permalink: string (nullable = true)\n",
      " |-- pos_vader: float (nullable = true)\n",
      " |-- neg_vader: float (nullable = true)\n",
      " |-- neu_vader: float (nullable = true)\n",
      " |-- compound_vader: float (nullable = true)\n",
      " |-- polarity_textblob: float (nullable = true)\n",
      " |-- subjectivity_textblob: float (nullable = true)\n",
      "\n"
     ]
    }
   ],
   "source": [
    "btc.printSchema()"
   ]
  },
  {
   "cell_type": "code",
   "execution_count": 30,
   "metadata": {
    "ExecuteTime": {
     "end_time": "2018-07-01T12:43:39.336085Z",
     "start_time": "2018-07-01T12:43:37.951250Z"
    }
   },
   "outputs": [],
   "source": [
    "from pyspark.sql.functions import month, year, sum, to_date\n",
    "month_year_counts = btc.withColumn(\"date\",to_date(\"datetime\"))\\\n",
    "                            .groupBy(month('date').alias('month'),year('date').alias('year')).count()\\\n",
    "                            .sort('year','month')\\\n",
    "                            .toPandas()"
   ]
  },
  {
   "cell_type": "code",
   "execution_count": 31,
   "metadata": {
    "ExecuteTime": {
     "end_time": "2018-07-01T12:43:39.465640Z",
     "start_time": "2018-07-01T12:43:39.338109Z"
    }
   },
   "outputs": [
    {
     "data": {
      "text/plain": [
       "26208300"
      ]
     },
     "execution_count": 31,
     "metadata": {},
     "output_type": "execute_result"
    }
   ],
   "source": [
    "btc.count()"
   ]
  },
  {
   "cell_type": "code",
   "execution_count": 32,
   "metadata": {
    "ExecuteTime": {
     "end_time": "2018-07-01T12:43:40.760302Z",
     "start_time": "2018-07-01T12:43:39.467257Z"
    }
   },
   "outputs": [
    {
     "name": "stdout",
     "output_type": "stream",
     "text": [
      "+----------+\n",
      "|sum(count)|\n",
      "+----------+\n",
      "|  26208300|\n",
      "+----------+\n",
      "\n"
     ]
    }
   ],
   "source": [
    "btc.withColumn(\"date\",to_date(\"datetime\"))\\\n",
    "                            .groupBy(month('date').alias('month'),year('date').alias('year')).count()\\\n",
    "                            .select(sum('count')).show()"
   ]
  },
  {
   "cell_type": "code",
   "execution_count": 42,
   "metadata": {
    "ExecuteTime": {
     "end_time": "2018-07-01T12:43:40.854009Z",
     "start_time": "2018-07-01T12:43:40.761883Z"
    },
    "scrolled": false
   },
   "outputs": [
    {
     "data": {
      "image/png": "[encoded data removed]",
      "text/plain": [
       "<Figure size 720x360 with 1 Axes>"
      ]
     },
     "metadata": {},
     "output_type": "display_data"
    }
   ],
   "source": [
    "%matplotlib inline \n",
    "import pandas as pd\n",
    "import matplotlib.ticker as tkr\n",
    "\n",
    "num_records= len(month_year_counts.year)\n",
    "\n",
    "date_dic = dict(year=month_year_counts.year, month=month_year_counts.month, day=[1]*num_records)\n",
    "\n",
    "month_year_counts['date'] = pd.to_datetime(date_dic,format='%Y%m%d')\n",
    "ax = month_year_counts.drop(['month','year'],axis=1).set_index([\"date\"]).plot(kind='line',figsize=(10,5))\n",
    "ax.set_xlabel(\"Date\")\n",
    "ax.set_ylabel(\"Number of Tweets\")\n",
    "ax.get_yaxis().set_major_formatter(\n",
    "    tkr.FuncFormatter(lambda x, p: format(int(x), ',')))"
   ]
  },
  {
   "cell_type": "markdown",
   "metadata": {},
   "source": [
    "# Reddit"
   ]
  },
  {
   "cell_type": "code",
   "execution_count": 4,
   "metadata": {},
   "outputs": [],
   "source": [
    "reddit = spark.read.parquet(\"../data/reddit-crypto/parquet/sentiment/\")\\\n",
    "\n",
    "reddit = reddit.filter(\"created_utc >= '2016-01-01'\")"
   ]
  },
  {
   "cell_type": "code",
   "execution_count": 5,
   "metadata": {},
   "outputs": [
    {
     "name": "stdout",
     "output_type": "stream",
     "text": [
      "+---------+\n",
      "|subreddit|\n",
      "+---------+\n",
      "|ethtrader|\n",
      "|      btc|\n",
      "|  Bitcoin|\n",
      "| ethereum|\n",
      "+---------+\n",
      "\n"
     ]
    }
   ],
   "source": [
    "reddit.select(\"subreddit\").distinct().show()"
   ]
  },
  {
   "cell_type": "code",
   "execution_count": 36,
   "metadata": {},
   "outputs": [],
   "source": [
    "from pyspark.sql.functions import month, year, sum, to_date, col\n",
    "month_year_counts = reddit.groupBy(month('created_utc').alias('month'),year('created_utc').alias('year'))\\\n",
    "                            .pivot(\"subreddit\")\\\n",
    "                            .count()\\\n",
    "                            .sort('year','month')\\\n",
    "                            .withColumn(\"Ethereum Subreddits\",col(\"ethtrader\")+col(\"ethereum\"))\\\n",
    "                            .withColumn(\"Bitcoin Subreddits\",col(\"btc\")+col(\"Bitcoin\"))\\\n",
    "                            .drop(\"ethtrader\",\"ethereum\",\"btc\",\"Bitcoin\")\\\n",
    "                            .toPandas()"
   ]
  },
  {
   "cell_type": "code",
   "execution_count": 47,
   "metadata": {},
   "outputs": [],
   "source": [
    "month_year_counts_v2 = month_year_counts.melt(id_vars=[\"date\"], value_vars=[\"Ethereum Subreddits\",\"Bitcoin Subreddits\"], var_name=\"Crypto Currency\")"
   ]
  },
  {
   "cell_type": "code",
   "execution_count": 48,
   "metadata": {},
   "outputs": [
    {
     "data": {
      "text/html": [
       "<div>\n",
       "<style scoped>\n",
       "    .dataframe tbody tr th:only-of-type {\n",
       "        vertical-align: middle;\n",
       "    }\n",
       "\n",
       "    .dataframe tbody tr th {\n",
       "        vertical-align: top;\n",
       "    }\n",
       "\n",
       "    .dataframe thead th {\n",
       "        text-align: right;\n",
       "    }\n",
       "</style>\n",
       "<table border=\"1\" class=\"dataframe\">\n",
       "  <thead>\n",
       "    <tr style=\"text-align: right;\">\n",
       "      <th></th>\n",
       "      <th>date</th>\n",
       "      <th>Crypto Currency</th>\n",
       "      <th>value</th>\n",
       "    </tr>\n",
       "  </thead>\n",
       "  <tbody>\n",
       "    <tr>\n",
       "      <th>0</th>\n",
       "      <td>2016-01-01</td>\n",
       "      <td>Ethereum Subreddits</td>\n",
       "      <td>11226</td>\n",
       "    </tr>\n",
       "    <tr>\n",
       "      <th>1</th>\n",
       "      <td>2016-02-01</td>\n",
       "      <td>Ethereum Subreddits</td>\n",
       "      <td>22046</td>\n",
       "    </tr>\n",
       "    <tr>\n",
       "      <th>2</th>\n",
       "      <td>2016-03-01</td>\n",
       "      <td>Ethereum Subreddits</td>\n",
       "      <td>37676</td>\n",
       "    </tr>\n",
       "    <tr>\n",
       "      <th>3</th>\n",
       "      <td>2016-04-01</td>\n",
       "      <td>Ethereum Subreddits</td>\n",
       "      <td>22734</td>\n",
       "    </tr>\n",
       "    <tr>\n",
       "      <th>4</th>\n",
       "      <td>2016-05-01</td>\n",
       "      <td>Ethereum Subreddits</td>\n",
       "      <td>29779</td>\n",
       "    </tr>\n",
       "  </tbody>\n",
       "</table>\n",
       "</div>"
      ],
      "text/plain": [
       "        date      Crypto Currency  value\n",
       "0 2016-01-01  Ethereum Subreddits  11226\n",
       "1 2016-02-01  Ethereum Subreddits  22046\n",
       "2 2016-03-01  Ethereum Subreddits  37676\n",
       "3 2016-04-01  Ethereum Subreddits  22734\n",
       "4 2016-05-01  Ethereum Subreddits  29779"
      ]
     },
     "execution_count": 48,
     "metadata": {},
     "output_type": "execute_result"
    }
   ],
   "source": [
    "month_year_counts_v2.head()"
   ]
  },
  {
   "cell_type": "code",
   "execution_count": 118,
   "metadata": {},
   "outputs": [
    {
     "data": {
      "image/png": "[encoded data removed]",
      "text/plain": [
       "<Figure size 720x360 with 1 Axes>"
      ]
     },
     "metadata": {},
     "output_type": "display_data"
    }
   ],
   "source": [
    "%matplotlib inline \n",
    "import pandas as pd\n",
    "import matplotlib.ticker as tkr\n",
    "\n",
    "\n",
    "num_records= len(month_year_counts.year)\n",
    "date_dic = dict(year=month_year_counts.year, month=month_year_counts.month, day=[1]*num_records)\n",
    "month_year_counts['date'] = pd.to_datetime(date_dic,format='%Y%m%d')\n",
    "\n",
    "fig, ax = plt.subplots(figsize=(10,5))\n",
    "ax = sns.lineplot(data=month_year_counts_v2.sort_values(\"Crypto Currency\"),x=\"date\",y=\"value\",hue='Crypto Currency')\n",
    "\n",
    "#ax = month_year_counts.drop(['month','year'],axis=1).set_index([\"date\"]).plot(kind='line',figsize=(10,5))\n",
    "\n",
    "\n",
    "ax.set_xlabel(\"Date\")\n",
    "ax.set_ylabel(\"Number of Comments\")\n",
    "\n",
    "ax.get_yaxis().set_major_formatter(\n",
    "    tkr.FuncFormatter(lambda x, p: format(int(x), ',')))\n",
    "\n",
    "sns.set(font_scale=1.2)\n",
    "plt.xticks(rotation=45)\n",
    "sns.set_style(\"white\")"
   ]
  },
  {
   "cell_type": "code",
   "execution_count": 54,
   "metadata": {},
   "outputs": [],
   "source": [
    "from pyspark.sql.functions import month, year, sum, to_date, col, when\n",
    "month_year_counts_subreddits = reddit.groupBy(month('created_utc').alias('month'),year('created_utc').alias('year'),\"subreddit\")\\\n",
    "                            .count()\\\n",
    "                            .sort('year','month')\\\n",
    "                            .withColumn(\"Crypto Currency\",\n",
    "                                        when(\n",
    "                                            (col(\"subreddit\") == \"ethtrader\") | (col(\"subreddit\") == \"ethereum\")\n",
    "                                            ,\"Ethereum\").otherwise(\"Bitcoin\"))\\\n",
    "                            .withColumnRenamed(\"subreddit\",\"Subreddit\")\\\n",
    "                            .toPandas()"
   ]
  },
  {
   "cell_type": "code",
   "execution_count": 57,
   "metadata": {},
   "outputs": [
    {
     "data": {
      "text/html": [
       "<div>\n",
       "<style scoped>\n",
       "    .dataframe tbody tr th:only-of-type {\n",
       "        vertical-align: middle;\n",
       "    }\n",
       "\n",
       "    .dataframe tbody tr th {\n",
       "        vertical-align: top;\n",
       "    }\n",
       "\n",
       "    .dataframe thead th {\n",
       "        text-align: right;\n",
       "    }\n",
       "</style>\n",
       "<table border=\"1\" class=\"dataframe\">\n",
       "  <thead>\n",
       "    <tr style=\"text-align: right;\">\n",
       "      <th></th>\n",
       "      <th>month</th>\n",
       "      <th>year</th>\n",
       "      <th>Subreddit</th>\n",
       "      <th>count</th>\n",
       "      <th>Crypto Currency</th>\n",
       "      <th>date</th>\n",
       "    </tr>\n",
       "  </thead>\n",
       "  <tbody>\n",
       "    <tr>\n",
       "      <th>0</th>\n",
       "      <td>1</td>\n",
       "      <td>2016</td>\n",
       "      <td>btc</td>\n",
       "      <td>33111</td>\n",
       "      <td>Bitcoin</td>\n",
       "      <td>2016-01-01</td>\n",
       "    </tr>\n",
       "    <tr>\n",
       "      <th>1</th>\n",
       "      <td>1</td>\n",
       "      <td>2016</td>\n",
       "      <td>ethtrader</td>\n",
       "      <td>5262</td>\n",
       "      <td>Ethereum</td>\n",
       "      <td>2016-01-01</td>\n",
       "    </tr>\n",
       "    <tr>\n",
       "      <th>2</th>\n",
       "      <td>1</td>\n",
       "      <td>2016</td>\n",
       "      <td>ethereum</td>\n",
       "      <td>5964</td>\n",
       "      <td>Ethereum</td>\n",
       "      <td>2016-01-01</td>\n",
       "    </tr>\n",
       "    <tr>\n",
       "      <th>3</th>\n",
       "      <td>1</td>\n",
       "      <td>2016</td>\n",
       "      <td>Bitcoin</td>\n",
       "      <td>72453</td>\n",
       "      <td>Bitcoin</td>\n",
       "      <td>2016-01-01</td>\n",
       "    </tr>\n",
       "    <tr>\n",
       "      <th>4</th>\n",
       "      <td>2</td>\n",
       "      <td>2016</td>\n",
       "      <td>btc</td>\n",
       "      <td>33336</td>\n",
       "      <td>Bitcoin</td>\n",
       "      <td>2016-02-01</td>\n",
       "    </tr>\n",
       "  </tbody>\n",
       "</table>\n",
       "</div>"
      ],
      "text/plain": [
       "   month  year  Subreddit  count Crypto Currency       date\n",
       "0      1  2016        btc  33111         Bitcoin 2016-01-01\n",
       "1      1  2016  ethtrader   5262        Ethereum 2016-01-01\n",
       "2      1  2016   ethereum   5964        Ethereum 2016-01-01\n",
       "3      1  2016    Bitcoin  72453         Bitcoin 2016-01-01\n",
       "4      2  2016        btc  33336         Bitcoin 2016-02-01"
      ]
     },
     "execution_count": 57,
     "metadata": {},
     "output_type": "execute_result"
    }
   ],
   "source": [
    "import pandas as pd\n",
    "\n",
    "num_records= len(month_year_counts_subreddits.year)\n",
    "date_dic = dict(year=month_year_counts_subreddits.year, month=month_year_counts_subreddits.month, day=[1]*num_records)\n",
    "month_year_counts_subreddits['date'] = pd.to_datetime(date_dic,format='%Y%m%d')\n",
    "\n",
    "month_year_counts_subreddits.head()"
   ]
  },
  {
   "cell_type": "code",
   "execution_count": 121,
   "metadata": {},
   "outputs": [
    {
     "data": {
      "image/png": "[encoded data removed]",
      "text/plain": [
       "<Figure size 720x360 with 1 Axes>"
      ]
     },
     "metadata": {},
     "output_type": "display_data"
    }
   ],
   "source": [
    "import seaborn as sns\n",
    "import matplotlib.ticker as tkr\n",
    "from matplotlib import pyplot as plt\n",
    "\n",
    "fig, ax = plt.subplots(figsize=(10,5))\n",
    "ax = sns.lineplot(data=month_year_counts_subreddits,x=\"date\",y=\"count\",style=\"Subreddit\",hue='Crypto Currency')\n",
    "ax.set_xlabel(\"Date\")\n",
    "ax.set_ylabel(\"Number of Comments\")\n",
    "ax.get_yaxis().set_major_formatter(\n",
    "    tkr.FuncFormatter(lambda x, p: format(int(x), ',')))\n",
    "\n",
    "sns.set(font_scale=1.2)\n",
    "plt.xticks(rotation=45)\n",
    "sns.set_style(\"white\")\n"
   ]
  },
  {
   "cell_type": "markdown",
   "metadata": {},
   "source": [
    "## Eth - Reddit"
   ]
  },
  {
   "cell_type": "code",
   "execution_count": 21,
   "metadata": {},
   "outputs": [],
   "source": [
    "ethr = spark.read.parquet(\"../data/reddit-crypto/parquet/sentiment/\")\\\n",
    "            .filter(\"subreddit == 'ethtrader' OR subreddit == 'ethereum'\")\n",
    "ethr = ethr.filter(\"created_utc >= '2016-01-01'\")"
   ]
  },
  {
   "cell_type": "code",
   "execution_count": 111,
   "metadata": {},
   "outputs": [],
   "source": [
    "from pyspark.sql.functions import month, year, sum, to_date, col\n",
    "month_year_counts = ethr.groupBy(month('created_utc').alias('month'),year('created_utc').alias('year'))\\\n",
    "                            .pivot(\"subreddit\")\\\n",
    "                            .count()\\\n",
    "                            .sort('year','month')\\\n",
    "                            .toPandas()"
   ]
  },
  {
   "cell_type": "code",
   "execution_count": 112,
   "metadata": {},
   "outputs": [
    {
     "data": {
      "text/html": [
       "<div>\n",
       "<style scoped>\n",
       "    .dataframe tbody tr th:only-of-type {\n",
       "        vertical-align: middle;\n",
       "    }\n",
       "\n",
       "    .dataframe tbody tr th {\n",
       "        vertical-align: top;\n",
       "    }\n",
       "\n",
       "    .dataframe thead th {\n",
       "        text-align: right;\n",
       "    }\n",
       "</style>\n",
       "<table border=\"1\" class=\"dataframe\">\n",
       "  <thead>\n",
       "    <tr style=\"text-align: right;\">\n",
       "      <th></th>\n",
       "      <th>month</th>\n",
       "      <th>year</th>\n",
       "      <th>ethereum</th>\n",
       "      <th>ethtrader</th>\n",
       "    </tr>\n",
       "  </thead>\n",
       "  <tbody>\n",
       "    <tr>\n",
       "      <th>0</th>\n",
       "      <td>1</td>\n",
       "      <td>2016</td>\n",
       "      <td>5929</td>\n",
       "      <td>5241</td>\n",
       "    </tr>\n",
       "    <tr>\n",
       "      <th>1</th>\n",
       "      <td>2</td>\n",
       "      <td>2016</td>\n",
       "      <td>8777</td>\n",
       "      <td>13311</td>\n",
       "    </tr>\n",
       "    <tr>\n",
       "      <th>2</th>\n",
       "      <td>3</td>\n",
       "      <td>2016</td>\n",
       "      <td>14405</td>\n",
       "      <td>23223</td>\n",
       "    </tr>\n",
       "    <tr>\n",
       "      <th>3</th>\n",
       "      <td>4</td>\n",
       "      <td>2016</td>\n",
       "      <td>7425</td>\n",
       "      <td>15262</td>\n",
       "    </tr>\n",
       "    <tr>\n",
       "      <th>4</th>\n",
       "      <td>5</td>\n",
       "      <td>2016</td>\n",
       "      <td>11176</td>\n",
       "      <td>18646</td>\n",
       "    </tr>\n",
       "  </tbody>\n",
       "</table>\n",
       "</div>"
      ],
      "text/plain": [
       "   month  year  ethereum  ethtrader\n",
       "0      1  2016      5929       5241\n",
       "1      2  2016      8777      13311\n",
       "2      3  2016     14405      23223\n",
       "3      4  2016      7425      15262\n",
       "4      5  2016     11176      18646"
      ]
     },
     "execution_count": 112,
     "metadata": {},
     "output_type": "execute_result"
    }
   ],
   "source": [
    "month_year_counts.head()"
   ]
  },
  {
   "cell_type": "code",
   "execution_count": 113,
   "metadata": {},
   "outputs": [
    {
     "data": {
      "image/png": "[encoded data removed]",
      "text/plain": [
       "<Figure size 720x360 with 1 Axes>"
      ]
     },
     "metadata": {},
     "output_type": "display_data"
    }
   ],
   "source": [
    "%matplotlib inline \n",
    "import pandas as pd\n",
    "import matplotlib.ticker as tkr\n",
    "\n",
    "num_records= len(month_year_counts.year)\n",
    "\n",
    "date_dic = dict(year=month_year_counts.year, month=month_year_counts.month, day=[1]*num_records)\n",
    "\n",
    "month_year_counts['date'] = pd.to_datetime(date_dic,format='%Y%m%d')\n",
    "ax = month_year_counts.drop(['month','year'],axis=1).set_index([\"date\"]).plot(kind='line',figsize=(10,5))\n",
    "ax.set_xlabel(\"Date\")\n",
    "ax.set_ylabel(\"Number of Tweets\")\n",
    "ax.get_yaxis().set_major_formatter(\n",
    "    tkr.FuncFormatter(lambda x, p: format(int(x), ',')))"
   ]
  },
  {
   "cell_type": "markdown",
   "metadata": {},
   "source": [
    "## BTC - Reddit"
   ]
  },
  {
   "cell_type": "code",
   "execution_count": 122,
   "metadata": {},
   "outputs": [],
   "source": [
    "btcr = spark.read.parquet(\"../data/reddit-crypto/parquet/sentiment/\")\\\n",
    "                .filter(\"subreddit == 'btc' OR subreddit == 'Bitcoin'\")\n",
    "btcr = btcr.filter(\"created_utc >= '2016-01-01'\")"
   ]
  },
  {
   "cell_type": "code",
   "execution_count": 123,
   "metadata": {},
   "outputs": [],
   "source": [
    "from pyspark.sql.functions import month, year, sum, to_date, col\n",
    "month_year_counts = btcr.groupBy(month('created_utc').alias('month'),year('created_utc').alias('year'))\\\n",
    "                            .pivot(\"subreddit\")\\\n",
    "                            .count()\\\n",
    "                            .sort('year','month')\\\n",
    "                            .toPandas()"
   ]
  },
  {
   "cell_type": "code",
   "execution_count": 124,
   "metadata": {},
   "outputs": [
    {
     "data": {
      "image/png": "[encoded data removed]",
      "text/plain": [
       "<Figure size 720x360 with 1 Axes>"
      ]
     },
     "metadata": {},
     "output_type": "display_data"
    }
   ],
   "source": [
    "%matplotlib inline \n",
    "import pandas as pd\n",
    "import matplotlib.ticker as tkr\n",
    "\n",
    "num_records= len(month_year_counts.year)\n",
    "\n",
    "date_dic = dict(year=month_year_counts.year, month=month_year_counts.month, day=[1]*num_records)\n",
    "\n",
    "month_year_counts['date'] = pd.to_datetime(date_dic,format='%Y%m%d')\n",
    "ax = month_year_counts.drop(['month','year'],axis=1).set_index([\"date\"]).plot(kind='line',figsize=(10,5))\n",
    "ax.set_xlabel(\"Date\")\n",
    "ax.set_ylabel(\"Number of Tweets\")\n",
    "ax.get_yaxis().set_major_formatter(\n",
    "    tkr.FuncFormatter(lambda x, p: format(int(x), ',')))"
   ]
  },
  {
   "cell_type": "code",
   "execution_count": null,
   "metadata": {},
   "outputs": [],
   "source": []
  }
 ],
 "metadata": {
  "kernelspec": {
   "display_name": "udacity",
   "language": "python",
   "name": "udacity"
  },
  "language_info": {
   "codemirror_mode": {
    "name": "ipython",
    "version": 3
   },
   "file_extension": ".py",
   "mimetype": "text/x-python",
   "name": "python",
   "nbconvert_exporter": "python",
   "pygments_lexer": "ipython3",
   "version": "3.6.6"
  },
  "toc": {
   "base_numbering": 1,
   "nav_menu": {},
   "number_sections": true,
   "sideBar": true,
   "skip_h1_title": false,
   "title_cell": "Table of Contents",
   "title_sidebar": "Contents",
   "toc_cell": false,
   "toc_position": {
    "height": "calc(100% - 180px)",
    "left": "10px",
    "top": "150px",
    "width": "282px"
   },
   "toc_section_display": true,
   "toc_window_display": true
  }
 },
 "nbformat": 4,
 "nbformat_minor": 2
}
