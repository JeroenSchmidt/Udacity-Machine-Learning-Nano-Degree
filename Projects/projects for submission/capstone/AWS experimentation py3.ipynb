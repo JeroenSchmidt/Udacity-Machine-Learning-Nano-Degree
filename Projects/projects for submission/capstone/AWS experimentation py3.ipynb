{
 "cells": [
  {
   "cell_type": "code",
   "execution_count": null,
   "metadata": {},
   "outputs": [],
   "source": [
    "import boto3"
   ]
  },
  {
   "cell_type": "code",
   "execution_count": null,
   "metadata": {},
   "outputs": [],
   "source": [
    "s3 = boto3.resource('s3')"
   ]
  },
  {
   "cell_type": "code",
   "execution_count": null,
   "metadata": {},
   "outputs": [],
   "source": [
    "## if on prem- you need to manualy set the machines time to gmt+0\n",
    "## -2 hours\n",
    "# thanks ITO\n",
    "# \n",
    "# date -s '07 June 2018 13:24:00'"
   ]
  },
  {
   "cell_type": "code",
   "execution_count": null,
   "metadata": {},
   "outputs": [],
   "source": [
    "for bucket in s3.buckets.all():\n",
    "    print(bucket.name)"
   ]
  },
  {
   "cell_type": "code",
   "execution_count": null,
   "metadata": {},
   "outputs": [],
   "source": [
    "ec2 = boto3.client('ec2')"
   ]
  },
  {
   "cell_type": "code",
   "execution_count": null,
   "metadata": {},
   "outputs": [],
   "source": []
  },
  {
   "cell_type": "code",
   "execution_count": null,
   "metadata": {},
   "outputs": [],
   "source": []
  },
  {
   "cell_type": "code",
   "execution_count": null,
   "metadata": {},
   "outputs": [],
   "source": [
    "IAM_profile = {\n",
    "        'Arn': 'arn:aws:iam::680041685499:instance-profile/SSM-access'\n",
    "    }"
   ]
  },
  {
   "cell_type": "code",
   "execution_count": null,
   "metadata": {},
   "outputs": [],
   "source": [
    "tags = [\n",
    "                {\n",
    "                    'ResourceType':'instance',\n",
    "                    'Tags': [\n",
    "                        {\n",
    "                            'Key': 'use',\n",
    "                            'Value': 'boto3'\n",
    "                        },\n",
    "                    ]\n",
    "                }]"
   ]
  },
  {
   "cell_type": "markdown",
   "metadata": {},
   "source": [
    "* if you want to run an isntance with an IAM role - the boto credentials need to have some admin rights\n",
    "https://stackoverflow.com/questions/27266400/launching-ec-instance-a-client-error-unauthorizedoperation-occurred-when-ca\n",
    "\n",
    "For a more in depth explination:\n",
    "* https://aws.amazon.com/blogs/security/granting-permission-to-launch-ec2-instances-with-iam-roles-passrole-permission/"
   ]
  },
  {
   "cell_type": "code",
   "execution_count": null,
   "metadata": {},
   "outputs": [],
   "source": [
    "isntance = ec2.run_instances(\n",
    "        ImageId='ami-ca0135b3',\n",
    "        MinCount=1,\n",
    "        MaxCount=1,\n",
    "        KeyName='testing-jeroen',\n",
    "        InstanceType='t1.micro',\n",
    "        SubnetId='subnet-36539650',\n",
    "        TagSpecifications=tags,\n",
    "        IamInstanceProfile=IAM_profile\n",
    "        )"
   ]
  },
  {
   "cell_type": "code",
   "execution_count": null,
   "metadata": {},
   "outputs": [],
   "source": []
  },
  {
   "cell_type": "code",
   "execution_count": null,
   "metadata": {},
   "outputs": [],
   "source": [
    "isntance"
   ]
  },
  {
   "cell_type": "code",
   "execution_count": null,
   "metadata": {},
   "outputs": [],
   "source": [
    "OutputLocation={\n",
    "        'S3Location': {\n",
    "\n",
    "        }\n",
    "}"
   ]
  },
  {
   "cell_type": "code",
   "execution_count": null,
   "metadata": {},
   "outputs": [],
   "source": [
    "def execute_commands_on_linux_instances(client, commands, instance_ids):\n",
    "    \"\"\"Runs commands on remote linux instances\n",
    "    :param client: a boto/boto3 ssm client\n",
    "    :param commands: a list of strings, each one a command to execute on the instances\n",
    "    :param instance_ids: a list of instance_id strings, of the instances on which to execute the command\n",
    "    :return: the response from the send_command function (check the boto3 docs for ssm client.send_command() )\n",
    "    \"\"\"\n",
    "\n",
    "    resp = client.send_command(\n",
    "        DocumentName=\"AWS-RunShellScript\", # One of AWS' preconfigured documents\n",
    "        Parameters={'commands': commands},\n",
    "        InstanceIds=instance_ids,\n",
    "        OutputS3BucketName='blt-emr-testing',\n",
    "        OutputS3KeyPrefix='boto-logs'\n",
    "    )\n",
    "    return resp"
   ]
  },
  {
   "cell_type": "code",
   "execution_count": null,
   "metadata": {},
   "outputs": [],
   "source": [
    "# Example use:\n",
    "ssm_client = boto3.client('ssm') # Need your credentials here\n",
    "commands = ['echo \"hello world\"']\n",
    "instance_ids = ['i-009dd75468e14dd3e']\n",
    "execute_commands_on_linux_instances(ssm_client, commands, instance_ids)"
   ]
  },
  {
   "cell_type": "code",
   "execution_count": null,
   "metadata": {},
   "outputs": [],
   "source": [
    "! aws ssm describe-instance-information --output text"
   ]
  },
  {
   "cell_type": "code",
   "execution_count": null,
   "metadata": {},
   "outputs": [],
   "source": [
    "! aws ssm describe-instance-information"
   ]
  },
  {
   "cell_type": "code",
   "execution_count": null,
   "metadata": {},
   "outputs": [],
   "source": []
  }
 ],
 "metadata": {
  "kernelspec": {
   "display_name": "aws",
   "language": "python",
   "name": "aws"
  },
  "language_info": {
   "codemirror_mode": {
    "name": "ipython",
    "version": 3
   },
   "file_extension": ".py",
   "mimetype": "text/x-python",
   "name": "python",
   "nbconvert_exporter": "python",
   "pygments_lexer": "ipython3",
   "version": "3.6.5"
  }
 },
 "nbformat": 4,
 "nbformat_minor": 2
}
