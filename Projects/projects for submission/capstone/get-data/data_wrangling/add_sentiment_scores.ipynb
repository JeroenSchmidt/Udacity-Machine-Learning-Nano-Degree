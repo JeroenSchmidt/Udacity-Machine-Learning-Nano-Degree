{
 "cells": [
  {
   "cell_type": "code",
   "execution_count": 1,
   "metadata": {},
   "outputs": [],
   "source": [
    "from pyspark.sql.types import *\n",
    "from pyspark.sql.functions import col, count, rand, collect_list, explode, struct, count, lit\n",
    "from pyspark.sql.functions import pandas_udf, PandasUDFType"
   ]
  },
  {
   "cell_type": "code",
   "execution_count": 2,
   "metadata": {},
   "outputs": [],
   "source": [
    "t_eth = spark.read.parquet(\"s3://blunova-databricks-data/eth\")"
   ]
  },
  {
   "cell_type": "code",
   "execution_count": 3,
   "metadata": {},
   "outputs": [],
   "source": [
    "from pyspark.sql.types import FloatType, StructType\n",
    "\n",
    "schema = StructType([\n",
    "    StructField(\"pos_vader\", FloatType(), False),\n",
    "    StructField(\"neg_vader\", FloatType(), False),\n",
    "    StructField(\"neu_vader\", FloatType(), False),\n",
    "    StructField(\"compound_vader\", FloatType(), False),\n",
    "    StructField(\"polarity_textblob\", FloatType(), False),\n",
    "    StructField(\"subjectivity_textblob\", FloatType(), False)\n",
    "])\n",
    "\n",
    "@udf(schema)\n",
    "def sentiment_scores(sentence):\n",
    "\n",
    "  if sentence == None:\n",
    "      return (None,None,None,None,None,None)\n",
    "  \n",
    "  sentence = str(sentence)\n",
    "  \n",
    "  from vaderSentiment.vaderSentiment import SentimentIntensityAnalyzer\n",
    "  from textblob import TextBlob\n",
    "\n",
    "  textblob = TextBlob(sentence)\n",
    "\n",
    "  polarity = textblob.sentiment.polarity\n",
    "  subjectivity = textblob.sentiment.subjectivity\n",
    "  \n",
    "  analyzer = SentimentIntensityAnalyzer()\n",
    "  vs = analyzer.polarity_scores(sentence)\n",
    "  return (vs.get(\"pos\"),vs.get(\"neg\"),vs.get(\"neu\"),vs.get(\"compound\"),polarity,subjectivity)\n"
   ]
  },
  {
   "cell_type": "code",
   "execution_count": 4,
   "metadata": {},
   "outputs": [],
   "source": [
    "#sample = t_eth.filter(\"datetime < '2016-03-01'\")\n",
    "#30 seconds\n",
    "#print(sample.count())\n",
    "x = t_eth.withColumn('sentiment',sentiment_scores(t_eth.text))\n",
    "#x.show()\n",
    "#x.write.mode('overwrite').parquet(\"s3://blunova-databricks-data/results/eth_sentiment/\")"
   ]
  },
  {
   "cell_type": "code",
   "execution_count": 5,
   "metadata": {},
   "outputs": [],
   "source": [
    "x.select(\n",
    "\"username\",\n",
    "\"datetime\",\n",
    "\"text\",\n",
    "\"retweets\",\n",
    "\"favorites\",\n",
    "\"geo\",\n",
    "\"mentions\",\n",
    "\"hashtags\",\n",
    "\"id\",\n",
    "\"permalink\",\n",
    "\"sentiment.pos_vader\",\n",
    "\"sentiment.neg_vader\",\n",
    "\"sentiment.neu_vader\",\n",
    "\"sentiment.compound_vader\",\n",
    "\"sentiment.polarity_textblob\",\n",
    "\"sentiment.subjectivity_textblob\"\n",
    ").printSchema()"
   ]
  },
  {
   "cell_type": "code",
   "execution_count": 6,
   "metadata": {},
   "outputs": [],
   "source": [
    "#sample = t_eth.filter(\"datetime < '2016-12-01'\")\n",
    "#x = sample.withColumn('sentiment',sentiment_scores(sample.text))\n",
    "\n",
    "x = t_eth.withColumn('sentiment',sentiment_scores(t_eth.text))\n",
    "\n",
    "x.select(\n",
    "\"username\",\n",
    "\"datetime\",\n",
    "\"text\",\n",
    "\"retweets\",\n",
    "\"favorites\",\n",
    "\"geo\",\n",
    "\"mentions\",\n",
    "\"hashtags\",\n",
    "\"id\",\n",
    "\"permalink\",\n",
    "\"sentiment.pos_vader\",\n",
    "\"sentiment.neg_vader\",\n",
    "\"sentiment.neu_vader\",\n",
    "\"sentiment.compound_vader\",\n",
    "\"sentiment.polarity_textblob\",\n",
    "\"sentiment.subjectivity_textblob\"\n",
    ")\\\n",
    ".write.mode('overwrite').parquet(\"s3://blunova-databricks-data/results/eth_sentiment/\")"
   ]
  },
  {
   "cell_type": "code",
   "execution_count": 7,
   "metadata": {},
   "outputs": [],
   "source": [
    "from pyspark.sql.functions import date_format, sum\n",
    "\n",
    "pd = spark.read.parquet(\"s3://blunova-databricks-data/results/eth_sentiment/\")\\\n",
    ".withColumn('date',date_format('datetime','yyyy-MM-dd'))\\\n",
    ".groupby('date')\\\n",
    ".agg(\n",
    "sum(\"pos_vader\"),\n",
    "sum(\"neg_vader\"),\n",
    "sum(\"neu_vader\"),\n",
    "sum(\"compound_vader\"),\n",
    "sum(\"polarity_textblob\"),\n",
    "sum(\"subjectivity_textblob\")\n",
    ").toPandas()"
   ]
  },
  {
   "cell_type": "code",
   "execution_count": 8,
   "metadata": {},
   "outputs": [],
   "source": [
    "print(spark.read.parquet(\"s3://blunova-databricks-data/results/eth_sentiment/\").count())\n",
    "print(spark.read.parquet(\"s3://blunova-databricks-data/results/eth_sentiment/\").where(col('pos_vader').isNotNull()).count())"
   ]
  },
  {
   "cell_type": "code",
   "execution_count": 9,
   "metadata": {},
   "outputs": [],
   "source": [
    "t_btc = spark.read.parquet(\"s3://blunova-databricks-data/testing/btc/\")\n",
    "t_btc.count()"
   ]
  },
  {
   "cell_type": "code",
   "execution_count": 10,
   "metadata": {},
   "outputs": [],
   "source": [
    "x = t_btc.withColumn('sentiment',sentiment_scores(t_btc.text))\\\n",
    "          .select(\n",
    "          \"username\",\n",
    "          \"datetime\",\n",
    "          \"text\",\n",
    "          \"retweets\",\n",
    "          \"favorites\",\n",
    "          \"geo\",\n",
    "          \"mentions\",\n",
    "          \"hashtags\",\n",
    "          \"id\",\n",
    "          \"permalink\",\n",
    "          \"sentiment.pos_vader\",\n",
    "          \"sentiment.neg_vader\",\n",
    "          \"sentiment.neu_vader\",\n",
    "          \"sentiment.compound_vader\",\n",
    "          \"sentiment.polarity_textblob\",\n",
    "          \"sentiment.subjectivity_textblob\"\n",
    "          )\n",
    "\n",
    "x.write.mode('overwrite').parquet(\"s3://blunova-databricks-data/results/btc_sentiment/\")"
   ]
  },
  {
   "cell_type": "code",
   "execution_count": 11,
   "metadata": {},
   "outputs": [],
   "source": [
    "spark.read.parquet(\"s3://blunova-databricks-data/results/btc_sentiment/\").show()"
   ]
  },
  {
   "cell_type": "code",
   "execution_count": 12,
   "metadata": {},
   "outputs": [],
   "source": [
    "#>>> testimonial = TextBlob(\"Textblob is amazingly simple to use. What great fun!\")\n",
    "#>>> testimonial.sentiment\n",
    "#Sentiment(polarity=0.39166666666666666, subjectivity=0.4357142857142857)\n",
    "#>>> testimonial.sentiment.polarity"
   ]
  },
  {
   "cell_type": "code",
   "execution_count": 13,
   "metadata": {},
   "outputs": [],
   "source": [
    "r = spark.read.parquet(\"s3://blunova-databricks-data/testing/\")\n",
    "r.count()"
   ]
  },
  {
   "cell_type": "code",
   "execution_count": 14,
   "metadata": {},
   "outputs": [],
   "source": [
    "r.printSchema()"
   ]
  },
  {
   "cell_type": "code",
   "execution_count": 15,
   "metadata": {},
   "outputs": [],
   "source": [
    "x = r.withColumn('sentiment',sentiment_scores(r.body))\n",
    "\n",
    "x.select(\n",
    "\"body\",\n",
    "\"score_hidden\",\n",
    "\"archived\",\n",
    "\"name\",\n",
    "\"author\",\n",
    "\"author_flair_text\",\n",
    "\"downs\",\n",
    "\"created_utc\",\n",
    "\"subreddit_id\",\n",
    "\"link_id\",\n",
    "\"parent_id\",\n",
    "\"score\",\n",
    "\"retrieved_on\",\n",
    "\"controversiality\",\n",
    "\"gilded\",\n",
    "\"id\",\n",
    "\"subreddit\",\n",
    "\"ups\",\n",
    "\"distinguished\",\n",
    "\"author_flair_css_class\",\n",
    "\"sentiment.pos_vader\",\n",
    "\"sentiment.neg_vader\",\n",
    "\"sentiment.neu_vader\",\n",
    "\"sentiment.compound_vader\",\n",
    "\"sentiment.polarity_textblob\",\n",
    "\"sentiment.subjectivity_textblob\"\n",
    ")\\\n",
    ".write.mode('overwrite').parquet(\"s3://blunova-databricks-data/results/r/\")"
   ]
  },
  {
   "cell_type": "code",
   "execution_count": 16,
   "metadata": {},
   "outputs": [],
   "source": [
    "spark.read.parquet(\"s3://blunova-databricks-data/results/r/\").count()"
   ]
  },
  {
   "cell_type": "code",
   "execution_count": 17,
   "metadata": {},
   "outputs": [],
   "source": []
  }
 ],
 "metadata": {
  "kernelspec": {
   "display_name": "Python 3",
   "language": "python",
   "name": "python3"
  },
  "language_info": {
   "codemirror_mode": {
    "name": "ipython",
    "version": 3
   },
   "file_extension": ".py",
   "mimetype": "text/x-python",
   "name": "python",
   "nbconvert_exporter": "python",
   "pygments_lexer": "ipython3",
   "version": "3.6.5"
  },
  "name": "t",
  "notebookId": 6827,
  "toc": {
   "base_numbering": 1,
   "nav_menu": {},
   "number_sections": true,
   "sideBar": true,
   "skip_h1_title": false,
   "title_cell": "Table of Contents",
   "title_sidebar": "Contents",
   "toc_cell": false,
   "toc_position": {},
   "toc_section_display": true,
   "toc_window_display": false
  }
 },
 "nbformat": 4,
 "nbformat_minor": 1
}
